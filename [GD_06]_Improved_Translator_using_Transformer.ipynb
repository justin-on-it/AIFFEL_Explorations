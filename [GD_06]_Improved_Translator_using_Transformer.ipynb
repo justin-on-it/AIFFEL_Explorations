{
  "nbformat": 4,
  "nbformat_minor": 0,
  "metadata": {
    "colab": {
      "name": "[GD-06] Improved Translator using Transformer.ipynb",
      "provenance": []
    },
    "kernelspec": {
      "name": "python3",
      "display_name": "Python 3"
    },
    "language_info": {
      "name": "python"
    }
  },
  "cells": [
    {
      "cell_type": "markdown",
      "source": [
        "# [GD-10] Transformer - Improved Translator\n",
        "\"Going Deeper Node 12. Translator is able to communicate\" / 2022. 04. 14 (Thu) 이형주\n",
        "\n",
        "## Contents\n",
        "---\n",
        "- **1. Environment Setup**\n",
        "- **2. Modeling**\n",
        "- **3. Project Retrospective**\n",
        "\n",
        "## Rubric 평가기준\n",
        "---\n",
        "\n",
        "|  평가문항  |  상세기준  |\n",
        "|:---------|:---------|\n",
        "|1. 챗봇 훈련데이터 전처리 과정이 체계적으로 진행되었는가?|챗봇 훈련데이터를 위한 전처리와 augmentation이 적절히 수행되어 3만개 가량의 훈련데이터셋이 구축되었다.\n",
        "|2. transformer 모델을 활용한 챗봇 모델이 과적합을 피해 안정적으로 훈련되었는가?|과적합을 피할 수 있는 하이퍼파라미터 셋이 적절히 제시되었다.\n",
        "3. 챗봇이 사용자의 질문에 그럴듯한 형태로 답하는 사례가 있는가?|주어진 예문을 포함하여 챗봇에 던진 질문에 적절히 답하는 사례가 제출되었다."
      ],
      "metadata": {
        "id": "yioncu7Xj1HN"
      }
    }
  ]
}