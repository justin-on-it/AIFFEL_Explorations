{
 "cells": [
  {
   "cell_type": "markdown",
   "id": "b9c546f3",
   "metadata": {},
   "source": [
    "# [E-08] News Summarization Bot\n",
    "\"Exploration Node 8. Making News Summarization Bot\" / 2022. 02. 08(Tue) 이형주\n",
    "\n",
    "## Contents\n",
    "---\n",
    "- **1. Data Load and Model Import**\n",
    "- **2. Data Pre-Processing**\n",
    "- **3. Model Planning & Training**\n",
    "- **4. Model Evaluation**\n",
    "- **5. Extractive Summarization**\n",
    "- **프로젝트 회고**\n",
    "\n",
    "\n",
    "## Rubric 평가기준\n",
    "---\n",
    "\n",
    "|  평가문항  |  상세기준  |\n",
    "|:---------|:---------|\n",
    "|1. Abstractive 모델 구성을 위한 텍스트 전처리 단계가 체계적으로 진행되었다.|분석단계, 정제단계, 정규화와 불용어 제거, 데이터셋 분리, 인코딩 과정이 빠짐없이 체계적으로 진행되었다.\n",
    "|2. 텍스트 요약모델이 성공적으로 학습되었음을 확인하였다.|모델학습이 안정적으로 수렴되었음을 그래프를 통해 확인하였으며, 실제 요약문과 유사한 요약문장을 얻을 수 있었다.\n",
    "|3. Extractive 요약을 시도해 보고 Abstractive 요약 결과과 함께 비교해 보았다.|두 요약 결과를 문법완성도 측면과 핵심단어 포함 측면으로 나누어 비교분석 결과를 제시하였다."
   ]
  },
  {
   "cell_type": "markdown",
   "id": "ee387099",
   "metadata": {},
   "source": [
    "## 1. Data Load and Model Import"
   ]
  },
  {
   "cell_type": "code",
   "execution_count": 2,
   "id": "bbe92347",
   "metadata": {},
   "outputs": [
    {
     "name": "stderr",
     "output_type": "stream",
     "text": [
      "[nltk_data] Downloading package stopwords to /aiffel/nltk_data...\n",
      "[nltk_data]   Package stopwords is already up-to-date!\n"
     ]
    },
    {
     "data": {
      "text/html": [
       "<div>\n",
       "<style scoped>\n",
       "    .dataframe tbody tr th:only-of-type {\n",
       "        vertical-align: middle;\n",
       "    }\n",
       "\n",
       "    .dataframe tbody tr th {\n",
       "        vertical-align: top;\n",
       "    }\n",
       "\n",
       "    .dataframe thead th {\n",
       "        text-align: right;\n",
       "    }\n",
       "</style>\n",
       "<table border=\"1\" class=\"dataframe\">\n",
       "  <thead>\n",
       "    <tr style=\"text-align: right;\">\n",
       "      <th></th>\n",
       "      <th>headlines</th>\n",
       "      <th>text</th>\n",
       "    </tr>\n",
       "  </thead>\n",
       "  <tbody>\n",
       "    <tr>\n",
       "      <th>0</th>\n",
       "      <td>upGrad learner switches to career in ML &amp; Al w...</td>\n",
       "      <td>Saurav Kant, an alumnus of upGrad and IIIT-B's...</td>\n",
       "    </tr>\n",
       "    <tr>\n",
       "      <th>1</th>\n",
       "      <td>Delhi techie wins free food from Swiggy for on...</td>\n",
       "      <td>Kunal Shah's credit card bill payment platform...</td>\n",
       "    </tr>\n",
       "    <tr>\n",
       "      <th>2</th>\n",
       "      <td>New Zealand end Rohit Sharma-led India's 12-ma...</td>\n",
       "      <td>New Zealand defeated India by 8 wickets in the...</td>\n",
       "    </tr>\n",
       "    <tr>\n",
       "      <th>3</th>\n",
       "      <td>Aegon life iTerm insurance plan helps customer...</td>\n",
       "      <td>With Aegon Life iTerm Insurance plan, customer...</td>\n",
       "    </tr>\n",
       "    <tr>\n",
       "      <th>4</th>\n",
       "      <td>Have known Hirani for yrs, what if MeToo claim...</td>\n",
       "      <td>Speaking about the sexual harassment allegatio...</td>\n",
       "    </tr>\n",
       "  </tbody>\n",
       "</table>\n",
       "</div>"
      ],
      "text/plain": [
       "                                           headlines  \\\n",
       "0  upGrad learner switches to career in ML & Al w...   \n",
       "1  Delhi techie wins free food from Swiggy for on...   \n",
       "2  New Zealand end Rohit Sharma-led India's 12-ma...   \n",
       "3  Aegon life iTerm insurance plan helps customer...   \n",
       "4  Have known Hirani for yrs, what if MeToo claim...   \n",
       "\n",
       "                                                text  \n",
       "0  Saurav Kant, an alumnus of upGrad and IIIT-B's...  \n",
       "1  Kunal Shah's credit card bill payment platform...  \n",
       "2  New Zealand defeated India by 8 wickets in the...  \n",
       "3  With Aegon Life iTerm Insurance plan, customer...  \n",
       "4  Speaking about the sexual harassment allegatio...  "
      ]
     },
     "execution_count": 2,
     "metadata": {},
     "output_type": "execute_result"
    }
   ],
   "source": [
    "import nltk\n",
    "nltk.download('stopwords')\n",
    "\n",
    "import numpy as np\n",
    "import pandas as pd\n",
    "import os\n",
    "import re\n",
    "import matplotlib.pyplot as plt\n",
    "from nltk.corpus import stopwords\n",
    "from bs4 import BeautifulSoup\n",
    "from tensorflow.keras.preprocessing.text import Tokenizer \n",
    "from tensorflow.keras.preprocessing.sequence import pad_sequences\n",
    "import urllib.request\n",
    "\n",
    "urllib.request.urlretrieve(\"https://raw.githubusercontent.com/sunnysai12345/News_Summary/master/news_summary_more.csv\", filename=\"news_summary_more.csv\")\n",
    "data = pd.read_csv('news_summary_more.csv', encoding='iso-8859-1')\n",
    "\n",
    "#data head\n",
    "data.head()"
   ]
  },
  {
   "cell_type": "code",
   "execution_count": 4,
   "id": "e4cac5bd",
   "metadata": {},
   "outputs": [
    {
     "name": "stdout",
     "output_type": "stream",
     "text": [
      "total data length : 98401\n",
      "unique headlines: 98280\n",
      "unique texts: 98360\n"
     ]
    }
   ],
   "source": [
    "#total data length\n",
    "print('total data length :', len(data))\n",
    "\n",
    "#unique headlines\n",
    "##Source: hts://jaaamj.tistory.com/112\n",
    "print('unique headlines:', data.headlines.nunique())\n",
    "\n",
    "#unique texts\n",
    "print('unique texts:', data.text.nunique())"
   ]
  },
  {
   "cell_type": "markdown",
   "id": "c61678d6",
   "metadata": {},
   "source": [
    "## 2. Data Pre-Processing"
   ]
  },
  {
   "cell_type": "code",
   "execution_count": 5,
   "id": "feacd4c0",
   "metadata": {},
   "outputs": [
    {
     "name": "stdout",
     "output_type": "stream",
     "text": [
      "total data length : 98360\n",
      "unique headlines: 98262\n",
      "Num.Norm.dic:  120\n",
      "headlines    0\n",
      "text         0\n",
      "dtype: int64\n",
      "Num.StopWords : 179\n",
      "['i', 'me', 'my', 'myself', 'we', 'our', 'ours', 'ourselves', 'you', \"you're\", \"you've\", \"you'll\", \"you'd\", 'your', 'yours', 'yourself', 'yourselves', 'he', 'him', 'his', 'himself', 'she', \"she's\", 'her', 'hers', 'herself', 'it', \"it's\", 'its', 'itself', 'they', 'them', 'their', 'theirs', 'themselves', 'what', 'which', 'who', 'whom', 'this', 'that', \"that'll\", 'these', 'those', 'am', 'is', 'are', 'was', 'were', 'be', 'been', 'being', 'have', 'has', 'had', 'having', 'do', 'does', 'did', 'doing', 'a', 'an', 'the', 'and', 'but', 'if', 'or', 'because', 'as', 'until', 'while', 'of', 'at', 'by', 'for', 'with', 'about', 'against', 'between', 'into', 'through', 'during', 'before', 'after', 'above', 'below', 'to', 'from', 'up', 'down', 'in', 'out', 'on', 'off', 'over', 'under', 'again', 'further', 'then', 'once', 'here', 'there', 'when', 'where', 'why', 'how', 'all', 'any', 'both', 'each', 'few', 'more', 'most', 'other', 'some', 'such', 'no', 'nor', 'not', 'only', 'own', 'same', 'so', 'than', 'too', 'very', 's', 't', 'can', 'will', 'just', 'don', \"don't\", 'should', \"should've\", 'now', 'd', 'll', 'm', 'o', 're', 've', 'y', 'ain', 'aren', \"aren't\", 'couldn', \"couldn't\", 'didn', \"didn't\", 'doesn', \"doesn't\", 'hadn', \"hadn't\", 'hasn', \"hasn't\", 'haven', \"haven't\", 'isn', \"isn't\", 'ma', 'mightn', \"mightn't\", 'mustn', \"mustn't\", 'needn', \"needn't\", 'shan', \"shan't\", 'shouldn', \"shouldn't\", 'wasn', \"wasn't\", 'weren', \"weren't\", 'won', \"won't\", 'wouldn', \"wouldn't\"]\n"
     ]
    }
   ],
   "source": [
    "# 1. Remove duplicated data\n",
    "data.drop_duplicates(subset=['text'], inplace = True)\n",
    "print('total data length :', len(data))\n",
    "print('unique headlines:', data.headlines.nunique())\n",
    "\n",
    "# 2. Text Normalization\n",
    "##Source: https://stackoverflow.com/questions/19790188/expanding-english-language-contractions-in-python\n",
    "contractions = {\"ain't\": \"is not\", \"aren't\": \"are not\",\"can't\": \"cannot\", \"'cause\": \"because\", \"could've\": \"could have\", \"couldn't\": \"could not\",\n",
    "                           \"didn't\": \"did not\",  \"doesn't\": \"does not\", \"don't\": \"do not\", \"hadn't\": \"had not\", \"hasn't\": \"has not\", \"haven't\": \"have not\",\n",
    "                           \"he'd\": \"he would\",\"he'll\": \"he will\", \"he's\": \"he is\", \"how'd\": \"how did\", \"how'd'y\": \"how do you\", \"how'll\": \"how will\", \"how's\": \"how is\",\n",
    "                           \"I'd\": \"I would\", \"I'd've\": \"I would have\", \"I'll\": \"I will\", \"I'll've\": \"I will have\",\"I'm\": \"I am\", \"I've\": \"I have\", \"i'd\": \"i would\",\n",
    "                           \"i'd've\": \"i would have\", \"i'll\": \"i will\",  \"i'll've\": \"i will have\",\"i'm\": \"i am\", \"i've\": \"i have\", \"isn't\": \"is not\", \"it'd\": \"it would\",\n",
    "                           \"it'd've\": \"it would have\", \"it'll\": \"it will\", \"it'll've\": \"it will have\",\"it's\": \"it is\", \"let's\": \"let us\", \"ma'am\": \"madam\",\n",
    "                           \"mayn't\": \"may not\", \"might've\": \"might have\",\"mightn't\": \"might not\",\"mightn't've\": \"might not have\", \"must've\": \"must have\",\n",
    "                           \"mustn't\": \"must not\", \"mustn't've\": \"must not have\", \"needn't\": \"need not\", \"needn't've\": \"need not have\",\"o'clock\": \"of the clock\",\n",
    "                           \"oughtn't\": \"ought not\", \"oughtn't've\": \"ought not have\", \"shan't\": \"shall not\", \"sha'n't\": \"shall not\", \"shan't've\": \"shall not have\",\n",
    "                           \"she'd\": \"she would\", \"she'd've\": \"she would have\", \"she'll\": \"she will\", \"she'll've\": \"she will have\", \"she's\": \"she is\",\n",
    "                           \"should've\": \"should have\", \"shouldn't\": \"should not\", \"shouldn't've\": \"should not have\", \"so've\": \"so have\",\"so's\": \"so as\",\n",
    "                           \"this's\": \"this is\",\"that'd\": \"that would\", \"that'd've\": \"that would have\", \"that's\": \"that is\", \"there'd\": \"there would\",\n",
    "                           \"there'd've\": \"there would have\", \"there's\": \"there is\", \"here's\": \"here is\",\"they'd\": \"they would\", \"they'd've\": \"they would have\",\n",
    "                           \"they'll\": \"they will\", \"they'll've\": \"they will have\", \"they're\": \"they are\", \"they've\": \"they have\", \"to've\": \"to have\",\n",
    "                           \"wasn't\": \"was not\", \"we'd\": \"we would\", \"we'd've\": \"we would have\", \"we'll\": \"we will\", \"we'll've\": \"we will have\", \"we're\": \"we are\",\n",
    "                           \"we've\": \"we have\", \"weren't\": \"were not\", \"what'll\": \"what will\", \"what'll've\": \"what will have\", \"what're\": \"what are\",\n",
    "                           \"what's\": \"what is\", \"what've\": \"what have\", \"when's\": \"when is\", \"when've\": \"when have\", \"where'd\": \"where did\", \"where's\": \"where is\",\n",
    "                           \"where've\": \"where have\", \"who'll\": \"who will\", \"who'll've\": \"who will have\", \"who's\": \"who is\", \"who've\": \"who have\",\n",
    "                           \"why's\": \"why is\", \"why've\": \"why have\", \"will've\": \"will have\", \"won't\": \"will not\", \"won't've\": \"will not have\",\n",
    "                           \"would've\": \"would have\", \"wouldn't\": \"would not\", \"wouldn't've\": \"would not have\", \"y'all\": \"you all\",\n",
    "                           \"y'all'd\": \"you all would\",\"y'all'd've\": \"you all would have\",\"y'all're\": \"you all are\",\"y'all've\": \"you all have\",\n",
    "                           \"you'd\": \"you would\", \"you'd've\": \"you would have\", \"you'll\": \"you will\", \"you'll've\": \"you will have\",\n",
    "                           \"you're\": \"you are\", \"you've\": \"you have\"}\n",
    "\n",
    "print(\"Num.Norm.dic: \",len(contractions))\n",
    "\n",
    "# 3. Checking 'Null'\n",
    "## Null 값은 확인되는게 없음\n",
    "print(data.isnull().sum())\n",
    "\n",
    "# 4. Stopwords\n",
    "print('Num.StopWords :', len(stopwords.words('english') ))\n",
    "print(stopwords.words('english'))\n",
    "\n",
    "# 5. Data Pre-Processing Formula\n",
    "def preprocess_sentence(sentence, remove_stopwords=True):\n",
    "    sentence = sentence.lower()\n",
    "    sentence = BeautifulSoup(sentence, \"lxml\").text \n",
    "    sentence = re.sub(r'\\([^)]*\\)', '', sentence) \n",
    "    sentence = re.sub('\"','', sentence) \n",
    "    sentence = ' '.join([contractions[t] if t in contractions else t for t in sentence.split(\" \")])\n",
    "    sentence = re.sub(r\"'s\\b\",\"\",sentence)\n",
    "    sentence = re.sub(\"[^a-zA-Z]\", \" \", sentence)\n",
    "    sentence = re.sub('[m]{2,}', 'mm', sentence) \n",
    "    \n",
    "    # Remove StopWords (Text)\n",
    "    if remove_stopwords:\n",
    "        tokens = ' '.join(word for word in sentence.split() if not word in stopwords.words('english') if len(word) > 1)\n",
    "    # Don't Remove StopWords (Summary)\n",
    "    else:\n",
    "        tokens = ' '.join(word for word in sentence.split() if len(word) > 1)\n",
    "    return tokens"
   ]
  },
  {
   "cell_type": "code",
   "execution_count": 6,
   "id": "f4ae2fe1",
   "metadata": {},
   "outputs": [
    {
     "data": {
      "text/plain": [
       "['saurav kant alumnus upgrad iiit pg program machine learning artificial intelligence sr systems engineer infosys almost years work experience program upgrad degree career support helped transition data scientist tech mahindra salary hike upgrad online power learning powered lakh careers',\n",
       " 'kunal shah credit card bill payment platform cred gave users chance win free food swiggy one year pranav kaushik delhi techie bagged reward spending cred coins users get one cred coin per rupee bill paid used avail rewards brands like ixigo bookmyshow ubereats cult fit',\n",
       " 'new zealand defeated india wickets fourth odi hamilton thursday win first match five match odi series india lost international match rohit sharma captaincy consecutive victories dating back march match witnessed india getting seventh lowest total odi cricket history',\n",
       " 'aegon life iterm insurance plan customers enjoy tax benefits premiums paid save taxes plan provides life cover age years also customers options insure critical illnesses disability accidental death benefit rider life cover age years',\n",
       " 'speaking sexual harassment allegations rajkumar hirani sonam kapoor said known hirani many years true metoo movement get derailed metoo movement always believe woman case need reserve judgment added hirani accused assistant worked sanju']"
      ]
     },
     "execution_count": 6,
     "metadata": {},
     "output_type": "execute_result"
    }
   ],
   "source": [
    "# 6. Pre-Processing for all 'Text' Data\n",
    "clean_text = []\n",
    "\n",
    "for s in data['text']:\n",
    "    clean_text.append(preprocess_sentence(s))\n",
    "\n",
    "clean_text[:5]"
   ]
  },
  {
   "cell_type": "code",
   "execution_count": 7,
   "id": "777851a9",
   "metadata": {},
   "outputs": [
    {
     "data": {
      "text/plain": [
       "['upgrad learner switches to career in ml al with salary hike',\n",
       " 'delhi techie wins free food from swiggy for one year on cred',\n",
       " 'new zealand end rohit sharma led india match winning streak',\n",
       " 'aegon life iterm insurance plan helps customers save tax',\n",
       " 'have known hirani for yrs what if metoo claims are not true sonam']"
      ]
     },
     "execution_count": 7,
     "metadata": {},
     "output_type": "execute_result"
    }
   ],
   "source": [
    "# 7. Pre-Processing for all 'Summary' Data\n",
    "clean_summary = []\n",
    "\n",
    "for s in data['headlines']:\n",
    "    clean_summary.append(preprocess_sentence(s, False))\n",
    "\n",
    "clean_summary[:5]"
   ]
  },
  {
   "cell_type": "code",
   "execution_count": 8,
   "id": "e3824eed",
   "metadata": {},
   "outputs": [],
   "source": [
    "# 8. Removes all empty state to 'Null'\n",
    "data['Text'] = clean_text\n",
    "data['Summary'] = clean_summary\n",
    "\n",
    "data.replace('', np.nan, inplace=True)"
   ]
  },
  {
   "cell_type": "code",
   "execution_count": 9,
   "id": "035a1212",
   "metadata": {},
   "outputs": [
    {
     "name": "stdout",
     "output_type": "stream",
     "text": [
      "Minimum Length of Text : 1\n",
      "Maximum Length of Text : 91\n",
      "Average Length of Text : 58.23813542090281\n",
      "Minimum Length of Headlines : 1\n",
      "Maximum Length of Headlines : 18\n",
      "Average Length of Headlines : 9.553660024400163\n"
     ]
    },
    {
     "data": {
      "image/png": "[encoded data removed]",
      "text/plain": [
       "<Figure size 432x288 with 2 Axes>"
      ]
     },
     "metadata": {
      "needs_background": "light"
     },
     "output_type": "display_data"
    },
    {
     "data": {
      "image/png": "[encoded data removed]",
      "text/plain": [
       "<Figure size 432x288 with 1 Axes>"
      ]
     },
     "metadata": {
      "needs_background": "light"
     },
     "output_type": "display_data"
    },
    {
     "data": {
      "image/png": "[encoded data removed]",
      "text/plain": [
       "<Figure size 432x288 with 1 Axes>"
      ]
     },
     "metadata": {
      "needs_background": "light"
     },
     "output_type": "display_data"
    }
   ],
   "source": [
    "# 9. Checking Data Distributions \n",
    "#    after Stopword and Normalization Process\n",
    "\n",
    "import matplotlib.pyplot as plt\n",
    "\n",
    "text_len = [len(s.split()) for s in data['text']]\n",
    "headline_len = [len(s.split()) for s in data['headlines']]\n",
    "\n",
    "print('Minimum Length of Text : {}'.format(np.min(text_len)))\n",
    "print('Maximum Length of Text : {}'.format(np.max(text_len)))\n",
    "print('Average Length of Text : {}'.format(np.mean(text_len)))\n",
    "print('Minimum Length of Headlines : {}'.format(np.min(headline_len)))\n",
    "print('Maximum Length of Headlines : {}'.format(np.max(headline_len)))\n",
    "print('Average Length of Headlines : {}'.format(np.mean(headline_len)))\n",
    "\n",
    "plt.subplot(1, 2, 1)\n",
    "plt.boxplot(text_len)\n",
    "plt.title('text')\n",
    "plt.subplot(1, 2, 2)\n",
    "plt.boxplot(headline_len)\n",
    "plt.title('headlines')\n",
    "plt.tight_layout()\n",
    "plt.show()\n",
    "\n",
    "plt.title('text')\n",
    "plt.hist(text_len, bins = 40)\n",
    "plt.xlabel('length of samples')\n",
    "plt.ylabel('number of samples')\n",
    "plt.show()\n",
    "\n",
    "plt.title('headlines')\n",
    "plt.hist(headline_len, bins = 40)\n",
    "plt.xlabel('length of samples')\n",
    "plt.ylabel('number of samples')\n",
    "plt.show()"
   ]
  },
  {
   "cell_type": "code",
   "execution_count": 10,
   "id": "434dfddd",
   "metadata": {},
   "outputs": [],
   "source": [
    "# 10. Limits max_len\n",
    "## text_max_len -> 65\n",
    "## headline_max_len = 12\n",
    "\n",
    "text_max_len = 65\n",
    "headline_max_len = 12\n",
    "\n",
    "def below_threshold_len(max_len, nested_list):\n",
    "    cnt = 0\n",
    "    for s in nested_list:\n",
    "        if(len(s.split()) <= max_len):\n",
    "            cnt = cnt+1\n",
    "    print('Ratio of Samples less then %s of Samples Length: %s'%(max_len, (cnt/len(nested_list))))"
   ]
  },
  {
   "cell_type": "code",
   "execution_count": 11,
   "id": "750430f8",
   "metadata": {},
   "outputs": [
    {
     "name": "stdout",
     "output_type": "stream",
     "text": [
      "Ratio of Samples less then 65 of Samples Length: 0.9999694997966653\n",
      "Ratio of Samples less then 12 of Samples Length: 0.9768198454656364\n"
     ]
    }
   ],
   "source": [
    "# 11. Checking Data Loss of Samples (Text, Headlines)\n",
    "## Text -> Less than 0.01% of Loss\n",
    "## Headlines -> Less than 0.24% of Loss\n",
    "below_threshold_len(text_max_len, data['text'])\n",
    "below_threshold_len(headline_max_len, data['headlines'])"
   ]
  },
  {
   "cell_type": "code",
   "execution_count": 13,
   "id": "0153c137",
   "metadata": {},
   "outputs": [
    {
     "data": {
      "text/html": [
       "<div>\n",
       "<style scoped>\n",
       "    .dataframe tbody tr th:only-of-type {\n",
       "        vertical-align: middle;\n",
       "    }\n",
       "\n",
       "    .dataframe tbody tr th {\n",
       "        vertical-align: top;\n",
       "    }\n",
       "\n",
       "    .dataframe thead th {\n",
       "        text-align: right;\n",
       "    }\n",
       "</style>\n",
       "<table border=\"1\" class=\"dataframe\">\n",
       "  <thead>\n",
       "    <tr style=\"text-align: right;\">\n",
       "      <th></th>\n",
       "      <th>headlines</th>\n",
       "      <th>text</th>\n",
       "      <th>Text</th>\n",
       "      <th>Summary</th>\n",
       "      <th>decoder_input</th>\n",
       "      <th>decoder_target</th>\n",
       "    </tr>\n",
       "  </thead>\n",
       "  <tbody>\n",
       "    <tr>\n",
       "      <th>0</th>\n",
       "      <td>upGrad learner switches to career in ML &amp; Al w...</td>\n",
       "      <td>Saurav Kant, an alumnus of upGrad and IIIT-B's...</td>\n",
       "      <td>saurav kant alumnus upgrad iiit pg program mac...</td>\n",
       "      <td>upgrad learner switches to career in ml al wit...</td>\n",
       "      <td>sostoken upGrad learner switches to career in ...</td>\n",
       "      <td>upGrad learner switches to career in ML &amp; Al w...</td>\n",
       "    </tr>\n",
       "    <tr>\n",
       "      <th>1</th>\n",
       "      <td>Delhi techie wins free food from Swiggy for on...</td>\n",
       "      <td>Kunal Shah's credit card bill payment platform...</td>\n",
       "      <td>kunal shah credit card bill payment platform c...</td>\n",
       "      <td>delhi techie wins free food from swiggy for on...</td>\n",
       "      <td>sostoken Delhi techie wins free food from Swig...</td>\n",
       "      <td>Delhi techie wins free food from Swiggy for on...</td>\n",
       "    </tr>\n",
       "    <tr>\n",
       "      <th>2</th>\n",
       "      <td>New Zealand end Rohit Sharma-led India's 12-ma...</td>\n",
       "      <td>New Zealand defeated India by 8 wickets in the...</td>\n",
       "      <td>new zealand defeated india wickets fourth odi ...</td>\n",
       "      <td>new zealand end rohit sharma led india match w...</td>\n",
       "      <td>sostoken New Zealand end Rohit Sharma-led Indi...</td>\n",
       "      <td>New Zealand end Rohit Sharma-led India's 12-ma...</td>\n",
       "    </tr>\n",
       "    <tr>\n",
       "      <th>3</th>\n",
       "      <td>Aegon life iTerm insurance plan helps customer...</td>\n",
       "      <td>With Aegon Life iTerm Insurance plan, customer...</td>\n",
       "      <td>aegon life iterm insurance plan customers enjo...</td>\n",
       "      <td>aegon life iterm insurance plan helps customer...</td>\n",
       "      <td>sostoken Aegon life iTerm insurance plan helps...</td>\n",
       "      <td>Aegon life iTerm insurance plan helps customer...</td>\n",
       "    </tr>\n",
       "    <tr>\n",
       "      <th>4</th>\n",
       "      <td>Have known Hirani for yrs, what if MeToo claim...</td>\n",
       "      <td>Speaking about the sexual harassment allegatio...</td>\n",
       "      <td>speaking sexual harassment allegations rajkuma...</td>\n",
       "      <td>have known hirani for yrs what if metoo claims...</td>\n",
       "      <td>sostoken Have known Hirani for yrs, what if Me...</td>\n",
       "      <td>Have known Hirani for yrs, what if MeToo claim...</td>\n",
       "    </tr>\n",
       "  </tbody>\n",
       "</table>\n",
       "</div>"
      ],
      "text/plain": [
       "                                           headlines  \\\n",
       "0  upGrad learner switches to career in ML & Al w...   \n",
       "1  Delhi techie wins free food from Swiggy for on...   \n",
       "2  New Zealand end Rohit Sharma-led India's 12-ma...   \n",
       "3  Aegon life iTerm insurance plan helps customer...   \n",
       "4  Have known Hirani for yrs, what if MeToo claim...   \n",
       "\n",
       "                                                text  \\\n",
       "0  Saurav Kant, an alumnus of upGrad and IIIT-B's...   \n",
       "1  Kunal Shah's credit card bill payment platform...   \n",
       "2  New Zealand defeated India by 8 wickets in the...   \n",
       "3  With Aegon Life iTerm Insurance plan, customer...   \n",
       "4  Speaking about the sexual harassment allegatio...   \n",
       "\n",
       "                                                Text  \\\n",
       "0  saurav kant alumnus upgrad iiit pg program mac...   \n",
       "1  kunal shah credit card bill payment platform c...   \n",
       "2  new zealand defeated india wickets fourth odi ...   \n",
       "3  aegon life iterm insurance plan customers enjo...   \n",
       "4  speaking sexual harassment allegations rajkuma...   \n",
       "\n",
       "                                             Summary  \\\n",
       "0  upgrad learner switches to career in ml al wit...   \n",
       "1  delhi techie wins free food from swiggy for on...   \n",
       "2  new zealand end rohit sharma led india match w...   \n",
       "3  aegon life iterm insurance plan helps customer...   \n",
       "4  have known hirani for yrs what if metoo claims...   \n",
       "\n",
       "                                       decoder_input  \\\n",
       "0  sostoken upGrad learner switches to career in ...   \n",
       "1  sostoken Delhi techie wins free food from Swig...   \n",
       "2  sostoken New Zealand end Rohit Sharma-led Indi...   \n",
       "3  sostoken Aegon life iTerm insurance plan helps...   \n",
       "4  sostoken Have known Hirani for yrs, what if Me...   \n",
       "\n",
       "                                      decoder_target  \n",
       "0  upGrad learner switches to career in ML & Al w...  \n",
       "1  Delhi techie wins free food from Swiggy for on...  \n",
       "2  New Zealand end Rohit Sharma-led India's 12-ma...  \n",
       "3  Aegon life iTerm insurance plan helps customer...  \n",
       "4  Have known Hirani for yrs, what if MeToo claim...  "
      ]
     },
     "execution_count": 13,
     "metadata": {},
     "output_type": "execute_result"
    }
   ],
   "source": [
    "# 12. Adds Start - End Tokens on Decoder\n",
    "\n",
    "data['decoder_input']=data['headlines'].apply(lambda x:'sostoken '+x)\n",
    "data['decoder_target']=data['headlines'].apply(lambda x:x+' eostoken')\n",
    "data.head()"
   ]
  },
  {
   "cell_type": "code",
   "execution_count": 14,
   "id": "8ab472ae",
   "metadata": {},
   "outputs": [],
   "source": [
    "## 13. Save results as numpy\n",
    "encoder_input = np.array(data['text'])\n",
    "decoder_input = np.array(data['decoder_input'])\n",
    "decoder_target = np.array(data['decoder_target'])"
   ]
  },
  {
   "cell_type": "code",
   "execution_count": 15,
   "id": "ea12f766",
   "metadata": {},
   "outputs": [
    {
     "name": "stdout",
     "output_type": "stream",
     "text": [
      "[ 6822 96872 92858 ... 17877 97197 93883]\n",
      "Num. of Training Labels: 98360\n",
      "Num. of Test Labels 98360\n",
      "Num. of Test Set : 19672\n",
      "Num. Training Data : 78688\n",
      "Num. Training Labels : 78688\n",
      "Num. Test Data : 19672\n",
      "Num. Test Labels : 19672\n"
     ]
    }
   ],
   "source": [
    "## 14. Distinguishing Training and Test Set\n",
    "indices = np.arange(encoder_input.shape[0])\n",
    "np.random.shuffle(indices)\n",
    "### random.shuffle - nxdarray or MutableSequence\n",
    "print(indices)\n",
    "\n",
    "## Shuffling Data Sample Numbers\n",
    "encoder_input = encoder_input[indices]\n",
    "decoder_input = decoder_input[indices]\n",
    "decoder_target = decoder_target[indices]\n",
    "\n",
    "print('Num. of Training Labels:', len(encoder_input))\n",
    "print('Num. of Test Labels', len(decoder_input))\n",
    "\n",
    "## Data Distribution Ratio: Training 8 Test 2\n",
    "n_of_val = int(len(encoder_input)*0.2)\n",
    "print('Num. of Test Set :', n_of_val) \n",
    "### n_of_val = test_size (sklearn)\n",
    "\n",
    "encoder_input_train = encoder_input[:-n_of_val]\n",
    "decoder_input_train = decoder_input[:-n_of_val]\n",
    "decoder_target_train = decoder_target[:-n_of_val]\n",
    "\n",
    "encoder_input_test = encoder_input[-n_of_val:]\n",
    "decoder_input_test = decoder_input[-n_of_val:]\n",
    "decoder_target_test = decoder_target[-n_of_val:]\n",
    "\n",
    "print('Num. Training Data :', len(encoder_input_train))\n",
    "print('Num. Training Labels :', len(decoder_input_train))\n",
    "print('Num. Test Data :', len(encoder_input_test))\n",
    "print('Num. Test Labels :', len(decoder_input_test))\n",
    "\n",
    "## 15. Tokenization\n",
    "src_tokenizer = Tokenizer()\n",
    "src_tokenizer.fit_on_texts(encoder_input_train)"
   ]
  },
  {
   "cell_type": "code",
   "execution_count": 18,
   "id": "ecab3fe0",
   "metadata": {},
   "outputs": [
    {
     "name": "stdout",
     "output_type": "stream",
     "text": [
      "단어 집합(voacabulary)의 크기: 91302\n",
      "등장 빈도가 5번 이하인 희귀 단어의 수: 64333\n",
      "단어 집합에서 희귀 단어를 제외시킬 경우의 단어 집합의 크기 26969\n",
      "단어 집합에서 희귀 단어의 비율: 70.46176425489037\n",
      "전체 등장 빈도에서 희귀 단어 등장 빈도 비율: 2.4460928728396363\n"
     ]
    }
   ],
   "source": [
    "## 16. rare_freq/total_freq = 2.44% LESS THAN 6 TIMES\n",
    "\n",
    "threshold = 6\n",
    "total_cnt = len(src_tokenizer.word_index)\n",
    "rare_cnt = 0   \n",
    "total_freq = 0\n",
    "rare_freq = 0\n",
    "for key, value in src_tokenizer.word_counts.items():\n",
    "    total_freq = total_freq + value\n",
    "    \n",
    "    if(value < threshold):\n",
    "        rare_cnt = rare_cnt + 1\n",
    "        rare_freq = rare_freq + value\n",
    "\n",
    "print('단어 집합(voacabulary)의 크기:', total_cnt)\n",
    "print('등장 빈도가 %s번 이하인 희귀 단어의 수: %s'%(threshold-1, rare_cnt))\n",
    "print('단어 집합에서 희귀 단어를 제외시킬 경우의 단어 집합의 크기 %s'%(total_cnt-rare_cnt))\n",
    "print('단어 집합에서 희귀 단어의 비율:',(rare_cnt/total_cnt)*100)\n",
    "print('전체 등장 빈도에서 희귀 단어 등장 빈도 비율:', (rare_freq/total_freq)*100)"
   ]
  },
  {
   "cell_type": "code",
   "execution_count": 19,
   "id": "03b63296",
   "metadata": {},
   "outputs": [
    {
     "name": "stdout",
     "output_type": "stream",
     "text": [
      "훈련 데이터의 개수 : 78688\n",
      "훈련 레이블의 개수 : 78688\n",
      "[[1243, 966, 4577, 13232, 97, 5, 1, 168, 631, 2, 1, 97, 5, 1, 168, 631, 257, 15, 277, 2710, 9, 2246, 39, 1759, 3, 314, 22, 1, 302, 3800, 4, 2860, 6065, 1, 53, 3963, 1243, 139, 630, 2209, 184, 2710, 9808, 22, 243, 84, 1, 302, 942, 204, 3233, 9808, 4, 1, 5931, 143], [341, 2012, 106, 8373, 445, 7406, 11830, 8, 10, 11, 1, 309, 592, 893, 6136, 77, 82, 194, 4950, 1051, 2, 5484, 11, 24, 3110, 591, 294, 64, 272, 2, 4445, 1295, 7, 37, 2640, 35, 119, 18, 3869, 90, 6002, 14076, 6, 10199, 8631, 341, 6, 4799, 45, 3511, 4, 1, 386, 9, 3886, 272, 2, 1253, 3344, 1323], [1986, 3111, 28, 418, 1, 47, 690, 2, 916, 134, 67, 378, 4, 1640, 196, 7, 122, 2312, 17, 4128, 48, 589, 4538, 15, 714, 3, 3187, 3111, 2600, 3, 212, 167, 524, 2, 916, 17, 47, 4128, 5, 557, 218, 6, 410, 222, 7, 17, 8632, 133, 714, 1, 956, 7033, 4098, 7, 17, 2048]]\n",
      "훈련 데이터의 개수 : 78688\n",
      "훈련 레이블의 개수 : 78688\n"
     ]
    }
   ],
   "source": [
    "src_vocab = 20000\n",
    "src_tokenizer = Tokenizer(num_words = src_vocab)\n",
    "src_tokenizer.fit_on_texts(encoder_input_train)\n",
    "\n",
    "# BEFORE (78,688) = :(\n",
    "print('훈련 데이터의 개수 :', len(encoder_input_train))\n",
    "print('훈련 레이블의 개수 :', len(decoder_input_train))\n",
    "\n",
    "# src_tokenizer 생성 정수변환\n",
    "encoder_input_train = src_tokenizer.texts_to_sequences(encoder_input_train)\n",
    "encoder_input_test = src_tokenizer.texts_to_sequences(encoder_input_test)\n",
    "\n",
    "# AFTER (78,688) - :D\n",
    "print(encoder_input_train[:3])\n",
    "print('훈련 데이터의 개수 :', len(encoder_input_train))\n",
    "print('훈련 레이블의 개수 :', len(decoder_input_train))"
   ]
  },
  {
   "cell_type": "code",
   "execution_count": 20,
   "id": "3e7bc6ce",
   "metadata": {},
   "outputs": [
    {
     "name": "stdout",
     "output_type": "stream",
     "text": [
      "단어 집합(vocabulary)의 크기 : 40738\n",
      "등장 빈도가 5번 이하인 희귀 단어의 수: 29415\n",
      "단어 집합에서 희귀 단어를 제외시킬 경우의 단어 집합의 크기 11323\n",
      "단어 집합에서 희귀 단어의 비율: 72.20531199371594\n",
      "전체 등장 빈도에서 희귀 단어 등장 빈도 비율: 6.122880609115584\n"
     ]
    }
   ],
   "source": [
    "## 17. Headlines Data\n",
    "\n",
    "tar_tokenizer = Tokenizer()\n",
    "tar_tokenizer.fit_on_texts(decoder_input_train)\n",
    "\n",
    "threshold = 6\n",
    "total_cnt = len(tar_tokenizer.word_index) \n",
    "rare_cnt = 0 \n",
    "total_freq = 0 \n",
    "rare_freq = 0 \n",
    "\n",
    "\n",
    "for key, value in tar_tokenizer.word_counts.items():\n",
    "    total_freq = total_freq + value\n",
    "\n",
    "    \n",
    "    if(value < threshold):\n",
    "        rare_cnt = rare_cnt + 1\n",
    "        rare_freq = rare_freq + value\n",
    "\n",
    "print('단어 집합(vocabulary)의 크기 :',total_cnt)\n",
    "print('등장 빈도가 %s번 이하인 희귀 단어의 수: %s'%(threshold - 1, rare_cnt))\n",
    "print('단어 집합에서 희귀 단어를 제외시킬 경우의 단어 집합의 크기 %s'%(total_cnt - rare_cnt))\n",
    "print(\"단어 집합에서 희귀 단어의 비율:\", (rare_cnt / total_cnt)*100)\n",
    "print(\"전체 등장 빈도에서 희귀 단어 등장 빈도 비율:\", (rare_freq / total_freq)*100)"
   ]
  },
  {
   "cell_type": "code",
   "execution_count": 21,
   "id": "5ffe7abf",
   "metadata": {},
   "outputs": [
    {
     "name": "stdout",
     "output_type": "stream",
     "text": [
      "input\n",
      "input  [[1, 559, 2228, 7698, 962, 461, 3, 6203, 962, 13, 5465], [1, 229, 9399, 776, 262, 225, 447, 3945, 1848, 110], [1, 77, 1967, 1780, 41, 264, 8, 2801], [1, 63, 543, 3, 72, 78, 158, 3, 8, 214, 3229], [1, 1598, 3, 5466, 45, 5102, 1233, 3, 2259]]\n",
      "target\n",
      "decoder  [[559, 2228, 7698, 962, 461, 3, 6203, 962, 13, 5465, 2], [229, 9399, 776, 262, 225, 447, 3945, 1848, 110, 2], [77, 1967, 1780, 41, 264, 8, 2801, 2], [63, 543, 3, 72, 78, 158, 3, 8, 214, 3229, 2], [1598, 3, 5466, 45, 5102, 1233, 3, 2259, 2]]\n"
     ]
    }
   ],
   "source": [
    "tar_vocab = 10000\n",
    "tar_tokenizer = Tokenizer(num_words = tar_vocab) \n",
    "tar_tokenizer.fit_on_texts(decoder_input_train)\n",
    "tar_tokenizer.fit_on_texts(decoder_target_train)\n",
    "\n",
    "decoder_input_train = tar_tokenizer.texts_to_sequences(decoder_input_train) \n",
    "decoder_target_train = tar_tokenizer.texts_to_sequences(decoder_target_train)\n",
    "decoder_input_test = tar_tokenizer.texts_to_sequences(decoder_input_test)\n",
    "decoder_target_test = tar_tokenizer.texts_to_sequences(decoder_target_test)\n",
    "\n",
    "print('input')\n",
    "print('input ',decoder_input_train[:5])\n",
    "print('target')\n",
    "print('decoder ',decoder_target_train[:5])\n",
    "\n",
    "## decoder_input에는 Start, End Token이 존재함. 따라서 문장 길이가 1이 되는 경우도 발생함.\n",
    "## 문장의 길이가 1인 것들을 정제(삭제) 처리"
   ]
  },
  {
   "cell_type": "code",
   "execution_count": 22,
   "id": "ae02c74d",
   "metadata": {},
   "outputs": [
    {
     "name": "stdout",
     "output_type": "stream",
     "text": [
      "Num. Training Data to remove : 0\n",
      "Num. Test Data to remove : 0\n",
      "Num. Training Data : 78688\n",
      "Num. Training Labels : 78688\n",
      "Num. Test Data : 19672\n",
      "Num. Test Labels : 19672\n"
     ]
    },
    {
     "name": "stderr",
     "output_type": "stream",
     "text": [
      "/opt/conda/lib/python3.9/site-packages/numpy/lib/function_base.py:4454: VisibleDeprecationWarning: Creating an ndarray from ragged nested sequences (which is a list-or-tuple of lists-or-tuples-or ndarrays with different lengths or shapes) is deprecated. If you meant to do this, you must specify 'dtype=object' when creating the ndarray.\n",
      "  arr = asarray(arr)\n"
     ]
    }
   ],
   "source": [
    "drop_train = [index for index, sentence in enumerate(decoder_input_train) if len(sentence) == 1]\n",
    "drop_test = [index for index, sentence in enumerate(decoder_input_test) if len(sentence) == 1]\n",
    "\n",
    "print('Num. Training Data to remove :',len(drop_train))\n",
    "print('Num. Test Data to remove :',len(drop_test))\n",
    "\n",
    "encoder_input_train = np.delete(encoder_input_train, drop_train, axis=0)\n",
    "decoder_input_train = np.delete(decoder_input_train, drop_train, axis=0)\n",
    "decoder_target_train = np.delete(decoder_target_train, drop_train, axis=0)\n",
    "\n",
    "encoder_input_test = np.delete(encoder_input_test, drop_test, axis=0)\n",
    "decoder_input_test = np.delete(decoder_input_test, drop_test, axis=0)\n",
    "decoder_target_test = np.delete(decoder_target_test, drop_test, axis=0)\n",
    "\n",
    "print('Num. Training Data :', len(encoder_input_train))\n",
    "print('Num. Training Labels :',len(decoder_input_train))\n",
    "print('Num. Test Data :',len(encoder_input_test))\n",
    "print('Num. Test Labels :',len(decoder_input_test))"
   ]
  },
  {
   "cell_type": "code",
   "execution_count": 23,
   "id": "35e401ba",
   "metadata": {},
   "outputs": [],
   "source": [
    "## 18. Padding\n",
    "\n",
    "encoder_input_train = pad_sequences(encoder_input_train, maxlen = text_max_len, padding='post')\n",
    "encoder_input_test = pad_sequences(encoder_input_test, maxlen = text_max_len, padding='post')\n",
    "decoder_input_train = pad_sequences(decoder_input_train, maxlen = headline_max_len, padding='post')\n",
    "decoder_target_train = pad_sequences(decoder_target_train, maxlen = headline_max_len, padding='post')\n",
    "decoder_input_test = pad_sequences(decoder_input_test, maxlen = headline_max_len, padding='post')\n",
    "decoder_target_test = pad_sequences(decoder_target_test, maxlen = headline_max_len, padding='post')"
   ]
  },
  {
   "cell_type": "markdown",
   "id": "b6d0e519",
   "metadata": {},
   "source": [
    "## 3. Model Planning & Training"
   ]
  },
  {
   "cell_type": "code",
   "execution_count": 24,
   "id": "55338662",
   "metadata": {},
   "outputs": [
    {
     "name": "stdout",
     "output_type": "stream",
     "text": [
      "WARNING:tensorflow:Layer lstm will not use cuDNN kernels since it doesn't meet the criteria. It will use a generic GPU kernel as fallback when running on GPU.\n",
      "WARNING:tensorflow:Layer lstm_1 will not use cuDNN kernels since it doesn't meet the criteria. It will use a generic GPU kernel as fallback when running on GPU.\n",
      "WARNING:tensorflow:Layer lstm_2 will not use cuDNN kernels since it doesn't meet the criteria. It will use a generic GPU kernel as fallback when running on GPU.\n"
     ]
    }
   ],
   "source": [
    "from tensorflow.keras.layers import Input, LSTM, Embedding, Dense, Concatenate\n",
    "from tensorflow.keras.models import Model\n",
    "from tensorflow.keras.callbacks import EarlyStopping, ModelCheckpoint\n",
    "\n",
    "# Encoder Planning\n",
    "embedding_dim = 128\n",
    "hidden_size = 256\n",
    "# Encoder\n",
    "encoder_inputs = Input(shape=(text_max_len,))\n",
    "# Embedding Layer\n",
    "enc_emb = Embedding(src_vocab, embedding_dim)(encoder_inputs)\n",
    "\n",
    "# LSTM 1\n",
    "encoder_lstm1 = LSTM(hidden_size, return_sequences=True, return_state=True ,dropout = 0.4, recurrent_dropout = 0.4)\n",
    "encoder_output1, state_h1, state_c1 = encoder_lstm1(enc_emb)\n",
    "# LSTM 2\n",
    "encoder_lstm2 = LSTM(hidden_size, return_sequences=True, return_state=True, dropout=0.4, recurrent_dropout=0.4)\n",
    "encoder_output2, state_h2, state_c2 = encoder_lstm2(encoder_output1)\n",
    "# LSTM 3\n",
    "encoder_lstm3 = LSTM(hidden_size, return_state=True, return_sequences=True, dropout=0.4, recurrent_dropout=0.4)\n",
    "encoder_outputs, state_h, state_c= encoder_lstm3(encoder_output2)"
   ]
  },
  {
   "cell_type": "code",
   "execution_count": 30,
   "id": "c39a6bd2",
   "metadata": {},
   "outputs": [
    {
     "name": "stdout",
     "output_type": "stream",
     "text": [
      "WARNING:tensorflow:Layer lstm_5 will not use cuDNN kernels since it doesn't meet the criteria. It will use a generic GPU kernel as fallback when running on GPU.\n",
      "Model: \"model\"\n",
      "__________________________________________________________________________________________________\n",
      "Layer (type)                    Output Shape         Param #     Connected to                     \n",
      "==================================================================================================\n",
      "input_1 (InputLayer)            [(None, 65)]         0                                            \n",
      "__________________________________________________________________________________________________\n",
      "embedding (Embedding)           (None, 65, 128)      2560000     input_1[0][0]                    \n",
      "__________________________________________________________________________________________________\n",
      "lstm (LSTM)                     [(None, 65, 256), (N 394240      embedding[0][0]                  \n",
      "__________________________________________________________________________________________________\n",
      "input_4 (InputLayer)            [(None, None)]       0                                            \n",
      "__________________________________________________________________________________________________\n",
      "lstm_1 (LSTM)                   [(None, 65, 256), (N 525312      lstm[0][0]                       \n",
      "__________________________________________________________________________________________________\n",
      "embedding_3 (Embedding)         (None, None, 128)    1280000     input_4[0][0]                    \n",
      "__________________________________________________________________________________________________\n",
      "lstm_2 (LSTM)                   [(None, 65, 256), (N 525312      lstm_1[0][0]                     \n",
      "__________________________________________________________________________________________________\n",
      "lstm_5 (LSTM)                   [(None, None, 256),  394240      embedding_3[0][0]                \n",
      "                                                                 lstm_2[0][1]                     \n",
      "                                                                 lstm_2[0][2]                     \n",
      "__________________________________________________________________________________________________\n",
      "dense (Dense)                   (None, None, 10000)  2570000     lstm_5[0][0]                     \n",
      "==================================================================================================\n",
      "Total params: 8,249,104\n",
      "Trainable params: 8,249,104\n",
      "Non-trainable params: 0\n",
      "__________________________________________________________________________________________________\n"
     ]
    }
   ],
   "source": [
    "# Decoder Planning\n",
    "decoder_inputs = Input(shape=(None,))\n",
    "\n",
    "# Embedding Layer\n",
    "dec_emb_layer = Embedding(tar_vocab, embedding_dim)\n",
    "dec_emb = dec_emb_layer(decoder_inputs)\n",
    "\n",
    "# LSTM\n",
    "decoder_lstm = LSTM(hidden_size, return_sequences = True, return_state = True, dropout = 0.4, recurrent_dropout=0.2)\n",
    "decoder_outputs, _, _ = decoder_lstm(dec_emb, initial_state = [state_h, state_c])\n",
    "\n",
    "# Softmax layer\n",
    "decoder_softmax_layer = Dense(tar_vocab, activation='softmax')\n",
    "decoder_softmax_outputs = decoder_softmax_layer(decoder_outputs) \n",
    "\n",
    "# def\n",
    "model = Model([encoder_inputs, decoder_inputs], decoder_softmax_outputs)\n",
    "model.summary()"
   ]
  },
  {
   "cell_type": "code",
   "execution_count": 31,
   "id": "9ddcd3ae",
   "metadata": {},
   "outputs": [
    {
     "name": "stdout",
     "output_type": "stream",
     "text": [
      "Model: \"model_1\"\n",
      "__________________________________________________________________________________________________\n",
      "Layer (type)                    Output Shape         Param #     Connected to                     \n",
      "==================================================================================================\n",
      "input_1 (InputLayer)            [(None, 65)]         0                                            \n",
      "__________________________________________________________________________________________________\n",
      "embedding (Embedding)           (None, 65, 128)      2560000     input_1[0][0]                    \n",
      "__________________________________________________________________________________________________\n",
      "lstm (LSTM)                     [(None, 65, 256), (N 394240      embedding[0][0]                  \n",
      "__________________________________________________________________________________________________\n",
      "input_4 (InputLayer)            [(None, None)]       0                                            \n",
      "__________________________________________________________________________________________________\n",
      "lstm_1 (LSTM)                   [(None, 65, 256), (N 525312      lstm[0][0]                       \n",
      "__________________________________________________________________________________________________\n",
      "embedding_3 (Embedding)         (None, None, 128)    1280000     input_4[0][0]                    \n",
      "__________________________________________________________________________________________________\n",
      "lstm_2 (LSTM)                   [(None, 65, 256), (N 525312      lstm_1[0][0]                     \n",
      "__________________________________________________________________________________________________\n",
      "lstm_5 (LSTM)                   [(None, None, 256),  394240      embedding_3[0][0]                \n",
      "                                                                 lstm_2[0][1]                     \n",
      "                                                                 lstm_2[0][2]                     \n",
      "__________________________________________________________________________________________________\n",
      "attention_layer (AdditiveAttent (None, None, 256)    256         lstm_5[0][0]                     \n",
      "                                                                 lstm_2[0][0]                     \n",
      "__________________________________________________________________________________________________\n",
      "concat_layer (Concatenate)      (None, None, 512)    0           lstm_5[0][0]                     \n",
      "                                                                 attention_layer[0][0]            \n",
      "__________________________________________________________________________________________________\n",
      "dense_1 (Dense)                 (None, None, 10000)  5130000     concat_layer[0][0]               \n",
      "==================================================================================================\n",
      "Total params: 10,809,360\n",
      "Trainable params: 10,809,360\n",
      "Non-trainable params: 0\n",
      "__________________________________________________________________________________________________\n"
     ]
    }
   ],
   "source": [
    "from tensorflow.keras.layers import AdditiveAttention\n",
    "\n",
    "# Attention Layer\n",
    "attn_layer = AdditiveAttention(name='attention_layer')\n",
    "\n",
    "# time step의 hidden state를 어텐션 층에 전달\n",
    "attn_out = attn_layer([decoder_outputs, encoder_outputs])\n",
    "\n",
    "# 어텐션의 결과와 디코더의 hidden state들을 연결\n",
    "decoder_concat_input = Concatenate(axis=-1, name='concat_layer')([decoder_outputs, attn_out])\n",
    "\n",
    "# 디코더의 출력\n",
    "decoder_softmax_layer = Dense(tar_vocab, activation='softmax')\n",
    "decoder_softmax_outputs = decoder_softmax_layer(decoder_concat_input)\n",
    "\n",
    "# def\n",
    "model = Model([encoder_inputs, decoder_inputs], decoder_softmax_outputs)\n",
    "model.summary()"
   ]
  },
  {
   "cell_type": "code",
   "execution_count": 44,
   "id": "a36aac39",
   "metadata": {},
   "outputs": [
    {
     "name": "stdout",
     "output_type": "stream",
     "text": [
      "Epoch 1/10\n",
      "77/77 [==============================] - 93s 1s/step - loss: 2.6453 - val_loss: 3.6554\n",
      "Epoch 2/10\n",
      "77/77 [==============================] - 85s 1s/step - loss: 2.5425 - val_loss: 3.6404\n",
      "Epoch 3/10\n",
      "77/77 [==============================] - 85s 1s/step - loss: 2.4777 - val_loss: 3.6371\n",
      "Epoch 4/10\n",
      "77/77 [==============================] - 84s 1s/step - loss: 2.4222 - val_loss: 3.6422\n",
      "Epoch 5/10\n",
      "77/77 [==============================] - 85s 1s/step - loss: 2.3769 - val_loss: 3.6380\n",
      "Epoch 00005: early stopping\n"
     ]
    },
    {
     "data": {
      "image/png": "[encoded data removed]",
      "text/plain": [
       "<Figure size 432x288 with 1 Axes>"
      ]
     },
     "metadata": {
      "needs_background": "light"
     },
     "output_type": "display_data"
    }
   ],
   "source": [
    "#batch_size 1024\n",
    "model.compile(optimizer='rmsprop', loss='sparse_categorical_crossentropy')\n",
    "es = EarlyStopping(monitor='val_loss', patience=2, verbose=1)\n",
    "history = model.fit(x=[encoder_input_train, decoder_input_train], y=decoder_target_train, \\\n",
    "          validation_data=([encoder_input_test, decoder_input_test], decoder_target_test), \\\n",
    "          batch_size=1024, callbacks=[es], epochs=10)\n",
    "\n",
    "\n",
    "plt.plot(history.history['loss'], label='train')\n",
    "plt.plot(history.history['val_loss'], label='test')\n",
    "plt.legend()\n",
    "plt.show()"
   ]
  },
  {
   "cell_type": "code",
   "execution_count": 45,
   "id": "d59936d0",
   "metadata": {},
   "outputs": [
    {
     "name": "stdout",
     "output_type": "stream",
     "text": [
      "Epoch 1/10\n",
      "154/154 [==============================] - 151s 930ms/step - loss: 2.4149 - val_loss: 3.6504\n",
      "Epoch 2/10\n",
      "154/154 [==============================] - 142s 921ms/step - loss: 2.3676 - val_loss: 3.6536\n",
      "Epoch 3/10\n",
      "154/154 [==============================] - 142s 924ms/step - loss: 2.3345 - val_loss: 3.6512\n",
      "Epoch 00003: early stopping\n"
     ]
    },
    {
     "data": {
      "image/png": "[encoded data removed]",
      "text/plain": [
       "<Figure size 432x288 with 1 Axes>"
      ]
     },
     "metadata": {
      "needs_background": "light"
     },
     "output_type": "display_data"
    }
   ],
   "source": [
    "#batch_size 512\n",
    "model.compile(optimizer='rmsprop', loss='sparse_categorical_crossentropy')\n",
    "es = EarlyStopping(monitor='val_loss', patience=2, verbose=1)\n",
    "history = model.fit(x=[encoder_input_train, decoder_input_train], y=decoder_target_train, \\\n",
    "          validation_data=([encoder_input_test, decoder_input_test], decoder_target_test), \\\n",
    "          batch_size=512, callbacks=[es], epochs=10)\n",
    "\n",
    "\n",
    "plt.plot(history.history['loss'], label='train')\n",
    "plt.plot(history.history['val_loss'], label='test')\n",
    "plt.legend()\n",
    "plt.show()"
   ]
  },
  {
   "cell_type": "markdown",
   "id": "3bf8e434",
   "metadata": {},
   "source": [
    "## 4. Model Evaluation"
   ]
  },
  {
   "cell_type": "code",
   "execution_count": 46,
   "id": "4b7efc3d",
   "metadata": {},
   "outputs": [],
   "source": [
    "src_index_to_word = src_tokenizer.index_word # 원문 단어 집합에서 정수 -> 단어를 얻음\n",
    "tar_word_to_index = tar_tokenizer.word_index # 요약 단어 집합에서 단어 -> 정수를 얻음\n",
    "tar_index_to_word = tar_tokenizer.index_word # 요약 단어 집합에서 정수 -> 단어를 얻음"
   ]
  },
  {
   "cell_type": "code",
   "execution_count": 47,
   "id": "e7d96f24",
   "metadata": {},
   "outputs": [],
   "source": [
    "# 인코더 설계\n",
    "encoder_model = Model(inputs=encoder_inputs, outputs=[encoder_outputs, state_h, state_c])\n",
    "\n",
    "# 이전 시점의 상태들을 저장하는 텐서\n",
    "decoder_state_input_h = Input(shape=(hidden_size,))\n",
    "decoder_state_input_c = Input(shape=(hidden_size,))\n",
    "\n",
    "dec_emb2 = dec_emb_layer(decoder_inputs)\n",
    "\n",
    "# 문장의 다음 단어를 예측하기 위해서 초기 상태(initial_state)를 이전 시점의 상태로 사용. 이는 뒤의 함수 decode_sequence()에 구현\n",
    "# 훈련 과정에서와 달리 LSTM의 리턴하는 은닉 상태와 셀 상태인 state_h와 state_c를 버리지 않음.\n",
    "decoder_outputs2, state_h2, state_c2 = decoder_lstm(dec_emb2, initial_state=[decoder_state_input_h, decoder_state_input_c])"
   ]
  },
  {
   "cell_type": "code",
   "execution_count": 49,
   "id": "94599b03",
   "metadata": {},
   "outputs": [],
   "source": [
    "# 어텐션 함수\n",
    "decoder_hidden_state_input = Input(shape=(text_max_len, hidden_size))\n",
    "attn_out_inf = attn_layer([decoder_outputs2, decoder_hidden_state_input])\n",
    "decoder_inf_concat = Concatenate(axis=-1, name='concat')([decoder_outputs2, attn_out_inf])\n",
    "\n",
    "# 디코더의 출력층\n",
    "decoder_outputs2 = decoder_softmax_layer(decoder_inf_concat) \n",
    "\n",
    "# 최종 디코더 모델\n",
    "decoder_model = Model(\n",
    "    [decoder_inputs] + [decoder_hidden_state_input,decoder_state_input_h, decoder_state_input_c],\n",
    "    [decoder_outputs2] + [state_h2, state_c2])"
   ]
  },
  {
   "cell_type": "code",
   "execution_count": 56,
   "id": "8309c712",
   "metadata": {},
   "outputs": [],
   "source": [
    "def decode_sequence(input_seq):\n",
    "    # 입력으로부터 인코더의 상태를 얻음\n",
    "    e_out, e_h, e_c = encoder_model.predict(input_seq)\n",
    "\n",
    "     # <SOS>에 해당하는 토큰 생성\n",
    "    target_seq = np.zeros((1,1))\n",
    "    target_seq[0, 0] = tar_word_to_index['sostoken']\n",
    "\n",
    "    stop_condition = False\n",
    "    decoded_sentence = ''\n",
    "    while not stop_condition: # stop_condition이 True가 될 때까지 루프 반복\n",
    "\n",
    "        output_tokens, h, c = decoder_model.predict([target_seq] + [e_out, e_h, e_c])\n",
    "        sampled_token_index = np.argmax(output_tokens[0, -1, :])\n",
    "        sampled_token = tar_index_to_word[sampled_token_index]\n",
    "\n",
    "        if (sampled_token!='eostoken'):\n",
    "            decoded_sentence += ' '+sampled_token\n",
    "\n",
    "        #  <eos>에 도달하거나 최대 길이를 넘으면 중단.\n",
    "        if (sampled_token == 'eostoken'  or len(decoded_sentence.split()) >= (headline_max_len-1)):\n",
    "            stop_condition = True\n",
    "\n",
    "        # 길이가 1인 타겟 시퀀스를 업데이트\n",
    "        target_seq = np.zeros((1,1))\n",
    "        target_seq[0, 0] = sampled_token_index\n",
    "\n",
    "        # 상태를 업데이트 합니다.\n",
    "        e_h, e_c = h, c\n",
    "\n",
    "    return decoded_sentence"
   ]
  },
  {
   "cell_type": "code",
   "execution_count": 57,
   "id": "163dc742",
   "metadata": {},
   "outputs": [],
   "source": [
    "# 원문의 정수 시퀀스를 텍스트 시퀀스로 변환\n",
    "def seq2text(input_seq):\n",
    "    temp=''\n",
    "    for i in input_seq:\n",
    "        if (i!=0):\n",
    "            temp = temp + src_index_to_word[i]+' '\n",
    "    return temp\n",
    "\n",
    "# 요약문의 정수 시퀀스를 텍스트 시퀀스로 변환\n",
    "def seq2summary(input_seq):\n",
    "    temp=''\n",
    "    for i in input_seq:\n",
    "        if ((i!=0 and i!=tar_word_to_index['sostoken']) and i!=tar_word_to_index['eostoken']):\n",
    "            temp = temp + tar_index_to_word[i] + ' '\n",
    "    return temp"
   ]
  },
  {
   "cell_type": "code",
   "execution_count": 58,
   "id": "7459bad4",
   "metadata": {},
   "outputs": [
    {
     "name": "stdout",
     "output_type": "stream",
     "text": [
      "원문 : jet airways has postponed its june quarter results to an unspecified late date after its audit committee did not recommend the results to the board for approval the company's shares fell as much as 14 5 on friday hitting a three year low the announcement comes just days after the airline denied reports that said it was running out of money \n",
      "실제 요약 : jet airways delays earnings report shares hit 3 year low \n",
      "예측 요약 :  jet airways jet airways jet airways jet airways jet airways\n",
      "\n",
      "\n",
      "원문 : sourav ganguly called ms dhoni's offer to lead the team during the final test of his career a surprise gesture and said he had initially rejected it i'd rejected his offer earlier in the day but couldn't refuse a second time ganguly wrote in his book ganguly added he told dhoni to captain after three overs as he couldn't focus \n",
      "실제 요약 : first rejected dhoni's offer to lead in final test ganguly \n",
      "예측 요약 :  dhoni is the best captain steve smith on dhoni's test\n",
      "\n",
      "\n",
      "원문 : e scooter startup bird has apologised for trying to remove a december 2018 blog post published by about 30 conversion kits that can be used to hack its scooters bird had demanded the removal alleging the writer promoted sales of an illegal product designed to bypass copyright protection l team sent a request we apologise bird said \n",
      "실제 요약 : e scooter startup tries removing blog on hacking apologises \n",
      "예측 요약 :  startup apologises for using apologises to apologises\n",
      "\n",
      "\n",
      "원문 : defending rape convict dera chief ram rahim singh bjp mp sakshi maharaj on friday said singh was a simple man who was being harassed one person has complained of rape against ram rahim crores others believe he is god who do you think is right he asked the mp further claimed that such cases were a conspiracy to defame hindu culture \n",
      "실제 요약 : rahim is a simple man so he is being harassed bjp mp \n",
      "예측 요약 :  ram rahim is the man who rape ram rahim\n",
      "\n",
      "\n",
      "원문 : a delhi government report stated that two people died of and eleven died of polio last year notably was from the world in 1980 and india was declared polio free in 2014 calling it an error union health ministry said it's not possible there has to be some mistake the last polio case in india was in 2011 \n",
      "실제 요약 : delhi reports polio deaths officials call it an error \n",
      "예측 요약 :  delhi government died death toll rises to delhi\n",
      "\n",
      "\n",
      "원문 : a 2017 letter by investors to uber co founder and then ceo travis kalanick has now become public in which the investors told kalanick they need a trusted experienced and energetic new ceo the public perception is that uber lacks ethical and moral values the investors had said you need to immediately and permanently resign as ceo kalanick was told \n",
      "실제 요약 : need a ceo uber investors told travis in 2017 \n",
      "예측 요약 :  uber ceo travis is not an group ceo\n",
      "\n",
      "\n",
      "원문 : london's scotland yard has confirmed that its war crimes unit is assessing the allegations made against saudi arabia in yemen this comes ahead of uk pm theresa may's visit to saudi arabia which aims to strengthen relations between the two countries the yemen war in which britain supports saudi arabia against the houthi rebels has killed over 10 000 civilians \n",
      "실제 요약 : scotland yard saudi war crimes in yemen \n",
      "예측 요약 :  saudi arabia attacker is middle east saudi arabia\n",
      "\n",
      "\n",
      "원문 : ultra web series your tells stories of 3 different people in different phases of relationships it has a college student about to experience his first love a guy who suddenly finds out his love life was a and a married couple happy with themselves but sometimes the ambition of a superb relation its beautiful head \n",
      "실제 요약 : new web series of relationships \n",
      "예측 요약 :  girls to have a child figure in college\n",
      "\n",
      "\n",
      "원문 : india's fiscal deficit in the april november period stood at ã¢ââ¹7 17 lakh crore or 114 8 of the budgeted target for the current financial year the gap between the government's revenue and expenditure had stood at 112 in november last year finance minister arun jaitley has assured that government is on track to meet its fiscal deficit target of 3 3 of gdp \n",
      "실제 요약 : april november fiscal deficit touches 115 of fy19 target \n",
      "예측 요약 :  april fiscal deficit widens to ã¢ââ¹7 crore in march quarter\n",
      "\n",
      "\n",
      "원문 : after actor uday chopra called for legalisation of marijuana in india on thursday the official twitter handle of mumbai police has responded to him be as of now consumption possession and transportation of marijuana invites harsh punishment read their tweet uday wrote that if legalised marijuana can be a revenue source and added it also has medical benefits \n",
      "실제 요약 : mumbai police warns uday chopra on his tweet \n",
      "예측 요약 :  priyanka chopra slammed for comparing cancer to cover\n",
      "\n",
      "\n",
      "원문 : a year old egyptian tomb that was discovered in has been opened to the public the tomb belonged to an ancient egypt high ranking official named who was related to the first king of the 6th dynasty the country hopes that allowing the public to visit the tomb which was restored by the egyptian ministry of will boost tourism \n",
      "실제 요약 : yr old egypt tomb discovered in opened to public \n",
      "예측 요약 :  ancient discovered in egypt\n",
      "\n",
      "\n",
      "원문 : united nations secretary general antãâ³nio guterres launched the un global counter terrorism coordination compact a new framework to combat international terrorism by coordinating efforts across peace and security and humanitarian sectors among others the framework known as the is an agreement between the un chief 36 un entities interpol and the world customs organisation \n",
      "실제 요약 : un launches new to combat terrorism \n",
      "예측 요약 :  un un calls un as un human rights council\n",
      "\n",
      "\n",
      "원문 : reacting to team india leg spinner yuzvendra chahal tying pakistani fast bowler usman khan's shoe during the india pakistan asia cup match on wednesday a user tweeted this moment took my heart other tweets read players break barriers how and boundaries are irrelevant when it comes to sports tender moments like this lifts cricket into a game another user wrote \n",
      "실제 요약 : this took my heart tweets user as chahal ties pak player's \n",
      "예측 요약 :  pak spinner trolled for calling india pak player\n",
      "\n",
      "\n",
      "원문 : talking about the price of rafale jets defence minister nirmala sitharaman said congress isn't disclosing the price with weapons system because they didn't have a deal in the first place the comparison is with a non deal and isn't that unfair the price would have been ã¢ââ¹700 plus crore in comparison to the crore that we're talking about she added \n",
      "실제 요약 : comparing rafale price wrong upa didn't even have deal sitharaman \n",
      "예측 요약 :  rafale deal is not cheaper chidambaram\n",
      "\n",
      "\n",
      "원문 : speaking about lionel messi being left out of contention for fifa's 2018 best player award barcelona's official spokesperson said that the 'world's best lionel messi does not need any awards to prove his credibility for the first time since 2006 messi didn't appear in the list of players in contention for the fifa best men's player award \n",
      "실제 요약 : messi needs no awards to show he is world's best barcelona \n",
      "예측 요약 :  ronaldo is the best player of the best player\n",
      "\n",
      "\n",
      "원문 : k a at the junction railway station in kerala's kochi has cracked the kerala public service commission exam using the station's free wifi for preparation i downloaded free question papers of and saw videos to prepare google wifi changed my life said he had been working as a porter for the past five years \n",
      "실제 요약 : kochi cracks civil services exam using station wifi \n",
      "예측 요약 :  kerala railway stations to get sanitary pads\n",
      "\n",
      "\n",
      "원문 : an earthquake of magnitude 6 3 hit tibet near india china border on saturday according to the us geological survey the was in an region and no casualty has been reported yet officials have said however the earthquake which had a depth of 10 km caused power and damage in villages near the affected area \n",
      "실제 요약 : 6 3 magnitude earthquake hits tibet near india china border \n",
      "예측 요약 :  earthquake in indonesia earthquake\n",
      "\n",
      "\n",
      "원문 : google on monday announced as the name for the latest version of the android operating system continuing the dessert themed names it brings features including notification dots on app icons picture in picture mode and an tool to help quickly and enter passwords android oreo 8 0 will start rolling out to pixel and pixel xl smartphones followed by nexus devices \n",
      "실제 요약 : google launches android 8 0 named \n",
      "예측 요약 :  google to name android ads on android\n",
      "\n",
      "\n",
      "원문 : the home ministry rejected the highest proportion of rti requests 15 of the nearly 58 000 applications it had received according to the annual report released by central information commission it was followed by finance ministry which rejected 14 of the nearly 2 lakh requests the railway ministry and ministry of housing and urban affairs rejected lowest proportion of applications \n",
      "실제 요약 : home ministry rejected highest of rti requests \n",
      "예측 요약 :  govt spent on list of nris over complaints of govt\n",
      "\n",
      "\n",
      "원문 : after pm narendra modi appealed to all the states to reach out to kashmiri students who are staying outside jammu and kashmir aimim president asaduddin owaisi on monday said that prime minister's appeal is only on paper kashmiri students are beaten up many times this government needs to implement laws and provide security he added \n",
      "실제 요약 : pm's appeal for kashmiri students is only on paper owaisi \n",
      "예측 요약 :  pm modi should be in j k if mob attacks\n",
      "\n",
      "\n",
      "원문 : rising pune supergiant all rounder ben stokes was named ipl 2017's most valuable player at the conclusion of the tournament on sunday stokes bought by rps for ã¢ââ¹14 5 crore was the most expensive player in the ipl 2017 auction he scored runs in 12 matches this season including a century and a fifty besides taking 12 wickets \n",
      "실제 요약 : ã¢ââ¹14 5 cr buy stokes named ipl 2017's most valuable player \n",
      "예측 요약 :  who is the most expensive player of ipl 2017\n",
      "\n",
      "\n",
      "원문 : the number of fake notes in the banking system jumped by 20 4 to 7 62 lakh during 2016 17 compared to the previous financial year the rbi said in its annual report on wednesday except the ã¢ââ¹100 category the number of fake notes increased across denominations notably in ã¢ââ¹500 and ã¢ââ¹1 000 the report added \n",
      "실제 요약 : fake notes in banking system jumped 20 in 2016 17 rbi \n",
      "예측 요약 :  fake notes worth 16 lakh people in 2017 rbi\n",
      "\n",
      "\n",
      "원문 : casting director abhishek banerjee who worked for ajay devgn's recently released film said india is a country of sexually frustrated men adding that casting couch doesn't happen only in the film industry banerjee further said in hospitals female nurses are harassed by male doctors in schools the male principals do that to teachers \n",
      "실제 요약 : india country of sexually men raid casting director \n",
      "예측 요약 :  i am not guilty of sexual harassment in india\n",
      "\n",
      "\n",
      "원문 : prime minister narendra modi on monday released a ã¢ââ¹100 commemorative coin in honour of former prime minister atal bihari vajpayee who passed away earlier this year the mind is not ready to believe that atal ji is no longer with us he was a loved and respected across all sections of society pm modi said \n",
      "실제 요약 : pm modi releases ã¢ââ¹100 coin in honour of ex pm vajpayee \n",
      "예측 요약 :  pm modi pays tribute to late pm vajpayee\n",
      "\n",
      "\n",
      "원문 : bjp president amit shah has expressed displeasure over the state of affairs in the bjp's delhi unit at a meeting with the office bearers he reportedly asked them to spend more time meeting common people rather than just the top leaders he also addressed the issues of lack of coordination between office bearers and and in the party \n",
      "실제 요약 : go meet voters amit shah to delhi bjp leaders \n",
      "예측 요약 :  bjp calls for making of shah\n",
      "\n",
      "\n",
      "원문 : army chief general bipin rawat has said that officers found guilty in moral cases will not be spared and may even face loss of pension and rank the excuse that there was will not apply if brother wife is involved rawat added this comes after a flag officer was punished for having relations with another officer's wife \n",
      "실제 요약 : those guilty of moral corruption won't be spared army chief \n",
      "예측 요약 :  no major in army chief rawat\n",
      "\n",
      "\n",
      "원문 : karan johar has shared a picture of his twins yash and roohi on the occasion of their 1st birthday i can't thank the universe enough for giving my mother and me the most beautiful gift ever happy birthday roohi and yash you're a blessing to us he wrote johar is a single father to his twins who were born via surrogacy \n",
      "실제 요약 : most beautiful gift for me johar on his birthday \n",
      "예측 요약 :  my baby is the first time since my baby johar\n",
      "\n",
      "\n",
      "원문 : there is a 108 metre high replica of paris' eiffel tower at the development in hangzhou china interestingly the community of also features over 30 square kilometres of style architecture and although first opened in 2007 it is populated and has often been called a ghost town n \n",
      "실제 요약 : there is a replica of the eiffel tower in china \n",
      "예측 요약 :  eiffel tower to be auctioned for eiffel tower\n",
      "\n",
      "\n",
      "원문 : a 21 year old hong kong woman has claimed she was tricked into marrying a complete stranger through a fake job posting shared on facebook the woman was asked to play the role of a bride for a mock wedding to complete her training to become a wedding however she was officially married after she signed a genuine marriage certificate \n",
      "실제 요약 : 21 year old hong kong woman into marrying a stranger \n",
      "예측 요약 :  woman claims she sells her fake skin for her nude pics\n",
      "\n",
      "\n",
      "원문 : singer arijit singh has said he does not read comments on social media and his team filters out the comments for him he added i don't involve myself a lot into paying attention to criticism on social media arijit further said i use my social media for things that are close to my heart \n",
      "실제 요약 : i don't read comments on social media singh \n",
      "예측 요약 :  i don't know what they don't know how to do it\n",
      "\n",
      "\n",
      "원문 : the rbi has directed banks to accept notes including new ã¢ââ¹500 and ã¢ââ¹2 000 notes with colour and writings on them rbi said these should be kept in the category of notes and banks shouldn't refuse them the bank issued the circular after it received complaints that branches were refusing notes with anything written on them or with external colour \n",
      "실제 요약 : banks can't say no to new notes with colour and writing rbi \n",
      "예측 요약 :  rbi allows banks to deposit demonetised notes from rbi\n",
      "\n",
      "\n",
      "원문 : samajwadi party president akhilesh yadav's uncle shivpal singh yadav on friday said he worked hard for the party since its formation but he was not given his due pointing out that samajwadi party which came to power four times in uttar pradesh was down to 48 seats in the 403 member assembly yadav said it was the result of his humiliation \n",
      "실제 요약 : worked hard for sp but not given due uncle \n",
      "예측 요약 :  not mulayam in last 24 yrs akhilesh yadav\n",
      "\n",
      "\n",
      "원문 : comedian raju srivastava has claimed that sunil grover told him he won't return to 'the kapil sharma show' even if kapil his ways sunil told raju it's not like i am arrogant or i need popularity but i have been reports of sunil quitting the show emerged after kapil assaulted him on a flight \n",
      "실제 요약 : sunil grover told me he won't return to kapil's show \n",
      "예측 요약 :  i am not kapil's show sunil grover to sunil grover\n",
      "\n",
      "\n",
      "원문 : it major cognizant on tuesday said it is acquiring a privately held creative content agency based in new york us which was founded in 2010 specialises in creating branded content for digital broadcast and social its clients include brands such as google netflix brand usa and \n",
      "실제 요약 : cognizant to acquire us based content agency \n",
      "예측 요약 :  microsoft confirms new us web series ad\n",
      "\n",
      "\n",
      "원문 : talking about her role at uber the ride hailing startup's chief diversity officer young lee has said getting uber employees to the point where they feel like they can trust that the system will work is hard further talking about uber going through a culture change she also said that it can actually make people feel very unsafe \n",
      "실제 요약 : getting staff to trust system is hard uber's diversity head \n",
      "예측 요약 :  uber co founder says he is working on uber\n",
      "\n",
      "\n",
      "원문 : after 22 more people were reported killed in heavy rains and floods in kerala on saturday the death toll in the state's worst natural calamity increased to 357 while 50 000 people were rescued on saturday red alert continued in 11 districts following prediction of more rains over 3 53 lakh affected persons have been put up in 2 000 relief camps \n",
      "실제 요약 : kerala floods death toll hits after 22 deaths reported today \n",
      "예측 요약 :  monsoon rains in kerala floods rises to heavy rains\n",
      "\n",
      "\n",
      "원문 : dubai's 86 storey tower one of the world's tallest residential towers was on friday engulfed by a huge fire for the second time since 2015 video footage showed flames spreading up the skyscraper and burning debris falling on the streets the authorities later said that civil defence workers successfully evacuated the building and the blaze was brought under control \n",
      "실제 요약 : video fire 86 storey tower \n",
      "예측 요약 :  tallest building breaks record for building on record\n",
      "\n",
      "\n",
      "원문 : haryana government has included the kin of 2 bjp leaders in the list of five candidates shortlisted for an ias meant for non state civil service officers three candidates having five annual confidential reports were reportedly rejected while state education minister ram sharma's daughter dr asha sharma was shortlisted despite having only one \n",
      "실제 요약 : bjp leaders' kin among 5 for ias post \n",
      "예측 요약 :  haryana govt orders ias officers to file list\n",
      "\n",
      "\n",
      "원문 : australian opener david warner took to instagram to share a video of his elder daughter ivy singing england chant 'oh jimmy jimmy thanks to the for my daughter warner captioned the video reacting to the video england pacer james anderson wrote it's clear who her favourite player is \n",
      "실제 요약 : warner's kid sings jimmy for pacer james anderson \n",
      "예측 요약 :  david warner shares pic with daughter david warner\n",
      "\n",
      "\n",
      "원문 : india has waived off a cumulative ã¢ââ¹3 1 lakh crore 49 1 billion in farm loans till date a report by data journalism firm has revealed the amount is 2 6 of the country's gdp in 2016 17 or 16 times the amount sanctioned for rural roads in 2016 17 however waivers have had little to no impact on farmer suicides the study revealed \n",
      "실제 요약 : has waived off ã¢ââ¹3 1 lakh crore in farm loans till date \n",
      "예측 요약 :  india to ã¢ââ¹4 lakh crore loan from september 17\n",
      "\n",
      "\n",
      "원문 : complaining about the early start of india windies odis windies fans have blamed the icc for scheduling the start at 9 am local time to suit indian convenience they want indians to sleep more and us to sleep less how does that work isn't this supposed to be a home series for us and not them a fan complained \n",
      "실제 요약 : they want indians to sleep more us to sleep less wi fans \n",
      "예측 요약 :  india will be a coaches of india windies coach\n",
      "\n",
      "\n",
      "원문 : us student otto warmbier who was held for 17 months by north korea has been evacuated from the reclusive nation in a coma reports said he has been in a coma for over a year after doctors gave him a sleeping pill from which he never woke up his family has claimed warmbier was detained for allegedly committing anti state acts \n",
      "실제 요약 : us student in n korea was in coma for 1 year kin \n",
      "예측 요약 :  us student suspended for n korea student\n",
      "\n",
      "\n",
      "원문 : reacting to indian team coach ravi shastri's late congratulatory tweet to captain virat kohli post his marriage to anushka sharma a user wrote ab gaye other users wrote were you singing and and media was like shastri ne nahi di kya hai k liye \n",
      "실제 요약 : ab tweets user on shastri's late wish to kohli \n",
      "예측 요약 :  ravi shastri tweets user on kohli's birthday\n",
      "\n",
      "\n",
      "원문 : after ex j k cm mehbooba mufti alleged harassment of a sister by police and said her clothes were torn governor satya pal malik said i've been informed there's been no tearing up of a clothes or her being harassed by police i request political parties to understand the fragile security situation and not to upset this through false allegations malik added \n",
      "실제 요약 : no clothes torn j k guv denies police harassed sister \n",
      "예측 요약 :  j k cm slams wife over journo's murder\n",
      "\n",
      "\n",
      "원문 : during his first bilateral visit to myanmar pm narendra modi has announced that will be issued to all myanmar citizens visas are currently issued free of charge to diplomats and people of 12 including bangladesh afghanistan and south africa among others he also announced the release of 40 myanmar citizens lodged in indian jails \n",
      "실제 요약 : india to issue to all myanmar citizens \n",
      "예측 요약 :  bangladesh to ban on free of indians in bangladesh\n",
      "\n",
      "\n",
      "원문 : an rss swayamsevak and lawyer has filed a defamation case against congress president sonia gandhi vice president rahul gandhi and cpi m leader sitaram yechury for allegedly linking journalist gauri lankesh's murder to the rss the petition said that their comments were defamatory and to the image of the rss and were made without any proof or investigations \n",
      "실제 요약 : case against rahul sonia for linking lankesh murder to rss \n",
      "예측 요약 :  rahul gandhi calls for remark on rahul gandhi\n",
      "\n",
      "\n",
      "원문 : chinese automaker motor has said it may rename its brand before entering the us market to avoid association with us president donald trump we saw people were laughing at this we realised it might not be very positive promotion for the brand said a executive was meant to sound like the brand's chinese name ' \n",
      "실제 요약 : mulls renaming brand to avoid being linked to trump \n",
      "예측 요약 :  mcdonald's considering trump considering products\n",
      "\n",
      "\n",
      "원문 : an international research on heat island effect on tree growth has found that trees in metropolitan areas have been growing faster than in rural areas since the 1960s the team collected samples from major cities like berlin brisbane munich and paris both rural and urban trees however showed a 20 of growth due to climate change \n",
      "실제 요약 : urban trees grow faster than rural study \n",
      "예측 요약 :  tree in river to be held in river\n",
      "\n",
      "\n",
      "원문 : as many as 12 were set on fire on thursday at a showroom of the luxury car in germany in a suspected g20 related arson attack ten cars were completely destroyed in the incident and the damage caused was estimated at over ã¢ââ¹7 crore around 1 lakh protesters are expected during the 20 nations meeting on friday and saturday \n",
      "실제 요약 : video 12 set on fire in g20 protest \n",
      "예측 요약 :  fire breaks out at london terror tank in london\n",
      "\n",
      "\n",
      "원문 : a thai man who felt neglected by his in laws shot dead six family members including his two children at a new year party before killing himself the man was heavily drunk when he pulled out his pistol at the table in the beauty where the party was being hosted in district police said \n",
      "실제 요약 : thai man shoots 6 family members kills himself at new year party \n",
      "예측 요약 :  man dies after killing allahabad youth in jharkhand\n",
      "\n",
      "\n"
     ]
    }
   ],
   "source": [
    "# Test Set 결과 출력\n",
    "for i in range(50, 100):\n",
    "    print(\"원문 :\", seq2text(encoder_input_test[i]))\n",
    "    print(\"실제 요약 :\", seq2summary(decoder_input_test[i]))\n",
    "    print(\"예측 요약 :\", decode_sequence(encoder_input_test[i].reshape(1, text_max_len)))\n",
    "    print(\"\\n\")"
   ]
  },
  {
   "cell_type": "markdown",
   "id": "720fa4c4",
   "metadata": {},
   "source": [
    "## 5. Extractive Summarization"
   ]
  },
  {
   "cell_type": "code",
   "execution_count": 60,
   "id": "a28fc7c8",
   "metadata": {},
   "outputs": [
    {
     "name": "stdout",
     "output_type": "stream",
     "text": [
      "Former Finance Minister Yashwant Sinha on Tuesday demanded a probe into the alleged diversion of loans worth Ã¢ÂÂ¹31,000 crore by Dewan Housing Finance (DHFL).\n",
      "This comes after a media report on Tuesday accused DHFL's controlling shareholders of diverting funds to shell companies to buy assets.\n",
      "Former Finance Minister Yashwant Sinha on Tuesday demanded a probe into the alleged diversion of loans worth Ã¢ÂÂ¹31,000 crore by Dewan Housing Finance (DHFL).\n",
      "German multinational engineering and electronics firm Bosch has made its first investment in India in Bengaluru-based deep-tech startup SimYog. SimYog has raised about Ã¢ÂÂ¹6.3 crore in the funding round, with participation from early-stage venture capital firm Ideaspring Capital.\n",
      "German multinational engineering and electronics firm Bosch has made its first investment in India in Bengaluru-based deep-tech startup SimYog. SimYog has raised about Ã¢ÂÂ¹6.3 crore in the funding round, with participation from early-stage venture capital firm Ideaspring Capital.\n",
      "Australia's wicketkeeper-batswoman Alyssa Healy has said that the Australian team needs to be wary of India's women's T20I team captain Harmanpreet Kaur at the ICC Women's T20 World Cup next year.\n",
      "Australia's wicketkeeper-batswoman Alyssa Healy has said that the Australian team needs to be wary of India's women's T20I team captain Harmanpreet Kaur at the ICC Women's T20 World Cup next year.\n"
     ]
    }
   ],
   "source": [
    "import requests\n",
    "from summa.summarizer import summarize\n",
    "\n",
    "#test_01\n",
    "text_str = data['text'][50]\n",
    "print(summarize(text_str, ratio=0.8))\n",
    "\n",
    "\n",
    "#test_02 (ratio 0.5)\n",
    "text_str = data['text'][50]\n",
    "print(summarize(text_str, ratio=0.5))\n",
    "\n",
    "\n",
    "#test_03\n",
    "text_str = data['text'][100]\n",
    "print(summarize(text_str, ratio=0.8))\n",
    "\n",
    "\n",
    "#test_04 (ratio 0.5)\n",
    "text_str = data['text'][100]\n",
    "print(summarize(text_str, ratio=0.5))\n",
    "\n",
    "\n",
    "#test_05\n",
    "text_str = data['text'][200]\n",
    "print(summarize(text_str, ratio=0.8))\n",
    "\n",
    "\n",
    "#test_06 (ratio 0.5)\n",
    "text_str = data['text'][200]\n",
    "print(summarize(text_str, ratio=0.5))"
   ]
  },
  {
   "cell_type": "markdown",
   "id": "e15dd5b8",
   "metadata": {},
   "source": [
    "## 프로젝트 회고"
   ]
  },
  {
   "cell_type": "markdown",
   "id": "eeb7ce05",
   "metadata": {},
   "source": [
    "+ batch size를 64, 256, 512, 1024 등 다양한 방법으로 연속 실험하여 Early Stopped 되었고, 그래프가 완만하게 표시된 문제가 확인되나, 실제 결과물에서는 대략적인 문장 의미를 이해할 수 있는 수준까지 요약되었다. (실제로 학습은 더 많이 되었다)\n",
    "+ Fundamental Node에 더 많은 집중을 하고 있으나, 초반에 Fundamental을 집중하여 학습 수준을 상향 평준화 시키고 각자 전문화를 하고자 하는 영역에 더 집중하는 것이 바람직하지 않을까 생각이 되었다. 남은 시간에 NLP 영역을 더 집중해보고 싶다.\n",
    "+ Node의 가중치를 더하는 attention 구성 과정과, 시퀀스를 정수 -> 텍스트로 서로 전환하는 과정이 매끄럽지 못하였다. 그래서 코드를 뜯어보는 데에 시간을 다소 할애하였다.\n",
    "+ numpy array 순서를 np.random.shuffle을 통하여 섞는(indicies) 과정을 새롭게 경험하였다."
   ]
  }
 ],
 "metadata": {
  "kernelspec": {
   "display_name": "Python 3 (ipykernel)",
   "language": "python",
   "name": "python3"
  },
  "language_info": {
   "codemirror_mode": {
    "name": "ipython",
    "version": 3
   },
   "file_extension": ".py",
   "mimetype": "text/x-python",
   "name": "python",
   "nbconvert_exporter": "python",
   "pygments_lexer": "ipython3",
   "version": "3.9.7"
  }
 },
 "nbformat": 4,
 "nbformat_minor": 5
}
