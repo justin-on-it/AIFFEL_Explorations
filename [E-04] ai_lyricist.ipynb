{
 "cells": [
  {
   "cell_type": "markdown",
   "id": "d41efebb",
   "metadata": {},
   "source": [
    "# [E-04] AI_Lyricist\n",
    "\"Exploration Node 4. 멋진 작사가 만들기\" / 2022. 01. 20 (Thu) 이형주\n",
    "\n",
    "## Contents\n",
    "---\n",
    "- **데이터 준비 및 전처리**\n",
    "- **NLP 모델 설계**\n",
    "- **NLP 모델 평가**\n",
    "- **프로젝트 회고**\n",
    "\n",
    "\n",
    "## Rubric 평가기준\n",
    "---\n",
    "\n",
    "|  평가문항  |  상세기준  |\n",
    "|:---------|:---------|\n",
    "|1. 가사 텍스트 생성 모델이 정상적으로 동작하는가?|텍스트 제너레이션 결과가 그럴듯한 문장으로 생성되는가?\n",
    "|2. 데이터의 전처리와 데이터셋 구성 과정이 체계적으로 진행되었는가?|특수문자 제거, 토크나이저 생성, 패딩처리 등의 과정이 빠짐없이 진행되었는가?\n",
    "|3. 텍스트 생성모델이 안정적으로 학습되었는가?|텍스트 생성모델의 validation loss가 2.2 이하로 낮아졌는가?"
   ]
  },
  {
   "cell_type": "markdown",
   "id": "e6813079",
   "metadata": {},
   "source": [
    "## 데이터 준비 및 전처리"
   ]
  },
  {
   "cell_type": "markdown",
   "id": "a655aab7",
   "metadata": {},
   "source": [
    "**Step 1. 데이터를 불러와서** 전처리(Pre-Processing)를 준비합니다.\n",
    "+ glob 모듈을 사용하여 파일을 불러오고, 문장 단위로 끊습니다.\n",
    "+ 끊어진 문장들은 corpus(데이터의 한 뭉치)로 저장됩니다."
   ]
  },
  {
   "cell_type": "code",
   "execution_count": 13,
   "id": "82316736",
   "metadata": {},
   "outputs": [
    {
     "name": "stdout",
     "output_type": "stream",
     "text": [
      "데이터 크기: 187088\n",
      "Examples:\n",
      " [\"Now I've heard there was a secret chord\", 'That David played, and it pleased the Lord', \"But you don't really care for music, do you?\"]\n"
     ]
    }
   ],
   "source": [
    "import os, re \n",
    "import glob\n",
    "import numpy as np\n",
    "import tensorflow as tf\n",
    "\n",
    "txt_file_path = os.getenv('HOME')+'/aiffel/lyricist/data/lyrics/*'\n",
    "txt_list = glob.glob(txt_file_path)\n",
    "raw_corpus = []\n",
    "\n",
    "for txt_file in txt_list:\n",
    "    # with구문으로 txt_list에 있는 txt_file 하나하나를 열어줍니다.\n",
    "    with open(txt_file, \"r\") as f:\n",
    "        # line을 기준으로 문장단위로 끊어서 raw변수에 넣어줍니다.\n",
    "        raw = f.read().splitlines()\n",
    "        # 리스트로 생성된 raw는 append가 아닌 extend로 raw_corpus에 더합니다.\n",
    "        raw_corpus.extend(raw)\n",
    "\n",
    "print(\"데이터 크기:\", len(raw_corpus))\n",
    "print(\"Examples:\\n\", raw_corpus[:3])"
   ]
  },
  {
   "cell_type": "markdown",
   "id": "94f50fa5",
   "metadata": {},
   "source": [
    "**Step 2.** 데이터를 불러왔으니, **전처리를 시작합니다.**\n",
    "+ 토큰의 갯수가 15개를 넘어가지 않도록 처리합니다."
   ]
  },
  {
   "cell_type": "code",
   "execution_count": 2,
   "id": "e3e23805",
   "metadata": {},
   "outputs": [
    {
     "data": {
      "text/plain": [
       "[\"Now I've heard there was a secret chord\",\n",
       " 'That David played, and it pleased the Lord',\n",
       " \"But you don't really care for music, do you?\",\n",
       " 'It goes like this',\n",
       " 'The fourth, the fifth',\n",
       " 'The minor fall, the major lift',\n",
       " 'The baffled king composing Hallelujah Hallelujah',\n",
       " 'Hallelujah',\n",
       " 'Hallelujah',\n",
       " 'Hallelujah Your faith was strong but you needed proof',\n",
       " 'You saw her bathing on the roof',\n",
       " 'Her beauty and the moonlight overthrew her',\n",
       " 'She tied you',\n",
       " 'To a kitchen chair',\n",
       " 'She broke your throne, and she cut your hair']"
      ]
     },
     "execution_count": 2,
     "metadata": {},
     "output_type": "execute_result"
    }
   ],
   "source": [
    "raw_corpus[:15]"
   ]
  },
  {
   "cell_type": "markdown",
   "id": "763d6fe6",
   "metadata": {},
   "source": [
    "+ 불필요한 특수기호나, 공백을 문장에서 지웁니다. \n",
    "+ 하지만, 공백을 기준으로 단어를 토큰화 할 수 있도록 아래와 같이 처리합니다."
   ]
  },
  {
   "cell_type": "code",
   "execution_count": 3,
   "id": "b52fadd6",
   "metadata": {},
   "outputs": [
    {
     "name": "stdout",
     "output_type": "stream",
     "text": [
      "<start> this is sample sentence . <end>\n"
     ]
    }
   ],
   "source": [
    "# 입력된 문장을\n",
    "#     1. 소문자로 바꾸고, 양쪽 공백을 지웁니다\n",
    "#     2. 특수문자 양쪽에 공백을 넣고\n",
    "#     3. 여러개의 공백은 하나의 공백으로 바꿉니다\n",
    "#     4. a-zA-Z?.!,¿가 아닌 모든 문자를 하나의 공백으로 바꿉니다\n",
    "#     5. 다시 양쪽 공백을 지웁니다\n",
    "#     6. 문장 시작에는 <start>, 끝에는 <end>를 추가\n",
    "def preprocess_sentence(sentence):\n",
    "    sentence = sentence.lower().strip() # 1\n",
    "    sentence = re.sub(r\"([?.!,¿])\", r\" \\1 \", sentence) # 2\n",
    "    sentence = re.sub(r'[\" \"]+', \" \", sentence) # 3\n",
    "    sentence = re.sub(r\"[^a-zA-Z?.!,¿]+\", \" \", sentence) # 4\n",
    "    sentence = sentence.strip() # 5\n",
    "    sentence = '<start> ' + sentence + ' <end>' # 6\n",
    "    return sentence\n",
    "\n",
    "# 문장 필터링 결과 예시\n",
    "print(preprocess_sentence(\"This @_is ;;;sample        sentence.\"))"
   ]
  },
  {
   "cell_type": "markdown",
   "id": "0008d04b",
   "metadata": {},
   "source": [
    "+ 문장 시작에는 'start', 문장이 끝날 때에는 'end'가 붙은 예시 10개가 아래와 같이 정상적으로 출력됩니다."
   ]
  },
  {
   "cell_type": "code",
   "execution_count": 4,
   "id": "aa67fc7c",
   "metadata": {},
   "outputs": [
    {
     "data": {
      "text/plain": [
       "['<start> now i ve heard there was a secret chord <end>',\n",
       " '<start> that david played , and it pleased the lord <end>',\n",
       " '<start> but you don t really care for music , do you ? <end>',\n",
       " '<start> it goes like this <end>',\n",
       " '<start> the fourth , the fifth <end>',\n",
       " '<start> the minor fall , the major lift <end>',\n",
       " '<start> the baffled king composing hallelujah hallelujah <end>',\n",
       " '<start> hallelujah <end>',\n",
       " '<start> hallelujah <end>',\n",
       " '<start> hallelujah your faith was strong but you needed proof <end>']"
      ]
     },
     "execution_count": 4,
     "metadata": {},
     "output_type": "execute_result"
    }
   ],
   "source": [
    "corpus = []\n",
    "\n",
    "for sentence in raw_corpus:\n",
    "    # 우리가 원하지 않는 문장은 건너뜀\n",
    "    if len(sentence) == 0: continue\n",
    "    if sentence[-1] == \":\": continue\n",
    "    \n",
    "    # 정제를 하고 결과를 출력\n",
    "    preprocessed_sentence = preprocess_sentence(sentence)\n",
    "    corpus.append(preprocessed_sentence)\n",
    "        \n",
    "# 정제된 결과를 10개만 확인\n",
    "corpus[:10]"
   ]
  },
  {
   "cell_type": "markdown",
   "id": "7b029dbf",
   "metadata": {},
   "source": [
    "+ 문장을 일정한 간격으로 쪼깨면, 여러개의 단어로 만들 수 있는데 **토큰화(Tokenize) 한다고 합니다.**\n",
    "+ **이 토큰화 단어장의 크기를 12,000개까지 만들 것입니다.**\n",
    "    - filters: 전처리 로직\n",
    "    - oov -> out of vocabulary, 사전에 없는 단어는 unk로 처리\n",
    "    - corpus -> Tokenizer가 단어 사전을 만들고, Tokenizer가 학습 모델에 입력할 데이터셋 Tensor로 변환\n",
    "    - padding 메소드는 입력 데이터의 시퀀스 길이를 일정하게 맞춤"
   ]
  },
  {
   "cell_type": "code",
   "execution_count": 5,
   "id": "b1b17dda",
   "metadata": {},
   "outputs": [
    {
     "name": "stdout",
     "output_type": "stream",
     "text": [
      "[[   2   50    5 ...    0    0    0]\n",
      " [   2   17 2639 ...    0    0    0]\n",
      " [   2   36    7 ...    0    0    0]\n",
      " ...\n",
      " [   2  130    5 ...    0    0    0]\n",
      " [   2   23   89 ...    0    0    0]\n",
      " [   2    7   34 ...    0    0    0]] \n",
      " <keras_preprocessing.text.Tokenizer object at 0x7fd87c543040>\n"
     ]
    },
    {
     "data": {
      "text/plain": [
       "(175749, 175749)"
      ]
     },
     "execution_count": 5,
     "metadata": {},
     "output_type": "execute_result"
    }
   ],
   "source": [
    "# 토큰화 할 때 텐서플로우의 Tokenizer와 pad_sequences 사용\n",
    "\n",
    "def tokenize(corpus):\n",
    "    tokenizer = tf.keras.preprocessing.text.Tokenizer(\n",
    "        num_words=12000, \n",
    "        filters=' ',\n",
    "        oov_token=\"<unk>\"\n",
    "    )\n",
    "    # corpus를 이용해 tokenizer 내부의 단어장을 완성\n",
    "    tokenizer.fit_on_texts(corpus)\n",
    "    # 준비한 tokenizer를 이용해 corpus를 Tensor로 변환\n",
    "    tensor = tokenizer.texts_to_sequences(corpus)   \n",
    "    # 만약 시퀀스가 짧다면 문장 뒤에 패딩을 붙여 길이를 맞춰줌\n",
    "    tensor = tf.keras.preprocessing.sequence.pad_sequences(tensor, padding='post')  \n",
    "    \n",
    "    print(tensor,'\\n', tokenizer)\n",
    "    return tensor, tokenizer\n",
    "\n",
    "tensor, tokenizer = tokenize(corpus)\n",
    "\n",
    "len(tensor), len(corpus)"
   ]
  },
  {
   "cell_type": "markdown",
   "id": "c5d4a5d4",
   "metadata": {},
   "source": [
    "+ 문장을 여러개의 단어로 쪼개고, **쪼갠 단어를 컴퓨터가 이해하도록 Tensor로 변환 되었습니다.**\n",
    "+ '토근화'된 데이터를 보니, **모든 데이터가 2로 시작해서 3으로 끝나는 경향성**이 보입니다.\n",
    "    - 정해진 입력 시퀀스 길이보다 짧은 경우 0으로 여백을 의미하는 패딩(padding)을 채워 넣었습니다.\n",
    "    - 0은 패딩 문자 pad로도 불릴 수 있습니다."
   ]
  },
  {
   "cell_type": "code",
   "execution_count": 6,
   "id": "93a76c2c",
   "metadata": {},
   "outputs": [
    {
     "name": "stdout",
     "output_type": "stream",
     "text": [
      "[[   2   50    5   91  297   65   57    9  969 6042    3    0]\n",
      " [   2   17 2639  873    4    8   11 6043    6  329    3    0]\n",
      " [   2   36    7   37   15  164  282   28  299    4   47    7]\n",
      " [   2   11  354   25   42    3    0    0    0    0    0    0]\n",
      " [   2    6 3604    4    6 2265    3    0    0    0    0    0]\n",
      " [   2    6 6044  292    4    6 1280  792    3    0    0    0]\n",
      " [   2    6 8541  523    1 1114 1114    3    0    0    0    0]\n",
      " [   2 1114    3    0    0    0    0    0    0    0    0    0]\n",
      " [   2 1114    3    0    0    0    0    0    0    0    0    0]\n",
      " [   2 1114   21  912   57  571   36    7  980 1845    3    0]]\n"
     ]
    }
   ],
   "source": [
    "print(tensor[:10, :12])"
   ]
  },
  {
   "cell_type": "markdown",
   "id": "90f1cec9",
   "metadata": {},
   "source": [
    "+ 아래와 같이 확인해 보니, **2는 start이고 3은 end 입니다. 의도한 대로 데이터 가공(전처리)이 되었습니다.**"
   ]
  },
  {
   "cell_type": "code",
   "execution_count": 7,
   "id": "54fff3ff",
   "metadata": {},
   "outputs": [
    {
     "name": "stdout",
     "output_type": "stream",
     "text": [
      "1 : <unk>\n",
      "2 : <start>\n",
      "3 : <end>\n",
      "4 : ,\n",
      "5 : i\n",
      "6 : the\n",
      "7 : you\n",
      "8 : and\n",
      "9 : a\n",
      "10 : to\n"
     ]
    }
   ],
   "source": [
    "for idx in tokenizer.index_word:\n",
    "    print(idx, \":\", tokenizer.index_word[idx])\n",
    "\n",
    "    if idx >= 10: \n",
    "        break"
   ]
  },
  {
   "cell_type": "markdown",
   "id": "6a4bae94",
   "metadata": {},
   "source": [
    "+ 데이터 가공은 되었으니, **학습할 데이터와 (처리 후)의 정답 데이터를 만듭니다.**\n",
    "    - 학습할 데이터는 (x-data), 정답 데이터는 (y-data)가 됩니다.\n",
    "    - DataSet 객체를 생성한 다음, 데이터 셋을 Train과 Test로 나눕니다."
   ]
  },
  {
   "cell_type": "code",
   "execution_count": 8,
   "id": "c2b40723",
   "metadata": {},
   "outputs": [
    {
     "name": "stdout",
     "output_type": "stream",
     "text": [
      "[   2   50    5   91  297   65   57    9  969 6042    3    0    0    0\n",
      "    0    0    0    0    0    0    0    0    0    0    0    0    0    0\n",
      "    0    0    0    0    0    0    0    0    0    0    0    0    0    0\n",
      "    0    0    0    0    0    0    0    0    0    0    0    0    0    0\n",
      "    0    0    0    0    0    0    0    0    0    0    0    0    0    0\n",
      "    0    0    0    0    0    0    0    0    0    0    0    0    0    0\n",
      "    0    0    0    0    0    0    0    0    0    0    0    0    0    0\n",
      "    0    0    0    0    0    0    0    0    0    0    0    0    0    0\n",
      "    0    0    0    0    0    0    0    0    0    0    0    0    0    0\n",
      "    0    0    0    0    0    0    0    0    0    0    0    0    0    0\n",
      "    0    0    0    0    0    0    0    0    0    0    0    0    0    0\n",
      "    0    0    0    0    0    0    0    0    0    0    0    0    0    0\n",
      "    0    0    0    0    0    0    0    0    0    0    0    0    0    0\n",
      "    0    0    0    0    0    0    0    0    0    0    0    0    0    0\n",
      "    0    0    0    0    0    0    0    0    0    0    0    0    0    0\n",
      "    0    0    0    0    0    0    0    0    0    0    0    0    0    0\n",
      "    0    0    0    0    0    0    0    0    0    0    0    0    0    0\n",
      "    0    0    0    0    0    0    0    0    0    0    0    0    0    0\n",
      "    0    0    0    0    0    0    0    0    0    0    0    0    0    0\n",
      "    0    0    0    0    0    0    0    0    0    0    0    0    0    0\n",
      "    0    0    0    0    0    0    0    0    0    0    0    0    0    0\n",
      "    0    0    0    0    0    0    0    0    0    0    0    0    0    0\n",
      "    0    0    0    0    0    0    0    0    0    0    0    0    0    0\n",
      "    0    0    0    0    0    0    0    0    0    0    0    0    0    0\n",
      "    0    0    0    0    0    0    0    0    0    0]\n",
      "[  50    5   91  297   65   57    9  969 6042    3    0    0    0    0\n",
      "    0    0    0    0    0    0    0    0    0    0    0    0    0    0\n",
      "    0    0    0    0    0    0    0    0    0    0    0    0    0    0\n",
      "    0    0    0    0    0    0    0    0    0    0    0    0    0    0\n",
      "    0    0    0    0    0    0    0    0    0    0    0    0    0    0\n",
      "    0    0    0    0    0    0    0    0    0    0    0    0    0    0\n",
      "    0    0    0    0    0    0    0    0    0    0    0    0    0    0\n",
      "    0    0    0    0    0    0    0    0    0    0    0    0    0    0\n",
      "    0    0    0    0    0    0    0    0    0    0    0    0    0    0\n",
      "    0    0    0    0    0    0    0    0    0    0    0    0    0    0\n",
      "    0    0    0    0    0    0    0    0    0    0    0    0    0    0\n",
      "    0    0    0    0    0    0    0    0    0    0    0    0    0    0\n",
      "    0    0    0    0    0    0    0    0    0    0    0    0    0    0\n",
      "    0    0    0    0    0    0    0    0    0    0    0    0    0    0\n",
      "    0    0    0    0    0    0    0    0    0    0    0    0    0    0\n",
      "    0    0    0    0    0    0    0    0    0    0    0    0    0    0\n",
      "    0    0    0    0    0    0    0    0    0    0    0    0    0    0\n",
      "    0    0    0    0    0    0    0    0    0    0    0    0    0    0\n",
      "    0    0    0    0    0    0    0    0    0    0    0    0    0    0\n",
      "    0    0    0    0    0    0    0    0    0    0    0    0    0    0\n",
      "    0    0    0    0    0    0    0    0    0    0    0    0    0    0\n",
      "    0    0    0    0    0    0    0    0    0    0    0    0    0    0\n",
      "    0    0    0    0    0    0    0    0    0    0    0    0    0    0\n",
      "    0    0    0    0    0    0    0    0    0    0    0    0    0    0\n",
      "    0    0    0    0    0    0    0    0    0    0]\n",
      "Source Train: (140599, 346)\n",
      "Target Train: (140599, 346)\n"
     ]
    }
   ],
   "source": [
    "# 소스 문장 : tensor에서 마지막 토큰(<end> or <pad>)을 제외.\n",
    "src_input = tensor[:, :-1]  \n",
    "# 타겟 문장 : tensor에서 <start>를 잘라내 생성.\n",
    "tgt_input = tensor[:, 1:]   \n",
    "\n",
    "print(src_input[0])\n",
    "print(tgt_input[0])\n",
    "\n",
    "from sklearn.model_selection import train_test_split\n",
    "\n",
    "enc_train, enc_val, dec_train, dec_val = train_test_split(src_input, tgt_input, test_size=0.2)\n",
    "\n",
    "print(\"Source Train:\", enc_train.shape)\n",
    "print(\"Target Train:\", dec_train.shape)"
   ]
  },
  {
   "cell_type": "code",
   "execution_count": 28,
   "id": "13aa0eb6",
   "metadata": {},
   "outputs": [
    {
     "data": {
      "text/plain": [
       "<BatchDataset shapes: ((256, 346), (256, 346)), types: (tf.int32, tf.int32)>"
      ]
     },
     "execution_count": 28,
     "metadata": {},
     "output_type": "execute_result"
    }
   ],
   "source": [
    "## 데이터셋 객체 생성\n",
    "\n",
    "BUFFER_SIZE = len(enc_train)\n",
    "BATCH_SIZE = 256\n",
    "steps_per_epoch = len(enc_train) // BATCH_SIZE\n",
    "\n",
    "## tokenizer가 구축한 단어사전 내 12000개와, 여기 포함되지 않은 0:<pad>를 포함하여 12001개\n",
    "## enc_train + dec_train = dataset_train\n",
    "## enc_val + dec_val = dataset_val\n",
    "VOCAB_SIZE = tokenizer.num_words + 1   \n",
    "\n",
    "dataset_train = tf.data.Dataset.from_tensor_slices((enc_train, dec_train))\n",
    "dataset_train = dataset_train.shuffle(BUFFER_SIZE)\n",
    "dataset_train = dataset_train.batch(BATCH_SIZE, drop_remainder=True)\n",
    "dataset_train\n",
    "\n",
    "dataset_val = tf.data.Dataset.from_tensor_slices((enc_val, dec_val))\n",
    "dataset_val = dataset_val.shuffle(BUFFER_SIZE)\n",
    "dataset_val = dataset_val.batch(BATCH_SIZE, drop_remainder=True)\n",
    "dataset_val"
   ]
  },
  {
   "cell_type": "markdown",
   "id": "5b5334ea",
   "metadata": {},
   "source": [
    "## NLP 모델 설계"
   ]
  },
  {
   "cell_type": "markdown",
   "id": "70983133",
   "metadata": {},
   "source": [
    "+ 10 Epoch(횟수) 내에 val_loss(오류) 값이 2.2 내외로 줄일 수 있도록 설계\n",
    "+ 모델은 Embedding Layer, Lstm Layer, Dense Layer로 구성\n",
    "    - Input을 모델에 투입시키면 Input Shape가 지정되고, model.build()가 호출"
   ]
  },
  {
   "cell_type": "code",
   "execution_count": 29,
   "id": "b2482738",
   "metadata": {},
   "outputs": [],
   "source": [
    "class TextGenerator(tf.keras.Model):\n",
    "    def __init__(self, vocab_size, embedding_size, hidden_size):\n",
    "        super().__init__()\n",
    "        self.embedding = tf.keras.layers.Embedding(vocab_size, embedding_size)\n",
    "        self.rnn_1 = tf.keras.layers.LSTM(hidden_size, return_sequences=True)\n",
    "        self.rnn_2 = tf.keras.layers.LSTM(hidden_size, return_sequences=True)\n",
    "        self.linear = tf.keras.layers.Dense(vocab_size)\n",
    "        \n",
    "    def call(self, x):\n",
    "        out = self.embedding(x)\n",
    "        out = self.rnn_1(out)\n",
    "        out = self.rnn_2(out)\n",
    "        out = self.linear(out)\n",
    "        \n",
    "        return out\n",
    "    \n",
    "embedding_size = 128\n",
    "hidden_size = 512\n",
    "model = TextGenerator(tokenizer.num_words + 1, embedding_size , hidden_size)"
   ]
  },
  {
   "cell_type": "markdown",
   "id": "2201a9b3",
   "metadata": {},
   "source": [
    "+ 모델 테스트 적용 완료, Epoch 1회를 모델로 돌려봅니다.\n",
    "+ matplotlib를 사용하여 Training Loss와 Validation Loss 결과를 시각화 합니다."
   ]
  },
  {
   "cell_type": "markdown",
   "id": "09ca746e",
   "metadata": {},
   "source": [
    "+ 메모리 부족으로 모델 가동에 실패했습니다.\n",
    "    -  Batch Size 256, embedding_size, hidden_size가 각각 256, 1024로는 구동이 어렵게 되었습니다.\n",
    "    - [Batch Size를 줄이면 대부분 해결된다](https://newindow.tistory.com/260)는 점을 알게 되었습니다.\n",
    "\n",
    "\n",
    "+ Batch Size는 유지하고, 다른 사이즈들을 절반으로 줄여 1회로 Epoch 재시도 합니다.\n",
    "    - batch size = 256 유지\n",
    "    - embedding_size = 256에서\n",
    "        + **embedding_size = 128으로**\n",
    "    - hidden_size = 1024\n",
    "        + **hidden_size = 512으로**"
   ]
  },
  {
   "cell_type": "code",
   "execution_count": 30,
   "id": "83baeb49",
   "metadata": {},
   "outputs": [
    {
     "name": "stdout",
     "output_type": "stream",
     "text": [
      "549/549 [==============================] - 1035s 2s/step - loss: 0.2783 - val_loss: 0.1575\n"
     ]
    },
    {
     "data": {
      "text/plain": [
       "<keras.callbacks.History at 0x7fd7ed54bf70>"
      ]
     },
     "execution_count": 30,
     "metadata": {},
     "output_type": "execute_result"
    }
   ],
   "source": [
    "optimizer = tf.keras.optimizers.Adam()\n",
    "loss = tf.keras.losses.SparseCategoricalCrossentropy(\n",
    "    from_logits=True, reduction='none')\n",
    "\n",
    "model.compile(loss=loss, optimizer=optimizer)\n",
    "model.fit(dataset_train, epochs=1, validation_data=dataset_val)"
   ]
  },
  {
   "cell_type": "markdown",
   "id": "caf4b7e2",
   "metadata": {},
   "source": [
    "## NLP 모델 평가"
   ]
  },
  {
   "cell_type": "markdown",
   "id": "813cc3b3",
   "metadata": {},
   "source": [
    "+ 예시 문장 뒤에 나올 문장을 자동으로 생성하는 함수\n",
    "    - Init_sentence -> Tokenizer -> Tensor 변환\n",
    "    - While -> 단어 생성\n",
    "    - end를 예측 하거나, max_len에 도달하면 종료. 예측한 단어는 입력한 문장 뒤에 추가됨"
   ]
  },
  {
   "cell_type": "code",
   "execution_count": 39,
   "id": "2cb8dac8",
   "metadata": {},
   "outputs": [],
   "source": [
    "def generate_text(model, tokenizer, init_sentence=\"<start>\", max_len=30):\n",
    "    test_input = tokenizer.texts_to_sequences([init_sentence])\n",
    "    test_tensor = tf.convert_to_tensor(test_input, dtype=tf.int64)\n",
    "    end_token = tokenizer.word_index[\"<end>\"]\n",
    "\n",
    "    while True:\n",
    "\n",
    "        predict = model(test_tensor) \n",
    "        \n",
    "        predict_word = tf.argmax(tf.nn.softmax(predict, axis=-1), axis=-1)[:, -1] \n",
    "\n",
    "        test_tensor = tf.concat([test_tensor, tf.expand_dims(predict_word, axis=0)], axis=-1)\n",
    "\n",
    "        if predict_word.numpy()[0] == end_token: break\n",
    "        if test_tensor.shape[1] >= max_len: break\n",
    "\n",
    "    generated = \"\"\n",
    "\n",
    "    for word_index in test_tensor[0].numpy():\n",
    "        generated += tokenizer.index_word[word_index] + \" \"\n",
    "\n",
    "    return generated  "
   ]
  },
  {
   "cell_type": "code",
   "execution_count": 40,
   "id": "90f4733b",
   "metadata": {},
   "outputs": [
    {
     "data": {
      "text/plain": [
       "'<start> i like t t the <end> '"
      ]
     },
     "execution_count": 40,
     "metadata": {},
     "output_type": "execute_result"
    }
   ],
   "source": [
    "generate_text(model, tokenizer, init_sentence=\"<start> i like\", max_len=30)"
   ]
  },
  {
   "cell_type": "markdown",
   "id": "5dd66d28",
   "metadata": {},
   "source": [
    "## 프로젝트 회고"
   ]
  },
  {
   "cell_type": "markdown",
   "id": "4db9c39d",
   "metadata": {},
   "source": [
    "+ 문제로 제시한 Epoch, Hiperparameters 값들을 적용하였을 때 메모리 에러가 발생하였다.\n",
    "    - 원인 해결에 많은 시간을 쏟았으나, 결국 수치를 낮춰 해결한 이유로 추후 고사양 데스크탑으로 로컬 환경에서 구현해보고 테스트를 진행해볼 예정이다.\n",
    "+ 1회 가동만으로도 **Validation Loss가 이렇게 낮게 나오는 것은 Layer 적용에 문제가 있는 것이 아닐까** 생각된다.\n",
    "    - 검색 결과 [bidirectional LSTM Layer를 쓰는 것이 더 효율적](https://hyen4110.tistory.com/29)일 것으로 보여, 이후 리팩토링을 해보고 싶다.\n",
    "+ Computer Vision에 비하여, NLP의 난이도가 상당한 것으로 보이지만, 그만큼 깊게 공부하였을 때 의미가 있는 학문으로 판단된다. 다만 현재의 목표를 모델 설계나 정확도를 높이는 데에 집중하기 보다는 **현재 개발되어 있는 우수하고 효율적인 모델을 선적용하여 사회문제를 해결하는 방향성이 효율적이라 판단된다.**\n",
    "    - 현재 본인의 학습 수준은 주니어 레벨이고, NLP 모델에 대한 설계는 알고리즘까지 설계 가능한 Data Scientist가 진행하는 것이라 판단된다.\n",
    "    - 따라서 2-3개월차가 되었을 즈음에는 모델 변경 및 적용까지 가능한 수준으로 만들어야겠다는 판단을 하게 되었고, 다만 현재로서는 역량이 그에 미치지 못하는 것 같아 이 부분은 프로젝트를 진행하며 아쉬운 점으로 남는다.\n",
    "    - 현재로선 데이터 수집 - 전처리 - 예측 모델 적용 - 결과 비교 및 (부분 튜닝) 과정에 집중할 것이다."
   ]
  },
  {
   "cell_type": "code",
   "execution_count": null,
   "id": "f62b1fca",
   "metadata": {},
   "outputs": [],
   "source": []
  }
 ],
 "metadata": {
  "kernelspec": {
   "display_name": "Python 3 (ipykernel)",
   "language": "python",
   "name": "python3"
  },
  "language_info": {
   "codemirror_mode": {
    "name": "ipython",
    "version": 3
   },
   "file_extension": ".py",
   "mimetype": "text/x-python",
   "name": "python",
   "nbconvert_exporter": "python",
   "pygments_lexer": "ipython3",
   "version": "3.9.7"
  }
 },
 "nbformat": 4,
 "nbformat_minor": 5
}
