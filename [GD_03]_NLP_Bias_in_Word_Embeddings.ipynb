{
  "nbformat": 4,
  "nbformat_minor": 0,
  "metadata": {
    "colab": {
      "name": "[GD-03] NLP-Bias in Word Embeddings.ipynb",
      "provenance": [],
      "machine_shape": "hm"
    },
    "kernelspec": {
      "name": "python3",
      "display_name": "Python 3"
    },
    "language_info": {
      "name": "python"
    },
    "accelerator": "GPU"
  },
  "cells": [
    {
      "cell_type": "markdown",
      "source": [
        "# [GD-06] Bias in Word Embeddings\n",
        "\"Going Deeper Node 6. Checking Bias in Word Embeddings\" / 2022. 04. 04 (MON) 이형주\n",
        "\n",
        "## Contents\n",
        "---\n",
        "- **1. Environment Setup**\n",
        "- **2. Modeling**\n",
        "- **3. Project Retrospective**\n",
        "\n",
        "## Rubric 평가기준\n",
        "---\n",
        "\n",
        "|  평가문항  |  상세기준  |\n",
        "|:---------|:---------|\n",
        "|1. 주어진 영화 코퍼스를 바탕으로 워드임베딩 모델을 정상적으로 만들었다.|워드임베딩의 most_similar() 메소드 결과가 의미상 바르게 나왔다.\n",
        "|2. 영화 구분, 장르별로 target, attribute에 대한 대표성있는 단어 셋을 생성하였다.|타당한 방법론을 통해 중복이 잘 제거되고 개념축을 의미적으로 잘 대표하는 단어 셋이 만들어졌다.\n",
        "|3. WEAT score 계산 및 시각화를 정상적으로 진행하였다.|전체 영화 장르별로 예술/일반 영화에 대한 편향성 WEAT score가 상식에 부합하는 수치로 얻어졌으며 이를 잘 시각화하였다."
      ],
      "metadata": {
        "id": "lxzYg25dNHvC"
      }
    },
    {
      "cell_type": "code",
      "execution_count": 1,
      "metadata": {
        "colab": {
          "base_uri": "https://localhost:8080/"
        },
        "id": "7ABxC0R1M5Uo",
        "outputId": "03310a04-5e94-4548-f400-0e46baf340db"
      },
      "outputs": [
        {
          "output_type": "stream",
          "name": "stdout",
          "text": [
            "Mon Apr  4 23:35:34 2022       \n",
            "+-----------------------------------------------------------------------------+\n",
            "| NVIDIA-SMI 460.32.03    Driver Version: 460.32.03    CUDA Version: 11.2     |\n",
            "|-------------------------------+----------------------+----------------------+\n",
            "| GPU  Name        Persistence-M| Bus-Id        Disp.A | Volatile Uncorr. ECC |\n",
            "| Fan  Temp  Perf  Pwr:Usage/Cap|         Memory-Usage | GPU-Util  Compute M. |\n",
            "|                               |                      |               MIG M. |\n",
            "|===============================+======================+======================|\n",
            "|   0  Tesla P100-PCIE...  Off  | 00000000:00:04.0 Off |                    0 |\n",
            "| N/A   36C    P0    26W / 250W |      0MiB / 16280MiB |      0%      Default |\n",
            "|                               |                      |                  N/A |\n",
            "+-------------------------------+----------------------+----------------------+\n",
            "                                                                               \n",
            "+-----------------------------------------------------------------------------+\n",
            "| Processes:                                                                  |\n",
            "|  GPU   GI   CI        PID   Type   Process name                  GPU Memory |\n",
            "|        ID   ID                                                   Usage      |\n",
            "|=============================================================================|\n",
            "|  No running processes found                                                 |\n",
            "+-----------------------------------------------------------------------------+\n"
          ]
        }
      ],
      "source": [
        "# Colab Pro GPU 정보\n",
        "gpu_info = !nvidia-smi\n",
        "gpu_info = '\\n'.join(gpu_info)\n",
        "if gpu_info.find('failed') >= 0:\n",
        "  print('Not connected to a GPU')\n",
        "else:\n",
        "  print(gpu_info)"
      ]
    },
    {
      "cell_type": "code",
      "source": [
        "# Colab Pro Ram 정보\n",
        "from psutil import virtual_memory\n",
        "ram_gb = virtual_memory().total / 1e9\n",
        "print('Your runtime has {:.1f} gigabytes of available RAM\\n'.format(ram_gb))\n",
        "\n",
        "if ram_gb < 20:\n",
        "  print('Not using a high-RAM runtime')\n",
        "else:\n",
        "  print('You are using a high-RAM runtime!')"
      ],
      "metadata": {
        "colab": {
          "base_uri": "https://localhost:8080/"
        },
        "id": "IfLkBRMdPWIN",
        "outputId": "c791b047-3c84-4ab5-8d29-7695f7c2ff78"
      },
      "execution_count": 2,
      "outputs": [
        {
          "output_type": "stream",
          "name": "stdout",
          "text": [
            "Your runtime has 27.3 gigabytes of available RAM\n",
            "\n",
            "You are using a high-RAM runtime!\n"
          ]
        }
      ]
    },
    {
      "cell_type": "code",
      "source": [
        "# STEP 1. 형태소 분석기를 이용하여 품사가 명사인 경우 해당 단어를 추출하기\n",
        "# STEP 2. 추출된 결과로 embedding model 만들기\n",
        "# STEP 3. target, attribute 단어 셋 만들기\n",
        "# STEP 4. WEAT score 계산과 시각화"
      ],
      "metadata": {
        "id": "Y7V7Ku8DDL5z"
      },
      "execution_count": 3,
      "outputs": []
    },
    {
      "cell_type": "markdown",
      "source": [
        "## 1. Environment Setup"
      ],
      "metadata": {
        "id": "iUgE5XHrZSyL"
      }
    },
    {
      "cell_type": "code",
      "source": [
        "!pip install konlpy"
      ],
      "metadata": {
        "colab": {
          "base_uri": "https://localhost:8080/"
        },
        "id": "ZCtJzDGJ7n-w",
        "outputId": "b8617f87-86be-4792-d68a-7dbfe9141e8b"
      },
      "execution_count": 4,
      "outputs": [
        {
          "output_type": "stream",
          "name": "stdout",
          "text": [
            "Collecting konlpy\n",
            "  Downloading konlpy-0.6.0-py2.py3-none-any.whl (19.4 MB)\n",
            "\u001b[K     |████████████████████████████████| 19.4 MB 574 kB/s \n",
            "\u001b[?25hRequirement already satisfied: numpy>=1.6 in /usr/local/lib/python3.7/dist-packages (from konlpy) (1.21.5)\n",
            "Requirement already satisfied: lxml>=4.1.0 in /usr/local/lib/python3.7/dist-packages (from konlpy) (4.2.6)\n",
            "Collecting JPype1>=0.7.0\n",
            "  Downloading JPype1-1.3.0-cp37-cp37m-manylinux_2_5_x86_64.manylinux1_x86_64.whl (448 kB)\n",
            "\u001b[K     |████████████████████████████████| 448 kB 29.5 MB/s \n",
            "\u001b[?25hRequirement already satisfied: typing-extensions in /usr/local/lib/python3.7/dist-packages (from JPype1>=0.7.0->konlpy) (3.10.0.2)\n",
            "Installing collected packages: JPype1, konlpy\n",
            "Successfully installed JPype1-1.3.0 konlpy-0.6.0\n"
          ]
        }
      ]
    },
    {
      "cell_type": "code",
      "source": [
        "import os\n",
        "import warnings\n",
        "warnings.filterwarnings(action='ignore')\n",
        "import tensorflow as tf\n",
        "\n",
        "import konlpy\n",
        "from konlpy.tag import Okt\n",
        "\n",
        "import gensim \n",
        "from gensim.models import Word2Vec\n",
        "\n",
        "import sklearn\n",
        "from sklearn.feature_extraction.text import TfidfVectorizer\n",
        "\n",
        "import seaborn\n",
        "\n",
        "import numpy as np\n",
        "from numpy import dot\n",
        "from numpy.linalg import norm"
      ],
      "metadata": {
        "id": "B_wTtw5XBIWl"
      },
      "execution_count": 7,
      "outputs": []
    },
    {
      "cell_type": "code",
      "source": [
        "# path_to_zip 함수로 파일 압축을 풀고, 편리하게 불러올 수 있다.\n",
        "path_to_zip = tf.keras.utils.get_file('synopsis.zip',\n",
        "    origin='https://aiffelstaticprd.blob.core.windows.net/media/documents/synopsis.zip',\n",
        "    extract=True)\n",
        "\n",
        "path_to_file = os.path.dirname(path_to_zip)\n",
        "print(path_to_file)"
      ],
      "metadata": {
        "id": "mnokjMIbHgf5",
        "colab": {
          "base_uri": "https://localhost:8080/"
        },
        "outputId": "f70a6e0d-3263-425e-d3f7-e20c0844691e"
      },
      "execution_count": 12,
      "outputs": [
        {
          "output_type": "stream",
          "name": "stdout",
          "text": [
            "/root/.keras/datasets\n"
          ]
        }
      ]
    },
    {
      "cell_type": "code",
      "source": [
        "with open('/root/.keras/datasets/synopsis.txt','r') as file:\n",
        "    for i in range(20):\n",
        "      print(file.readline(), end='')"
      ],
      "metadata": {
        "colab": {
          "base_uri": "https://localhost:8080/"
        },
        "id": "SB-bz5PL7_Ys",
        "outputId": "fb373523-bba3-4bd2-91ce-d735efae3e97"
      },
      "execution_count": 11,
      "outputs": [
        {
          "output_type": "stream",
          "name": "stdout",
          "text": [
            "사운드 엔지니어 상우(유지태 분)는 치매에 걸린 할머니(백성희 분)와\n",
            " 젊은 시절 상처한 한 아버지(박인환 분), 고모(신신애 분)와 함께 살고 있다.\n",
            " 어느 겨울 그는 지방 방송국 라디오 PD 은수(이영애 분)를 만난다.\n",
            " 자연의 소리를 채집해 틀어주는 라디오 프로그램을 준비하는 은수는 상우와 녹음 여행을 떠난다.\n",
            " 자연스레 가까워지는 두 사람은 어느 날, 은수의 아파트에서 밤을 보낸다.\n",
            " 너무 쉽게 사랑에 빠진 두 사람... 상우는 주체할 수 없을 정도로 그녀에게 빨려든다.\n",
            " 그러나 겨울에 만난 두 사람의 관계는 봄을 지나 여름을 맞이하면서 삐걱거린다.\n",
            " 이혼 경험이 있는 은수는 상우에게 결혼할 생각이 없다며 부담스러운 표정을 내비친다.\n",
            " \"어떻게 사랑이 변하니?...\"라고 묻는 상우에게 은수는 그저 \"헤어져\" 라고 단호하게 말한다.\n",
            " 영원히 변할 것 같지 않던 사랑이 변하고, 그 사실을 받아들이지 못하는 상우는 어찌 할 바를 모른다.\n",
            " 은수를 잊지 못하는 상우는 미련과 집착의 감정을 이기지 못하고 서울과 강릉을 오간다.\n",
            "유사 이래 연령, 성별, 빈부의 차이와 정치적인 입장을 불문하고 일거에 국민을 통합해 온 '애국심'이라는 성역에 일침을 가하는 다큐멘터리. 재작년 전국 민족민주 유가족협의회의 장기농성을 다룬 인상적인 다큐멘터리 <민들레>를 만들었던 독립영화집단 '빨간 눈사람'이 우리 사회 구석구석을 발빠르게 돌아다니며 애국심과 민족주의가 강요되는 현장을 발굴하여 카메라에 담았다. 박홍 서강대 명예총장, 이도형 '한국논단' 발행인, 축구해설자 신문선, 홍세화, 박노해 등 사회 각계의 '스타'들이 등장해 저마다의 확고한 신념을 성토한다. 감독 이경순과 최하동하는 이 작품을 위해 3년간 백여 명을 인터뷰했다고 한다. 2001 올해의 독립영화상 수상.\n",
            " 민족과 국가란 공동체에서 부단히 권력과 부를 얻는 자, 나아가 민족과 국가란 공동체에서 얻은 신분과 부귀를 영원히 그의 자손에게 대물림하려는 자, 그래서 민족과 국가란 공동체를 부단히 유지해야만 하는 자, 따라서 민족과 국가란 공동체의 당위성과 개인의 가치를 초월하는 그 존엄성을 끝도 없이 창조하고 되뇌어야 하는 자, 종국에는 민족과 국가란 공동체에 속해 있다고 태내에서부터 세뇌된 모든 이들의 삶과 행동에서 영원히 자기복제되는 순환의 고리, 영생하는 애국의 원동력은 그 순환의 골에서 온다.\n",
            "엽기적인 살인사건이 발생한 장소를 관광하는 투어팀. 그 팀에서 관광객들은 살인사건과 관련하여 히스테리컬한 반응을 보이는데 과연 이들의 정체는? (Tourists see whrer a murder take place. They respond hysterically to the murder…what are they?)\n",
            " 제46회 발라돌리드 국제영화제 (2001, 스페인)\n",
            "착하지만 엉뚱한 태희(배두나 분), 예쁜 깍쟁이 혜주(이요원 분), 그림을 잘 그리는 지영(옥지영 분), 명랑한 쌍둥이 비류(이은실 분)와 온조(이은주 분)는 단짝친구들. 늘 함께였던 그들이지만 스무 살이 되면서 길이 달라진다. 증권회사에 입사한 혜주는 성공한 커리어우먼의 야심을 키우고 미술에 재능이 있는 지영은 유학을 꿈꾼다. 한편 태희는 봉사활동에서 알게 된 뇌성마비 시인을 좋아하는데...\n",
            "  어느 날 지영이 길 잃은 새끼 고양이 티티를 만남면서 스무 살 그녀들의 삶에 고양이 한 마리가 끼어들게 된다. 혼자 있길 좋아하고, 쉽게 마음을 열지 않는 신비로운 동물 고양이. 고양이를 닮은 스무 살 그녀들. 고양이 티티와 함께 한 시간동안 삶은 예상못한 방향으로 흘러가지만 마침내 그녀들만의 해결책을 찾게 되는데... 사랑스런 몽상가 태희, 아름다운 야심가 혜주, 신비로운 아웃사이더 지영. 마지막으로 고양이를 부탁받은 사람은 누구일까?\n",
            "인도 등 아시아 식민지에 처음 발을 디딘 뒤 여행하고 “경영”한 이들은 과연 누구였을까? 과거의 이미지들은, 이민과 인종 문제, ‘오리엔탈리즘’이 격렬히 충돌하고 있는 현재와 강력하게 공명한다.\n",
            " [제19회 인디다큐페스티발]\n",
            "홀로 살아가는 미국 할머니와 한국 할머니의 이야기. 공원에서 가끔 마주치게 되는 그들은 비록 언어 소통의 어려움을 겪지만 시간이 흘러감에 따라 서로 가까워져 그들의 외로움과 우정을 공유하게 된다. 겨울이 지나고 봄이 왔을 때 길가의 민들레 홀씨는 삶의 이치를 말해주듯 한 할머니의 주위를 맴돈다. (Two elderly widows, an American and a Korean, frequent the same park in Philadelphia and attempt a friendship, though the Korean widow speaks no English. Driven by loneliness and a spark of hope, they persevere within the limits of body language, and the outcome poses a question of life as fundamental as a flower.)\n"
          ]
        }
      ]
    },
    {
      "cell_type": "code",
      "source": [
        "# 토큰화\n",
        "\n",
        "okt = Okt()\n",
        "tokenized = []\n",
        "with open('/root/.keras/datasets/synopsis.txt', 'r') as file:\n",
        "    while True:\n",
        "        line = file.readline()\n",
        "        if not line: break\n",
        "        words = okt.pos(line, stem=True, norm=True)\n",
        "        res = []\n",
        "        for w in words:\n",
        "            if w[1] in [\"Noun\"]: \n",
        "                res.append(w[0])\n",
        "        tokenized.append(res)"
      ],
      "metadata": {
        "id": "X0qn8qBe8eDO"
      },
      "execution_count": 13,
      "outputs": []
    },
    {
      "cell_type": "code",
      "source": [
        "print(len(tokenized))"
      ],
      "metadata": {
        "colab": {
          "base_uri": "https://localhost:8080/"
        },
        "id": "wschY-8f8npq",
        "outputId": "b5c30cf6-d23f-4c9a-f0cf-3a499174b808"
      },
      "execution_count": 14,
      "outputs": [
        {
          "output_type": "stream",
          "name": "stdout",
          "text": [
            "71156\n"
          ]
        }
      ]
    },
    {
      "cell_type": "markdown",
      "source": [
        "## 2. Modeling (Embedding Model)"
      ],
      "metadata": {
        "id": "pnxdflK383zf"
      }
    },
    {
      "cell_type": "code",
      "source": [
        "model = Word2Vec(tokenized, size=100, window=5, min_count=3, sg=0)\n",
        "model.most_similar(positive=['가족'])"
      ],
      "metadata": {
        "colab": {
          "base_uri": "https://localhost:8080/"
        },
        "id": "ZayuPoOr8pFH",
        "outputId": "40565122-563c-4325-eaf5-ff66e74e47cb"
      },
      "execution_count": 15,
      "outputs": [
        {
          "output_type": "execute_result",
          "data": {
            "text/plain": [
              "[('부모', 0.7126961946487427),\n",
              " ('어머니', 0.7070084810256958),\n",
              " ('자식', 0.6927177906036377),\n",
              " ('규호', 0.6924899816513062),\n",
              " ('하인리히', 0.6624774932861328),\n",
              " ('증조', 0.6599054336547852),\n",
              " ('자녀', 0.6556708812713623),\n",
              " ('형제', 0.655502200126648),\n",
              " ('무릅', 0.6421080827713013),\n",
              " ('화해', 0.6414533257484436)]"
            ]
          },
          "metadata": {},
          "execution_count": 15
        }
      ]
    },
    {
      "cell_type": "code",
      "source": [
        "model = Word2Vec(tokenized, size=100, window=5, min_count=3, sg=0)\n",
        "model.most_similar(positive=['사극'])"
      ],
      "metadata": {
        "colab": {
          "base_uri": "https://localhost:8080/"
        },
        "id": "gZ7ef-xe83X-",
        "outputId": "d62371bd-3ce0-47a1-cbaa-57cc657de3a2"
      },
      "execution_count": 16,
      "outputs": [
        {
          "output_type": "execute_result",
          "data": {
            "text/plain": [
              "[('디테일', 0.9802770614624023),\n",
              " ('만하', 0.9767768383026123),\n",
              " ('물씬', 0.9763075113296509),\n",
              " ('영화인', 0.9742345809936523),\n",
              " ('전반', 0.9727168679237366),\n",
              " ('그래픽', 0.9718895554542542),\n",
              " ('삽화', 0.9716793298721313),\n",
              " ('주제가', 0.9704302549362183),\n",
              " ('리얼리즘', 0.969849169254303),\n",
              " ('휴머니즘', 0.9698436260223389)]"
            ]
          },
          "metadata": {},
          "execution_count": 16
        }
      ]
    },
    {
      "cell_type": "code",
      "source": [
        "art_txt = 'synopsis_art.txt'\n",
        "gen_txt = 'synopsis_gen.txt'\n",
        "\n",
        "def read_token(file_name):\n",
        "    okt = Okt()\n",
        "    result = []\n",
        "    with open('/root/.keras/datasets/'+file_name, 'r') as fread: \n",
        "        print(file_name, '파일을 읽\b는 중입니다.')\n",
        "        while True:\n",
        "            line = fread.readline() \n",
        "            if not line: break \n",
        "            tokenlist = okt.pos(line, stem=True, norm=True) \n",
        "            for word in tokenlist:\n",
        "                if word[1] in [\"Noun\"]:\n",
        "                    result.append((word[0])) \n",
        "    return ' '.join(result)"
      ],
      "metadata": {
        "id": "_qcK573B9Knx"
      },
      "execution_count": 17,
      "outputs": []
    },
    {
      "cell_type": "code",
      "source": [
        "art = read_token(art_txt)  # 예술 영화\n",
        "gen = read_token(gen_txt)  # 일반 영화\n",
        "\n",
        "print(type(art), type(gen))\n",
        "print(len(art), len(gen))"
      ],
      "metadata": {
        "colab": {
          "base_uri": "https://localhost:8080/"
        },
        "id": "P4m0SAOy9knt",
        "outputId": "4d293d4a-da47-48e8-98e1-0de5359729b7"
      },
      "execution_count": 18,
      "outputs": [
        {
          "output_type": "stream",
          "name": "stdout",
          "text": [
            "synopsis_art.txt 파일을 읽\b는 중입니다.\n",
            "synopsis_gen.txt 파일을 읽\b는 중입니다.\n",
            "<class 'str'> <class 'str'>\n",
            "620208 3014815\n"
          ]
        }
      ]
    },
    {
      "cell_type": "code",
      "source": [
        "# art_txt, gen_txt에서 각각 50번째까지 글자 데이터\n",
        "\n",
        "print(art[:50])\n",
        "print(gen[:50])"
      ],
      "metadata": {
        "colab": {
          "base_uri": "https://localhost:8080/"
        },
        "id": "yyQegw8W9ocH",
        "outputId": "4f97c769-9a73-4eeb-86af-e35ab57c5e5f"
      },
      "execution_count": 20,
      "outputs": [
        {
          "output_type": "stream",
          "name": "stdout",
          "text": [
            "사운드 엔지니어 상우 유지태 분 치매 할머니 백성희 분 시절 상처 아버지 박인환 분 고모 \n",
            "유사 연령 성별 빈부 차이 정치 입장 불문 국민 통합 온 애국심 성역 일침 다큐멘터리 재작\n"
          ]
        }
      ]
    },
    {
      "cell_type": "code",
      "source": [
        "# TF-IDF Vocab Set\n",
        "\n",
        "vectorizer = TfidfVectorizer()\n",
        "X = vectorizer.fit_transform([art, gen])\n",
        "\n",
        "print(X.shape)"
      ],
      "metadata": {
        "colab": {
          "base_uri": "https://localhost:8080/"
        },
        "id": "zsLhQ5cB9vkX",
        "outputId": "d28839d0-bd30-40c9-f347-be5e7563e03a"
      },
      "execution_count": 21,
      "outputs": [
        {
          "output_type": "stream",
          "name": "stdout",
          "text": [
            "(2, 41082)\n"
          ]
        }
      ]
    },
    {
      "cell_type": "code",
      "source": [
        "m1 = X[0].tocoo()   # art를 TF-IDF로 표현한 sparse matrix\n",
        "m2 = X[1].tocoo()   # gen을 TF-IDF로 표현한 sparse matrix\n",
        "\n",
        "w1 = [[i, j] for i, j in zip(m1.col, m1.data)]\n",
        "w2 = [[i, j] for i, j in zip(m2.col, m2.data)]\n",
        "\n",
        "w1.sort(key=lambda x: x[1], reverse=True)   #art를 구성하는 단어들을 TF-IDF가 높은 순으로 정렬\n",
        "w2.sort(key=lambda x: x[1], reverse=True)   #gen을 구성하는 단어들을 TF-IDF가 높은 순으로 정렬\n",
        "\n",
        "print('예술영화를 대표하는 단어 목록:')\n",
        "for i in range(100):\n",
        "    print(vectorizer.get_feature_names()[w1[i][0]], end=', ')\n",
        "\n",
        "print('\\n')\n",
        "    \n",
        "print('일반영화를 대표하는 단어 목록:')\n",
        "for i in range(100):\n",
        "    print(vectorizer.get_feature_names()[w2[i][0]], end=', ')"
      ],
      "metadata": {
        "colab": {
          "base_uri": "https://localhost:8080/"
        },
        "id": "7aFkzg4f95V9",
        "outputId": "18554ed1-b39f-4c66-e13f-a98ee4254e32"
      },
      "execution_count": 22,
      "outputs": [
        {
          "output_type": "stream",
          "name": "stdout",
          "text": [
            "예술영화를 대표하는 단어 목록:\n",
            "그녀, 자신, 시작, 위해, 사랑, 사람, 영화, 친구, 남자, 가족, 이야기, 마을, 사건, 마음, 세상, 아버지, 아이, 엄마, 모든, 여자, 대한, 서로, 과연, 다시, 시간, 아들, 소녀, 아내, 다른, 사이, 영화제, 세계, 사실, 하나, 점점, 남편, 감독, 여행, 인생, 발견, 모두, 순간, 우리, 가장, 마지막, 생활, 아빠, 모습, 통해, 죽음, 기억, 비밀, 학교, 음악, 한편, 소년, 생각, 도시, 명의, 사고, 결혼, 전쟁, 때문, 위기, 이제, 최고, 이자, 과거, 일상, 경찰, 상황, 간다, 미국, 결심, 운명, 현실, 관계, 지금, 단편, 여인, 하루, 이름, 이후, 준비, 인간, 감정, 만난, 국제, 처음, 충격, 살인, 누구, 동안, 존재, 그린, 어머니, 연인, 계속, 동생, 작품, \n",
            "\n",
            "일반영화를 대표하는 단어 목록:\n",
            "자신, 그녀, 영화제, 위해, 사람, 시작, 국제, 영화, 친구, 사랑, 남자, 이야기, 대한, 서울, 여자, 사건, 남편, 아이, 가족, 아버지, 다른, 마을, 시간, 엄마, 아들, 모든, 단편, 마음, 사실, 다시, 세계, 모습, 작품, 통해, 생각, 서로, 세상, 발견, 감독, 아내, 관계, 소녀, 사이, 하나, 우리, 애니메이션, 때문, 여성, 죽음, 과연, 점점, 인간, 생활, 한편, 결혼, 상황, 모두, 기억, 명의, 소년, 여행, 가장, 간다, 순간, 이제, 도시, 비밀, 학교, 과거, 가지, 이자, 경찰, 마지막, 미국, 동안, 전쟁, 주인공, 대해, 존재, 현실, 연출, 사고, 살인, 일상, 어머니, 계속, 사회, 인생, 다큐멘터리, 부문, 섹스, 최고, 바로, 동생, 의도, 하루, 위기, 계획, 정체, 한국, "
          ]
        }
      ]
    },
    {
      "cell_type": "code",
      "source": [
        "# 중복단어 제거\n",
        "n = 30\n",
        "w1_, w2_ = [], []\n",
        "for i in range(100):\n",
        "    w1_.append(vectorizer.get_feature_names()[w1[i][0]])\n",
        "    w2_.append(vectorizer.get_feature_names()[w2[i][0]])\n",
        "\n",
        "# w1에만 있고 w2에는 없는, 예술영화를 잘 대표하는 단어를 30개 추출\n",
        "target_art, target_gen = [], []\n",
        "for i in range(100):\n",
        "    if (w1_[i] not in w2_) and (w1_[i] in model.wv): \n",
        "        target_art.append(w1_[i])\n",
        "        \n",
        "    if len(target_art) == n: \n",
        "        break \n",
        "\n",
        "# w2에만 있고 w1에는 없는, 일반영화를 잘 대표하는 단어를 30개 추출\n",
        "for i in range(100):\n",
        "    if (w2_[i] not in w1_) and (w2_[i] in model.wv): \n",
        "        target_gen.append(w2_[i])\n",
        "        \n",
        "    if len(target_gen) == n: \n",
        "        break"
      ],
      "metadata": {
        "id": "0Xwx8wyb-ERS"
      },
      "execution_count": 23,
      "outputs": []
    },
    {
      "cell_type": "code",
      "source": [
        "len(w1_), len(w2_)\n",
        "\n",
        "print(target_art)\n",
        "print(target_gen)"
      ],
      "metadata": {
        "colab": {
          "base_uri": "https://localhost:8080/"
        },
        "id": "hVW2JI17-PCt",
        "outputId": "2b00a843-945a-4104-dc18-a07c0603d503"
      },
      "execution_count": 24,
      "outputs": [
        {
          "output_type": "stream",
          "name": "stdout",
          "text": [
            "['아빠', '음악', '결심', '운명', '지금', '여인', '이름', '이후', '준비', '감정', '만난', '처음', '충격', '누구', '그린', '연인']\n",
            "['서울', '애니메이션', '여성', '가지', '주인공', '대해', '연출', '사회', '다큐멘터리', '부문', '섹스', '바로', '의도', '계획', '정체', '한국']\n"
          ]
        }
      ]
    },
    {
      "cell_type": "code",
      "source": [
        "# 장르별 파일들 로드\n",
        "genre_txt = ['synopsis_SF.txt', 'synopsis_family.txt', 'synopsis_show.txt', 'synopsis_horror.txt', 'synopsis_etc.txt', \n",
        "             'synopsis_documentary.txt', 'synopsis_drama.txt', 'synopsis_romance.txt', 'synopsis_musical.txt', \n",
        "             'synopsis_mystery.txt', 'synopsis_crime.txt', 'synopsis_historical.txt', 'synopsis_western.txt', \n",
        "             'synopsis_adult.txt', 'synopsis_thriller.txt', 'synopsis_animation.txt', 'synopsis_action.txt', \n",
        "             'synopsis_adventure.txt', 'synopsis_war.txt', 'synopsis_comedy.txt', 'synopsis_fantasy.txt']\n",
        "\n",
        "genre_name = ['SF', '가족', '공연', '공포(호러)', '기타', '다큐멘터리', '드라마', '멜로로맨스', '뮤지컬', '미스터리', '범죄', '사극', '서부극(웨스턴)',\n",
        "         '성인물(에로)', '스릴러', '애니메이션', '액션', '어드벤처', '전쟁', '코미디', '판타지']\n",
        "\n",
        "genre = []\n",
        "for file_name in genre_txt:\n",
        "    genre.append(read_token(file_name))\n",
        "\n",
        "print(len(genre))\n",
        "\n",
        "# TF-IDF Vocab Set\n",
        "vectorizer = TfidfVectorizer()\n",
        "X = vectorizer.fit_transform(genre)\n",
        "\n",
        "print(X.shape)\n",
        "\n",
        "# 각 장르별 대표단어 추출\n",
        "m = [X[i].tocoo() for i in range(X.shape[0])]\n",
        "\n",
        "w = [[[i, j] for i, j in zip(mm.col, mm.data)] for mm in m]\n",
        "\n",
        "for i in range(len(w)):\n",
        "    w[i].sort(key=lambda x: x[1], reverse=True)\n",
        "attributes = []\n",
        "for i in range(len(w)):\n",
        "    print(genre_name[i], end=': ')\n",
        "    attr = []\n",
        "    j = 0\n",
        "    while (len(attr) < 15):\n",
        "        if vectorizer.get_feature_names()[w[i][j][0]] in model.wv:\n",
        "            attr.append(vectorizer.get_feature_names()[w[i][j][0]])\n",
        "            print(vectorizer.get_feature_names()[w[i][j][0]], end=', ')\n",
        "        j += 1\n",
        "    attributes.append(attr)\n",
        "    print()"
      ],
      "metadata": {
        "colab": {
          "base_uri": "https://localhost:8080/"
        },
        "id": "BuxrXXf2-U1T",
        "outputId": "954660f0-a6f8-431c-84a2-b4dab19e8f64"
      },
      "execution_count": 25,
      "outputs": [
        {
          "output_type": "stream",
          "name": "stdout",
          "text": [
            "synopsis_SF.txt 파일을 읽\b는 중입니다.\n",
            "synopsis_family.txt 파일을 읽\b는 중입니다.\n",
            "synopsis_show.txt 파일을 읽\b는 중입니다.\n",
            "synopsis_horror.txt 파일을 읽\b는 중입니다.\n",
            "synopsis_etc.txt 파일을 읽\b는 중입니다.\n",
            "synopsis_documentary.txt 파일을 읽\b는 중입니다.\n",
            "synopsis_drama.txt 파일을 읽\b는 중입니다.\n",
            "synopsis_romance.txt 파일을 읽\b는 중입니다.\n",
            "synopsis_musical.txt 파일을 읽\b는 중입니다.\n",
            "synopsis_mystery.txt 파일을 읽\b는 중입니다.\n",
            "synopsis_crime.txt 파일을 읽\b는 중입니다.\n",
            "synopsis_historical.txt 파일을 읽\b는 중입니다.\n",
            "synopsis_western.txt 파일을 읽\b는 중입니다.\n",
            "synopsis_adult.txt 파일을 읽\b는 중입니다.\n",
            "synopsis_thriller.txt 파일을 읽\b는 중입니다.\n",
            "synopsis_animation.txt 파일을 읽\b는 중입니다.\n",
            "synopsis_action.txt 파일을 읽\b는 중입니다.\n",
            "synopsis_adventure.txt 파일을 읽\b는 중입니다.\n",
            "synopsis_war.txt 파일을 읽\b는 중입니다.\n",
            "synopsis_comedy.txt 파일을 읽\b는 중입니다.\n",
            "synopsis_fantasy.txt 파일을 읽\b는 중입니다.\n",
            "21\n",
            "(21, 42191)\n",
            "SF: 위해, 자신, 지구, 시작, 사람, 인류, 인간, 미래, 우주, 그녀, 로봇, 세계, 모든, 박사, 우주선, \n",
            "가족: 엄마, 아빠, 가족, 영화제, 자신, 위해, 친구, 아주르, 아버지, 시작, 그녀, 아들, 마을, 국제, 낙타, \n",
            "공연: 오페라, 사랑, 토스카, 실황, 올레, 자신, 카바, 그녀, 공연, 오텔로, 리골레토, 백작, 프레, 베르디, 위해, \n",
            "공포(호러): 시작, 위해, 사람, 자신, 친구, 그녀, 사건, 공포, 발견, 죽음, 마을, 가족, 악령, 남자, 좀비, \n",
            "기타: 영화제, 국제, 서울, 단편, 영화, 자신, 사람, 이야기, 그녀, 남자, 위해, 시작, 사랑, 뉴미디어, 페스티벌, \n",
            "다큐멘터리: 영화제, 영화, 다큐, 국제, 다큐멘터리, 사람, 이야기, 대한, 자신, 감독, 위해, 서울, 우리, 시작, 세계, \n",
            "드라마: 자신, 영화제, 그녀, 사람, 사랑, 영화, 위해, 시작, 국제, 남자, 친구, 이야기, 엄마, 여자, 아버지, \n",
            "멜로로맨스: 그녀, 사랑, 자신, 시작, 남편, 남자, 여자, 사람, 친구, 섹스, 위해, 마음, 결혼, 서로, 아내, \n",
            "뮤지컬: 뮤지컬, 사랑, 에스메랄다, 그녀, 음악, 충무로, 모차르트, 영화, 토스카, 자신, 니웨, 카바, 영화제, 바흐, 페뷔스, \n",
            "미스터리: 사건, 그녀, 시작, 자신, 위해, 사람, 발견, 사고, 진실, 죽음, 기억, 살인, 친구, 아내, 남자, \n",
            "범죄: 사건, 위해, 자신, 경찰, 시작, 그녀, 범죄, 조직, 살인, 사람, 마약, 형사, 남자, 모든, 살해, \n",
            "사극: 조선, 위해, 시작, 신기전, 사랑, 자신, 아가멤논, 황제, 그녀, 루안, 최고, 운명, 사람, 하선, 전쟁, \n",
            "서부극(웨스턴): 서부, 보안관, 위해, 벌린, 카우보이, 그레이프바인, 헨리, 마을, 자신, 개릿, 아이, 시작, 무법자, 프린트, 마적, \n",
            "성인물(에로): 그녀, 남편, 마사지, 자신, 섹스, 관계, 영화, 정사, 남자, 위해, 시작, 여자, 유부녀, 마음, 사랑, \n",
            "스릴러: 자신, 그녀, 사건, 시작, 위해, 사람, 살인, 남자, 발견, 아내, 경찰, 친구, 모든, 사실, 살해, \n",
            "애니메이션: 애니메이션, 국제, 영화제, 친구, 인디애니페스트, 위해, 자신, 시작, 사람, 페스티벌, 서울, 이야기, 아이, 마을, 소녀, \n",
            "액션: 위해, 자신, 시작, 조직, 사건, 사람, 그녀, 경찰, 전쟁, 모든, 목숨, 사실, 친구, 가족, 요원, \n",
            "어드벤처: 위해, 자신, 시작, 친구, 마을, 아버지, 영화, 아이, 사람, 여행, 세계, 앤트, 세상, 가족, 모험, \n",
            "전쟁: 전쟁, 독일군, 전투, 위해, 작전, 시작, 부대, 윈터스, 독일, 연합군, 미군, 임무, 자신, 사람, 나치, \n",
            "코미디: 그녀, 자신, 시작, 위해, 사랑, 사람, 친구, 영화, 남자, 여자, 영화제, 가족, 과연, 마을, 사건, \n",
            "판타지: 자신, 그녀, 시작, 위해, 사람, 사랑, 요괴, 영화제, 이야기, 영화, 소녀, 남자, 인간, 세상, 마을, \n"
          ]
        }
      ]
    },
    {
      "cell_type": "code",
      "source": [
        "# WEAT SCORE\n",
        "\n",
        "# 1. Word Embedding의 유사도를 측정하여 단어를 분류하거나 편향성을 측정한다.\n",
        "# 2. 유사도 측정은 코싸인 유사도를 사용한다.\n",
        "# 3. 편향값은 -2에서 2 사이의 값을 가진다. 이를 정규화하면 최종 WEAT SCORE가 나온다.\n",
        "\n",
        "target_X = {\n",
        "    '사랑':[2.8,  4.2, 4.3,  0.3, 5.0],\n",
        "    '행복':[3.8,  3. , -1.2,  4.4, 4.9],\n",
        "    '웃음':[3.7, -0.3,  1.2, -2.5, 3.9]\n",
        "}\n",
        "target_Y = {\n",
        "    '재난': [-0.2, -2.8, -4.7, -4.3, -4.7],\n",
        "    '고통': [-4.5, -2.1,  -3.8, -3.6, -3.1],\n",
        "    '증오': [-3.6, -3.3, -3.5,  -3.7, -4.4]\n",
        "}\n",
        "\n",
        "attribute_A = {\n",
        "    '장미': [4.1, 1.2, -2.4, 0.5, 4.1],\n",
        "    '튤립': [3.1, 0.5, 3.6, 1.7, 5.8],\n",
        "    '백합': [2.9, -1.3, 0.4, 1.1, 3.7],\n",
        "    '데이지': [5.4, 2.5, 4.6, -1.0, 3.6]\n",
        "}\n",
        "attribute_B = {\n",
        "    '거미': [-1.5, 0.2, -0.6, -4.6, -5.3],\n",
        "    '모기': [0.4, 0.7, -1.9, -4.5, -2.9],\n",
        "    '파리': [0.9, 1.4, -2.3, -3.9, -4.7],\n",
        "    '메뚜기': [0.7, 0.9, -0.4, -4.1, -3.9]\n",
        "}\n",
        "\n",
        "## target_x, y\n",
        "X = np.array([v for v in target_X.values()])\n",
        "Y = np.array([v for v in target_Y.values()])\n",
        "print(X)\n",
        "print(Y)\n",
        "\n",
        "# attribute a, b\n",
        "A = np.array([v for v in attribute_A.values()])\n",
        "B = np.array([v for v in attribute_B.values()])\n",
        "print(A)\n",
        "print(B)"
      ],
      "metadata": {
        "colab": {
          "base_uri": "https://localhost:8080/"
        },
        "id": "OqKZiAgy-ZKb",
        "outputId": "d6eb7e2d-e06c-4172-839d-e95274e83854"
      },
      "execution_count": 33,
      "outputs": [
        {
          "output_type": "stream",
          "name": "stdout",
          "text": [
            "[[ 2.8  4.2  4.3  0.3  5. ]\n",
            " [ 3.8  3.  -1.2  4.4  4.9]\n",
            " [ 3.7 -0.3  1.2 -2.5  3.9]]\n",
            "[[-0.2 -2.8 -4.7 -4.3 -4.7]\n",
            " [-4.5 -2.1 -3.8 -3.6 -3.1]\n",
            " [-3.6 -3.3 -3.5 -3.7 -4.4]]\n",
            "[[ 4.1  1.2 -2.4  0.5  4.1]\n",
            " [ 3.1  0.5  3.6  1.7  5.8]\n",
            " [ 2.9 -1.3  0.4  1.1  3.7]\n",
            " [ 5.4  2.5  4.6 -1.   3.6]]\n",
            "[[-1.5  0.2 -0.6 -4.6 -5.3]\n",
            " [ 0.4  0.7 -1.9 -4.5 -2.9]\n",
            " [ 0.9  1.4 -2.3 -3.9 -4.7]\n",
            " [ 0.7  0.9 -0.4 -4.1 -3.9]]\n"
          ]
        }
      ]
    },
    {
      "cell_type": "code",
      "source": [
        "def cos_sim(i, j):\n",
        "    return dot(i, j.T)/(norm(i)*norm(j))\n",
        "\n",
        "def s(w, A, B):\n",
        "    c_a = cos_sim(w, A)\n",
        "    c_b = cos_sim(w, B)\n",
        "    mean_A = np.mean(c_a, axis=-1)\n",
        "    mean_B = np.mean(c_b, axis=-1)\n",
        "    return mean_A - mean_B  #, c_a, c_b\n",
        "\n",
        "print(s(target_X['웃음'], A, B))\n",
        "print(s(target_Y['증오'], A, B))"
      ],
      "metadata": {
        "colab": {
          "base_uri": "https://localhost:8080/"
        },
        "id": "VEejYFOOAq7h",
        "outputId": "05782c8c-84f3-41a9-ef82-c73464cbc405"
      },
      "execution_count": 35,
      "outputs": [
        {
          "output_type": "stream",
          "name": "stdout",
          "text": [
            "0.45992664921259363\n",
            "-0.7037872506314451\n"
          ]
        }
      ]
    },
    {
      "cell_type": "code",
      "source": [
        "# 평균값 계산 (target x-y, attribute a-b)\n",
        "print(s(X, A, B))\n",
        "print(round(np.mean(s(X, A, B)), 3))\n",
        "\n",
        "print(s(Y, A, B))\n",
        "print(round(np.mean(s(Y, A, B)), 3))\n",
        "\n",
        "def weat_score(X, Y, A, B):\n",
        "    \n",
        "    s_X = s(X, A, B) # x의 편향\n",
        "    s_Y = s(Y, A, B) # y의 편향 \n",
        "\n",
        "    mean_X = np.mean(s_X)\n",
        "    mean_Y = np.mean(s_Y)\n",
        "    \n",
        "    std_dev = np.std(np.concatenate([s_X, s_Y], axis=0))\n",
        "    \n",
        "    return  (mean_X-mean_Y)/std_dev\n",
        "\n",
        "# WEAT score\n",
        "print(round(weat_score(X, Y, A, B), 3))"
      ],
      "metadata": {
        "colab": {
          "base_uri": "https://localhost:8080/"
        },
        "id": "jZtSaLDsAuSz",
        "outputId": "27398637-9d61-4305-e67c-0193620d29e0"
      },
      "execution_count": 36,
      "outputs": [
        {
          "output_type": "stream",
          "name": "stdout",
          "text": [
            "[0.37181942 0.41632807 0.21117431]\n",
            "0.333\n",
            "[-0.39609272 -0.37389852 -0.41242037]\n",
            "-0.394\n",
            "1.97\n"
          ]
        }
      ]
    },
    {
      "cell_type": "code",
      "source": [
        "# Visualization\n",
        "\n",
        "from sklearn.decomposition import PCA\n",
        "pca = PCA(n_components=2)\n",
        "pc_A = pca.fit_transform(A)\n",
        "pc_B = pca.fit_transform(B)\n",
        "pc_X = pca.fit_transform(X)\n",
        "pc_Y = pca.fit_transform(Y)\n",
        "\n",
        "import matplotlib.pyplot as plt\n",
        "fig, ax = plt.subplots()\n",
        "## attribute a-b\n",
        "ax.scatter(pc_A[:,0],pc_A[:,1], c='yellow', label='A')\n",
        "ax.scatter(pc_B[:,0],pc_B[:,1], c='blue', label='B')\n",
        "## target x-y\n",
        "ax.scatter(pc_X[:,0],pc_X[:,1], c='green', label='X')\n",
        "ax.scatter(pc_Y[:,0],pc_Y[:,1], c='black', label='Y')\n",
        "\n",
        "## x-a(green-yellow) / y-b(black-blue)가 서로 가깝게 위치해 있다."
      ],
      "metadata": {
        "colab": {
          "base_uri": "https://localhost:8080/",
          "height": 282
        },
        "id": "xwEdWYuvB8aA",
        "outputId": "91f04baf-8644-4db8-d995-8c9e77dd63fe"
      },
      "execution_count": 38,
      "outputs": [
        {
          "output_type": "execute_result",
          "data": {
            "text/plain": [
              "<matplotlib.collections.PathCollection at 0x7f0fdc03cd90>"
            ]
          },
          "metadata": {},
          "execution_count": 38
        },
        {
          "output_type": "display_data",
          "data": {
            "text/plain": [
              "<Figure size 432x288 with 1 Axes>"
            ],
            "image/png": "[encoded data removed]"
          },
          "metadata": {
            "needs_background": "light"
          }
        }
      ]
    },
    {
      "cell_type": "code",
      "source": [
        "# attribute A : '드라마'\n",
        "# attribute B : '액션'\n",
        "# target X : art, 예술영화\n",
        "# target Y : gen, 일반영화\n",
        "\n",
        "## 구현결과를 담을 matrix (21x21)\n",
        "matrix = [[0 for _ in range(len(genre_name))] for _ in range(len(genre_name))]\n",
        "\n",
        "A = np.array([model.wv[word] for word in target_art])\n",
        "B = np.array([model.wv[word] for word in target_gen])\n",
        "\n",
        "for i in range(len(genre_name)-1):\n",
        "    for j in range(i+1, len(genre_name)):\n",
        "        X = np.array([model.wv[word] for word in attributes[i]])\n",
        "        Y = np.array([model.wv[word] for word in attributes[j]])\n",
        "        matrix[i][j] = weat_score(X, Y, A, B)\n",
        "\n",
        "for i in range(len(genre_name)-1):\n",
        "    for j in range(i+1, len(genre_name)):\n",
        "        if matrix[i][j] > 1.1 or matrix[i][j] < -1.1:\n",
        "            print(genre_name[i],genre_name[j],matrix[i][j])\n",
        "\n",
        "np.random.seed(0)\n",
        "\n",
        "# Visualization\n",
        "## Source: https://rfriend.tistory.com/419, https://mingchin.tistory.com/80?category=971417\n",
        "\n",
        "import seaborn as sns; \n",
        "\n",
        "plt.rc(\"font\", family = \"Malgun Gothic\")\n",
        "sns.set(font=\"Malgun Gothic\",\n",
        "rc={\"axes.unicode_minus\":False}, style='darkgrid')\n",
        "ax = sns.heatmap(matrix, xticklabels=genre_name, yticklabels=genre_name, annot=True,  cmap='RdYlGn_r')\n",
        "ax\n",
        "\n",
        "# 색깔 분포와 아래 수치를 보면 멜로로맨스류가 가장 편향값이 높다."
      ],
      "metadata": {
        "colab": {
          "base_uri": "https://localhost:8080/",
          "height": 623
        },
        "id": "MoPpY7sVCHOD",
        "outputId": "057e90bd-ab4e-4d55-fa91-0c76a43d4ad9"
      },
      "execution_count": 52,
      "outputs": [
        {
          "output_type": "stream",
          "name": "stderr",
          "text": [
            "findfont: Font family ['Malgun Gothic'] not found. Falling back to DejaVu Sans.\n"
          ]
        },
        {
          "output_type": "stream",
          "name": "stdout",
          "text": [
            "SF 멜로로맨스 -1.37173\n",
            "공포(호러) 다큐멘터리 1.1574864\n",
            "기타 멜로로맨스 -1.2170857\n",
            "다큐멘터리 멜로로맨스 -1.5356116\n",
            "다큐멘터리 미스터리 -1.3113083\n",
            "다큐멘터리 성인물(에로) -1.3223479\n",
            "다큐멘터리 스릴러 -1.2176847\n",
            "멜로로맨스 뮤지컬 1.1301728\n",
            "멜로로맨스 범죄 1.239678\n",
            "멜로로맨스 서부극(웨스턴) 1.1959556\n",
            "멜로로맨스 애니메이션 1.2504267\n",
            "멜로로맨스 액션 1.161332\n",
            "멜로로맨스 전쟁 1.4724622\n",
            "미스터리 전쟁 1.1169102\n",
            "성인물(에로) 전쟁 1.1411737\n"
          ]
        },
        {
          "output_type": "execute_result",
          "data": {
            "text/plain": [
              "<matplotlib.axes._subplots.AxesSubplot at 0x7f0fda6371d0>"
            ]
          },
          "metadata": {},
          "execution_count": 52
        },
        {
          "output_type": "stream",
          "name": "stderr",
          "text": [
            "findfont: Font family ['Malgun Gothic'] not found. Falling back to DejaVu Sans.\n"
          ]
        },
        {
          "output_type": "display_data",
          "data": {
            "text/plain": [
              "<Figure size 432x288 with 2 Axes>"
            ],
            "image/png": "[encoded data removed]"
          },
          "metadata": {}
        }
      ]
    },
    {
      "cell_type": "markdown",
      "source": [
        "## 3. Project Retrospective\n",
        "\n",
        "+ 바로 위에 있는 한글 깨짐을 해결하려고 다양한 코드를 시도했는데 해결하지 못했다. Colab 자체의 문제인가 싶다. 그래도 데이터셋을 다운로드나 저장 없이 바로 압축을 풀어서 진행한 것은 꽤 쾌적한 느낌을 받았다.\n",
        "+ 데이터 편향을 평가하고, 이해할 수 있는 지표가 있다는 건 신기하다.\n",
        "+ 예시 데이터(곤충, 꽃)를 생성하는 방법에 대해 조금 더 공부하고 싶다. 조금 더 내가 좋아하는 단어들로 다르게 표현하고 싶었는데 그 부분을 구현하지 못한 것은 아쉽다.\n",
        "+ 이렇게 중복 데이터가 많은 데이터셋에서, 중복을 얼마나 덜어낼 것이냐는 오롯이 데이터 엔지니어의 몫일텐데 그 '정도'를 측정하려면 꽤나 머리가 아플듯 하다."
      ],
      "metadata": {
        "id": "mJFVcdTYJrlS"
      }
    }
  ]
}