{
 "cells": [
  {
   "cell_type": "markdown",
   "id": "72c47c0b",
   "metadata": {},
   "source": [
    "# [E-12] Interactive Chatbot\n",
    "\"Exploration Node 12. Making Interactive Chatbot\" / 2022. 02. 22 (Tue) 이형주\n",
    "\n",
    "## Contents\n",
    "---\n",
    "- **1. Environment Setup & Data Pre-Processing**\n",
    "- **2. Teacher Forcing & Model Training**\n",
    "- **3. Model Evaluation**\n",
    "- **4. Project Retrospective**\n",
    "\n",
    "## Rubric 평가기준\n",
    "---\n",
    "\n",
    "|  평가문항  |  상세기준  |\n",
    "|:---------|:---------|\n",
    "|1. 한국어 전처리를 통해 학습 데이터셋을 구축하였다.|공백과 특수문자 처리, 토크나이징, 병렬데이터 구축의 과정이 적절히 진행되었다.\n",
    "|2. 트랜스포머 모델을 구현하여 한국어 챗봇 모델 학습을 정상적으로 진행하였다.|구현한 트랜스포머 모델이 한국어 병렬 데이터 학습 시 안정적으로 수렴하였다.\n",
    "|3. 한국어 입력문장에 대해 한국어로 답변하는 함수를 구현하였다.|한국어 입력문장에 그럴듯한 한국어로 답변을 리턴하였다."
   ]
  },
  {
   "cell_type": "markdown",
   "id": "3190cc23",
   "metadata": {},
   "source": [
    "## 1. Environment Setup & Model Preparations"
   ]
  },
  {
   "cell_type": "code",
   "execution_count": 1,
   "id": "713bf844",
   "metadata": {},
   "outputs": [],
   "source": [
    "# Data Preparation\n",
    "\n",
    "import tensorflow as tf\n",
    "import tensorflow_datasets as tfds\n",
    "import os\n",
    "import re\n",
    "import numpy as np\n",
    "import matplotlib.pyplot as plt\n",
    "import pandas as pd"
   ]
  },
  {
   "cell_type": "code",
   "execution_count": 2,
   "id": "5a711941",
   "metadata": {},
   "outputs": [
    {
     "data": {
      "text/plain": [
       "Q        0\n",
       "A        0\n",
       "label    0\n",
       "dtype: int64"
      ]
     },
     "execution_count": 2,
     "metadata": {},
     "output_type": "execute_result"
    }
   ],
   "source": [
    "# Data Load\n",
    "\n",
    "file_path = os.getenv('HOME')+'/aiffel/[E-12] Interactive Chatbot/ChatbotData.csv'\n",
    "file_path\n",
    "\n",
    "data = pd.read_csv(file_path)\n",
    "\n",
    "# Missing Value\n",
    "data.isnull().sum() ## None"
   ]
  },
  {
   "cell_type": "code",
   "execution_count": 3,
   "id": "0ae9ce2a",
   "metadata": {},
   "outputs": [
    {
     "data": {
      "text/html": [
       "<div>\n",
       "<style scoped>\n",
       "    .dataframe tbody tr th:only-of-type {\n",
       "        vertical-align: middle;\n",
       "    }\n",
       "\n",
       "    .dataframe tbody tr th {\n",
       "        vertical-align: top;\n",
       "    }\n",
       "\n",
       "    .dataframe thead th {\n",
       "        text-align: right;\n",
       "    }\n",
       "</style>\n",
       "<table border=\"1\" class=\"dataframe\">\n",
       "  <thead>\n",
       "    <tr style=\"text-align: right;\">\n",
       "      <th></th>\n",
       "      <th>Q</th>\n",
       "      <th>A</th>\n",
       "      <th>label</th>\n",
       "    </tr>\n",
       "  </thead>\n",
       "  <tbody>\n",
       "    <tr>\n",
       "      <th>0</th>\n",
       "      <td>12시 땡!</td>\n",
       "      <td>하루가 또 가네요.</td>\n",
       "      <td>0</td>\n",
       "    </tr>\n",
       "    <tr>\n",
       "      <th>1</th>\n",
       "      <td>1지망 학교 떨어졌어</td>\n",
       "      <td>위로해 드립니다.</td>\n",
       "      <td>0</td>\n",
       "    </tr>\n",
       "    <tr>\n",
       "      <th>2</th>\n",
       "      <td>3박4일 놀러가고 싶다</td>\n",
       "      <td>여행은 언제나 좋죠.</td>\n",
       "      <td>0</td>\n",
       "    </tr>\n",
       "    <tr>\n",
       "      <th>3</th>\n",
       "      <td>3박4일 정도 놀러가고 싶다</td>\n",
       "      <td>여행은 언제나 좋죠.</td>\n",
       "      <td>0</td>\n",
       "    </tr>\n",
       "    <tr>\n",
       "      <th>4</th>\n",
       "      <td>PPL 심하네</td>\n",
       "      <td>눈살이 찌푸려지죠.</td>\n",
       "      <td>0</td>\n",
       "    </tr>\n",
       "  </tbody>\n",
       "</table>\n",
       "</div>"
      ],
      "text/plain": [
       "                 Q            A  label\n",
       "0           12시 땡!   하루가 또 가네요.      0\n",
       "1      1지망 학교 떨어졌어    위로해 드립니다.      0\n",
       "2     3박4일 놀러가고 싶다  여행은 언제나 좋죠.      0\n",
       "3  3박4일 정도 놀러가고 싶다  여행은 언제나 좋죠.      0\n",
       "4          PPL 심하네   눈살이 찌푸려지죠.      0"
      ]
     },
     "execution_count": 3,
     "metadata": {},
     "output_type": "execute_result"
    }
   ],
   "source": [
    "# Data Structures (Q&A Type)\n",
    "data.head()"
   ]
  },
  {
   "cell_type": "code",
   "execution_count": 4,
   "id": "97a28a0b",
   "metadata": {},
   "outputs": [
    {
     "data": {
      "text/plain": [
       "11823"
      ]
     },
     "execution_count": 4,
     "metadata": {},
     "output_type": "execute_result"
    }
   ],
   "source": [
    "# Total amount of Data\n",
    "len(data)"
   ]
  },
  {
   "cell_type": "markdown",
   "id": "340b0099",
   "metadata": {},
   "source": [
    "**Data Pre-Processing**"
   ]
  },
  {
   "cell_type": "code",
   "execution_count": 5,
   "id": "f23f0b76",
   "metadata": {},
   "outputs": [],
   "source": [
    "# Data Pre-Processing\n",
    "def preprocess_sentence(sentence):\n",
    "    sentence = re.sub(r'([?.!,])', r' \\1 ', sentence)\n",
    "    sentence = re.sub(r'[\" \"]+', ' ', sentence)\n",
    "    \n",
    "    sentence = re.sub(r\"[^가-힣?.!,]+\", \" \", sentence)\n",
    "    sentence = sentence.strip()\n",
    "    \n",
    "    return sentence"
   ]
  },
  {
   "cell_type": "code",
   "execution_count": 6,
   "id": "b4490b5a",
   "metadata": {},
   "outputs": [],
   "source": [
    "# Questions, Answers\n",
    "def load_conversations():\n",
    "    questions, answers = [], []\n",
    "    for q, a in zip(data['Q'], data['A']):\n",
    "        questions.append(preprocess_sentence(q))\n",
    "        answers.append(preprocess_sentence(a))\n",
    "        \n",
    "        if len(questions) >= len(data):\n",
    "            return questions, answers\n",
    "    return questions, answers"
   ]
  },
  {
   "cell_type": "code",
   "execution_count": 7,
   "id": "5d078cb5",
   "metadata": {},
   "outputs": [
    {
     "name": "stdout",
     "output_type": "stream",
     "text": [
      "전체 질문 수 : 11823\n",
      "전체 답변 수 : 11823\n"
     ]
    }
   ],
   "source": [
    "questions, answers = load_conversations()\n",
    "print('전체 질문 수 :', len(questions))\n",
    "print('전체 답변 수 :', len(answers))"
   ]
  },
  {
   "cell_type": "code",
   "execution_count": 8,
   "id": "5179e36a",
   "metadata": {},
   "outputs": [
    {
     "name": "stdout",
     "output_type": "stream",
     "text": [
      "전처리 후 8번째 질문 샘플: 시간낭비인 거 아는데 매일 하는 중\n",
      "전처리 후 8번째 답변 샘플: 시간을 정하고 해보세요 .\n"
     ]
    }
   ],
   "source": [
    "print('전처리 후 8번째 질문 샘플: {}'.format(questions[8]))\n",
    "print('전처리 후 8번째 답변 샘플: {}'.format(answers[8]))"
   ]
  },
  {
   "cell_type": "code",
   "execution_count": 9,
   "id": "9cd20d69",
   "metadata": {},
   "outputs": [
    {
     "name": "stdout",
     "output_type": "stream",
     "text": [
      "START_TOKEN의 번호: [8127]\n",
      "END_TOKEN의 번호: [8128]\n"
     ]
    }
   ],
   "source": [
    "# Tokenization -> Bag of Words\n",
    " ## SubwordTextEncoder (Internal Word Tokenizer)\n",
    "\n",
    "tokenizer = tfds.deprecated.text.SubwordTextEncoder.build_from_corpus(questions + answers, target_vocab_size=2**13)\n",
    "START_TOKEN, END_TOKEN = [tokenizer.vocab_size], [tokenizer.vocab_size + 1]\n",
    "\n",
    "print('START_TOKEN의 번호:', [tokenizer.vocab_size])\n",
    "print('END_TOKEN의 번호:', [tokenizer.vocab_size + 1])"
   ]
  },
  {
   "cell_type": "code",
   "execution_count": 10,
   "id": "151db8f2",
   "metadata": {},
   "outputs": [
    {
     "name": "stdout",
     "output_type": "stream",
     "text": [
      "8129\n"
     ]
    }
   ],
   "source": [
    "VOCAB_SIZE = tokenizer.vocab_size + 2  # STRAT, END TOKEN 추가 \n",
    "print(VOCAB_SIZE)"
   ]
  },
  {
   "cell_type": "code",
   "execution_count": 11,
   "id": "98aaf16b",
   "metadata": {},
   "outputs": [
    {
     "name": "stdout",
     "output_type": "stream",
     "text": [
      "정수 인코딩 후 8번째 질문 샘플: [779, 7577, 175, 8, 2557, 436, 48, 204]\n",
      "정수 인코딩 후 8번째 답변 샘플: [349, 3969, 16, 32, 1]\n"
     ]
    }
   ],
   "source": [
    "# Encoding + Padding\n",
    "print('정수 인코딩 후 8번째 질문 샘플: {}'.format(tokenizer.encode(questions[8])))\n",
    "print('정수 인코딩 후 8번째 답변 샘플: {}'.format(tokenizer.encode(answers[8])))"
   ]
  },
  {
   "cell_type": "code",
   "execution_count": 12,
   "id": "61bb5134",
   "metadata": {},
   "outputs": [
    {
     "name": "stdout",
     "output_type": "stream",
     "text": [
      "16\n",
      "24\n"
     ]
    },
    {
     "data": {
      "text/plain": [
       "Text(0.5, 1.0, 'answer')"
      ]
     },
     "execution_count": 12,
     "metadata": {},
     "output_type": "execute_result"
    },
    {
     "data": {
      "image/png": "[encoded data removed]",
      "text/plain": [
       "<Figure size 864x360 with 1 Axes>"
      ]
     },
     "metadata": {
      "needs_background": "light"
     },
     "output_type": "display_data"
    },
    {
     "data": {
      "image/png": "[encoded data removed]",
      "text/plain": [
       "<Figure size 864x360 with 1 Axes>"
      ]
     },
     "metadata": {
      "needs_background": "light"
     },
     "output_type": "display_data"
    }
   ],
   "source": [
    "# Visualization\n",
    "import matplotlib.pyplot as plt \n",
    "\n",
    "question_len = [len(s.split()) for s in questions]\n",
    "answer_len = [len(s.split()) for s in answers]\n",
    "\n",
    "print(max(question_len))\n",
    "print(max(answer_len))\n",
    "\n",
    "plt.figure(figsize=(12, 5))\n",
    "plt.hist(question_len)\n",
    "plt.title('question')\n",
    "\n",
    "plt.figure(figsize=(12, 5))\n",
    "plt.hist(answer_len)\n",
    "plt.title('answer')"
   ]
  },
  {
   "cell_type": "code",
   "execution_count": 13,
   "id": "7ba609e7",
   "metadata": {},
   "outputs": [],
   "source": [
    "# Max length = 20 내외\n",
    "\n",
    "MAX_LENGTH = 20"
   ]
  },
  {
   "cell_type": "code",
   "execution_count": 14,
   "id": "8bfa699c",
   "metadata": {},
   "outputs": [],
   "source": [
    "def tokenize_and_filter(inputs, outputs):\n",
    "    tokenized_inputs, tokenized_outputs = [], []\n",
    "    \n",
    "    for (sentence1, sentence2) in zip(inputs, outputs):\n",
    "        sentence1 = START_TOKEN + tokenizer.encode(sentence1) + END_TOKEN\n",
    "        sentence2 = START_TOKEN + tokenizer.encode(sentence2) + END_TOKEN\n",
    "        \n",
    "        if len(sentence1) <= MAX_LENGTH and len(sentence2) <= MAX_LENGTH:\n",
    "            tokenized_inputs.append(sentence1)\n",
    "            tokenized_outputs.append(sentence2)\n",
    "        \n",
    "    tokenized_inputs = tf.keras.preprocessing.sequence.pad_sequences(tokenized_inputs, maxlen=MAX_LENGTH, padding='post')\n",
    "    tokenized_outputs = tf.keras.preprocessing.sequence.pad_sequences(tokenized_outputs, maxlen=MAX_LENGTH, padding='post')        \n",
    "\n",
    "    return tokenized_inputs, tokenized_outputs"
   ]
  },
  {
   "cell_type": "code",
   "execution_count": 15,
   "id": "45f1eeb9",
   "metadata": {},
   "outputs": [
    {
     "name": "stdout",
     "output_type": "stream",
     "text": [
      "단어장 크기: 8129\n",
      "필터링 후 질문 샘플 개수:11793\n",
      "필터링 후 답변 샘플 개수:11793\n"
     ]
    }
   ],
   "source": [
    "questions, answers = tokenize_and_filter(questions, answers)\n",
    "\n",
    "print('단어장 크기:', (VOCAB_SIZE))\n",
    "print('필터링 후 질문 샘플 개수:{}'.format(len(questions)))\n",
    "print('필터링 후 답변 샘플 개수:{}'.format(len(answers)))"
   ]
  },
  {
   "cell_type": "markdown",
   "id": "5a4fc503",
   "metadata": {},
   "source": [
    "## 2. Teacher Forcing & Model Training"
   ]
  },
  {
   "cell_type": "code",
   "execution_count": 16,
   "id": "ace05db6",
   "metadata": {},
   "outputs": [],
   "source": [
    "# Teacher Forcing\n",
    "## 학생이 문제를 풀면 교사가 정답을 바로 알려주어 학습 용이도를 높이듯 모델에게도 적용함\n",
    "## 실제 결과를 입력 레이블로 바로 입력하여 잘못된 순환 신경망(RNN) 예측을 예방하는 방법.\n",
    "\n",
    "BATCH_SIZE = 64\n",
    "BUFFER_SIZE = 20000\n",
    "\n",
    "dataset = tf.data.Dataset.from_tensor_slices((\n",
    "    {'inputs': questions,\n",
    "    'dec_inputs':answers[:, :-1]},\n",
    "    {'outputs': answers[:, 1:]}  # START_TOKEN 제외\n",
    "))\n",
    "\n",
    "dataset = dataset.cache()\n",
    "dataset = dataset.shuffle(BUFFER_SIZE)\n",
    "dataset = dataset.batch(BATCH_SIZE)\n",
    "dataset = dataset.prefetch(tf.data.experimental.AUTOTUNE)"
   ]
  },
  {
   "cell_type": "code",
   "execution_count": 17,
   "id": "f65e128b",
   "metadata": {},
   "outputs": [],
   "source": [
    "# Model Training (Transformer)\n",
    "\n",
    "## PositionalEncoding\n",
    "class PositionalEncoding(tf.keras.layers.Layer):\n",
    "    \n",
    "    def __init__(self, position, d_model):\n",
    "        super(PositionalEncoding, self).__init__()\n",
    "        self.pos_encoding = self.positional_encoding(position, d_model)\n",
    "        \n",
    "    def get_angles(self, position, i, d_model):\n",
    "        angles = 1/tf.pow(10000, (2* (i//2))/ tf.cast(d_model, tf.float32))\n",
    "        return position * angles\n",
    "    \n",
    "    def positional_encoding(self, position, d_model):\n",
    "        angle_rads = self.get_angles(position=tf.range(position, dtype=tf.float32)[:, tf.newaxis],\n",
    "                                    i=tf.range(d_model, dtype=tf.float32)[tf.newaxis, :],\n",
    "                                    d_model=d_model)\n",
    "        sines = tf.math.sin(angle_rads[:, 0::2]) # 짝수 인덱스\n",
    "        cosines = tf.math.cos(angle_rads[:, 1::2]) # 홀수 인덱스\n",
    "        \n",
    "        pos_encoding = tf.concat([sines, cosines], axis= -1)\n",
    "        pos_encoding = pos_encoding[tf.newaxis, ...]\n",
    "        \n",
    "        return tf.cast(pos_encoding, tf.float32)\n",
    "    \n",
    "    def call(self, inputs):\n",
    "        return inputs + self.pos_encoding[:, :tf.shape(inputs)[1], :]"
   ]
  },
  {
   "cell_type": "code",
   "execution_count": 18,
   "id": "668ac8bc",
   "metadata": {},
   "outputs": [
    {
     "data": {
      "image/png": "[encoded data removed]",
      "text/plain": [
       "<Figure size 432x288 with 2 Axes>"
      ]
     },
     "metadata": {
      "needs_background": "light"
     },
     "output_type": "display_data"
    }
   ],
   "source": [
    "sample_pos_encoding = PositionalEncoding(50, 512)\n",
    "\n",
    "plt.pcolormesh(sample_pos_encoding.pos_encoding.numpy()[0], cmap='RdBu')\n",
    "plt.xlabel('Depth')\n",
    "plt.xlim((0, 512))\n",
    "plt.ylabel('Position')\n",
    "plt.colorbar()\n",
    "plt.show()"
   ]
  },
  {
   "cell_type": "code",
   "execution_count": 19,
   "id": "948bb140",
   "metadata": {},
   "outputs": [],
   "source": [
    "## Scaled Dot Product Attention\n",
    "def scaled_dot_product_attention(query, key, value, mask):\n",
    "    matmul_qk = tf.matmul(query, key, transpose_b=True)\n",
    "    \n",
    "    depth = tf.cast(tf.shape(key)[-1], tf.float32)\n",
    "    logits = matmul_qk / tf.math.sqrt(depth)\n",
    "    \n",
    "    if mask is not None:\n",
    "        logits += (mask * - 1e9)\n",
    "    \n",
    "    attention_weights = tf.nn.softmax(logits, axis=-1)\n",
    "    output = tf.matmul(attention_weights, value)\n",
    "    \n",
    "    return output"
   ]
  },
  {
   "cell_type": "code",
   "execution_count": 20,
   "id": "932280a5",
   "metadata": {},
   "outputs": [],
   "source": [
    "## MultiHeadAttention\n",
    "class MultiHeadAttention(tf.keras.layers.Layer):\n",
    "    \n",
    "    def __init__(self, d_model, num_heads, name='multi_head_attention'):\n",
    "        super(MultiHeadAttention, self).__init__(name=name)\n",
    "        self.num_heads = num_heads\n",
    "        self.d_model = d_model\n",
    "        \n",
    "        assert d_model % self.num_heads == 0 \n",
    "        \n",
    "        self.depth = d_model // self.num_heads\n",
    "        \n",
    "        self.query_dense = tf.keras.layers.Dense(units=d_model)\n",
    "        self.key_dense = tf.keras.layers.Dense(units=d_model)\n",
    "        self.value_dense = tf.keras.layers.Dense(units=d_model)\n",
    "        \n",
    "        self.dense = tf.keras.layers.Dense(units=d_model)\n",
    "    \n",
    "    def split_heads(self, inputs, batch_size):\n",
    "        inputs = tf.reshape(inputs, shape=(batch_size, -1, self.num_heads, self.depth))\n",
    "        return tf.transpose(inputs, perm=[0, 2, 1, 3])\n",
    "    \n",
    "    def call(self, inputs):\n",
    "        query, key, value, mask = inputs['query'], inputs['key'], inputs['value'], inputs['mask']\n",
    "        batch_size = tf.shape(query)[0]\n",
    "        \n",
    "        query = self.query_dense(query)\n",
    "        key = self.key_dense(key)\n",
    "        value = self.value_dense(value)\n",
    "        \n",
    "        query = self.split_heads(query, batch_size)\n",
    "        key = self.split_heads(key, batch_size)\n",
    "        value = self.split_heads(value, batch_size)\n",
    "        \n",
    "        scaled_attention = scaled_dot_product_attention(query, key, value, mask)\n",
    "        scaled_attention = tf.transpose(scaled_attention, perm=[0, 2, 1, 3])\n",
    "        \n",
    "        concat_attention = tf.reshape(scaled_attention, (batch_size, -1, self.d_model))\n",
    "        \n",
    "        outputs = self.dense(concat_attention)\n",
    "        \n",
    "        return outputs"
   ]
  },
  {
   "cell_type": "code",
   "execution_count": 21,
   "id": "5b0594b2",
   "metadata": {},
   "outputs": [],
   "source": [
    "## Padding\n",
    "def create_padding_mask(x):\n",
    "    mask = tf.cast(tf.math.equal(x, 0), tf.float32)\n",
    "    return mask[:, tf.newaxis, tf.newaxis, :] # [batch_size, 1, 1, sequence_length]"
   ]
  },
  {
   "cell_type": "code",
   "execution_count": 22,
   "id": "9aedfccc",
   "metadata": {},
   "outputs": [
    {
     "name": "stdout",
     "output_type": "stream",
     "text": [
      "tf.Tensor(\n",
      "[[[[0. 0. 0. 0. 0.]]]\n",
      "\n",
      "\n",
      " [[[1. 0. 0. 0. 0.]]]], shape=(2, 1, 1, 5), dtype=float32)\n"
     ]
    }
   ],
   "source": [
    "print(create_padding_mask(tf.constant([[1, 2, 3, 4, 5], [0, 1, 2, 3, 4]])))"
   ]
  },
  {
   "cell_type": "code",
   "execution_count": 23,
   "id": "46b712ae",
   "metadata": {},
   "outputs": [],
   "source": [
    "## Create Look Ahead Masking (0 -> 1)\n",
    "def create_look_ahead_mask(x):\n",
    "    seq_len = tf.shape(x)[1]\n",
    "    look_ahead_mask = 1 - tf.linalg.band_part(tf.ones((seq_len, seq_len)), -1, 0)\n",
    "    padding_mask = create_padding_mask(x)\n",
    "    return tf.maximum(look_ahead_mask, padding_mask)"
   ]
  },
  {
   "cell_type": "code",
   "execution_count": 24,
   "id": "a0e9adcf",
   "metadata": {},
   "outputs": [
    {
     "name": "stdout",
     "output_type": "stream",
     "text": [
      "tf.Tensor(\n",
      "[[[[0. 1. 1. 1. 1.]\n",
      "   [0. 0. 1. 1. 1.]\n",
      "   [0. 0. 0. 1. 1.]\n",
      "   [0. 0. 0. 0. 1.]\n",
      "   [0. 0. 0. 0. 0.]]]], shape=(1, 1, 5, 5), dtype=float32)\n"
     ]
    }
   ],
   "source": [
    "print(create_look_ahead_mask(tf.constant([[5, 4, 3, 2, 1]])))"
   ]
  },
  {
   "cell_type": "code",
   "execution_count": 25,
   "id": "bc488eb4",
   "metadata": {},
   "outputs": [],
   "source": [
    "## Encoder\n",
    "def encoder_layer(units, d_model, num_heads, dropout, name='encoder_layer'):\n",
    "    inputs = tf.keras.Input(shape=(None, d_model), name='inputs')\n",
    "    \n",
    "    padding_mask = tf.keras.Input(shape=(1, 1, None), name='padding_mask')\n",
    "    \n",
    "    attention = MultiHeadAttention(d_model, num_heads, name='attention')({\n",
    "        'query':inputs, 'key':inputs, 'value':inputs, 'mask':padding_mask\n",
    "    })\n",
    "    \n",
    "    attention = tf.keras.layers.Dropout(rate=dropout)(attention)\n",
    "    attention = tf.keras.layers.LayerNormalization(epsilon=1e-6)(inputs + attention)\n",
    "    \n",
    "    outputs = tf.keras.layers.Dense(units=units, activation='relu')(attention)\n",
    "    outputs = tf.keras.layers.Dense(units=d_model)(outputs)\n",
    "    \n",
    "    outputs = tf.keras.layers.Dropout(rate=dropout)(outputs)\n",
    "    outputs = tf.keras.layers.LayerNormalization(epsilon=1e-6)(attention + outputs)\n",
    "    \n",
    "    return tf.keras.Model(inputs=[inputs, padding_mask], outputs=outputs, name=name)"
   ]
  },
  {
   "cell_type": "code",
   "execution_count": 26,
   "id": "57daa975",
   "metadata": {},
   "outputs": [],
   "source": [
    "def encoder(vocab_size, num_layers, units, d_model, num_heads, dropout, name='encoder'):\n",
    "    inputs = tf.keras.Input(shape=(None,), name='inputs')\n",
    "    \n",
    "    padding_mask = tf.keras.Input(shape=(1, 1, None), name='padding_mask')\n",
    "    \n",
    "    embeddings = tf.keras.layers.Embedding(vocab_size, d_model)(inputs)\n",
    "    embeddings *= tf.math.sqrt(tf.cast(d_model, tf.float32))\n",
    "                                \n",
    "    embeddings = PositionalEncoding(vocab_size, d_model)(embeddings)\n",
    "                                \n",
    "    outputs = tf.keras.layers.Dropout(rate=dropout)(embeddings)\n",
    "                                \n",
    "    for i in range(num_layers):\n",
    "        outputs = encoder_layer(units=units, d_model=d_model, num_heads=num_heads, dropout=dropout, name='encoder_layer_{}'.format(i),)([outputs, padding_mask])\n",
    "    \n",
    "    return tf.keras.Model(inputs=[inputs, padding_mask], outputs=outputs, name=name)"
   ]
  },
  {
   "cell_type": "code",
   "execution_count": 27,
   "id": "a466fb5c",
   "metadata": {},
   "outputs": [],
   "source": [
    "## Decoder\n",
    "def decoder_layer(units, d_model, num_heads, dropout, name='decoder_layer'):\n",
    "    inputs = tf.keras.Input(shape=(None, d_model), name='inputs')\n",
    "    enc_outputs = tf.keras.Input(shape=(None, d_model), name='encoder_outputs')\n",
    "    look_ahead_mask = tf.keras.Input(shape=(1, None, None), name='look_ahead_mask')\n",
    "    padding_mask = tf.keras.Input(shape=(1, 1, None), name='padding_mask')\n",
    "    \n",
    "    attention1 = MultiHeadAttention(d_model, num_heads, name='attention_1')(inputs={\n",
    "        'query':inputs, 'key':inputs, 'value':inputs, 'mask':look_ahead_mask\n",
    "    })\n",
    "    attention1 = tf.keras.layers.LayerNormalization(epsilon=1e-6)(attention1 + inputs)\n",
    "    \n",
    "    attention2 = MultiHeadAttention(d_model, num_heads, name='attention_2')(inputs={\n",
    "        'query':attention1, 'key':enc_outputs, 'value':enc_outputs, 'mask':padding_mask\n",
    "    })\n",
    "    attention2 = tf.keras.layers.Dropout(rate=dropout)(attention2)\n",
    "    attention2 = tf.keras.layers.LayerNormalization(epsilon=1e-6)(attention2 + attention1)\n",
    "    \n",
    "    outputs = tf.keras.layers.Dense(units=units, activation='relu')(attention2)\n",
    "    outputs = tf.keras.layers.Dense(units=d_model)(outputs)\n",
    "    \n",
    "    outputs = tf.keras.layers.Dropout(rate=dropout)(outputs)\n",
    "    outputs = tf.keras.layers.LayerNormalization(epsilon=1e-6)(outputs + attention2)\n",
    "    \n",
    "    return tf.keras.Model(inputs=[inputs, enc_outputs, look_ahead_mask, padding_mask], outputs=outputs, name=name)"
   ]
  },
  {
   "cell_type": "code",
   "execution_count": 28,
   "id": "29300eb1",
   "metadata": {},
   "outputs": [],
   "source": [
    "def decoder(vocab_size, num_layers, units, d_model,num_heads, dropout, name='decoder'):\n",
    "    inputs = tf.keras.Input(shape=(None,), name='inputs')\n",
    "    enc_outputs = tf.keras.Input(shape=(None, d_model), name='encoder_outputs')\n",
    "    look_ahead_mask = tf.keras.Input(shape=(1, None, None), name='look_ahead_mask')\n",
    "    \n",
    "    padding_mask = tf.keras.Input(shape=(1, 1, None), name='padding_mask')\n",
    "    \n",
    "    embeddings = tf.keras.layers.Embedding(vocab_size, d_model)(inputs)\n",
    "    embeddings *= tf.math.sqrt(tf.cast(d_model, tf.float32))\n",
    "    \n",
    "    embeddings = PositionalEncoding(vocab_size, d_model)(embeddings)\n",
    "    \n",
    "    outputs = tf.keras.layers.Dropout(rate=dropout)(embeddings)\n",
    "    \n",
    "    for i in range(num_layers):\n",
    "        outputs = decoder_layer(units=units, d_model=d_model, num_heads=num_heads, dropout=dropout, name='decoder_layer_{}'.format(i),)(inputs=[outputs, enc_outputs, look_ahead_mask, padding_mask])\n",
    "    \n",
    "    return tf.keras.Model(inputs=[inputs, enc_outputs, look_ahead_mask, padding_mask], outputs=outputs, name=name)"
   ]
  },
  {
   "cell_type": "code",
   "execution_count": 29,
   "id": "46f56fcf",
   "metadata": {},
   "outputs": [],
   "source": [
    "## Model (Transformer)\n",
    "def transformer(vocab_size, num_layers,\n",
    "               units, d_model, num_heads, dropout, name='transformer'):\n",
    "    inputs = tf.keras.Input(shape=(None,), name='inputs')\n",
    "    dec_inputs = tf.keras.Input(shape=(None,), name='dec_inputs')\n",
    "    # encoder에서 패딩 마스크\n",
    "    enc_padding_mask = tf.keras.layers.Lambda(create_padding_mask, output_shape=(1, 1, None), name='enc_padding_mask')(inputs)\n",
    "    # decoder에서 미래 토큰 마스크, 패딩 마스크\n",
    "    look_ahead_mask = tf.keras.layers.Lambda(create_look_ahead_mask, output_shape=(1, None, None), name='look_ahead_mask')(dec_inputs)\n",
    "    # 두번째 어텐션 블록에서 encoder의 벡터들을 마스킹, decoder에서 패딩 마스크\n",
    "    dec_padding_mask = tf.keras.layers.Lambda(create_padding_mask, output_shape=(1, 1, None), name='dec_padding_mask')(inputs)\n",
    "    \n",
    "    # encoder\n",
    "    enc_outputs = encoder(vocab_size=vocab_size, num_layers=num_layers, units=units, d_model=d_model, num_heads=num_heads, dropout=dropout)(inputs=[inputs, enc_padding_mask])\n",
    "    # decoder\n",
    "    dec_outputs = decoder(vocab_size=vocab_size, num_layers=num_layers, units=units, d_model=d_model, num_heads=num_heads, dropout=dropout)(inputs=[dec_inputs, enc_outputs, look_ahead_mask, dec_padding_mask])\n",
    "    \n",
    "    # dense layer\n",
    "    outputs = tf.keras.layers.Dense(units=vocab_size, name='outputs')(dec_outputs)\n",
    "    \n",
    "    return tf.keras.Model(inputs=[inputs, dec_inputs], outputs=outputs, name=name)"
   ]
  },
  {
   "cell_type": "code",
   "execution_count": 30,
   "id": "617318f7",
   "metadata": {},
   "outputs": [
    {
     "name": "stdout",
     "output_type": "stream",
     "text": [
      "Model: \"transformer\"\n",
      "__________________________________________________________________________________________________\n",
      "Layer (type)                    Output Shape         Param #     Connected to                     \n",
      "==================================================================================================\n",
      "inputs (InputLayer)             [(None, None)]       0                                            \n",
      "__________________________________________________________________________________________________\n",
      "dec_inputs (InputLayer)         [(None, None)]       0                                            \n",
      "__________________________________________________________________________________________________\n",
      "enc_padding_mask (Lambda)       (None, 1, 1, None)   0           inputs[0][0]                     \n",
      "__________________________________________________________________________________________________\n",
      "encoder (Functional)            (None, None, 256)    3135232     inputs[0][0]                     \n",
      "                                                                 enc_padding_mask[0][0]           \n",
      "__________________________________________________________________________________________________\n",
      "look_ahead_mask (Lambda)        (None, 1, None, None 0           dec_inputs[0][0]                 \n",
      "__________________________________________________________________________________________________\n",
      "dec_padding_mask (Lambda)       (None, 1, 1, None)   0           inputs[0][0]                     \n",
      "__________________________________________________________________________________________________\n",
      "decoder (Functional)            (None, None, 256)    3662592     dec_inputs[0][0]                 \n",
      "                                                                 encoder[0][0]                    \n",
      "                                                                 look_ahead_mask[0][0]            \n",
      "                                                                 dec_padding_mask[0][0]           \n",
      "__________________________________________________________________________________________________\n",
      "outputs (Dense)                 (None, None, 8129)   2089153     decoder[0][0]                    \n",
      "==================================================================================================\n",
      "Total params: 8,886,977\n",
      "Trainable params: 8,886,977\n",
      "Non-trainable params: 0\n",
      "__________________________________________________________________________________________________\n"
     ]
    }
   ],
   "source": [
    "## Model Summary\n",
    "tf.keras.backend.clear_session()\n",
    "\n",
    "NUM_LAYERS = 2  # encoder, decoder의 층 개수\n",
    "D_MODEL = 256   # encoder, decoder 내부의 입/출력 고정 차원\n",
    "NUM_HEADS = 8   # 멀티 헤드 어텐션의 헤드 수 \n",
    "UNITS = 512     # feed forward 신경망 은닉층의 크기\n",
    "DROPOUT = 0.1\n",
    "\n",
    "model = transformer(vocab_size=VOCAB_SIZE, \n",
    "                   num_layers=NUM_LAYERS,\n",
    "                   d_model=D_MODEL,\n",
    "                   num_heads=NUM_HEADS,\n",
    "                   units=UNITS,\n",
    "                   dropout=DROPOUT)\n",
    "\n",
    "model.summary()"
   ]
  },
  {
   "cell_type": "code",
   "execution_count": 31,
   "id": "2c71045b",
   "metadata": {},
   "outputs": [],
   "source": [
    "## Loss Function\n",
    "def loss_function(y_true, y_pred):\n",
    "    y_true = tf.reshape(y_true, shape=(-1, MAX_LENGTH-1))\n",
    "    \n",
    "    loss = tf.keras.losses.SparseCategoricalCrossentropy(from_logits=True, reduction='none')(y_true, y_pred)\n",
    "    \n",
    "    mask = tf.cast(tf.not_equal(y_true, 0), tf.float32)\n",
    "    loss = tf.multiply(loss, mask)\n",
    "    \n",
    "    return tf.reduce_mean(loss)\n",
    "\n",
    "## Custom Learning Rate Scheduling\n",
    "### Source: Keras documentation\n",
    "    ### https://keras.io/api/callbacks/learning_rate_scheduler/\n",
    "class CustomSchedule(tf.keras.optimizers.schedules.LearningRateSchedule):\n",
    "    \n",
    "    def __init__(self, d_model, warmup_steps=4000):\n",
    "        super(CustomSchedule, self).__init__()\n",
    "        \n",
    "        self.d_model = d_model\n",
    "        self.d_model = tf.cast(self.d_model, tf.float32)\n",
    "        \n",
    "        self.warmup_steps = warmup_steps\n",
    "        \n",
    "    def __call__(self, step):\n",
    "        arg1 = tf.math.rsqrt(step)\n",
    "        arg2 = step * (self.warmup_steps**-1.5)\n",
    "        \n",
    "        return tf.math.rsqrt(self.d_model) * tf.math.minimum(arg1, arg2)"
   ]
  },
  {
   "cell_type": "code",
   "execution_count": 32,
   "id": "548a0067",
   "metadata": {},
   "outputs": [
    {
     "data": {
      "text/plain": [
       "Text(0.5, 0, 'Train Step')"
      ]
     },
     "execution_count": 32,
     "metadata": {},
     "output_type": "execute_result"
    },
    {
     "data": {
      "image/png": "[encoded data removed]",
      "text/plain": [
       "<Figure size 432x288 with 1 Axes>"
      ]
     },
     "metadata": {
      "needs_background": "light"
     },
     "output_type": "display_data"
    }
   ],
   "source": [
    "## Sample Visualization\n",
    "sample_learning_rate = CustomSchedule(d_model=128)\n",
    "\n",
    "plt.plot(sample_learning_rate(tf.range(200000, dtype=tf.float32)))\n",
    "plt.ylabel('Learning Rate')\n",
    "plt.xlabel('Train Step')"
   ]
  },
  {
   "cell_type": "code",
   "execution_count": 33,
   "id": "5ec76e9e",
   "metadata": {},
   "outputs": [],
   "source": [
    "learning_rate = CustomSchedule(D_MODEL)\n",
    "\n",
    "optimizer = tf.keras.optimizers.Adam(learning_rate, beta_1=0.9, beta_2=0.98, epsilon=1e-9)\n",
    "\n",
    "def accuracy(y_true, y_pred):\n",
    "    y_true = tf.reshape(y_true, shape=(-1, MAX_LENGTH -1))\n",
    "    return tf.keras.metrics.sparse_categorical_accuracy(y_true, y_pred)\n",
    "\n",
    "model.compile(optimizer=optimizer, loss=loss_function, metrics=[accuracy])"
   ]
  },
  {
   "cell_type": "code",
   "execution_count": 34,
   "id": "dbc752af",
   "metadata": {},
   "outputs": [
    {
     "name": "stdout",
     "output_type": "stream",
     "text": [
      "Epoch 1/50\n",
      "185/185 [==============================] - 13s 37ms/step - loss: 2.9681 - accuracy: 0.0496\n",
      "Epoch 2/50\n",
      "185/185 [==============================] - 7s 37ms/step - loss: 2.3957 - accuracy: 0.1017\n",
      "Epoch 3/50\n",
      "185/185 [==============================] - 7s 37ms/step - loss: 2.0479 - accuracy: 0.1037\n",
      "Epoch 4/50\n",
      "185/185 [==============================] - 7s 37ms/step - loss: 1.8930 - accuracy: 0.1111\n",
      "Epoch 5/50\n",
      "185/185 [==============================] - 7s 38ms/step - loss: 1.7740 - accuracy: 0.1177\n",
      "Epoch 6/50\n",
      "185/185 [==============================] - 7s 37ms/step - loss: 1.6529 - accuracy: 0.1260\n",
      "Epoch 7/50\n",
      "185/185 [==============================] - 7s 38ms/step - loss: 1.5189 - accuracy: 0.1383\n",
      "Epoch 8/50\n",
      "185/185 [==============================] - 7s 38ms/step - loss: 1.3709 - accuracy: 0.1543\n",
      "Epoch 9/50\n",
      "185/185 [==============================] - 7s 37ms/step - loss: 1.2114 - accuracy: 0.1720\n",
      "Epoch 10/50\n",
      "185/185 [==============================] - 7s 37ms/step - loss: 1.0464 - accuracy: 0.1909\n",
      "Epoch 11/50\n",
      "185/185 [==============================] - 7s 37ms/step - loss: 0.8760 - accuracy: 0.2114\n",
      "Epoch 12/50\n",
      "185/185 [==============================] - 7s 37ms/step - loss: 0.7137 - accuracy: 0.2332\n",
      "Epoch 13/50\n",
      "185/185 [==============================] - 7s 37ms/step - loss: 0.5617 - accuracy: 0.2559\n",
      "Epoch 14/50\n",
      "185/185 [==============================] - 7s 37ms/step - loss: 0.4271 - accuracy: 0.2762\n",
      "Epoch 15/50\n",
      "185/185 [==============================] - 7s 37ms/step - loss: 0.3156 - accuracy: 0.2953\n",
      "Epoch 16/50\n",
      "185/185 [==============================] - 7s 38ms/step - loss: 0.2276 - accuracy: 0.3116\n",
      "Epoch 17/50\n",
      "185/185 [==============================] - 7s 37ms/step - loss: 0.1648 - accuracy: 0.3233\n",
      "Epoch 18/50\n",
      "185/185 [==============================] - 7s 37ms/step - loss: 0.1267 - accuracy: 0.3297\n",
      "Epoch 19/50\n",
      "185/185 [==============================] - 7s 37ms/step - loss: 0.1035 - accuracy: 0.3343\n",
      "Epoch 20/50\n",
      "185/185 [==============================] - 7s 37ms/step - loss: 0.0930 - accuracy: 0.3353\n",
      "Epoch 21/50\n",
      "185/185 [==============================] - 7s 37ms/step - loss: 0.0865 - accuracy: 0.3367\n",
      "Epoch 22/50\n",
      "185/185 [==============================] - 7s 37ms/step - loss: 0.0826 - accuracy: 0.3373\n",
      "Epoch 23/50\n",
      "185/185 [==============================] - 7s 37ms/step - loss: 0.0739 - accuracy: 0.3386\n",
      "Epoch 24/50\n",
      "185/185 [==============================] - 7s 37ms/step - loss: 0.0646 - accuracy: 0.3409\n",
      "Epoch 25/50\n",
      "185/185 [==============================] - 7s 38ms/step - loss: 0.0571 - accuracy: 0.3431\n",
      "Epoch 26/50\n",
      "185/185 [==============================] - 7s 37ms/step - loss: 0.0514 - accuracy: 0.3443\n",
      "Epoch 27/50\n",
      "185/185 [==============================] - 7s 37ms/step - loss: 0.0440 - accuracy: 0.3465\n",
      "Epoch 28/50\n",
      "185/185 [==============================] - 7s 37ms/step - loss: 0.0401 - accuracy: 0.3472\n",
      "Epoch 29/50\n",
      "185/185 [==============================] - 7s 37ms/step - loss: 0.0376 - accuracy: 0.3480\n",
      "Epoch 30/50\n",
      "185/185 [==============================] - 7s 37ms/step - loss: 0.0346 - accuracy: 0.3486\n",
      "Epoch 31/50\n",
      "185/185 [==============================] - 7s 37ms/step - loss: 0.0316 - accuracy: 0.3494\n",
      "Epoch 32/50\n",
      "185/185 [==============================] - 7s 37ms/step - loss: 0.0292 - accuracy: 0.3499\n",
      "Epoch 33/50\n",
      "185/185 [==============================] - 7s 37ms/step - loss: 0.0265 - accuracy: 0.3507\n",
      "Epoch 34/50\n",
      "185/185 [==============================] - 7s 37ms/step - loss: 0.0252 - accuracy: 0.3509\n",
      "Epoch 35/50\n",
      "185/185 [==============================] - 7s 37ms/step - loss: 0.0236 - accuracy: 0.3513\n",
      "Epoch 36/50\n",
      "185/185 [==============================] - 7s 37ms/step - loss: 0.0223 - accuracy: 0.3516\n",
      "Epoch 37/50\n",
      "185/185 [==============================] - 7s 37ms/step - loss: 0.0211 - accuracy: 0.3520\n",
      "Epoch 38/50\n",
      "185/185 [==============================] - 7s 37ms/step - loss: 0.0197 - accuracy: 0.3523\n",
      "Epoch 39/50\n",
      "185/185 [==============================] - 7s 37ms/step - loss: 0.0194 - accuracy: 0.3525\n",
      "Epoch 40/50\n",
      "185/185 [==============================] - 7s 37ms/step - loss: 0.0180 - accuracy: 0.3527\n",
      "Epoch 41/50\n",
      "185/185 [==============================] - 7s 37ms/step - loss: 0.0169 - accuracy: 0.3531\n",
      "Epoch 42/50\n",
      "185/185 [==============================] - 7s 37ms/step - loss: 0.0162 - accuracy: 0.3533\n",
      "Epoch 43/50\n",
      "185/185 [==============================] - 7s 37ms/step - loss: 0.0155 - accuracy: 0.3534\n",
      "Epoch 44/50\n",
      "185/185 [==============================] - 7s 37ms/step - loss: 0.0144 - accuracy: 0.3539\n",
      "Epoch 45/50\n",
      "185/185 [==============================] - 7s 37ms/step - loss: 0.0135 - accuracy: 0.3538\n",
      "Epoch 46/50\n",
      "185/185 [==============================] - 7s 37ms/step - loss: 0.0140 - accuracy: 0.3536\n",
      "Epoch 47/50\n",
      "185/185 [==============================] - 7s 37ms/step - loss: 0.0131 - accuracy: 0.3539\n",
      "Epoch 48/50\n",
      "185/185 [==============================] - 7s 37ms/step - loss: 0.0132 - accuracy: 0.3540\n",
      "Epoch 49/50\n",
      "185/185 [==============================] - 7s 37ms/step - loss: 0.0124 - accuracy: 0.3543\n",
      "Epoch 50/50\n",
      "185/185 [==============================] - 7s 37ms/step - loss: 0.0118 - accuracy: 0.3543\n"
     ]
    }
   ],
   "source": [
    "## Model Training\n",
    "## Epoch 25 => Accuracy 33%\n",
    "\n",
    "EPOCHS = 50\n",
    "history = model.fit(dataset, epochs=EPOCHS, verbose=1)"
   ]
  },
  {
   "cell_type": "markdown",
   "id": "d2ff6aec",
   "metadata": {},
   "source": [
    "## 3. Model Evaluation"
   ]
  },
  {
   "cell_type": "code",
   "execution_count": 35,
   "id": "71b4c77d",
   "metadata": {},
   "outputs": [
    {
     "data": {
      "image/png": "[encoded data removed]",
      "text/plain": [
       "<Figure size 432x288 with 1 Axes>"
      ]
     },
     "metadata": {
      "needs_background": "light"
     },
     "output_type": "display_data"
    }
   ],
   "source": [
    "import matplotlib.pyplot as plt\n",
    "\n",
    "# Model Accuracy\n",
    "plt.plot(history.history['accuracy'])\n",
    "plt.title('model accuracy')\n",
    "plt.ylabel('accuracy')\n",
    "plt.xlabel('epoch')\n",
    "plt.legend(['train'], loc='upper left')\n",
    "plt.show()"
   ]
  },
  {
   "cell_type": "code",
   "execution_count": 36,
   "id": "e78d683c",
   "metadata": {},
   "outputs": [
    {
     "data": {
      "image/png": "[encoded data removed]",
      "text/plain": [
       "<Figure size 432x288 with 1 Axes>"
      ]
     },
     "metadata": {
      "needs_background": "light"
     },
     "output_type": "display_data"
    }
   ],
   "source": [
    "# Model Loss\n",
    "plt.plot(history.history['loss'])\n",
    "plt.title('model loss')\n",
    "plt.ylabel('loss')\n",
    "plt.xlabel('epoch')\n",
    "plt.legend(['train'], loc='upper left')\n",
    "plt.show()"
   ]
  },
  {
   "cell_type": "code",
   "execution_count": 37,
   "id": "8f585bfd",
   "metadata": {},
   "outputs": [],
   "source": [
    "def decoder_inference(sentence):\n",
    "    sentence = preprocess_sentence(sentence)\n",
    "    \n",
    "    sentence = tf.expand_dims(START_TOKEN + tokenizer.encode(sentence) + END_TOKEN, axis=0)\n",
    "    \n",
    "    output_sequence = tf.expand_dims(START_TOKEN, 0)\n",
    "    \n",
    "    for i in range(MAX_LENGTH):\n",
    "        predictions = model(inputs=[sentence, output_sequence], training=False)\n",
    "        predictions = predictions[:, -1:, :]\n",
    "        \n",
    "        predicted_id = tf.cast(tf.argmax(predictions, axis=-1), tf.int32)\n",
    "        \n",
    "        if tf.equal(predicted_id, END_TOKEN[0]): # 종료토큰 나오면 예측 종료\n",
    "            break\n",
    "            \n",
    "        # 다시 디코더의 입력이 된다. \n",
    "        output_sequence = tf.concat([output_sequence, predicted_id], axis=-1)\n",
    "        \n",
    "    return tf.squeeze(output_sequence, axis=0)"
   ]
  },
  {
   "cell_type": "code",
   "execution_count": 38,
   "id": "11fa3b19",
   "metadata": {},
   "outputs": [],
   "source": [
    "def sentence_generation(sentence):\n",
    "    prediction = decoder_inference(sentence)\n",
    "    predicted_sentence = tokenizer.decode([i for i in prediction if i < tokenizer.vocab_size])\n",
    "    \n",
    "    print('문의 내용 : {}'.format(sentence))\n",
    "    print('답변 내용 : {}'.format(predicted_sentence))    \n",
    "    \n",
    "    return predicted_sentence"
   ]
  },
  {
   "cell_type": "code",
   "execution_count": 39,
   "id": "a28edd16",
   "metadata": {},
   "outputs": [
    {
     "name": "stdout",
     "output_type": "stream",
     "text": [
      "문의 내용 : 내 미래의 날씨는 어때?\n",
      "답변 내용 : 사랑은 강요하는게 아니에요 .\n"
     ]
    },
    {
     "data": {
      "text/plain": [
       "'사랑은 강요하는게 아니에요 .'"
      ]
     },
     "execution_count": 39,
     "metadata": {},
     "output_type": "execute_result"
    }
   ],
   "source": [
    "# Test_1\n",
    "sentence_generation('내 미래의 날씨는 어때?')"
   ]
  },
  {
   "cell_type": "code",
   "execution_count": 40,
   "id": "0c005e74",
   "metadata": {},
   "outputs": [
    {
     "name": "stdout",
     "output_type": "stream",
     "text": [
      "문의 내용 : 인간의 본성이란?\n",
      "답변 내용 : 잘하는 것도 많아요 .\n"
     ]
    },
    {
     "data": {
      "text/plain": [
       "'잘하는 것도 많아요 .'"
      ]
     },
     "execution_count": 40,
     "metadata": {},
     "output_type": "execute_result"
    }
   ],
   "source": [
    "# Test_2\n",
    "sentence_generation('인간의 본성이란?')"
   ]
  },
  {
   "cell_type": "code",
   "execution_count": 41,
   "id": "20df5839",
   "metadata": {},
   "outputs": [
    {
     "name": "stdout",
     "output_type": "stream",
     "text": [
      "문의 내용 : 형주가 코로나 상황에도 공부해야 된대. 불쌍하지 않니?\n",
      "답변 내용 : 천천히 로 다가가고 알아가야죠 .\n"
     ]
    },
    {
     "data": {
      "text/plain": [
       "'천천히 로 다가가고 알아가야죠 .'"
      ]
     },
     "execution_count": 41,
     "metadata": {},
     "output_type": "execute_result"
    }
   ],
   "source": [
    "# Test_3\n",
    "sentence_generation('형주가 코로나 상황에도 공부해야 된대. 불쌍하지 않니?')"
   ]
  },
  {
   "cell_type": "code",
   "execution_count": 42,
   "id": "0f08e186",
   "metadata": {},
   "outputs": [
    {
     "name": "stdout",
     "output_type": "stream",
     "text": [
      "문의 내용 : 거울아 거울아 누가 제일 멋있니?\n",
      "답변 내용 : 사랑의 콩깍지가 씌었네요 .\n"
     ]
    },
    {
     "data": {
      "text/plain": [
       "'사랑의 콩깍지가 씌었네요 .'"
      ]
     },
     "execution_count": 42,
     "metadata": {},
     "output_type": "execute_result"
    }
   ],
   "source": [
    "# Test_4\n",
    "sentence_generation('거울아 거울아 누가 제일 멋있니?')"
   ]
  },
  {
   "cell_type": "code",
   "execution_count": 43,
   "id": "d148eeac",
   "metadata": {},
   "outputs": [
    {
     "name": "stdout",
     "output_type": "stream",
     "text": [
      "문의 내용 : 사랑이란 무엇일까?\n",
      "답변 내용 : 사랑에는 조건도 중요한 요 .\n"
     ]
    },
    {
     "data": {
      "text/plain": [
       "'사랑에는 조건도 중요한 요 .'"
      ]
     },
     "execution_count": 43,
     "metadata": {},
     "output_type": "execute_result"
    }
   ],
   "source": [
    "# Test_5\n",
    "sentence_generation('사랑이란 무엇일까?')"
   ]
  },
  {
   "cell_type": "markdown",
   "id": "c173e5da",
   "metadata": {},
   "source": [
    "## 4. Project Retrospective"
   ]
  },
  {
   "cell_type": "markdown",
   "id": "6c6678a1",
   "metadata": {},
   "source": [
    "+ 한국어의 형태소 분석기가 없어도, Tokenization이 가능하다는 점을 배웠다.\n",
    "+ Teacher Forcing의 개념을 익혀 직접 적용한 첫 프로젝트였다.\n",
    "+ 한국어 전처리로 나름 정확한 결과를 구현해낸 것이 신기하고, 이를 통해 단순 문의에 대해서는 상담 자동화도 가능하겠다는 점을 보았다."
   ]
  }
 ],
 "metadata": {
  "kernelspec": {
   "display_name": "Python 3 (ipykernel)",
   "language": "python",
   "name": "python3"
  },
  "language_info": {
   "codemirror_mode": {
    "name": "ipython",
    "version": 3
   },
   "file_extension": ".py",
   "mimetype": "text/x-python",
   "name": "python",
   "nbconvert_exporter": "python",
   "pygments_lexer": "ipython3",
   "version": "3.9.7"
  }
 },
 "nbformat": 4,
 "nbformat_minor": 5
}
