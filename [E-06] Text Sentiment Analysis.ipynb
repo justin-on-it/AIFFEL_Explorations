{
 "cells": [
  {
   "cell_type": "markdown",
   "id": "c62598d1",
   "metadata": {},
   "source": [
    "# [E-06] Text Sentiment Analysis\n",
    "\"Exploration Node 6. Movie Review Text Analysis\" / 2022. 01. 27 (Thu) 이형주\n",
    "\n",
    "## Contents\n",
    "---\n",
    "- **1. 데이터 로드 및 전처리**\n",
    "- **2. 모델 설계, 데이터 분리, 시각화**\n",
    "- **3. KR word2vec 성능 개선**\n",
    "- **4. 모델 훈련 및 평가 - LSTM**\n",
    "- **5. 모델 훈련 및 평가 - GMP** \n",
    "- **6. 모델 훈련 및 평가 - CNN** \n",
    "- **7. 모델 훈련 및 평가 - LSTM + CNN** \n",
    "- **8. 프로젝트 회고** \n",
    "\n",
    "## Rubric 평가기준\n",
    "---\n",
    "\n",
    "|  평가문항  |  상세기준  |\n",
    "|:---------|:---------|\n",
    "|1. 다양한 방법으로 Text Classification 태스크를 성공적으로 구현하였다.|3가지 이상의 모델이 성공적으로 시도됨\n",
    "|2. gensim을 활용하여 자체학습된 혹은 사전학습된 임베딩 레이어를 분석하였다.|gensim의 유사단어 찾기를 활용하여 자체학습한 임베딩과 사전학습 임베딩을 적절히 분석함\n",
    "|3. 한국어 Word2Vec을 활용하여 가시적인 성능향상을 달성했다.|네이버 영화리뷰 데이터 감성분석 정확도를 85% 이상 달성함"
   ]
  },
  {
   "cell_type": "markdown",
   "id": "08130537",
   "metadata": {},
   "source": [
    "## 1. 데이터 로드 및 전처리"
   ]
  },
  {
   "cell_type": "markdown",
   "id": "98108b95",
   "metadata": {},
   "source": [
    "**데이터 로드**"
   ]
  },
  {
   "cell_type": "code",
   "execution_count": 1,
   "id": "59d30b9e",
   "metadata": {},
   "outputs": [
    {
     "data": {
      "text/html": [
       "<div>\n",
       "<style scoped>\n",
       "    .dataframe tbody tr th:only-of-type {\n",
       "        vertical-align: middle;\n",
       "    }\n",
       "\n",
       "    .dataframe tbody tr th {\n",
       "        vertical-align: top;\n",
       "    }\n",
       "\n",
       "    .dataframe thead th {\n",
       "        text-align: right;\n",
       "    }\n",
       "</style>\n",
       "<table border=\"1\" class=\"dataframe\">\n",
       "  <thead>\n",
       "    <tr style=\"text-align: right;\">\n",
       "      <th></th>\n",
       "      <th>id</th>\n",
       "      <th>document</th>\n",
       "      <th>label</th>\n",
       "    </tr>\n",
       "  </thead>\n",
       "  <tbody>\n",
       "    <tr>\n",
       "      <th>0</th>\n",
       "      <td>9976970</td>\n",
       "      <td>아 더빙.. 진짜 짜증나네요 목소리</td>\n",
       "      <td>0</td>\n",
       "    </tr>\n",
       "    <tr>\n",
       "      <th>1</th>\n",
       "      <td>3819312</td>\n",
       "      <td>흠...포스터보고 초딩영화줄....오버연기조차 가볍지 않구나</td>\n",
       "      <td>1</td>\n",
       "    </tr>\n",
       "    <tr>\n",
       "      <th>2</th>\n",
       "      <td>10265843</td>\n",
       "      <td>너무재밓었다그래서보는것을추천한다</td>\n",
       "      <td>0</td>\n",
       "    </tr>\n",
       "    <tr>\n",
       "      <th>3</th>\n",
       "      <td>9045019</td>\n",
       "      <td>교도소 이야기구먼 ..솔직히 재미는 없다..평점 조정</td>\n",
       "      <td>0</td>\n",
       "    </tr>\n",
       "    <tr>\n",
       "      <th>4</th>\n",
       "      <td>6483659</td>\n",
       "      <td>사이몬페그의 익살스런 연기가 돋보였던 영화!스파이더맨에서 늙어보이기만 했던 커스틴 ...</td>\n",
       "      <td>1</td>\n",
       "    </tr>\n",
       "  </tbody>\n",
       "</table>\n",
       "</div>"
      ],
      "text/plain": [
       "         id                                           document  label\n",
       "0   9976970                                아 더빙.. 진짜 짜증나네요 목소리      0\n",
       "1   3819312                  흠...포스터보고 초딩영화줄....오버연기조차 가볍지 않구나      1\n",
       "2  10265843                                  너무재밓었다그래서보는것을추천한다      0\n",
       "3   9045019                      교도소 이야기구먼 ..솔직히 재미는 없다..평점 조정      0\n",
       "4   6483659  사이몬페그의 익살스런 연기가 돋보였던 영화!스파이더맨에서 늙어보이기만 했던 커스틴 ...      1"
      ]
     },
     "execution_count": 1,
     "metadata": {},
     "output_type": "execute_result"
    }
   ],
   "source": [
    "import pandas as pd\n",
    "import urllib.request\n",
    "%matplotlib inline\n",
    "import matplotlib.pyplot as plt\n",
    "import re\n",
    "from konlpy.tag import Okt\n",
    "from tensorflow import keras\n",
    "from tensorflow.keras.preprocessing.text import Tokenizer\n",
    "import numpy as np\n",
    "from tensorflow.keras.preprocessing.sequence import pad_sequences\n",
    "from collections import Counter\n",
    "\n",
    "train_data = pd.read_table('~/aiffel/sentiment_classification/data/ratings_train.txt')\n",
    "test_data = pd.read_table('~/aiffel/sentiment_classification/data/ratings_test.txt')\n",
    "\n",
    "train_data.head()"
   ]
  },
  {
   "cell_type": "code",
   "execution_count": 2,
   "id": "bab249bf",
   "metadata": {},
   "outputs": [
    {
     "name": "stdout",
     "output_type": "stream",
     "text": [
      "아 더빙.. 진짜 짜증나네요 목소리\n",
      "0\n",
      "<class 'pandas.core.frame.DataFrame'>\n",
      "RangeIndex: 150000 entries, 0 to 149999\n",
      "Data columns (total 3 columns):\n",
      " #   Column    Non-Null Count   Dtype \n",
      "---  ------    --------------   ----- \n",
      " 0   id        150000 non-null  int64 \n",
      " 1   document  149995 non-null  object\n",
      " 2   label     150000 non-null  int64 \n",
      "dtypes: int64(2), object(1)\n",
      "memory usage: 3.4+ MB\n",
      "150000 150000\n",
      "50000 50000\n"
     ]
    }
   ],
   "source": [
    "# 트레이닝 데이터와 라벨 정보 확인하기\n",
    "print(train_data.document[0])\n",
    "print(train_data.label[0])\n",
    "\n",
    "train_data.info()\n",
    "\n",
    "# 트레이닝 데이터 (150,000개)\n",
    "print(len(train_data.document), len(train_data.label))\n",
    "# 테스트 데이터 (50,000개)\n",
    "print(len(test_data.document), len(test_data.label))"
   ]
  },
  {
   "cell_type": "markdown",
   "id": "95ec9baf",
   "metadata": {},
   "source": [
    "**데이터 전처리**"
   ]
  },
  {
   "cell_type": "code",
   "execution_count": 3,
   "id": "91edc118",
   "metadata": {},
   "outputs": [
    {
     "name": "stdout",
     "output_type": "stream",
     "text": [
      "146182\n",
      "True\n",
      "True\n",
      "id          0\n",
      "document    5\n",
      "label       0\n",
      "dtype: int64\n",
      "id          0\n",
      "document    3\n",
      "label       0\n",
      "dtype: int64\n",
      "False\n",
      "False\n"
     ]
    }
   ],
   "source": [
    "from konlpy.tag import Mecab\n",
    "tokenizer = Mecab()\n",
    "stopwords = ['의','가','이','은','들','는','좀','잘','걍','과','도','를','으로','자','에','와','한','하다']\n",
    "\n",
    "# 중복 데이터 확인\n",
    "# nunique() : 중복되지 않은 데이터수(146182)\n",
    "print(train_data['document'].nunique())\n",
    "\n",
    "# 결측치 \n",
    "print(train_data.isnull().values.any()) \n",
    "# True \n",
    "print(test_data.isnull().values.any()) \n",
    "# True \n",
    "print(train_data.isnull().sum())\n",
    "print(test_data.isnull().sum())\n",
    "\n",
    "num_words = 10000\n",
    "\n",
    "def load_data(train_data, test_data, num_words=num_words):\n",
    "    # 중복 데이터 정제\n",
    "    train_data.drop_duplicates(subset=['document'], inplace=True)   \n",
    "    # inplace=True 는 원본에서 정제\n",
    "    test_data.drop_duplicates(subset=['document'], inplace=True)   \n",
    "    # inplace=True 는 원본에서 정제\n",
    "    \n",
    "    # NaN 결측치 정제 \n",
    "    train_data = train_data.dropna()\n",
    "    test_data = test_data.dropna()\n",
    "    \n",
    "    # 결측치 확인 \n",
    "    print(train_data.isnull().values.any()) # False \n",
    "    print(test_data.isnull().values.any())  # False\n",
    "    \n",
    "    # 한국어 Tokenizer\n",
    "    X_train = []\n",
    "    for st in train_data['document']:\n",
    "        temp_x = tokenizer.morphs(st)\n",
    "        temp_x = [word for word in temp_x if not word in stopwords]   \n",
    "        # 불용어 제거 \n",
    "        X_train.append(temp_x)\n",
    "        \n",
    "    X_test = []\n",
    "    for st in test_data['document']:\n",
    "        temp_x_test = tokenizer.morphs(st)\n",
    "        temp_x_test = [word for word in temp_x_test if not word in stopwords]   \n",
    "        # 불용어 제거 \n",
    "        X_test.append(temp_x_test)\n",
    "        \n",
    "    \n",
    "    # word_to_index\n",
    "    words = np.concatenate(X_train).tolist()      \n",
    "    # train data를 list로\n",
    "    counter = Counter(words)                     \n",
    "    counter = counter.most_common(10000-4) \n",
    "    # pad, bos, unk, unused 제외, 자주 나오는 단어 (10,000 - dictionary)\n",
    "    vocab = ['<PAD>', '<BOS>', '<UNK>', '<UNUSED>'] + [key for key, _ in counter]\n",
    "    word_to_index = {word:index for index, word in enumerate(vocab)}\n",
    "    \n",
    "    # 텍스트 -> 인덱스 스트링 \n",
    "    def wordlist_to_indexlist(wordlist):\n",
    "        return [word_to_index[word] if word in word_to_index else word_to_index['<UNK>'] for word in wordlist]\n",
    "\n",
    "    X_train = list(map(wordlist_to_indexlist, X_train))\n",
    "    X_test = list(map(wordlist_to_indexlist, X_test))\n",
    "\n",
    "    return X_train, np.array(list(train_data['label'])), X_test, np.array(list(test_data['label'])), word_to_index\n",
    "    \n",
    "    \n",
    "X_train, y_train, X_test, y_test, word_to_index = load_data(train_data, test_data)"
   ]
  },
  {
   "cell_type": "code",
   "execution_count": 4,
   "id": "8934613c",
   "metadata": {},
   "outputs": [
    {
     "name": "stdout",
     "output_type": "stream",
     "text": [
      "146182 49157\n",
      "146182 49157\n"
     ]
    }
   ],
   "source": [
    "print(len(X_train), len(X_test))\n",
    "print(len(y_train), len(y_test))\n",
    "\n",
    "#index_to_word\n",
    "index_to_word = {index:word for word, index in word_to_index.items()}\n",
    "\n",
    "# 문장 1개를 딕셔너리와 함께 주면, 단어 인덱스 리스트 벡터로 변환\n",
    "# 단, 모든 문장은 <BOS>로 시작\n",
    "def get_encoded_sentence(sentence, word_to_index):\n",
    "    return [word_to_index['<BOS>']]+[word_to_index[word] if word in word_to_index else word_to_index['<UNK>'] for word in sentence.split()]\n",
    "\n",
    "# 여러 개의 문장 리스트를 한꺼번에 단어 인덱스 리스트 벡터로 encode\n",
    "def get_encoded_sentences(sentences, word_to_index):\n",
    "    return [get_encoded_sentence(sentence, word_to_index) for sentence in sentences]\n",
    "\n",
    "# 숫자 벡터로 encode된 문장을 원래대로 decode하는 함수\n",
    "def get_decoded_sentence(encoded_sentence, index_to_word):\n",
    "    return ' '.join(index_to_word[index] if index in index_to_word else '<UNK>' for index in encoded_sentence[1:])  #[1:]를 통해 <BOS>를 제외\n",
    "\n",
    "# 여러개의 숫자 벡터로 encode된 문장을 한꺼번에 원래대로 decode하는 함수\n",
    "def get_decoded_sentences(encoded_sentences, index_to_word):\n",
    "    return [get_decoded_sentence(encoded_sentence, index_to_word) for encoded_sentence in encoded_sentences]"
   ]
  },
  {
   "cell_type": "code",
   "execution_count": 5,
   "id": "48d21971",
   "metadata": {},
   "outputs": [
    {
     "data": {
      "image/png": "[encoded data removed]",
      "text/plain": [
       "<Figure size 432x288 with 1 Axes>"
      ]
     },
     "metadata": {
      "needs_background": "light"
     },
     "output_type": "display_data"
    }
   ],
   "source": [
    "plt.hist([len(s) for s in X_train], bins=50)\n",
    "plt.xlabel('length of samples')\n",
    "plt.ylabel('number of samples')\n",
    "plt.show()\n",
    "\n",
    "# insight\n",
    "## padding 값이 60 이상부터 매우 커짐\n",
    "## 문장길이 최대를 50 또는 그 이하로 제한 필요"
   ]
  },
  {
   "cell_type": "code",
   "execution_count": 6,
   "id": "4cf9bb04",
   "metadata": {},
   "outputs": [
    {
     "name": "stdout",
     "output_type": "stream",
     "text": [
      "sentence-length-average :  15.96940191154864\n",
      "sentence-length-max :  116\n",
      "sentence-length-standard-deviation :  12.843571191092\n",
      "pad_sequences maxlen :  41\n",
      "All of 0.9342988343341575% include the range of maxlen values \n"
     ]
    }
   ],
   "source": [
    "# 데이터 셋 통합 진행\n",
    "total_data_text = list(X_train) + list(X_test)\n",
    "\n",
    "num_tokens = [len(tokens) for tokens in total_data_text]\n",
    "num_tokens = np.array(num_tokens)\n",
    "\n",
    "#평균\n",
    "print('sentence-length-average : ', np.mean(num_tokens))\n",
    "#최대 -> (average + 2*std.deviation)\n",
    "print('sentence-length-max : ', np.max(num_tokens))\n",
    "#표준편차\n",
    "print('sentence-length-standard-deviation : ', np.std(num_tokens))\n",
    "\n",
    "max_tokens = np.mean(num_tokens) + 2 * np.std(num_tokens)\n",
    "maxlen = int(max_tokens)\n",
    "print('pad_sequences maxlen : ', maxlen)\n",
    "print('All of {}% include the range of maxlen values '.format(np.sum(num_tokens < max_tokens) / len(num_tokens)))"
   ]
  },
  {
   "cell_type": "code",
   "execution_count": 7,
   "id": "f472e79a",
   "metadata": {},
   "outputs": [
    {
     "name": "stdout",
     "output_type": "stream",
     "text": [
      "(146182, 41)\n"
     ]
    }
   ],
   "source": [
    "X_train = keras.preprocessing.sequence.pad_sequences(X_train,\n",
    "                                                        value=word_to_index[\"<PAD>\"],\n",
    "                                                        padding='pre', \n",
    "                                                        maxlen=maxlen)\n",
    "X_test = keras.preprocessing.sequence.pad_sequences(X_test,\n",
    "                                                       value=word_to_index[\"<PAD>\"],\n",
    "                                                       padding='pre', \n",
    "                                                       maxlen=maxlen)\n",
    "\n",
    "print(X_train.shape)"
   ]
  },
  {
   "cell_type": "markdown",
   "id": "0878754c",
   "metadata": {},
   "source": [
    "## 2. 모델 설계, 데이터 분리, 결과 시각화"
   ]
  },
  {
   "cell_type": "markdown",
   "id": "90621750",
   "metadata": {},
   "source": [
    "**모델 설계**"
   ]
  },
  {
   "cell_type": "code",
   "execution_count": 8,
   "id": "c7d7dcd0",
   "metadata": {},
   "outputs": [
    {
     "name": "stdout",
     "output_type": "stream",
     "text": [
      "Model: \"sequential\"\n",
      "_________________________________________________________________\n",
      "Layer (type)                 Output Shape              Param #   \n",
      "=================================================================\n",
      "embedding (Embedding)        (None, None, 16)          160000    \n",
      "_________________________________________________________________\n",
      "conv1d (Conv1D)              (None, None, 16)          1808      \n",
      "_________________________________________________________________\n",
      "max_pooling1d (MaxPooling1D) (None, None, 16)          0         \n",
      "_________________________________________________________________\n",
      "conv1d_1 (Conv1D)            (None, None, 32)          3616      \n",
      "_________________________________________________________________\n",
      "global_max_pooling1d (Global (None, 32)                0         \n",
      "_________________________________________________________________\n",
      "dense (Dense)                (None, 32)                1056      \n",
      "_________________________________________________________________\n",
      "dense_1 (Dense)              (None, 1)                 33        \n",
      "=================================================================\n",
      "Total params: 166,513\n",
      "Trainable params: 166,513\n",
      "Non-trainable params: 0\n",
      "_________________________________________________________________\n"
     ]
    }
   ],
   "source": [
    "vocab_size = 10000    # 어휘 사전의 크기(10,000개의 단어)\n",
    "word_vector_dim = 16  # 워드 벡터의 차원 (하이퍼파라미터)\n",
    "\n",
    "# model 설계\n",
    "model = keras.Sequential()\n",
    "model.add(keras.layers.Embedding(vocab_size, word_vector_dim, input_shape=(None,)))\n",
    "model.add(keras.layers.Conv1D(16, 7, activation='relu'))\n",
    "model.add(keras.layers.MaxPooling1D(5))\n",
    "model.add(keras.layers.Conv1D(32, 7, activation='relu'))\n",
    "model.add(keras.layers.GlobalMaxPooling1D())\n",
    "model.add(keras.layers.Dense(32, activation='relu'))\n",
    "model.add(keras.layers.Dense(1, activation='sigmoid'))  \n",
    "# 최종 출력은 긍정/부정을 나타내는 1dim\n",
    "\n",
    "model.summary()"
   ]
  },
  {
   "cell_type": "markdown",
   "id": "3345cbcd",
   "metadata": {},
   "source": [
    "**데이터 분리**"
   ]
  },
  {
   "cell_type": "code",
   "execution_count": 9,
   "id": "0fc7f3de",
   "metadata": {},
   "outputs": [
    {
     "name": "stdout",
     "output_type": "stream",
     "text": [
      "(131563, 41) (131563,)\n",
      "(14619, 41) (14619,)\n"
     ]
    }
   ],
   "source": [
    "from sklearn import model_selection\n",
    "\n",
    "x_train, x_val, y_train, y_val = model_selection.train_test_split(X_train, y_train, test_size = 0.1, shuffle=False)\n",
    "\n",
    "print(x_train.shape, y_train.shape)\n",
    "print(x_val.shape, y_val.shape)"
   ]
  },
  {
   "cell_type": "markdown",
   "id": "04bbf074",
   "metadata": {},
   "source": [
    "**모델 작동**"
   ]
  },
  {
   "cell_type": "code",
   "execution_count": 10,
   "id": "0c87ed4f",
   "metadata": {},
   "outputs": [
    {
     "name": "stdout",
     "output_type": "stream",
     "text": [
      "Epoch 1/20\n",
      "129/129 - 4s - loss: 0.5164 - accuracy: 0.7370 - val_loss: 0.3680 - val_accuracy: 0.8403\n",
      "Epoch 2/20\n",
      "129/129 - 1s - loss: 0.3341 - accuracy: 0.8575 - val_loss: 0.3457 - val_accuracy: 0.8482\n",
      "Epoch 3/20\n",
      "129/129 - 1s - loss: 0.2992 - accuracy: 0.8755 - val_loss: 0.3451 - val_accuracy: 0.8495\n",
      "Epoch 4/20\n",
      "129/129 - 1s - loss: 0.2726 - accuracy: 0.8887 - val_loss: 0.3444 - val_accuracy: 0.8525\n",
      "Epoch 5/20\n",
      "129/129 - 1s - loss: 0.2457 - accuracy: 0.9025 - val_loss: 0.3490 - val_accuracy: 0.8541\n",
      "Epoch 6/20\n",
      "129/129 - 1s - loss: 0.2160 - accuracy: 0.9177 - val_loss: 0.3723 - val_accuracy: 0.8490\n",
      "Epoch 7/20\n",
      "129/129 - 1s - loss: 0.1864 - accuracy: 0.9312 - val_loss: 0.3923 - val_accuracy: 0.8471\n",
      "Epoch 8/20\n",
      "129/129 - 1s - loss: 0.1584 - accuracy: 0.9443 - val_loss: 0.4356 - val_accuracy: 0.8412\n",
      "Epoch 9/20\n",
      "129/129 - 1s - loss: 0.1348 - accuracy: 0.9550 - val_loss: 0.4655 - val_accuracy: 0.8396\n",
      "Epoch 10/20\n",
      "129/129 - 1s - loss: 0.1151 - accuracy: 0.9635 - val_loss: 0.5068 - val_accuracy: 0.8369\n",
      "Epoch 11/20\n",
      "129/129 - 1s - loss: 0.0998 - accuracy: 0.9689 - val_loss: 0.5496 - val_accuracy: 0.8320\n",
      "Epoch 12/20\n",
      "129/129 - 1s - loss: 0.0878 - accuracy: 0.9731 - val_loss: 0.5872 - val_accuracy: 0.8310\n",
      "Epoch 13/20\n",
      "129/129 - 1s - loss: 0.0771 - accuracy: 0.9770 - val_loss: 0.6314 - val_accuracy: 0.8286\n",
      "Epoch 14/20\n",
      "129/129 - 1s - loss: 0.0690 - accuracy: 0.9799 - val_loss: 0.6659 - val_accuracy: 0.8282\n",
      "Epoch 15/20\n",
      "129/129 - 1s - loss: 0.0626 - accuracy: 0.9820 - val_loss: 0.7032 - val_accuracy: 0.8279\n",
      "Epoch 16/20\n",
      "129/129 - 1s - loss: 0.0557 - accuracy: 0.9840 - val_loss: 0.7477 - val_accuracy: 0.8248\n",
      "Epoch 17/20\n",
      "129/129 - 1s - loss: 0.0509 - accuracy: 0.9855 - val_loss: 0.8067 - val_accuracy: 0.8195\n",
      "Epoch 18/20\n",
      "129/129 - 1s - loss: 0.0476 - accuracy: 0.9865 - val_loss: 0.8251 - val_accuracy: 0.8214\n",
      "Epoch 19/20\n",
      "129/129 - 1s - loss: 0.0436 - accuracy: 0.9878 - val_loss: 0.8853 - val_accuracy: 0.8189\n",
      "Epoch 20/20\n",
      "129/129 - 1s - loss: 0.0425 - accuracy: 0.9878 - val_loss: 0.9018 - val_accuracy: 0.8160\n",
      "1537/1537 - 2s - loss: 0.9179 - accuracy: 0.8133\n",
      "[0.9179069399833679, 0.8132920861244202]\n"
     ]
    }
   ],
   "source": [
    "model.compile(optimizer='adam',\n",
    "              loss='binary_crossentropy',\n",
    "              metrics=['accuracy'])\n",
    "              \n",
    "epochs=20\n",
    "batch_size=1024\n",
    "history = model.fit(x_train,\n",
    "                    y_train,\n",
    "                    epochs=epochs,\n",
    "                    batch_size=batch_size,\n",
    "                    validation_data=(x_val, y_val),\n",
    "                    verbose=2)\n",
    "results = model.evaluate(X_test,  y_test, verbose=2)\n",
    "\n",
    "print(results)"
   ]
  },
  {
   "cell_type": "code",
   "execution_count": 11,
   "id": "581c96a7",
   "metadata": {},
   "outputs": [
    {
     "data": {
      "image/png": "[encoded data removed]",
      "text/plain": [
       "<Figure size 432x288 with 1 Axes>"
      ]
     },
     "metadata": {
      "needs_background": "light"
     },
     "output_type": "display_data"
    },
    {
     "data": {
      "image/png": "[encoded data removed]",
      "text/plain": [
       "<Figure size 432x288 with 1 Axes>"
      ]
     },
     "metadata": {
      "needs_background": "light"
     },
     "output_type": "display_data"
    }
   ],
   "source": [
    "#visualization for history\n",
    "import matplotlib.pyplot as plt\n",
    "\n",
    "plt.plot(history.history['accuracy'])\n",
    "plt.plot(history.history['val_accuracy'])\n",
    "plt.title('model accuracy')\n",
    "plt.ylabel('accuracy')\n",
    "plt.xlabel('epoch')\n",
    "plt.legend(['train', 'val'], loc='upper left')\n",
    "plt.show()\n",
    "\n",
    "# loss history\n",
    "plt.plot(history.history['loss'])\n",
    "plt.plot(history.history['val_loss'])\n",
    "plt.title('model loss')\n",
    "plt.ylabel('loss')\n",
    "plt.xlabel('epoch')\n",
    "plt.legend(['train', 'val'], loc='upper left')\n",
    "plt.show()"
   ]
  },
  {
   "cell_type": "code",
   "execution_count": 12,
   "id": "031fbab2",
   "metadata": {},
   "outputs": [
    {
     "name": "stdout",
     "output_type": "stream",
     "text": [
      "(10000, 16)\n"
     ]
    },
    {
     "data": {
      "text/plain": [
       "array([-0.0212849 ,  0.01612688,  0.02286533, -0.00324545, -0.01111559,\n",
       "       -0.00165225, -0.00531986, -0.01427822,  0.00391941,  0.00283402,\n",
       "       -0.01479512,  0.00353412,  0.00701665, -0.01996804,  0.05366868,\n",
       "       -0.01125995], dtype=float32)"
      ]
     },
     "execution_count": 12,
     "metadata": {},
     "output_type": "execute_result"
    }
   ],
   "source": [
    "#embedding layer\n",
    "embedding_layer = model.layers[0]\n",
    "weights = embedding_layer.get_weights()[0]\n",
    "print(weights.shape)    \n",
    "\n",
    "import os\n",
    "\n",
    "word2vec_file_path = os.getenv('HOME')+'/aiffel/sentiment_classification/word2vec.txt'\n",
    "f = open(word2vec_file_path, 'w')\n",
    "# 몇개의 벡터를 얼마 사이즈로 기재할지\n",
    "f.write('{} {}\\n'.format(vocab_size-4, word_vector_dim))  \n",
    "\n",
    "# 단어 개수(에서 특수문자 4개 제외)의 워드 벡터를 파일 기록\n",
    "vectors = model.get_weights()[0]\n",
    "for i in range(4,vocab_size):\n",
    "    f.write('{} {}\\n'.format(index_to_word[i], ' '.join(map(str, list(vectors[i, :])))))\n",
    "f.close()\n",
    "\n",
    "from gensim.models.keyedvectors import Word2VecKeyedVectors\n",
    "\n",
    "word_vectors = Word2VecKeyedVectors.load_word2vec_format(word2vec_file_path, binary=False)\n",
    "vector = word_vectors['영화']\n",
    "vector"
   ]
  },
  {
   "cell_type": "code",
   "execution_count": 13,
   "id": "8da204dc",
   "metadata": {},
   "outputs": [
    {
     "data": {
      "text/plain": [
       "[('규칙', 0.7737053036689758),\n",
       " ('몰르', 0.7660144567489624),\n",
       " ('걸까', 0.745192289352417),\n",
       " ('따로', 0.7410476207733154),\n",
       " ('아가씨', 0.7357643246650696),\n",
       " ('할배', 0.7334765195846558),\n",
       " ('아류', 0.7268668413162231),\n",
       " ('장백지', 0.724068284034729),\n",
       " ('차인표', 0.710946261882782),\n",
       " ('장르노', 0.702974796295166)]"
      ]
     },
     "execution_count": 13,
     "metadata": {},
     "output_type": "execute_result"
    }
   ],
   "source": [
    "#word2vec test1\n",
    "#배우와 연관없는 벡터가 다수 있음 (모델 성능저하)\n",
    "word_vectors.similar_by_word(\"배우\")"
   ]
  },
  {
   "cell_type": "code",
   "execution_count": 14,
   "id": "c0c0ae6d",
   "metadata": {},
   "outputs": [
    {
     "data": {
      "text/plain": [
       "[('홍련', 0.8604598045349121),\n",
       " ('낸', 0.7939181327819824),\n",
       " ('미셸', 0.7810453772544861),\n",
       " ('반가운', 0.7769428491592407),\n",
       " ('오프닝', 0.7661426067352295),\n",
       " ('당당', 0.7522950172424316),\n",
       " ('일치', 0.7380517721176147),\n",
       " ('켄', 0.7317261695861816),\n",
       " ('톰행크스', 0.7256875038146973),\n",
       " ('에밀리', 0.7152406573295593)]"
      ]
     },
     "execution_count": 14,
     "metadata": {},
     "output_type": "execute_result"
    }
   ],
   "source": [
    "#word2vec test2\n",
    "#연기와 연관없는 벡터가 다수 있음 (모델 성능저하)\n",
    "word_vectors.similar_by_word(\"연기\")"
   ]
  },
  {
   "cell_type": "markdown",
   "id": "ba6d3e1b",
   "metadata": {},
   "source": [
    "## 3. KR word2vec 성능 개선"
   ]
  },
  {
   "cell_type": "code",
   "execution_count": 15,
   "id": "4f02c3eb",
   "metadata": {},
   "outputs": [
    {
     "name": "stdout",
     "output_type": "stream",
     "text": [
      "Requirement already satisfied: gensim==3.8.3 in /opt/conda/lib/python3.9/site-packages (3.8.3)\n",
      "Requirement already satisfied: smart-open>=1.8.1 in /opt/conda/lib/python3.9/site-packages (from gensim==3.8.3) (5.2.1)\n",
      "Requirement already satisfied: six>=1.5.0 in /opt/conda/lib/python3.9/site-packages (from gensim==3.8.3) (1.16.0)\n",
      "Requirement already satisfied: scipy>=0.18.1 in /opt/conda/lib/python3.9/site-packages (from gensim==3.8.3) (1.7.1)\n",
      "Requirement already satisfied: numpy>=1.11.3 in /opt/conda/lib/python3.9/site-packages (from gensim==3.8.3) (1.21.4)\n",
      "\u001b[33mWARNING: Running pip as the 'root' user can result in broken permissions and conflicting behaviour with the system package manager. It is recommended to use a virtual environment instead: https://pip.pypa.io/warnings/venv\u001b[0m\n",
      "Note: you may need to restart the kernel to use updated packages.\n"
     ]
    }
   ],
   "source": [
    "pip install --upgrade gensim==3.8.3"
   ]
  },
  {
   "cell_type": "code",
   "execution_count": 16,
   "id": "4aafef3e",
   "metadata": {},
   "outputs": [
    {
     "data": {
      "text/plain": [
       "[('가르치', 0.7075916528701782),\n",
       " ('익히', 0.5947338938713074),\n",
       " ('공부', 0.5693216919898987),\n",
       " ('영화배우', 0.523245096206665),\n",
       " ('연출가', 0.509418249130249),\n",
       " ('후배', 0.49829238653182983),\n",
       " ('연극배우', 0.47326865792274475),\n",
       " ('연마', 0.4723285734653473),\n",
       " ('선보이', 0.471835732460022),\n",
       " ('무용가', 0.46976548433303833)]"
      ]
     },
     "execution_count": 16,
     "metadata": {},
     "output_type": "execute_result"
    }
   ],
   "source": [
    "import gensim\n",
    "import os\n",
    "from gensim.models import KeyedVectors\n",
    "from gensim.models import Word2Vec\n",
    "\n",
    "word2vec_path = os.getenv('HOME')+'/aiffel/sentiment_classification/ko.bin'\n",
    "ko_model = Word2Vec.load(word2vec_path)\n",
    "ko_model.wv.most_similar(\"배우\")\n",
    "\n",
    "#pretrained word2vec > embedding layer with no word2vec"
   ]
  },
  {
   "cell_type": "code",
   "execution_count": 17,
   "id": "dfd5735d",
   "metadata": {},
   "outputs": [
    {
     "data": {
      "text/plain": [
       "[('연출', 0.5039602518081665),\n",
       " ('뮤직비디오', 0.468474805355072),\n",
       " ('주연', 0.45783281326293945),\n",
       " ('출연', 0.4573212265968323),\n",
       " ('안무', 0.4553908705711365),\n",
       " ('캐스팅', 0.43967583775520325),\n",
       " ('조연', 0.4288240671157837),\n",
       " ('단역', 0.4258745610713959),\n",
       " ('영화화', 0.4199691116809845),\n",
       " ('냄새', 0.4133602976799011)]"
      ]
     },
     "execution_count": 17,
     "metadata": {},
     "output_type": "execute_result"
    }
   ],
   "source": [
    "ko_model.wv.most_similar(\"연기\")"
   ]
  },
  {
   "cell_type": "code",
   "execution_count": 18,
   "id": "35c8f02d",
   "metadata": {},
   "outputs": [
    {
     "name": "stdout",
     "output_type": "stream",
     "text": [
      "Model: \"sequential_1\"\n",
      "_________________________________________________________________\n",
      "Layer (type)                 Output Shape              Param #   \n",
      "=================================================================\n",
      "embedding_1 (Embedding)      (None, 41, 200)           2000000   \n",
      "_________________________________________________________________\n",
      "conv1d_2 (Conv1D)            (None, 35, 16)            22416     \n",
      "_________________________________________________________________\n",
      "max_pooling1d_1 (MaxPooling1 (None, 7, 16)             0         \n",
      "_________________________________________________________________\n",
      "conv1d_3 (Conv1D)            (None, 1, 32)             3616      \n",
      "_________________________________________________________________\n",
      "global_max_pooling1d_1 (Glob (None, 32)                0         \n",
      "_________________________________________________________________\n",
      "dense_2 (Dense)              (None, 32)                1056      \n",
      "_________________________________________________________________\n",
      "dense_3 (Dense)              (None, 1)                 33        \n",
      "=================================================================\n",
      "Total params: 2,027,121\n",
      "Trainable params: 2,027,121\n",
      "Non-trainable params: 0\n",
      "_________________________________________________________________\n"
     ]
    },
    {
     "name": "stderr",
     "output_type": "stream",
     "text": [
      "/tmp/ipykernel_655/4214867982.py:10: DeprecationWarning: Call to deprecated `__contains__` (Method will be removed in 4.0.0, use self.wv.__contains__() instead).\n",
      "  if index_to_word[i] in ko_model:\n",
      "/tmp/ipykernel_655/4214867982.py:11: DeprecationWarning: Call to deprecated `__getitem__` (Method will be removed in 4.0.0, use self.wv.__getitem__() instead).\n",
      "  embedding_matrix[i] = ko_model[index_to_word[i]]\n"
     ]
    }
   ],
   "source": [
    "#changing embedding layer\n",
    "#hyperparameters 166,513 -> 2,027,121\n",
    "\n",
    "vocab_size = 10000   \n",
    "word_vector_dim = 200\n",
    "\n",
    "embedding_matrix = np.random.rand(vocab_size, word_vector_dim)\n",
    "\n",
    "# embedding_matrix에 Word2Vec 워드벡터를 하나씩 복사\n",
    "for i in range(4,vocab_size):\n",
    "    if index_to_word[i] in ko_model:\n",
    "        embedding_matrix[i] = ko_model[index_to_word[i]]\n",
    "        \n",
    "from tensorflow.keras.initializers import Constant\n",
    "\n",
    "# 모델\n",
    "model_conv = keras.Sequential()\n",
    "model_conv.add(keras.layers.Embedding(vocab_size, \n",
    "                                 word_vector_dim, \n",
    "                                 embeddings_initializer=Constant(embedding_matrix),  # 카피한 임베딩을 여기서 활용\n",
    "                                 input_length=maxlen, \n",
    "                                 trainable=True))   # trainable을 True로 주면 Fine-tuning\n",
    "model_conv.add(keras.layers.Conv1D(16, 7, activation='relu'))\n",
    "model_conv.add(keras.layers.MaxPooling1D(5))\n",
    "model_conv.add(keras.layers.Conv1D(32, 7, activation='relu'))\n",
    "model_conv.add(keras.layers.GlobalMaxPooling1D())\n",
    "model_conv.add(keras.layers.Dense(32, activation='relu'))\n",
    "model_conv.add(keras.layers.Dense(1, activation='sigmoid')) \n",
    "\n",
    "model_conv.summary()"
   ]
  },
  {
   "cell_type": "code",
   "execution_count": 19,
   "id": "990b28e5",
   "metadata": {},
   "outputs": [
    {
     "name": "stdout",
     "output_type": "stream",
     "text": [
      "Epoch 1/20\n",
      "129/129 [==============================] - 3s 14ms/step - loss: 0.5571 - accuracy: 0.7019 - val_loss: 0.4596 - val_accuracy: 0.7839\n",
      "Epoch 2/20\n",
      "129/129 [==============================] - 1s 9ms/step - loss: 0.4097 - accuracy: 0.8147 - val_loss: 0.3965 - val_accuracy: 0.8206\n",
      "Epoch 3/20\n",
      "129/129 [==============================] - 1s 9ms/step - loss: 0.3479 - accuracy: 0.8487 - val_loss: 0.3690 - val_accuracy: 0.8375\n",
      "Epoch 4/20\n",
      "129/129 [==============================] - 1s 9ms/step - loss: 0.3101 - accuracy: 0.8694 - val_loss: 0.3547 - val_accuracy: 0.8451\n",
      "Epoch 5/20\n",
      "129/129 [==============================] - 1s 9ms/step - loss: 0.2855 - accuracy: 0.8821 - val_loss: 0.3556 - val_accuracy: 0.8475\n",
      "Epoch 6/20\n",
      "129/129 [==============================] - 1s 9ms/step - loss: 0.2621 - accuracy: 0.8933 - val_loss: 0.3502 - val_accuracy: 0.8517\n",
      "Epoch 7/20\n",
      "129/129 [==============================] - 1s 9ms/step - loss: 0.2418 - accuracy: 0.9044 - val_loss: 0.3800 - val_accuracy: 0.8420\n",
      "Epoch 8/20\n",
      "129/129 [==============================] - 1s 9ms/step - loss: 0.2247 - accuracy: 0.9127 - val_loss: 0.3684 - val_accuracy: 0.8494\n",
      "Epoch 9/20\n",
      "129/129 [==============================] - 1s 9ms/step - loss: 0.2054 - accuracy: 0.9213 - val_loss: 0.3933 - val_accuracy: 0.8423\n",
      "Epoch 10/20\n",
      "129/129 [==============================] - 1s 9ms/step - loss: 0.1886 - accuracy: 0.9300 - val_loss: 0.4226 - val_accuracy: 0.8419\n",
      "Epoch 11/20\n",
      "129/129 [==============================] - 1s 9ms/step - loss: 0.1716 - accuracy: 0.9373 - val_loss: 0.4478 - val_accuracy: 0.8423\n",
      "Epoch 12/20\n",
      "129/129 [==============================] - 1s 9ms/step - loss: 0.1547 - accuracy: 0.9456 - val_loss: 0.4847 - val_accuracy: 0.8294\n",
      "Epoch 13/20\n",
      "129/129 [==============================] - 1s 9ms/step - loss: 0.1417 - accuracy: 0.9509 - val_loss: 0.4948 - val_accuracy: 0.8389\n",
      "Epoch 14/20\n",
      "129/129 [==============================] - 1s 9ms/step - loss: 0.1257 - accuracy: 0.9572 - val_loss: 0.5169 - val_accuracy: 0.8362\n",
      "Epoch 15/20\n",
      "129/129 [==============================] - 1s 9ms/step - loss: 0.1141 - accuracy: 0.9620 - val_loss: 0.5446 - val_accuracy: 0.8341\n",
      "Epoch 16/20\n",
      "129/129 [==============================] - 1s 9ms/step - loss: 0.1044 - accuracy: 0.9659 - val_loss: 0.5914 - val_accuracy: 0.8302\n",
      "Epoch 17/20\n",
      "129/129 [==============================] - 1s 9ms/step - loss: 0.0912 - accuracy: 0.9715 - val_loss: 0.5940 - val_accuracy: 0.8333\n",
      "Epoch 18/20\n",
      "129/129 [==============================] - 1s 9ms/step - loss: 0.0823 - accuracy: 0.9744 - val_loss: 0.6678 - val_accuracy: 0.8321\n",
      "Epoch 19/20\n",
      "129/129 [==============================] - 1s 9ms/step - loss: 0.0727 - accuracy: 0.9781 - val_loss: 0.7080 - val_accuracy: 0.8320\n",
      "Epoch 20/20\n",
      "129/129 [==============================] - 1s 9ms/step - loss: 0.0672 - accuracy: 0.9798 - val_loss: 0.7162 - val_accuracy: 0.8307\n"
     ]
    }
   ],
   "source": [
    "#모델 작동\n",
    "model_conv.compile(optimizer='adam',\n",
    "              loss='binary_crossentropy',\n",
    "              metrics=['accuracy'])\n",
    "              \n",
    "epochs=20\n",
    "batch_size=1024\n",
    "\n",
    "history = model_conv.fit(x_train,\n",
    "                    y_train,\n",
    "                    epochs=epochs,\n",
    "                    batch_size=batch_size,\n",
    "                    validation_data=(x_val, y_val),\n",
    "                    verbose=1)"
   ]
  },
  {
   "cell_type": "code",
   "execution_count": 21,
   "id": "6fb82d6a",
   "metadata": {},
   "outputs": [
    {
     "data": {
      "image/png": "[encoded data removed]",
      "text/plain": [
       "<Figure size 432x288 with 1 Axes>"
      ]
     },
     "metadata": {
      "needs_background": "light"
     },
     "output_type": "display_data"
    },
    {
     "data": {
      "image/png": "[encoded data removed]",
      "text/plain": [
       "<Figure size 432x288 with 1 Axes>"
      ]
     },
     "metadata": {
      "needs_background": "light"
     },
     "output_type": "display_data"
    },
    {
     "name": "stdout",
     "output_type": "stream",
     "text": [
      "1537/1537 - 2s - loss: 0.9179 - accuracy: 0.8133\n",
      "[0.9179069399833679, 0.8132920861244202]\n"
     ]
    }
   ],
   "source": [
    "plt.plot(history.history['accuracy'])\n",
    "plt.plot(history.history['val_accuracy'])\n",
    "plt.title('model accuracy')\n",
    "plt.ylabel('accuracy')\n",
    "plt.xlabel('epoch')\n",
    "plt.legend(['train', 'val'], loc='upper left')\n",
    "plt.show()\n",
    "\n",
    "# loss\n",
    "plt.plot(history.history['loss'])\n",
    "plt.plot(history.history['val_loss'])\n",
    "plt.title('model loss')\n",
    "plt.ylabel('loss')\n",
    "plt.xlabel('epoch')\n",
    "plt.legend(['train', 'val'], loc='upper left')\n",
    "plt.show()\n",
    "\n",
    "results = model.evaluate(X_test,  y_test, verbose=2)\n",
    "print(results)\n",
    "\n",
    "#embedding layer 교체 후 Accuracy 소폭 증가"
   ]
  },
  {
   "cell_type": "markdown",
   "id": "607d04bb",
   "metadata": {},
   "source": [
    "## 4. 모델 훈련 및 평가 - LSTM"
   ]
  },
  {
   "cell_type": "code",
   "execution_count": 23,
   "id": "b7d73393",
   "metadata": {},
   "outputs": [
    {
     "name": "stdout",
     "output_type": "stream",
     "text": [
      "Model: \"sequential_2\"\n",
      "_________________________________________________________________\n",
      "Layer (type)                 Output Shape              Param #   \n",
      "=================================================================\n",
      "embedding_2 (Embedding)      (None, 41, 200)           2000000   \n",
      "_________________________________________________________________\n",
      "lstm (LSTM)                  (None, 512)               1460224   \n",
      "_________________________________________________________________\n",
      "dense_4 (Dense)              (None, 1)                 513       \n",
      "=================================================================\n",
      "Total params: 3,460,737\n",
      "Trainable params: 3,460,737\n",
      "Non-trainable params: 0\n",
      "_________________________________________________________________\n",
      "Epoch 1/10\n",
      "129/129 [==============================] - 17s 118ms/step - loss: 0.4828 - accuracy: 0.7610 - val_loss: 0.3760 - val_accuracy: 0.8333\n",
      "Epoch 2/10\n",
      "129/129 [==============================] - 15s 116ms/step - loss: 0.3343 - accuracy: 0.8537 - val_loss: 0.3225 - val_accuracy: 0.8606\n",
      "Epoch 3/10\n",
      "129/129 [==============================] - 15s 116ms/step - loss: 0.2842 - accuracy: 0.8793 - val_loss: 0.3106 - val_accuracy: 0.8678\n",
      "Epoch 4/10\n",
      "129/129 [==============================] - 15s 119ms/step - loss: 0.2499 - accuracy: 0.8959 - val_loss: 0.3139 - val_accuracy: 0.8679\n",
      "Epoch 5/10\n",
      "129/129 [==============================] - 15s 119ms/step - loss: 0.2185 - accuracy: 0.9111 - val_loss: 0.3231 - val_accuracy: 0.8683\n",
      "Epoch 6/10\n",
      "129/129 [==============================] - 16s 120ms/step - loss: 0.1841 - accuracy: 0.9267 - val_loss: 0.3379 - val_accuracy: 0.8707\n",
      "Epoch 7/10\n",
      "129/129 [==============================] - 16s 121ms/step - loss: 0.1444 - accuracy: 0.9438 - val_loss: 0.3723 - val_accuracy: 0.8647\n",
      "Epoch 8/10\n",
      "129/129 [==============================] - 16s 121ms/step - loss: 0.1078 - accuracy: 0.9596 - val_loss: 0.4431 - val_accuracy: 0.8635\n",
      "Epoch 9/10\n",
      "129/129 [==============================] - 16s 122ms/step - loss: 0.0800 - accuracy: 0.9708 - val_loss: 0.4928 - val_accuracy: 0.8588\n",
      "Epoch 10/10\n",
      "129/129 [==============================] - 16s 122ms/step - loss: 0.0625 - accuracy: 0.9776 - val_loss: 0.5600 - val_accuracy: 0.8628\n"
     ]
    },
    {
     "name": "stderr",
     "output_type": "stream",
     "text": [
      "Exception ignored in: <function IteratorResourceDeleter.__del__ at 0x7f1d4ada19d0>\n",
      "Traceback (most recent call last):\n",
      "  File \"/opt/conda/lib/python3.9/site-packages/tensorflow/python/data/ops/iterator_ops.py\", line 545, in __del__\n",
      "    gen_dataset_ops.delete_iterator(\n",
      "  File \"/opt/conda/lib/python3.9/site-packages/tensorflow/python/ops/gen_dataset_ops.py\", line 1263, in delete_iterator\n",
      "    _result = pywrap_tfe.TFE_Py_FastPathExecute(\n",
      "KeyboardInterrupt: \n"
     ]
    }
   ],
   "source": [
    "# LSTM - 모델 훈련 및 평가\n",
    "\n",
    "##설계\n",
    "vocab_size = 10000\n",
    "word_vector_dim = 200  \n",
    "\n",
    "model_LSTM = keras.Sequential()\n",
    "model_LSTM.add(keras.layers.Embedding(vocab_size, \n",
    "                                 word_vector_dim, \n",
    "                                 embeddings_initializer=Constant(embedding_matrix),  # 카피한 임베딩을 여기서 활용\n",
    "                                 input_length=maxlen, \n",
    "                                 trainable=True)) \n",
    "model_LSTM.add(keras.layers.LSTM(512))   \n",
    "model_LSTM.add(keras.layers.Dense(1, activation='sigmoid'))  # 최종 출력은 긍정/부정을 나타내는 1dim 입니다.\n",
    "\n",
    "model_LSTM.summary()\n",
    "\n",
    "## 모델 작동\n",
    "model_LSTM.compile(optimizer='adam',\n",
    "              loss='binary_crossentropy',\n",
    "              metrics=['accuracy'])\n",
    "              \n",
    "epochs=10\n",
    "batch_size=1024\n",
    "\n",
    "history_LSTM = model_LSTM.fit(x_train,\n",
    "                    y_train,\n",
    "                    epochs=epochs,\n",
    "                    batch_size=batch_size,\n",
    "                    validation_data=(x_val, y_val),\n",
    "                    verbose=1)"
   ]
  },
  {
   "cell_type": "code",
   "execution_count": 25,
   "id": "c6bd834a",
   "metadata": {},
   "outputs": [
    {
     "data": {
      "image/png": "[encoded data removed]",
      "text/plain": [
       "<Figure size 432x288 with 1 Axes>"
      ]
     },
     "metadata": {
      "needs_background": "light"
     },
     "output_type": "display_data"
    },
    {
     "data": {
      "image/png": "[encoded data removed]",
      "text/plain": [
       "<Figure size 432x288 with 1 Axes>"
      ]
     },
     "metadata": {
      "needs_background": "light"
     },
     "output_type": "display_data"
    },
    {
     "name": "stdout",
     "output_type": "stream",
     "text": [
      "1537/1537 - 5s - loss: 0.5752 - accuracy: 0.8578\n",
      "[0.5751919150352478, 0.8577821850776672]\n"
     ]
    }
   ],
   "source": [
    "# accuracy\n",
    "plt.plot(history_LSTM.history['accuracy'])\n",
    "plt.plot(history_LSTM.history['val_accuracy'])\n",
    "plt.title('LSTM accuracy')\n",
    "plt.ylabel('accuracy')\n",
    "plt.xlabel('epoch')\n",
    "plt.legend(['train', 'val'], loc='upper left')\n",
    "plt.show()\n",
    "\n",
    "# loss\n",
    "plt.plot(history_LSTM.history['loss'])\n",
    "plt.plot(history_LSTM.history['val_loss'])\n",
    "plt.title('LSTM loss')\n",
    "plt.ylabel('loss')\n",
    "plt.xlabel('epoch')\n",
    "plt.legend(['train', 'val'], loc='upper left')\n",
    "plt.show()\n",
    "\n",
    "\n",
    "results = model_LSTM.evaluate(X_test,  y_test, verbose=2)\n",
    "print(results)"
   ]
  },
  {
   "cell_type": "markdown",
   "id": "06149da6",
   "metadata": {},
   "source": [
    "## 5. 모델 훈련 및 평가 - GMP"
   ]
  },
  {
   "cell_type": "code",
   "execution_count": 27,
   "id": "0663cc79",
   "metadata": {},
   "outputs": [
    {
     "name": "stdout",
     "output_type": "stream",
     "text": [
      "Model: \"sequential_4\"\n",
      "_________________________________________________________________\n",
      "Layer (type)                 Output Shape              Param #   \n",
      "=================================================================\n",
      "embedding_4 (Embedding)      (None, 41, 200)           2000000   \n",
      "_________________________________________________________________\n",
      "global_max_pooling1d_3 (Glob (None, 200)               0         \n",
      "_________________________________________________________________\n",
      "dense_7 (Dense)              (None, 7)                 1407      \n",
      "_________________________________________________________________\n",
      "dense_8 (Dense)              (None, 1)                 8         \n",
      "=================================================================\n",
      "Total params: 2,001,415\n",
      "Trainable params: 2,001,415\n",
      "Non-trainable params: 0\n",
      "_________________________________________________________________\n",
      "Epoch 1/10\n",
      "129/129 [==============================] - 1s 7ms/step - loss: 0.7239 - accuracy: 0.5502 - val_loss: 0.6652 - val_accuracy: 0.6435\n",
      "Epoch 2/10\n",
      "129/129 [==============================] - 1s 5ms/step - loss: 0.5956 - accuracy: 0.7188 - val_loss: 0.5225 - val_accuracy: 0.7796\n",
      "Epoch 3/10\n",
      "129/129 [==============================] - 1s 5ms/step - loss: 0.4585 - accuracy: 0.8143 - val_loss: 0.4391 - val_accuracy: 0.8191\n",
      "Epoch 4/10\n",
      "129/129 [==============================] - 1s 5ms/step - loss: 0.3811 - accuracy: 0.8497 - val_loss: 0.4033 - val_accuracy: 0.8306\n",
      "Epoch 5/10\n",
      "129/129 [==============================] - 1s 5ms/step - loss: 0.3341 - accuracy: 0.8705 - val_loss: 0.3891 - val_accuracy: 0.8376\n",
      "Epoch 6/10\n",
      "129/129 [==============================] - 1s 5ms/step - loss: 0.2973 - accuracy: 0.8870 - val_loss: 0.3998 - val_accuracy: 0.8269\n",
      "Epoch 7/10\n",
      "129/129 [==============================] - 1s 5ms/step - loss: 0.2669 - accuracy: 0.9010 - val_loss: 0.3972 - val_accuracy: 0.8323\n",
      "Epoch 8/10\n",
      "129/129 [==============================] - 1s 5ms/step - loss: 0.2370 - accuracy: 0.9146 - val_loss: 0.3980 - val_accuracy: 0.8399\n",
      "Epoch 9/10\n",
      "129/129 [==============================] - 1s 5ms/step - loss: 0.2099 - accuracy: 0.9282 - val_loss: 0.4220 - val_accuracy: 0.8391\n",
      "Epoch 10/10\n",
      "129/129 [==============================] - 1s 5ms/step - loss: 0.1862 - accuracy: 0.9381 - val_loss: 0.4300 - val_accuracy: 0.8375\n",
      "1537/1537 - 2s - loss: 0.4346 - accuracy: 0.8341\n",
      "[0.4345721900463104, 0.8340826034545898]\n"
     ]
    }
   ],
   "source": [
    "# GlobalMaxPooling1D - 모델 훈련 및 평가\n",
    "\n",
    "## 모델 설계\n",
    "vocab_size = 10000\n",
    "word_vector_dim = 200  \n",
    "\n",
    "model_GMP = keras.Sequential()\n",
    "model_GMP.add(keras.layers.Embedding(vocab_size, \n",
    "                                 word_vector_dim, \n",
    "                                 embeddings_initializer=Constant(embedding_matrix),  \n",
    "                                 input_length=maxlen, \n",
    "                                 trainable=True)) \n",
    "model_GMP.add(keras.layers.GlobalMaxPooling1D())\n",
    "model_GMP.add(keras.layers.Dense(7, activation='relu'))\n",
    "model_GMP.add(keras.layers.Dense(1, activation='sigmoid'))  \n",
    "model_GMP.summary()\n",
    "\n",
    "## 모델 작동\n",
    "model_GMP.compile(optimizer=keras.optimizers.Adam(0.005),\n",
    "              loss='binary_crossentropy',\n",
    "              metrics=['accuracy'])\n",
    "              \n",
    "epochs=10\n",
    "batch_size=1024\n",
    "\n",
    "history_GMP = model_GMP.fit(x_train,\n",
    "                    y_train,\n",
    "                    epochs=epochs,\n",
    "                    batch_size=batch_size,\n",
    "                    validation_data=(x_val, y_val),\n",
    "                    verbose=1)\n",
    "\n",
    "results = model_GMP.evaluate(X_test,  y_test, verbose=2)\n",
    "print(results)"
   ]
  },
  {
   "cell_type": "code",
   "execution_count": 28,
   "id": "019e0079",
   "metadata": {},
   "outputs": [
    {
     "data": {
      "image/png": "[encoded data removed]",
      "text/plain": [
       "<Figure size 432x288 with 1 Axes>"
      ]
     },
     "metadata": {
      "needs_background": "light"
     },
     "output_type": "display_data"
    },
    {
     "data": {
      "image/png": "[encoded data removed]",
      "text/plain": [
       "<Figure size 432x288 with 1 Axes>"
      ]
     },
     "metadata": {
      "needs_background": "light"
     },
     "output_type": "display_data"
    }
   ],
   "source": [
    "# accuracy\n",
    "plt.plot(history_GMP.history['accuracy'])\n",
    "plt.plot(history_GMP.history['val_accuracy'])\n",
    "plt.title('GMP model accuracy')\n",
    "plt.ylabel('accuracy')\n",
    "plt.xlabel('epoch')\n",
    "plt.legend(['train', 'val'], loc='upper left')\n",
    "plt.show()\n",
    "\n",
    "# loss\n",
    "plt.plot(history_GMP.history['loss'])\n",
    "plt.plot(history_GMP.history['val_loss'])\n",
    "plt.title('GMP model loss')\n",
    "plt.ylabel('loss')\n",
    "plt.xlabel('epoch')\n",
    "plt.legend(['train', 'val'], loc='upper left')\n",
    "plt.show()"
   ]
  },
  {
   "cell_type": "markdown",
   "id": "3841ccd4",
   "metadata": {},
   "source": [
    "## 6. 모델 훈련 및 평가 - CNN"
   ]
  },
  {
   "cell_type": "code",
   "execution_count": 30,
   "id": "c269b7c1",
   "metadata": {},
   "outputs": [
    {
     "name": "stdout",
     "output_type": "stream",
     "text": [
      "Model: \"sequential_6\"\n",
      "_________________________________________________________________\n",
      "Layer (type)                 Output Shape              Param #   \n",
      "=================================================================\n",
      "embedding_6 (Embedding)      (None, 41, 200)           2000000   \n",
      "_________________________________________________________________\n",
      "conv1d_5 (Conv1D)            (None, 32, 64)            128064    \n",
      "_________________________________________________________________\n",
      "global_max_pooling1d_5 (Glob (None, 64)                0         \n",
      "_________________________________________________________________\n",
      "dense_10 (Dense)             (None, 1)                 65        \n",
      "=================================================================\n",
      "Total params: 2,128,129\n",
      "Trainable params: 2,128,129\n",
      "Non-trainable params: 0\n",
      "_________________________________________________________________\n",
      "Epoch 1/10\n",
      "129/129 [==============================] - 2s 14ms/step - loss: 0.6142 - accuracy: 0.7003 - val_loss: 0.4862 - val_accuracy: 0.7698\n",
      "Epoch 2/10\n",
      "129/129 [==============================] - 2s 12ms/step - loss: 0.4193 - accuracy: 0.8088 - val_loss: 0.4323 - val_accuracy: 0.8013\n",
      "Epoch 3/10\n",
      "129/129 [==============================] - 2s 12ms/step - loss: 0.3419 - accuracy: 0.8529 - val_loss: 0.3938 - val_accuracy: 0.8248\n",
      "Epoch 4/10\n",
      "129/129 [==============================] - 2s 12ms/step - loss: 0.2882 - accuracy: 0.8818 - val_loss: 0.3829 - val_accuracy: 0.8336\n",
      "Epoch 5/10\n",
      "129/129 [==============================] - 2s 12ms/step - loss: 0.2486 - accuracy: 0.9027 - val_loss: 0.3789 - val_accuracy: 0.8358\n",
      "Epoch 6/10\n",
      "129/129 [==============================] - 2s 12ms/step - loss: 0.2168 - accuracy: 0.9189 - val_loss: 0.3781 - val_accuracy: 0.8389\n",
      "Epoch 7/10\n",
      "129/129 [==============================] - 2s 12ms/step - loss: 0.1884 - accuracy: 0.9321 - val_loss: 0.3811 - val_accuracy: 0.8425\n",
      "Epoch 8/10\n",
      "129/129 [==============================] - 2s 12ms/step - loss: 0.1644 - accuracy: 0.9439 - val_loss: 0.3968 - val_accuracy: 0.8408\n",
      "Epoch 9/10\n",
      "129/129 [==============================] - 2s 12ms/step - loss: 0.1407 - accuracy: 0.9540 - val_loss: 0.4101 - val_accuracy: 0.8423\n",
      "Epoch 10/10\n",
      "129/129 [==============================] - 2s 12ms/step - loss: 0.1208 - accuracy: 0.9624 - val_loss: 0.4230 - val_accuracy: 0.8412\n",
      "1537/1537 - 2s - loss: 0.4333 - accuracy: 0.8367\n",
      "[0.4333402216434479, 0.8366661667823792]\n"
     ]
    }
   ],
   "source": [
    "# CNN - 모델 훈련 및 평가\n",
    "\n",
    "vocab_size = 10000\n",
    "word_vector_dim = 200\n",
    "\n",
    "## 모델 설계\n",
    "model_conv_tuned = keras.Sequential()\n",
    "model_conv_tuned.add(keras.layers.Embedding(vocab_size, \n",
    "                                 word_vector_dim, \n",
    "                                 embeddings_initializer=Constant(embedding_matrix),  # 카피한 임베딩을 여기서 활용\n",
    "                                 input_length=maxlen, \n",
    "                                 trainable=True))   # trainable을 True로 주면 Fine-tuning\n",
    "model_conv_tuned.add(keras.layers.Conv1D(64, 10, activation='relu'))\n",
    "model_conv_tuned.add(keras.layers.GlobalMaxPooling1D())\n",
    "model_conv_tuned.add(keras.layers.Dense(1, activation='sigmoid')) \n",
    "\n",
    "model_conv_tuned.summary()\n",
    "\n",
    "## 모델 작동\n",
    "model_conv_tuned.compile(optimizer='adam',\n",
    "              loss='binary_crossentropy',\n",
    "              metrics=['accuracy'])\n",
    "              \n",
    "epochs=10\n",
    "batch_size=1024\n",
    "\n",
    "history_conv = model_conv_tuned.fit(x_train,\n",
    "                    y_train,\n",
    "                    epochs=epochs,\n",
    "                    batch_size=batch_size,\n",
    "                    validation_data=(x_val, y_val),\n",
    "                    verbose=1)\n",
    "\n",
    "results = model_conv_tuned.evaluate(X_test,  y_test, verbose=2)\n",
    "print(results)"
   ]
  },
  {
   "cell_type": "markdown",
   "id": "ebd0f4ae",
   "metadata": {},
   "source": [
    "**Accuricies by Models**\n",
    "\n",
    "+ CNN: **0.8366661667823792**\n",
    "+ GMP: 0.8340826034545898\n",
    "+ LSTM: **0.8577821850776672**\n",
    "\n",
    "## 7. 모델 훈련 및 평가 - LSTM + CNN"
   ]
  },
  {
   "cell_type": "code",
   "execution_count": 35,
   "id": "7c740180",
   "metadata": {},
   "outputs": [
    {
     "name": "stdout",
     "output_type": "stream",
     "text": [
      "Model: \"sequential_11\"\n",
      "_________________________________________________________________\n",
      "Layer (type)                 Output Shape              Param #   \n",
      "=================================================================\n",
      "embedding_11 (Embedding)     (None, 41, 200)           2000000   \n",
      "_________________________________________________________________\n",
      "conv1d_10 (Conv1D)           (None, 35, 3)             4203      \n",
      "_________________________________________________________________\n",
      "lstm_5 (LSTM)                (None, 128)               67584     \n",
      "_________________________________________________________________\n",
      "dense_15 (Dense)             (None, 1)                 129       \n",
      "=================================================================\n",
      "Total params: 2,071,916\n",
      "Trainable params: 2,071,916\n",
      "Non-trainable params: 0\n",
      "_________________________________________________________________\n",
      "Epoch 1/10\n",
      "257/257 [==============================] - 4s 12ms/step - loss: 0.5087 - accuracy: 0.7416 - val_loss: 0.4070 - val_accuracy: 0.8175\n",
      "Epoch 2/10\n",
      "257/257 [==============================] - 3s 10ms/step - loss: 0.3705 - accuracy: 0.8368 - val_loss: 0.3543 - val_accuracy: 0.8457\n",
      "Epoch 3/10\n",
      "257/257 [==============================] - 3s 10ms/step - loss: 0.3261 - accuracy: 0.8590 - val_loss: 0.3380 - val_accuracy: 0.8522\n",
      "Epoch 4/10\n",
      "257/257 [==============================] - 3s 10ms/step - loss: 0.3028 - accuracy: 0.8709 - val_loss: 0.3356 - val_accuracy: 0.8572\n",
      "Epoch 5/10\n",
      "257/257 [==============================] - 3s 10ms/step - loss: 0.2859 - accuracy: 0.8801 - val_loss: 0.3295 - val_accuracy: 0.8592\n",
      "Epoch 6/10\n",
      "257/257 [==============================] - 3s 10ms/step - loss: 0.2719 - accuracy: 0.8865 - val_loss: 0.3317 - val_accuracy: 0.8579\n",
      "Epoch 7/10\n",
      "257/257 [==============================] - 3s 10ms/step - loss: 0.2601 - accuracy: 0.8929 - val_loss: 0.3410 - val_accuracy: 0.8565\n",
      "Epoch 8/10\n",
      "257/257 [==============================] - 3s 10ms/step - loss: 0.2506 - accuracy: 0.8977 - val_loss: 0.3488 - val_accuracy: 0.8546\n",
      "Epoch 9/10\n",
      "257/257 [==============================] - 3s 10ms/step - loss: 0.2398 - accuracy: 0.9024 - val_loss: 0.3439 - val_accuracy: 0.8577\n",
      "Epoch 10/10\n",
      "257/257 [==============================] - 3s 10ms/step - loss: 0.2267 - accuracy: 0.9089 - val_loss: 0.3539 - val_accuracy: 0.8557\n",
      "1537/1537 - 4s - loss: 0.3653 - accuracy: 0.8504\n",
      "[0.3653494119644165, 0.8503569960594177]\n"
     ]
    }
   ],
   "source": [
    "vocab_size = 10000\n",
    "word_vector_dim = 200  \n",
    "\n",
    "# 모델 설계\n",
    "model_CNN_LSTM = keras.Sequential()\n",
    "model_CNN_LSTM.add(keras.layers.Embedding(vocab_size, \n",
    "                                 word_vector_dim, \n",
    "                                 embeddings_initializer=Constant(embedding_matrix),\n",
    "                                 input_length=maxlen, \n",
    "                                 trainable=True)) \n",
    "model_CNN_LSTM.add(keras.layers.Conv1D(3, 7, activation='relu'))\n",
    "model_CNN_LSTM.add(keras.layers.LSTM(128))   \n",
    "model_CNN_LSTM.add(keras.layers.Dense(1, activation='sigmoid'))\n",
    "model_CNN_LSTM.summary()\n",
    "\n",
    "# 모델 작동\n",
    "model_CNN_LSTM.compile(optimizer='adam',\n",
    "              loss='binary_crossentropy',\n",
    "              metrics=['accuracy'])\n",
    "              \n",
    "epochs=10\n",
    "batch_size=512\n",
    "\n",
    "history_CNN_LSTM = model_CNN_LSTM.fit(x_train,\n",
    "                    y_train,\n",
    "                    epochs=epochs,\n",
    "                    batch_size=batch_size,\n",
    "                    validation_data=(x_val, y_val),\n",
    "                    verbose=1)\n",
    "\n",
    "results = model_CNN_LSTM.evaluate(X_test,  y_test, verbose=2)\n",
    "print(results)"
   ]
  },
  {
   "cell_type": "code",
   "execution_count": 37,
   "id": "a87047f1",
   "metadata": {},
   "outputs": [
    {
     "data": {
      "image/png": "[encoded data removed]",
      "text/plain": [
       "<Figure size 432x288 with 1 Axes>"
      ]
     },
     "metadata": {
      "needs_background": "light"
     },
     "output_type": "display_data"
    },
    {
     "data": {
      "image/png": "[encoded data removed]",
      "text/plain": [
       "<Figure size 432x288 with 1 Axes>"
      ]
     },
     "metadata": {
      "needs_background": "light"
     },
     "output_type": "display_data"
    }
   ],
   "source": [
    "# accuracy\n",
    "plt.plot(history_CNN_LSTM.history['accuracy'])\n",
    "plt.plot(history_CNN_LSTM.history['val_accuracy'])\n",
    "plt.title('LSTM + CNN model accuracy')\n",
    "plt.ylabel('accuracy')\n",
    "plt.xlabel('epoch')\n",
    "plt.legend(['train', 'val'], loc='upper left')\n",
    "plt.show()\n",
    "\n",
    "# loss\n",
    "plt.plot(history_CNN_LSTM.history['loss'])\n",
    "plt.plot(history_CNN_LSTM.history['val_loss'])\n",
    "plt.title('LSTM + CNN model loss')\n",
    "plt.ylabel('loss')\n",
    "plt.xlabel('epoch')\n",
    "plt.legend(['train', 'val'], loc='upper left')\n",
    "plt.show()"
   ]
  },
  {
   "cell_type": "markdown",
   "id": "654cb5e0",
   "metadata": {},
   "source": [
    "### LSTM + CNN Model Accuracy: 85.03%"
   ]
  },
  {
   "cell_type": "markdown",
   "id": "63ff020c",
   "metadata": {},
   "source": [
    "## 8. 프로젝트 회고"
   ]
  },
  {
   "cell_type": "markdown",
   "id": "e2489243",
   "metadata": {},
   "source": [
    "+ Model Accuracy를 높이기 위하여 많이 노력했다.\n",
    "    - 데이터의 최대 길이는 평균 + (2*표준편차)로 계산함: Source https://infuture.kr/626\n",
    "    - 시각화된 결과를 바탕으로 파라미터를 조정하였음\n",
    "    - LSTM + CNN 모델로 Accuracy 목표치를 달성하였음\n",
    "\n",
    "\n",
    "+ 각 단어 (배우, 연기)의 유사어를 출력하도록 하여 Embedding Layer의 성능을 확인했다.\n",
    "    - Embedding Layer 교체 이후 Accuracy 상승의 효과를 거두었음\n",
    "\n",
    "\n",
    "+ 감정분석은 추후 취업을 할 때에 가장 많이 활용할 것으로 (업무 자동화) 기대되는 태스크여서 관심있게 진행하였다.\n",
    "+ 토큰화, 벡터화 과정에서 문장과 단어의 관련성을 잘 파악하고 정제가 잘 이루어질 수 있도록 더 학습을 진행하고자 한다."
   ]
  },
  {
   "cell_type": "code",
   "execution_count": null,
   "id": "eea6904d",
   "metadata": {},
   "outputs": [],
   "source": []
  }
 ],
 "metadata": {
  "kernelspec": {
   "display_name": "Python 3 (ipykernel)",
   "language": "python",
   "name": "python3"
  },
  "language_info": {
   "codemirror_mode": {
    "name": "ipython",
    "version": 3
   },
   "file_extension": ".py",
   "mimetype": "text/x-python",
   "name": "python",
   "nbconvert_exporter": "python",
   "pygments_lexer": "ipython3",
   "version": "3.9.7"
  }
 },
 "nbformat": 4,
 "nbformat_minor": 5
}
