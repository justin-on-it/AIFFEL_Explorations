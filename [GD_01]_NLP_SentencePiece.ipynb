{
  "nbformat": 4,
  "nbformat_minor": 0,
  "metadata": {
    "colab": {
      "name": "[GD-01] NLP-SentencePiece.ipynb",
      "provenance": [],
      "machine_shape": "hm",
      "collapsed_sections": []
    },
    "kernelspec": {
      "name": "python3",
      "display_name": "Python 3"
    },
    "language_info": {
      "name": "python"
    },
    "accelerator": "GPU"
  },
  "cells": [
    {
      "cell_type": "markdown",
      "source": [
        "# [GD-01] NLP_SentencePiece\n",
        "\"Going Deeper Node 2. Making Nice Vocab Dictionary\" / 2022. 03. 23 (WED) 이형주\n",
        "\n",
        "## Contents\n",
        "---\n",
        "- **1. Environment Setup**\n",
        "- **2. Modeling**\n",
        "- **3. Project Retrospective**\n",
        "\n",
        "## Rubric 평가기준\n",
        "---\n",
        "\n",
        "|  평가문항  |  상세기준  |\n",
        "|:---------|:---------|\n",
        "|1. SentencePiece를 이용하여 모델을 만들기까지의 과정이 정상적으로 진행되었는가?|코퍼스 분석, 전처리, SentencePiece 적용, 토크나이저 구현 및 동작이 빠짐없이 진행되었는가?\n",
        "|2. SentencePiece를 통해 만든 Tokenizer가 자연어처리 모델과 결합하여 동작하는가?|SentencePiece 토크나이저가 적용된 Text Classifier 모델이 정상적으로 수렴하여 80% 이상의 test accuracy가 확인되었다.\n",
        "|3. SentencePiece의 성능을 다각도로 비교분석하였는가?|SentencePiece 토크나이저를 활용했을 때의 성능을 다른 토크나이저 혹은 SentencePiece의 다른 옵션의 경우와 비교하여 분석을 체계적으로 진행하였다."
      ],
      "metadata": {
        "id": "qKTuq9gZd9Vg"
      }
    },
    {
      "cell_type": "markdown",
      "source": [
        "## 1. Environment Setup"
      ],
      "metadata": {
        "id": "DmdkJb9ynm2A"
      }
    },
    {
      "cell_type": "code",
      "source": [
        "# 필요한 라이브러리 로드\n",
        "import tensorflow as tf\n",
        "import numpy as np\n",
        "import matplotlib.pyplot as plt\n",
        "import os"
      ],
      "metadata": {
        "id": "2D1rNO8nb1iX"
      },
      "execution_count": 1,
      "outputs": []
    },
    {
      "cell_type": "code",
      "source": [
        "!pip install konlpy"
      ],
      "metadata": {
        "colab": {
          "base_uri": "https://localhost:8080/"
        },
        "id": "gz6o2ghGj1e9",
        "outputId": "02a58b06-f2c4-495a-c57a-7ae3c1ad1a34"
      },
      "execution_count": 2,
      "outputs": [
        {
          "output_type": "stream",
          "name": "stdout",
          "text": [
            "Collecting konlpy\n",
            "  Downloading konlpy-0.6.0-py2.py3-none-any.whl (19.4 MB)\n",
            "\u001b[K     |████████████████████████████████| 19.4 MB 9.2 MB/s \n",
            "\u001b[?25hRequirement already satisfied: numpy>=1.6 in /usr/local/lib/python3.7/dist-packages (from konlpy) (1.21.5)\n",
            "Collecting JPype1>=0.7.0\n",
            "  Downloading JPype1-1.3.0-cp37-cp37m-manylinux_2_5_x86_64.manylinux1_x86_64.whl (448 kB)\n",
            "\u001b[K     |████████████████████████████████| 448 kB 64.3 MB/s \n",
            "\u001b[?25hRequirement already satisfied: lxml>=4.1.0 in /usr/local/lib/python3.7/dist-packages (from konlpy) (4.2.6)\n",
            "Requirement already satisfied: typing-extensions in /usr/local/lib/python3.7/dist-packages (from JPype1>=0.7.0->konlpy) (3.10.0.2)\n",
            "Installing collected packages: JPype1, konlpy\n",
            "Successfully installed JPype1-1.3.0 konlpy-0.6.0\n"
          ]
        }
      ]
    },
    {
      "cell_type": "code",
      "source": [
        "import konlpy"
      ],
      "metadata": {
        "id": "0ka4amoiCzmL"
      },
      "execution_count": 3,
      "outputs": []
    },
    {
      "cell_type": "code",
      "source": [
        "!pip install sentencepiece"
      ],
      "metadata": {
        "colab": {
          "base_uri": "https://localhost:8080/"
        },
        "id": "Qzl70sAjqAI8",
        "outputId": "91f91d7f-13c9-4d14-cb2a-655b689586bb"
      },
      "execution_count": 4,
      "outputs": [
        {
          "output_type": "stream",
          "name": "stdout",
          "text": [
            "Collecting sentencepiece\n",
            "  Downloading sentencepiece-0.1.96-cp37-cp37m-manylinux_2_17_x86_64.manylinux2014_x86_64.whl (1.2 MB)\n",
            "\u001b[?25l\r\u001b[K     |▎                               | 10 kB 28.6 MB/s eta 0:00:01\r\u001b[K     |▌                               | 20 kB 28.0 MB/s eta 0:00:01\r\u001b[K     |▉                               | 30 kB 18.5 MB/s eta 0:00:01\r\u001b[K     |█                               | 40 kB 16.1 MB/s eta 0:00:01\r\u001b[K     |█▍                              | 51 kB 7.4 MB/s eta 0:00:01\r\u001b[K     |█▋                              | 61 kB 8.7 MB/s eta 0:00:01\r\u001b[K     |██                              | 71 kB 9.0 MB/s eta 0:00:01\r\u001b[K     |██▏                             | 81 kB 8.9 MB/s eta 0:00:01\r\u001b[K     |██▍                             | 92 kB 9.9 MB/s eta 0:00:01\r\u001b[K     |██▊                             | 102 kB 8.0 MB/s eta 0:00:01\r\u001b[K     |███                             | 112 kB 8.0 MB/s eta 0:00:01\r\u001b[K     |███▎                            | 122 kB 8.0 MB/s eta 0:00:01\r\u001b[K     |███▌                            | 133 kB 8.0 MB/s eta 0:00:01\r\u001b[K     |███▉                            | 143 kB 8.0 MB/s eta 0:00:01\r\u001b[K     |████                            | 153 kB 8.0 MB/s eta 0:00:01\r\u001b[K     |████▎                           | 163 kB 8.0 MB/s eta 0:00:01\r\u001b[K     |████▋                           | 174 kB 8.0 MB/s eta 0:00:01\r\u001b[K     |████▉                           | 184 kB 8.0 MB/s eta 0:00:01\r\u001b[K     |█████▏                          | 194 kB 8.0 MB/s eta 0:00:01\r\u001b[K     |█████▍                          | 204 kB 8.0 MB/s eta 0:00:01\r\u001b[K     |█████▊                          | 215 kB 8.0 MB/s eta 0:00:01\r\u001b[K     |██████                          | 225 kB 8.0 MB/s eta 0:00:01\r\u001b[K     |██████▏                         | 235 kB 8.0 MB/s eta 0:00:01\r\u001b[K     |██████▌                         | 245 kB 8.0 MB/s eta 0:00:01\r\u001b[K     |██████▊                         | 256 kB 8.0 MB/s eta 0:00:01\r\u001b[K     |███████                         | 266 kB 8.0 MB/s eta 0:00:01\r\u001b[K     |███████▎                        | 276 kB 8.0 MB/s eta 0:00:01\r\u001b[K     |███████▋                        | 286 kB 8.0 MB/s eta 0:00:01\r\u001b[K     |███████▉                        | 296 kB 8.0 MB/s eta 0:00:01\r\u001b[K     |████████                        | 307 kB 8.0 MB/s eta 0:00:01\r\u001b[K     |████████▍                       | 317 kB 8.0 MB/s eta 0:00:01\r\u001b[K     |████████▋                       | 327 kB 8.0 MB/s eta 0:00:01\r\u001b[K     |█████████                       | 337 kB 8.0 MB/s eta 0:00:01\r\u001b[K     |█████████▏                      | 348 kB 8.0 MB/s eta 0:00:01\r\u001b[K     |█████████▌                      | 358 kB 8.0 MB/s eta 0:00:01\r\u001b[K     |█████████▊                      | 368 kB 8.0 MB/s eta 0:00:01\r\u001b[K     |██████████                      | 378 kB 8.0 MB/s eta 0:00:01\r\u001b[K     |██████████▎                     | 389 kB 8.0 MB/s eta 0:00:01\r\u001b[K     |██████████▌                     | 399 kB 8.0 MB/s eta 0:00:01\r\u001b[K     |██████████▉                     | 409 kB 8.0 MB/s eta 0:00:01\r\u001b[K     |███████████                     | 419 kB 8.0 MB/s eta 0:00:01\r\u001b[K     |███████████▍                    | 430 kB 8.0 MB/s eta 0:00:01\r\u001b[K     |███████████▋                    | 440 kB 8.0 MB/s eta 0:00:01\r\u001b[K     |███████████▉                    | 450 kB 8.0 MB/s eta 0:00:01\r\u001b[K     |████████████▏                   | 460 kB 8.0 MB/s eta 0:00:01\r\u001b[K     |████████████▍                   | 471 kB 8.0 MB/s eta 0:00:01\r\u001b[K     |████████████▊                   | 481 kB 8.0 MB/s eta 0:00:01\r\u001b[K     |█████████████                   | 491 kB 8.0 MB/s eta 0:00:01\r\u001b[K     |█████████████▎                  | 501 kB 8.0 MB/s eta 0:00:01\r\u001b[K     |█████████████▌                  | 512 kB 8.0 MB/s eta 0:00:01\r\u001b[K     |█████████████▊                  | 522 kB 8.0 MB/s eta 0:00:01\r\u001b[K     |██████████████                  | 532 kB 8.0 MB/s eta 0:00:01\r\u001b[K     |██████████████▎                 | 542 kB 8.0 MB/s eta 0:00:01\r\u001b[K     |██████████████▋                 | 552 kB 8.0 MB/s eta 0:00:01\r\u001b[K     |██████████████▉                 | 563 kB 8.0 MB/s eta 0:00:01\r\u001b[K     |███████████████▏                | 573 kB 8.0 MB/s eta 0:00:01\r\u001b[K     |███████████████▍                | 583 kB 8.0 MB/s eta 0:00:01\r\u001b[K     |███████████████▋                | 593 kB 8.0 MB/s eta 0:00:01\r\u001b[K     |████████████████                | 604 kB 8.0 MB/s eta 0:00:01\r\u001b[K     |████████████████▏               | 614 kB 8.0 MB/s eta 0:00:01\r\u001b[K     |████████████████▌               | 624 kB 8.0 MB/s eta 0:00:01\r\u001b[K     |████████████████▊               | 634 kB 8.0 MB/s eta 0:00:01\r\u001b[K     |█████████████████               | 645 kB 8.0 MB/s eta 0:00:01\r\u001b[K     |█████████████████▎              | 655 kB 8.0 MB/s eta 0:00:01\r\u001b[K     |█████████████████▌              | 665 kB 8.0 MB/s eta 0:00:01\r\u001b[K     |█████████████████▉              | 675 kB 8.0 MB/s eta 0:00:01\r\u001b[K     |██████████████████              | 686 kB 8.0 MB/s eta 0:00:01\r\u001b[K     |██████████████████▍             | 696 kB 8.0 MB/s eta 0:00:01\r\u001b[K     |██████████████████▋             | 706 kB 8.0 MB/s eta 0:00:01\r\u001b[K     |███████████████████             | 716 kB 8.0 MB/s eta 0:00:01\r\u001b[K     |███████████████████▏            | 727 kB 8.0 MB/s eta 0:00:01\r\u001b[K     |███████████████████▍            | 737 kB 8.0 MB/s eta 0:00:01\r\u001b[K     |███████████████████▊            | 747 kB 8.0 MB/s eta 0:00:01\r\u001b[K     |████████████████████            | 757 kB 8.0 MB/s eta 0:00:01\r\u001b[K     |████████████████████▎           | 768 kB 8.0 MB/s eta 0:00:01\r\u001b[K     |████████████████████▌           | 778 kB 8.0 MB/s eta 0:00:01\r\u001b[K     |████████████████████▉           | 788 kB 8.0 MB/s eta 0:00:01\r\u001b[K     |█████████████████████           | 798 kB 8.0 MB/s eta 0:00:01\r\u001b[K     |█████████████████████▎          | 808 kB 8.0 MB/s eta 0:00:01\r\u001b[K     |█████████████████████▋          | 819 kB 8.0 MB/s eta 0:00:01\r\u001b[K     |█████████████████████▉          | 829 kB 8.0 MB/s eta 0:00:01\r\u001b[K     |██████████████████████▏         | 839 kB 8.0 MB/s eta 0:00:01\r\u001b[K     |██████████████████████▍         | 849 kB 8.0 MB/s eta 0:00:01\r\u001b[K     |██████████████████████▊         | 860 kB 8.0 MB/s eta 0:00:01\r\u001b[K     |███████████████████████         | 870 kB 8.0 MB/s eta 0:00:01\r\u001b[K     |███████████████████████▏        | 880 kB 8.0 MB/s eta 0:00:01\r\u001b[K     |███████████████████████▌        | 890 kB 8.0 MB/s eta 0:00:01\r\u001b[K     |███████████████████████▊        | 901 kB 8.0 MB/s eta 0:00:01\r\u001b[K     |████████████████████████        | 911 kB 8.0 MB/s eta 0:00:01\r\u001b[K     |████████████████████████▎       | 921 kB 8.0 MB/s eta 0:00:01\r\u001b[K     |████████████████████████▋       | 931 kB 8.0 MB/s eta 0:00:01\r\u001b[K     |████████████████████████▉       | 942 kB 8.0 MB/s eta 0:00:01\r\u001b[K     |█████████████████████████       | 952 kB 8.0 MB/s eta 0:00:01\r\u001b[K     |█████████████████████████▍      | 962 kB 8.0 MB/s eta 0:00:01\r\u001b[K     |█████████████████████████▋      | 972 kB 8.0 MB/s eta 0:00:01\r\u001b[K     |██████████████████████████      | 983 kB 8.0 MB/s eta 0:00:01\r\u001b[K     |██████████████████████████▏     | 993 kB 8.0 MB/s eta 0:00:01\r\u001b[K     |██████████████████████████▌     | 1.0 MB 8.0 MB/s eta 0:00:01\r\u001b[K     |██████████████████████████▊     | 1.0 MB 8.0 MB/s eta 0:00:01\r\u001b[K     |███████████████████████████     | 1.0 MB 8.0 MB/s eta 0:00:01\r\u001b[K     |███████████████████████████▎    | 1.0 MB 8.0 MB/s eta 0:00:01\r\u001b[K     |███████████████████████████▌    | 1.0 MB 8.0 MB/s eta 0:00:01\r\u001b[K     |███████████████████████████▉    | 1.1 MB 8.0 MB/s eta 0:00:01\r\u001b[K     |████████████████████████████    | 1.1 MB 8.0 MB/s eta 0:00:01\r\u001b[K     |████████████████████████████▍   | 1.1 MB 8.0 MB/s eta 0:00:01\r\u001b[K     |████████████████████████████▋   | 1.1 MB 8.0 MB/s eta 0:00:01\r\u001b[K     |████████████████████████████▉   | 1.1 MB 8.0 MB/s eta 0:00:01\r\u001b[K     |█████████████████████████████▏  | 1.1 MB 8.0 MB/s eta 0:00:01\r\u001b[K     |█████████████████████████████▍  | 1.1 MB 8.0 MB/s eta 0:00:01\r\u001b[K     |█████████████████████████████▊  | 1.1 MB 8.0 MB/s eta 0:00:01\r\u001b[K     |██████████████████████████████  | 1.1 MB 8.0 MB/s eta 0:00:01\r\u001b[K     |██████████████████████████████▎ | 1.1 MB 8.0 MB/s eta 0:00:01\r\u001b[K     |██████████████████████████████▌ | 1.2 MB 8.0 MB/s eta 0:00:01\r\u001b[K     |██████████████████████████████▊ | 1.2 MB 8.0 MB/s eta 0:00:01\r\u001b[K     |███████████████████████████████ | 1.2 MB 8.0 MB/s eta 0:00:01\r\u001b[K     |███████████████████████████████▎| 1.2 MB 8.0 MB/s eta 0:00:01\r\u001b[K     |███████████████████████████████▋| 1.2 MB 8.0 MB/s eta 0:00:01\r\u001b[K     |███████████████████████████████▉| 1.2 MB 8.0 MB/s eta 0:00:01\r\u001b[K     |████████████████████████████████| 1.2 MB 8.0 MB/s \n",
            "\u001b[?25hInstalling collected packages: sentencepiece\n",
            "Successfully installed sentencepiece-0.1.96\n"
          ]
        }
      ]
    },
    {
      "cell_type": "code",
      "source": [
        "# Colab Pro GPU 정보\n",
        "# 새로운 환경에서 진행하는 만큼 실행시켜 본다.\n",
        "gpu_info = !nvidia-smi\n",
        "gpu_info = '\\n'.join(gpu_info)\n",
        "if gpu_info.find('failed') >= 0:\n",
        "  print('Not connected to a GPU')\n",
        "else:\n",
        "  print(gpu_info)"
      ],
      "metadata": {
        "id": "IzqBMelFcjLB",
        "colab": {
          "base_uri": "https://localhost:8080/"
        },
        "outputId": "10dfc88b-e3b4-4b03-a6a0-81f2ab284341"
      },
      "execution_count": 5,
      "outputs": [
        {
          "output_type": "stream",
          "name": "stdout",
          "text": [
            "Wed Mar 23 13:57:18 2022       \n",
            "+-----------------------------------------------------------------------------+\n",
            "| NVIDIA-SMI 460.32.03    Driver Version: 460.32.03    CUDA Version: 11.2     |\n",
            "|-------------------------------+----------------------+----------------------+\n",
            "| GPU  Name        Persistence-M| Bus-Id        Disp.A | Volatile Uncorr. ECC |\n",
            "| Fan  Temp  Perf  Pwr:Usage/Cap|         Memory-Usage | GPU-Util  Compute M. |\n",
            "|                               |                      |               MIG M. |\n",
            "|===============================+======================+======================|\n",
            "|   0  Tesla P100-PCIE...  Off  | 00000000:00:04.0 Off |                    0 |\n",
            "| N/A   28C    P0    25W / 250W |      0MiB / 16280MiB |      0%      Default |\n",
            "|                               |                      |                  N/A |\n",
            "+-------------------------------+----------------------+----------------------+\n",
            "                                                                               \n",
            "+-----------------------------------------------------------------------------+\n",
            "| Processes:                                                                  |\n",
            "|  GPU   GI   CI        PID   Type   Process name                  GPU Memory |\n",
            "|        ID   ID                                                   Usage      |\n",
            "|=============================================================================|\n",
            "|  No running processes found                                                 |\n",
            "+-----------------------------------------------------------------------------+\n"
          ]
        }
      ]
    },
    {
      "cell_type": "code",
      "source": [
        "# Colab Pro Ram 정보\n",
        "# 새로운 환경에서 진행하는 만큼 실행시켜 본다.\n",
        "from psutil import virtual_memory\n",
        "ram_gb = virtual_memory().total / 1e9\n",
        "print('Your runtime has {:.1f} gigabytes of available RAM\\n'.format(ram_gb))\n",
        "\n",
        "if ram_gb < 20:\n",
        "  print('Not using a high-RAM runtime')\n",
        "else:\n",
        "  print('You are using a high-RAM runtime!')"
      ],
      "metadata": {
        "id": "PVrUqtCndmGv",
        "colab": {
          "base_uri": "https://localhost:8080/"
        },
        "outputId": "50ef348f-2fc6-47a8-f026-a006a9c34f51"
      },
      "execution_count": 6,
      "outputs": [
        {
          "output_type": "stream",
          "name": "stdout",
          "text": [
            "Your runtime has 27.3 gigabytes of available RAM\n",
            "\n",
            "You are using a high-RAM runtime!\n"
          ]
        }
      ]
    },
    {
      "cell_type": "markdown",
      "source": [
        "**원래는 Google Drive에 업로드 후 로드하려 하였으나, 1Gbps 인터넷 환경에서도 업로드 시간이 총 40분 정도로 과다하게 소요되는 관계로 웹 로드로 대체한다. 사용하는 방법은 아래 링크를 참조하여 urlretrieve, urllib.request를 활용하였다.**\n",
        "\n",
        "Source: https://han-py.tistory.com/320\n",
        "\n",
        "![Screen Shot 2022-03-23 at 16.04.11.png](data:image/png;base64,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)"
      ],
      "metadata": {
        "id": "6REHG5NJlpU6"
      }
    },
    {
      "cell_type": "code",
      "source": [
        "import urllib.request\n",
        "urllib.request.urlretrieve(\"https://raw.githubusercontent.com/e9t/nsmc/master/ratings.txt\", filename=\"ratings.txt\")"
      ],
      "metadata": {
        "id": "osLlGl6FdvIj",
        "colab": {
          "base_uri": "https://localhost:8080/"
        },
        "outputId": "8fab6b9c-1063-44ca-9550-8cc3a1e933f0"
      },
      "execution_count": 7,
      "outputs": [
        {
          "output_type": "execute_result",
          "data": {
            "text/plain": [
              "('ratings.txt', <http.client.HTTPMessage at 0x7f36cad6ab10>)"
            ]
          },
          "metadata": {},
          "execution_count": 7
        }
      ]
    },
    {
      "cell_type": "code",
      "source": [
        "import pandas as pd\n",
        "naver_movie_review_df = pd.read_table('ratings.txt')\n",
        "print('데이터 전체 갯수는:', len(naver_movie_review_df), '개 입니다.')"
      ],
      "metadata": {
        "id": "1opeH1nkmP4F",
        "colab": {
          "base_uri": "https://localhost:8080/"
        },
        "outputId": "95478682-9292-4cfd-84dc-87bf268da1f1"
      },
      "execution_count": 8,
      "outputs": [
        {
          "output_type": "stream",
          "name": "stdout",
          "text": [
            "데이터 전체 갯수는: 200000 개 입니다.\n"
          ]
        }
      ]
    },
    {
      "cell_type": "code",
      "source": [
        "# index로 번호가, id에는 작성자 아이디가, document에 리뷰 내용이 있다.\n",
        "naver_movie_review_df.head()"
      ],
      "metadata": {
        "id": "mEvQmlehmMSb",
        "colab": {
          "base_uri": "https://localhost:8080/",
          "height": 215
        },
        "outputId": "a89fbc23-87d9-418b-bbb2-5092ba76531b"
      },
      "execution_count": 9,
      "outputs": [
        {
          "output_type": "execute_result",
          "data": {
            "text/plain": [
              "         id                                           document  label\n",
              "0   8112052                                어릴때보고 지금다시봐도 재밌어요ㅋㅋ      1\n",
              "1   8132799  디자인을 배우는 학생으로, 외국디자이너와 그들이 일군 전통을 통해 발전해가는 문화산...      1\n",
              "2   4655635               폴리스스토리 시리즈는 1부터 뉴까지 버릴께 하나도 없음.. 최고.      1\n",
              "3   9251303  와.. 연기가 진짜 개쩔구나.. 지루할거라고 생각했는데 몰입해서 봤다.. 그래 이런...      1\n",
              "4  10067386                        안개 자욱한 밤하늘에 떠 있는 초승달 같은 영화.      1"
            ],
            "text/html": [
              "\n",
              "  <div id=\"df-ac214387-9be8-49ee-bb96-c3967efcdb84\">\n",
              "    <div class=\"colab-df-container\">\n",
              "      <div>\n",
              "<style scoped>\n",
              "    .dataframe tbody tr th:only-of-type {\n",
              "        vertical-align: middle;\n",
              "    }\n",
              "\n",
              "    .dataframe tbody tr th {\n",
              "        vertical-align: top;\n",
              "    }\n",
              "\n",
              "    .dataframe thead th {\n",
              "        text-align: right;\n",
              "    }\n",
              "</style>\n",
              "<table border=\"1\" class=\"dataframe\">\n",
              "  <thead>\n",
              "    <tr style=\"text-align: right;\">\n",
              "      <th></th>\n",
              "      <th>id</th>\n",
              "      <th>document</th>\n",
              "      <th>label</th>\n",
              "    </tr>\n",
              "  </thead>\n",
              "  <tbody>\n",
              "    <tr>\n",
              "      <th>0</th>\n",
              "      <td>8112052</td>\n",
              "      <td>어릴때보고 지금다시봐도 재밌어요ㅋㅋ</td>\n",
              "      <td>1</td>\n",
              "    </tr>\n",
              "    <tr>\n",
              "      <th>1</th>\n",
              "      <td>8132799</td>\n",
              "      <td>디자인을 배우는 학생으로, 외국디자이너와 그들이 일군 전통을 통해 발전해가는 문화산...</td>\n",
              "      <td>1</td>\n",
              "    </tr>\n",
              "    <tr>\n",
              "      <th>2</th>\n",
              "      <td>4655635</td>\n",
              "      <td>폴리스스토리 시리즈는 1부터 뉴까지 버릴께 하나도 없음.. 최고.</td>\n",
              "      <td>1</td>\n",
              "    </tr>\n",
              "    <tr>\n",
              "      <th>3</th>\n",
              "      <td>9251303</td>\n",
              "      <td>와.. 연기가 진짜 개쩔구나.. 지루할거라고 생각했는데 몰입해서 봤다.. 그래 이런...</td>\n",
              "      <td>1</td>\n",
              "    </tr>\n",
              "    <tr>\n",
              "      <th>4</th>\n",
              "      <td>10067386</td>\n",
              "      <td>안개 자욱한 밤하늘에 떠 있는 초승달 같은 영화.</td>\n",
              "      <td>1</td>\n",
              "    </tr>\n",
              "  </tbody>\n",
              "</table>\n",
              "</div>\n",
              "      <button class=\"colab-df-convert\" onclick=\"convertToInteractive('df-ac214387-9be8-49ee-bb96-c3967efcdb84')\"\n",
              "              title=\"Convert this dataframe to an interactive table.\"\n",
              "              style=\"display:none;\">\n",
              "        \n",
              "  <svg xmlns=\"http://www.w3.org/2000/svg\" height=\"24px\"viewBox=\"0 0 24 24\"\n",
              "       width=\"24px\">\n",
              "    <path d=\"M0 0h24v24H0V0z\" fill=\"none\"/>\n",
              "    <path d=\"M18.56 5.44l.94 2.06.94-2.06 2.06-.94-2.06-.94-.94-2.06-.94 2.06-2.06.94zm-11 1L8.5 8.5l.94-2.06 2.06-.94-2.06-.94L8.5 2.5l-.94 2.06-2.06.94zm10 10l.94 2.06.94-2.06 2.06-.94-2.06-.94-.94-2.06-.94 2.06-2.06.94z\"/><path d=\"M17.41 7.96l-1.37-1.37c-.4-.4-.92-.59-1.43-.59-.52 0-1.04.2-1.43.59L10.3 9.45l-7.72 7.72c-.78.78-.78 2.05 0 2.83L4 21.41c.39.39.9.59 1.41.59.51 0 1.02-.2 1.41-.59l7.78-7.78 2.81-2.81c.8-.78.8-2.07 0-2.86zM5.41 20L4 18.59l7.72-7.72 1.47 1.35L5.41 20z\"/>\n",
              "  </svg>\n",
              "      </button>\n",
              "      \n",
              "  <style>\n",
              "    .colab-df-container {\n",
              "      display:flex;\n",
              "      flex-wrap:wrap;\n",
              "      gap: 12px;\n",
              "    }\n",
              "\n",
              "    .colab-df-convert {\n",
              "      background-color: #E8F0FE;\n",
              "      border: none;\n",
              "      border-radius: 50%;\n",
              "      cursor: pointer;\n",
              "      display: none;\n",
              "      fill: #1967D2;\n",
              "      height: 32px;\n",
              "      padding: 0 0 0 0;\n",
              "      width: 32px;\n",
              "    }\n",
              "\n",
              "    .colab-df-convert:hover {\n",
              "      background-color: #E2EBFA;\n",
              "      box-shadow: 0px 1px 2px rgba(60, 64, 67, 0.3), 0px 1px 3px 1px rgba(60, 64, 67, 0.15);\n",
              "      fill: #174EA6;\n",
              "    }\n",
              "\n",
              "    [theme=dark] .colab-df-convert {\n",
              "      background-color: #3B4455;\n",
              "      fill: #D2E3FC;\n",
              "    }\n",
              "\n",
              "    [theme=dark] .colab-df-convert:hover {\n",
              "      background-color: #434B5C;\n",
              "      box-shadow: 0px 1px 3px 1px rgba(0, 0, 0, 0.15);\n",
              "      filter: drop-shadow(0px 1px 2px rgba(0, 0, 0, 0.3));\n",
              "      fill: #FFFFFF;\n",
              "    }\n",
              "  </style>\n",
              "\n",
              "      <script>\n",
              "        const buttonEl =\n",
              "          document.querySelector('#df-ac214387-9be8-49ee-bb96-c3967efcdb84 button.colab-df-convert');\n",
              "        buttonEl.style.display =\n",
              "          google.colab.kernel.accessAllowed ? 'block' : 'none';\n",
              "\n",
              "        async function convertToInteractive(key) {\n",
              "          const element = document.querySelector('#df-ac214387-9be8-49ee-bb96-c3967efcdb84');\n",
              "          const dataTable =\n",
              "            await google.colab.kernel.invokeFunction('convertToInteractive',\n",
              "                                                     [key], {});\n",
              "          if (!dataTable) return;\n",
              "\n",
              "          const docLinkHtml = 'Like what you see? Visit the ' +\n",
              "            '<a target=\"_blank\" href=https://colab.research.google.com/notebooks/data_table.ipynb>data table notebook</a>'\n",
              "            + ' to learn more about interactive tables.';\n",
              "          element.innerHTML = '';\n",
              "          dataTable['output_type'] = 'display_data';\n",
              "          await google.colab.output.renderOutput(dataTable, element);\n",
              "          const docLink = document.createElement('div');\n",
              "          docLink.innerHTML = docLinkHtml;\n",
              "          element.appendChild(docLink);\n",
              "        }\n",
              "      </script>\n",
              "    </div>\n",
              "  </div>\n",
              "  "
            ]
          },
          "metadata": {},
          "execution_count": 9
        }
      ]
    },
    {
      "cell_type": "markdown",
      "source": [
        "### EDA & Data Pre-Processing"
      ],
      "metadata": {
        "id": "bPyYAeyAnv3Z"
      }
    },
    {
      "cell_type": "markdown",
      "source": [
        "** 결측치부터 찾아서 전처리 해보자. 위에서 데이터 전체 갯수는 200,000개 였다.**\n",
        "\n"
      ],
      "metadata": {
        "id": "jjMWuBOun5h0"
      }
    },
    {
      "cell_type": "code",
      "source": [
        "# 결측치 숫자를 체크해본다.\n",
        "naver_movie_review_df.isnull().sum()"
      ],
      "metadata": {
        "colab": {
          "base_uri": "https://localhost:8080/"
        },
        "id": "RDmurcjJn7Vo",
        "outputId": "4df065d2-100d-451f-ae97-38a28d95c8ae"
      },
      "execution_count": 10,
      "outputs": [
        {
          "output_type": "execute_result",
          "data": {
            "text/plain": [
              "id          0\n",
              "document    8\n",
              "label       0\n",
              "dtype: int64"
            ]
          },
          "metadata": {},
          "execution_count": 10
        }
      ]
    },
    {
      "cell_type": "code",
      "source": [
        "naver_movie_review_df = naver_movie_review_df.dropna(how='any')\n",
        "print(naver_movie_review_df.isnull().sum)"
      ],
      "metadata": {
        "colab": {
          "base_uri": "https://localhost:8080/"
        },
        "id": "SqrRvt7YzcJA",
        "outputId": "948564cd-76d2-4c70-d3c2-74d144b90ce5"
      },
      "execution_count": 11,
      "outputs": [
        {
          "output_type": "stream",
          "name": "stdout",
          "text": [
            "<bound method NDFrame._add_numeric_operations.<locals>.sum of            id  document  label\n",
            "0       False     False  False\n",
            "1       False     False  False\n",
            "2       False     False  False\n",
            "3       False     False  False\n",
            "4       False     False  False\n",
            "...       ...       ...    ...\n",
            "199995  False     False  False\n",
            "199996  False     False  False\n",
            "199997  False     False  False\n",
            "199998  False     False  False\n",
            "199999  False     False  False\n",
            "\n",
            "[199992 rows x 3 columns]>\n"
          ]
        }
      ]
    },
    {
      "cell_type": "code",
      "source": [
        "# 여기에서 혹시 모를 중복 데이터를 한번 더 거른다. 갯수는 194,544개가 되었다.\n",
        "duplicate_data_removed = naver_movie_review_df.drop_duplicates('document')\n",
        "print('결측치 제거에, 중복 데이터까지 거른 리뷰 갯수는:',len(duplicate_data_removed),'개 입니다.')"
      ],
      "metadata": {
        "colab": {
          "base_uri": "https://localhost:8080/"
        },
        "id": "x9s0_VG8oZ13",
        "outputId": "80dcd4e7-a5e5-41ad-f8b5-dfd04394681b"
      },
      "execution_count": 12,
      "outputs": [
        {
          "output_type": "stream",
          "name": "stdout",
          "text": [
            "결측치 제거에, 중복 데이터까지 거른 리뷰 갯수는: 194543 개 입니다.\n"
          ]
        }
      ]
    },
    {
      "cell_type": "code",
      "source": [
        "# 깨끗하게 정리한 'document', 리뷰가 있는 영역을 naver_movie_review_cleaned로 선언한다.\n",
        "naver_movie_review_cleaned = duplicate_data_removed['document']"
      ],
      "metadata": {
        "id": "dFKvmQjdr2vD"
      },
      "execution_count": 13,
      "outputs": []
    },
    {
      "cell_type": "code",
      "source": [
        "# 최장 1000자, 최저 0자로 해서 naver_movie_review_cleaned에 있는 리뷰들 길이가 어떻게 분포되어 있는지를 본다.\n",
        "# 도식화된 그림에서 가로는 리뷰의 길이, 세로는 리뷰의 갯수가 되겠다.\n",
        "\n",
        "min_len = 1000\n",
        "max_len = 0\n",
        "sum_len = 0\n",
        "\n",
        "for sen in naver_movie_review_cleaned:\n",
        "    length = len(sen)\n",
        "    if min_len > length: \n",
        "        min_len = length\n",
        "        \n",
        "    if max_len < length: \n",
        "        max_len = length\n",
        "    \n",
        "    sum_len += length\n",
        "\n",
        "print(\"문장의 최단 길이:\", min_len)\n",
        "print(\"문장의 최장 길이:\", max_len)\n",
        "print(\"문장의 평균 길이:\", sum_len // len(naver_movie_review_cleaned))\n",
        "\n",
        "sentence_length = np.zeros((max_len), dtype=np.int)\n",
        "\n",
        "for sen in naver_movie_review_cleaned:\n",
        "    sentence_length[len(sen)-1] += 1\n",
        "\n",
        "plt.bar(range(max_len), sentence_length, width=1.0)\n",
        "plt.title(\"Sentence Length Comparison\")\n",
        "plt.show()\n",
        "\n",
        "# 평균 10~50자 선에서 대부분의 데이터가 분포되어 있다.\n",
        "# 50~140자에 있는 데이터들이 정말 중요한게 아니라면, 50자 이후는 다 날려도 될 것 같다."
      ],
      "metadata": {
        "colab": {
          "base_uri": "https://localhost:8080/",
          "height": 386
        },
        "id": "ou3sKL_2p4AU",
        "outputId": "4bd8d071-be6d-4d80-8b31-6d69372187f7"
      },
      "execution_count": 14,
      "outputs": [
        {
          "output_type": "stream",
          "name": "stdout",
          "text": [
            "문장의 최단 길이: 1\n",
            "문장의 최장 길이: 142\n",
            "문장의 평균 길이: 36\n"
          ]
        },
        {
          "output_type": "stream",
          "name": "stderr",
          "text": [
            "/usr/local/lib/python3.7/dist-packages/ipykernel_launcher.py:22: DeprecationWarning: `np.int` is a deprecated alias for the builtin `int`. To silence this warning, use `int` by itself. Doing this will not modify any behavior and is safe. When replacing `np.int`, you may wish to use e.g. `np.int64` or `np.int32` to specify the precision. If you wish to review your current use, check the release note link for additional information.\n",
            "Deprecated in NumPy 1.20; for more details and guidance: https://numpy.org/devdocs/release/1.20.0-notes.html#deprecations\n"
          ]
        },
        {
          "output_type": "display_data",
          "data": {
            "text/plain": [
              "<Figure size 432x288 with 1 Axes>"
            ],
            "image/png": "[encoded data removed]"
          },
          "metadata": {
            "needs_background": "light"
          }
        }
      ]
    },
    {
      "cell_type": "code",
      "source": [
        "# 각 문장 길이별 리뷰 분포를 수치로 비교해 보자\n",
        "\n",
        "def below_threshold_len(max_len, nested_list):\n",
        "    cnt = 0\n",
        "    for s in nested_list:\n",
        "        if(len(s) <= max_len):\n",
        "            cnt = cnt + 1\n",
        "    print('샘플 길이가 %s 이하 비율은: %s'%(max_len, (cnt / len(nested_list))*100),'입니다.')\n",
        "\n",
        "below_threshold_len(36, naver_movie_review_cleaned)  # 평균\n",
        "below_threshold_len(142, naver_movie_review_cleaned)  # 최장 \n",
        "below_threshold_len(70, naver_movie_review_cleaned)  # 중앙\n",
        "below_threshold_len(50, naver_movie_review_cleaned)\n",
        "below_threshold_len(60, naver_movie_review_cleaned)"
      ],
      "metadata": {
        "colab": {
          "base_uri": "https://localhost:8080/"
        },
        "id": "rRdD6MDWv48R",
        "outputId": "f77f2eda-d47a-4760-ee03-b970772e24f0"
      },
      "execution_count": 15,
      "outputs": [
        {
          "output_type": "stream",
          "name": "stdout",
          "text": [
            "샘플 길이가 36 이하 비율은: 66.08616090016089 입니다.\n",
            "샘플 길이가 142 이하 비율은: 100.0 입니다.\n",
            "샘플 길이가 70 이하 비율은: 88.66523082300571 입니다.\n",
            "샘플 길이가 50 이하 비율은: 82.05640912291884 입니다.\n",
            "샘플 길이가 60 이하 비율은: 85.86739178484962 입니다.\n"
          ]
        }
      ]
    },
    {
      "cell_type": "code",
      "source": [
        "# 최장으로 쓰신 142자 글은 무엇으로 적혀 있을까\n",
        "\n",
        "def who_are_you_for_long_sentence(raw, length):\n",
        "    count = 0\n",
        "\n",
        "    for sen in raw:\n",
        "      if len(sen) == length:\n",
        "          print(sen)\n",
        "          count += 1\n",
        "          if count > 100: return\n",
        "\n",
        "who_are_you_for_long_sentence(naver_movie_review_cleaned, 142)"
      ],
      "metadata": {
        "colab": {
          "base_uri": "https://localhost:8080/"
        },
        "id": "RBEbjk3JthiL",
        "outputId": "bd105a6d-67f5-4ca5-a496-887634488b2a"
      },
      "execution_count": 16,
      "outputs": [
        {
          "output_type": "stream",
          "name": "stdout",
          "text": [
            "영화 초반을 보면서 ' 좀 허항된 . 황당한 코믹스런 ' 연출이 되겠다란 생각을 하고 보기시작했는데 .. 연주가 처음 시작되는 부분에서 저도 모르게 눈가가 초촉해 지기시작하더군요 .. 이유는 모르겠네요 ... 자유에 대한 갈증과 박해에 대한 내용을 &gt\n"
          ]
        }
      ]
    },
    {
      "cell_type": "code",
      "source": [
        "# 최단으로 쓰신 1글자 글은 무엇으로 적혀 있을까\n",
        "\n",
        "def who_are_you_for_long_sentence(raw, length):\n",
        "    count = 0\n",
        "\n",
        "    for sen in raw:\n",
        "      if len(sen) == length:\n",
        "          print(sen)\n",
        "          count += 1\n",
        "          if count > 100: return\n",
        "\n",
        "who_are_you_for_long_sentence(naver_movie_review_cleaned, 1)"
      ],
      "metadata": {
        "colab": {
          "base_uri": "https://localhost:8080/"
        },
        "id": "DXLakZkGFn1v",
        "outputId": "24be4471-5fb2-489d-bd36-a9634ffd68e3"
      },
      "execution_count": 34,
      "outputs": [
        {
          "output_type": "stream",
          "name": "stdout",
          "text": [
            "굿\n",
            "핡\n",
            "휴\n",
            "시\n",
            "ㅋ\n",
            "ㅇ\n",
            "‥\n",
            "O\n",
            "갑\n",
            "ㅎ\n",
            ".\n",
            "올\n",
            "헷\n",
            "g\n",
            "♥\n",
            "짱\n",
            "ㅆ\n",
            "굳\n",
            "잼\n",
            "ㅁ\n",
            "?\n",
            "애\n",
            "흠\n",
            "!\n",
            "찜\n",
            "b\n",
            ",\n",
            "1\n",
            "9\n",
            "♬\n",
            "ㅗ\n",
            "ㄳ\n",
            "ㄴ\n",
            "호\n",
            "a\n",
            "d\n",
            "f\n",
            "음\n",
            "헐\n",
            "캬\n",
            "린\n",
            "업\n",
            "乃\n",
            "ㅠ\n",
            ";\n",
            "·\n",
            "k\n",
            "움\n",
            "ㄱ\n",
            "쩜\n",
            "-\n",
            "군\n",
            "ㅉ\n",
            "훗\n",
            "z\n",
            "쨩\n",
            "뿌\n",
            "♡\n",
            "하\n",
            "h\n",
            "ㅍ\n",
            "꽉\n",
            "토\n",
            "귯\n",
            "아\n",
            "오\n",
            "ㅣ\n",
            "봐\n",
            "웅\n",
            "네\n",
            "ㅂ\n",
            "꿈\n",
            "헉\n",
            "와\n",
            "뻑\n",
            "걍\n",
            "헝\n",
            "우\n",
            "즛\n",
            "풉\n",
            "4\n",
            "쀍\n",
            "ㄹ\n",
            "삼\n",
            "쒯\n",
            "즐\n",
            "함\n",
            "0\n",
            "진\n",
            "악\n",
            "풋\n",
            "쩝\n",
            "욜\n",
            "ㄷ\n",
            "흐\n",
            "싫\n",
            "ㅜ\n",
            "잏\n",
            "허\n",
            "엿\n",
            "쉣\n"
          ]
        }
      ]
    },
    {
      "cell_type": "code",
      "source": [
        "max_len = 60   \n",
        "min_len = 10\n",
        "\n",
        "# 10글자 ~ 60글자로 제한하여 모은다.\n",
        "\n",
        "modified_corpus_final = [s for s in naver_movie_review_cleaned if (len(s) < max_len) & (len(s) >= min_len)]\n",
        "modified_corpus_label = []  \n",
        "for sentence, label in zip(naver_movie_review_df['document'], naver_movie_review_df['label']):    \n",
        "    if (len(sentence) < max_len):     \n",
        "        modified_corpus.append(sentence)  \n",
        "        modified_corpus_label.append(label) \n",
        "  \n",
        "sentence_length = np.zeros((max_len), dtype=int)\n",
        "\n",
        "for sen in modified_corpus_final:\n",
        "    sentence_length[len(sen)-1] += 1\n",
        "\n",
        "plt.bar(range(max_len), sentence_length, width=1.0)\n",
        "plt.title(\"Sentence Length Comparison_V2\")\n",
        "plt.show()"
      ],
      "metadata": {
        "colab": {
          "base_uri": "https://localhost:8080/",
          "height": 281
        },
        "id": "1gl7o6SgvjlX",
        "outputId": "7def703c-9465-4650-af16-11f3af4705e0"
      },
      "execution_count": 27,
      "outputs": [
        {
          "output_type": "display_data",
          "data": {
            "text/plain": [
              "<Figure size 432x288 with 1 Axes>"
            ],
            "image/png": "[encoded data removed]"
          },
          "metadata": {
            "needs_background": "light"
          }
        }
      ]
    },
    {
      "cell_type": "code",
      "source": [
        "# 처음에 데이터 열었을 때 갯수\n",
        "print(len(naver_movie_review_df))\n",
        "# 결측치 제거, 중복 제거 후 데이터 갯수\n",
        "print(len(naver_movie_review_cleaned))\n",
        "# 데이터 범위를 60자로 제한한 후 데이터 갯수\n",
        "print(len(modified_corpus_final))"
      ],
      "metadata": {
        "colab": {
          "base_uri": "https://localhost:8080/"
        },
        "id": "5eC_fEIpzkfu",
        "outputId": "72f8c22d-eeb7-4166-a7f2-535fcb60a189"
      },
      "execution_count": 30,
      "outputs": [
        {
          "output_type": "stream",
          "name": "stdout",
          "text": [
            "199992\n",
            "194543\n",
            "153554\n"
          ]
        }
      ]
    },
    {
      "cell_type": "markdown",
      "source": [
        "## 2. Modeling"
      ],
      "metadata": {
        "id": "S79RJwU80Fjq"
      }
    },
    {
      "cell_type": "code",
      "source": [
        "import urllib.request\n",
        "urllib.request.urlretrieve(\"https://raw.githubusercontent.com/haven-jeon/ko_en_neural_machine_translation/master/korean_parallel_corpora/korean-english-v1/korean-english-park.train.ko\", filename=\"korean-english-park.train.ko\")"
      ],
      "metadata": {
        "colab": {
          "base_uri": "https://localhost:8080/"
        },
        "id": "6n5kxeWb0Iju",
        "outputId": "f3ac7153-32b6-4233-bed6-e46d069001d7"
      },
      "execution_count": 31,
      "outputs": [
        {
          "output_type": "execute_result",
          "data": {
            "text/plain": [
              "('korean-english-park.train.ko', <http.client.HTTPMessage at 0x7f36bdc6d390>)"
            ]
          },
          "metadata": {},
          "execution_count": 31
        }
      ]
    },
    {
      "cell_type": "code",
      "source": [
        "import sentencepiece as spm\n",
        "temp_train_file = urllib.request.urlretrieve(\"https://raw.githubusercontent.com/haven-jeon/ko_en_neural_machine_translation/master/korean_parallel_corpora/korean-english-v1/korean-english-park.train.ko\", filename=\"korean-english-park.train.ko\")\n",
        "vocab_size = 8000\n",
        "\n",
        "# Unigram 8K\n",
        "spm.SentencePieceTrainer.Train('--input=korean-english-park.train.ko --model_prefix=korean_spm_unigram_8k --vocab_size=8000'.format(temp_train_file, vocab_size))\n",
        "# Unigram 16K\n",
        "spm.SentencePieceTrainer.Train('--input=korean-english-park.train.ko --model_prefix=korean_spm_unigram_16k --vocab_size=16000'.format(temp_train_file, vocab_size*2))\n",
        "# BPE 8K\n",
        "spm.SentencePieceTrainer.Train('--input=korean-english-park.train.ko --model_prefix=korean_spm_bpe_8k --model_type=bpe --vocab_size=8000'.format(temp_train_file, vocab_size))\n",
        "# BPE 16K\n",
        "spm.SentencePieceTrainer.Train('--input=korean-english-park.train.ko --model_prefix=korean_spm_bpe_16k --model_type=bpe --vocab_size=16000'.format(temp_train_file, vocab_size*2))"
      ],
      "metadata": {
        "id": "rHawbXFr6ABc"
      },
      "execution_count": 32,
      "outputs": []
    },
    {
      "cell_type": "code",
      "source": [
        "!ls -l korean_spm_unigram_8k*\n",
        "!ls -l korean_spm_unigram_16k*\n",
        "!ls -l korean_spm_bpe_8k*\n",
        "!ls -l korean_spm_bpe_16k*"
      ],
      "metadata": {
        "colab": {
          "base_uri": "https://localhost:8080/"
        },
        "id": "Kh-C7Z5cHmSX",
        "outputId": "5dae470e-4022-4f13-a9ae-abea0446f28a"
      },
      "execution_count": 33,
      "outputs": [
        {
          "output_type": "stream",
          "name": "stdout",
          "text": [
            "-rw-r--r-- 1 root root 376471 Mar 23 14:02 korean_spm_unigram_8k.model\n",
            "-rw-r--r-- 1 root root 145963 Mar 23 14:02 korean_spm_unigram_8k.vocab\n",
            "-rw-r--r-- 1 root root 534523 Mar 23 14:03 korean_spm_unigram_16k.model\n",
            "-rw-r--r-- 1 root root 310962 Mar 23 14:03 korean_spm_unigram_16k.vocab\n",
            "-rw-r--r-- 1 root root 371579 Mar 23 14:03 korean_spm_bpe_8k.model\n",
            "-rw-r--r-- 1 root root 116816 Mar 23 14:03 korean_spm_bpe_8k.vocab\n",
            "-rw-r--r-- 1 root root 524521 Mar 23 14:03 korean_spm_bpe_16k.model\n",
            "-rw-r--r-- 1 root root 259754 Mar 23 14:03 korean_spm_bpe_16k.vocab\n"
          ]
        }
      ]
    },
    {
      "cell_type": "code",
      "source": [
        "def performance_test(model):\n",
        "    s = spm.SentencePieceProcessor()\n",
        "    s.Load(model)\n",
        "\n",
        "    # SentencePiece를 활용한 sentence -> encoding\n",
        "    tokensIDs = s.EncodeAsIds('\b.')\n",
        "    print(tokensIDs)\n",
        "\n",
        "    # SentencePiece를 활용한 sentence -> encoded pieces\n",
        "    print(s.SampleEncodeAsPieces('죽음과결혼은미룰수록좋다.',1, 0.0))\n",
        "\n",
        "    # SentencePiece를 활용한 encoding -> sentence 복원\n",
        "    print(s.DecodeIds(tokensIDs))"
      ],
      "metadata": {
        "id": "uyVa_737_aWm"
      },
      "execution_count": 35,
      "outputs": []
    },
    {
      "cell_type": "code",
      "source": [
        "# Unigram Vocab 8K\n",
        "performance_test(model='korean_spm_unigram_8k.model')\n",
        "print('korean_spm_unigram_8k')\n",
        "\n",
        "# Unigram Vocab 16K\n",
        "performance_test(model='korean_spm_unigram_16k.model')\n",
        "print('korean_spm_unigram_16k')\n",
        "\n",
        "# BPE Vocab 8K\n",
        "performance_test(model='korean_spm_bpe_8k.model')\n",
        "print('korean_spm_bpe_8k')\n",
        "\n",
        "# BPE Vocab 16K\n",
        "performance_test(model='korean_spm_bpe_16k.model')\n",
        "print('korean_spm_bpe_16k')"
      ],
      "metadata": {
        "colab": {
          "base_uri": "https://localhost:8080/"
        },
        "id": "vyJzE-OvBPB-",
        "outputId": "7b3fe53a-ae8e-46e0-83c9-f74621b9599b"
      },
      "execution_count": 36,
      "outputs": [
        {
          "output_type": "stream",
          "name": "stdout",
          "text": [
            "[3, 4]\n",
            "['▁죽음', '과', '결', '혼', '은', '미', '룰', '수록', '좋', '다', '.']\n",
            ".\n",
            "korean_spm_unigram_8k\n",
            "[5, 3]\n",
            "['▁죽음', '과', '결혼', '은', '미', '룰', '수록', '좋', '다', '.']\n",
            ".\n",
            "korean_spm_unigram_16k\n",
            "[6673, 6676]\n",
            "['▁죽음', '과', '결', '혼', '은', '미', '룰', '수록', '좋', '다', '.']\n",
            ".\n",
            "korean_spm_bpe_8k\n",
            "[11810]\n",
            "['▁죽음', '과', '결혼', '은', '미', '룰', '수록', '좋', '다', '.']\n",
            ".\n",
            "korean_spm_bpe_16k\n"
          ]
        }
      ]
    },
    {
      "cell_type": "markdown",
      "source": [
        "### Tokenizing"
      ],
      "metadata": {
        "id": "cT3-0viFJMKd"
      }
    },
    {
      "cell_type": "code",
      "source": [
        "def sp_tokenize(s, corpus, model):\n",
        "\n",
        "    tensor = []\n",
        "\n",
        "    for sen in corpus:\n",
        "        tensor.append(s.EncodeAsIds(sen))\n",
        "\n",
        "    with open(\"korean_spm_bpe_16k.vocab\", 'r') as f:\n",
        "        vocab = f.readlines()\n",
        "\n",
        "    word_index = {}\n",
        "    index_word = {}\n",
        "\n",
        "    for idx, line in enumerate(vocab):\n",
        "        word = line.split(\"\\t\")[0]\n",
        "\n",
        "        word_index.update({idx:word})\n",
        "        index_word.update({word:idx})\n",
        "\n",
        "    tensor = tf.keras.preprocessing.sequence.pad_sequences(tensor, padding='post')\n",
        "\n",
        "    return tensor, word_index, index_word"
      ],
      "metadata": {
        "id": "vCKkIvUCChdd"
      },
      "execution_count": 37,
      "outputs": []
    },
    {
      "cell_type": "code",
      "source": [
        "s = spm.SentencePieceProcessor()\n",
        "s.Load('korean_spm_bpe_16k.model')\n",
        "\n",
        "my_corpus = ['안촉촉한 초코칩 나라에 살던 안촉촉한 초코칩이 촉촉한 초코칩 나라의 촉촉한 초코칩을 보고 촉촉한 초코칩이 되고 싶어서 촉촉한 초코칩 나라에 갔다.', '촉촉한 초코칩 나라의 문지기가 `넌 촉촉한 초코칩이 아니고 안촉촉한 초코칩이니까 안촉촉한 초코칩나라에서 살아`라고 했다.']\n",
        "tensor, word_index, index_word = sp_tokenize(s, my_corpus, 'korean_spm_unigram_16k')\n",
        "print(tensor)"
      ],
      "metadata": {
        "colab": {
          "base_uri": "https://localhost:8080/"
        },
        "id": "vQl8mXETFmFz",
        "outputId": "97fd6bbb-be6f-4b09-cf9c-b2c1e8b73898"
      },
      "execution_count": 38,
      "outputs": [
        {
          "output_type": "stream",
          "name": "stdout",
          "text": [
            "[[  177 15182 15182 14685   381 14904 15735  1635 14677   266 14844   177\n",
            "  15182 15182 14685   381 14904 15735 14674   920 15182 14685   381 14904\n",
            "  15735  7181   920 15182 14685   381 14904 15735 14681   372   920 15182\n",
            "  14685   381 14904 15735 14674  2417  2898 14691   920 15182 14685   381\n",
            "  14904 15735  1635 14677  6305 14676]\n",
            " [  920 15182 14685   381 14904 15735  7181   166 14682   544  5534 15712\n",
            "    920 15182 14685   381 14904 15735 14674 10899   177 15182 15182 14685\n",
            "    381 14904 15735 14674  6511   177 15182 15182 14685   381 14904 15735\n",
            "   1348     6  2136 15505    38   402 14676     0     0     0     0     0\n",
            "      0     0     0     0     0     0]]\n"
          ]
        }
      ]
    },
    {
      "cell_type": "markdown",
      "source": [
        "### Rubric 평가기준\n",
        "---\n",
        "\n",
        "|  평가문항  |  상세기준  |\n",
        "|:---------|:---------|\n",
        "|1. SentencePiece를 이용하여 모델을 만들기까지의 과정이 정상적으로 진행되었는가?|코퍼스 분석, 전처리, SentencePiece 적용, 토크나이저 구현 및 동작이 빠짐없이 진행되었는가?"
      ],
      "metadata": {
        "id": "BEADnuhHIc4z"
      }
    },
    {
      "cell_type": "markdown",
      "source": [
        "### Model Training"
      ],
      "metadata": {
        "id": "nvL0V1lnJRhZ"
      }
    },
    {
      "cell_type": "code",
      "source": [
        "tensor, word_index, index_word = sp_tokenize(s, modified_corpus_final, 'kor_spm_unigram_16k')"
      ],
      "metadata": {
        "id": "vE3xMG6-JUSQ"
      },
      "execution_count": 109,
      "outputs": []
    },
    {
      "cell_type": "code",
      "source": [
        "from sklearn.model_selection import train_test_split\n",
        "filtered_label = np.array(modified_corpus_label)\n",
        "x_train, x_val, y_train, y_val = train_test_split(tensor, modified_corpus_final, test_size=0.2)\n",
        "x_train, x_test, y_train, y_test = train_test_split(x_train, y_train, test_size=0.2)"
      ],
      "metadata": {
        "id": "WEPX2u35KW-U"
      },
      "execution_count": 106,
      "outputs": []
    },
    {
      "cell_type": "code",
      "source": [
        "print(len(x_train), len(x_test), len(x_val))\n",
        "print(len(y_train), len(y_test), len(y_val))"
      ],
      "metadata": {
        "colab": {
          "base_uri": "https://localhost:8080/"
        },
        "id": "0Two25JxSNbK",
        "outputId": "af6aecd9-ad63-4a96-cfb8-c01e2c3db0a1"
      },
      "execution_count": 85,
      "outputs": [
        {
          "output_type": "stream",
          "name": "stdout",
          "text": [
            "98274 24569 30711\n",
            "98274 24569 30711\n"
          ]
        }
      ]
    },
    {
      "cell_type": "code",
      "source": [
        "from tensorflow.keras.initializers import Constant\n",
        "\n",
        "vocab_size = vocab_size\n",
        "word_vector_dim = 32  \n",
        "\n",
        "model_LSTM = keras.Sequential()\n",
        "model_LSTM.add(keras.layers.Embedding(vocab_size, \n",
        "                                 word_vector_dim,))\n",
        "            \n",
        "model_LSTM.add(keras.layers.LSTM(128)) \n",
        "model_LSTM.add(keras.layers.Dense(1, activation='sigmoid'))  # 최종 출력은 긍정/부정을 나타내는 1dim 입니다.\n",
        "\n",
        "model_LSTM.summary()"
      ],
      "metadata": {
        "colab": {
          "base_uri": "https://localhost:8080/"
        },
        "id": "vwhWylawMQOo",
        "outputId": "95e4ca0d-6b6b-4daa-c550-6df793ba71a9"
      },
      "execution_count": 86,
      "outputs": [
        {
          "output_type": "stream",
          "name": "stdout",
          "text": [
            "Model: \"sequential_4\"\n",
            "_________________________________________________________________\n",
            " Layer (type)                Output Shape              Param #   \n",
            "=================================================================\n",
            " embedding_4 (Embedding)     (None, None, 32)          256000    \n",
            "                                                                 \n",
            " lstm_4 (LSTM)               (None, 128)               82432     \n",
            "                                                                 \n",
            " dense_4 (Dense)             (None, 1)                 129       \n",
            "                                                                 \n",
            "=================================================================\n",
            "Total params: 338,561\n",
            "Trainable params: 338,561\n",
            "Non-trainable params: 0\n",
            "_________________________________________________________________\n"
          ]
        }
      ]
    },
    {
      "cell_type": "code",
      "source": [
        "es = keras.callbacks.EarlyStopping(monitor='val_loss', mode='min', verbose=1, patience=4)"
      ],
      "metadata": {
        "id": "gJwQGt9bSkrb"
      },
      "execution_count": 87,
      "outputs": []
    },
    {
      "cell_type": "code",
      "source": [
        "model_LSTM.compile(optimizer='adam',\n",
        "              loss='binary_crossentropy',\n",
        "              metrics=['accuracy'])\n",
        "              \n",
        "epochs=20\n",
        "batch_size=1024\n",
        "history = model_LSTM.fit(x_train,\n",
        "                    y_train,\n",
        "                    epochs=epochs,\n",
        "                    batch_size=batch_size,\n",
        "                    validation_data=(x_val, y_val),\n",
        "                    verbose=1)\n",
        "\n",
        "results = model_LSTM.evaluate(x_test, y_test, verbose=1)\n",
        "print(results)"
      ],
      "metadata": {
        "colab": {
          "base_uri": "https://localhost:8080/",
          "height": 494
        },
        "id": "v5omyWFWSrkK",
        "outputId": "4c9dfd48-4ce3-49b3-aa07-497178eca0db"
      },
      "execution_count": 107,
      "outputs": [
        {
          "output_type": "error",
          "ename": "ValueError",
          "evalue": "ignored",
          "traceback": [
            "\u001b[0;31m---------------------------------------------------------------------------\u001b[0m",
            "\u001b[0;31mValueError\u001b[0m                                Traceback (most recent call last)",
            "\u001b[0;32m<ipython-input-107-d89e2d9b3190>\u001b[0m in \u001b[0;36m<module>\u001b[0;34m()\u001b[0m\n\u001b[1;32m     10\u001b[0m                     \u001b[0mbatch_size\u001b[0m\u001b[0;34m=\u001b[0m\u001b[0mbatch_size\u001b[0m\u001b[0;34m,\u001b[0m\u001b[0;34m\u001b[0m\u001b[0;34m\u001b[0m\u001b[0m\n\u001b[1;32m     11\u001b[0m                     \u001b[0mvalidation_data\u001b[0m\u001b[0;34m=\u001b[0m\u001b[0;34m(\u001b[0m\u001b[0mx_val\u001b[0m\u001b[0;34m,\u001b[0m \u001b[0my_val\u001b[0m\u001b[0;34m)\u001b[0m\u001b[0;34m,\u001b[0m\u001b[0;34m\u001b[0m\u001b[0;34m\u001b[0m\u001b[0m\n\u001b[0;32m---> 12\u001b[0;31m                     verbose=1)\n\u001b[0m\u001b[1;32m     13\u001b[0m \u001b[0;34m\u001b[0m\u001b[0m\n\u001b[1;32m     14\u001b[0m \u001b[0mresults\u001b[0m \u001b[0;34m=\u001b[0m \u001b[0mmodel_LSTM\u001b[0m\u001b[0;34m.\u001b[0m\u001b[0mevaluate\u001b[0m\u001b[0;34m(\u001b[0m\u001b[0mx_test\u001b[0m\u001b[0;34m,\u001b[0m \u001b[0my_test\u001b[0m\u001b[0;34m,\u001b[0m \u001b[0mverbose\u001b[0m\u001b[0;34m=\u001b[0m\u001b[0;36m1\u001b[0m\u001b[0;34m)\u001b[0m\u001b[0;34m\u001b[0m\u001b[0;34m\u001b[0m\u001b[0m\n",
            "\u001b[0;32m/usr/local/lib/python3.7/dist-packages/keras/utils/traceback_utils.py\u001b[0m in \u001b[0;36merror_handler\u001b[0;34m(*args, **kwargs)\u001b[0m\n\u001b[1;32m     65\u001b[0m     \u001b[0;32mexcept\u001b[0m \u001b[0mException\u001b[0m \u001b[0;32mas\u001b[0m \u001b[0me\u001b[0m\u001b[0;34m:\u001b[0m  \u001b[0;31m# pylint: disable=broad-except\u001b[0m\u001b[0;34m\u001b[0m\u001b[0;34m\u001b[0m\u001b[0m\n\u001b[1;32m     66\u001b[0m       \u001b[0mfiltered_tb\u001b[0m \u001b[0;34m=\u001b[0m \u001b[0m_process_traceback_frames\u001b[0m\u001b[0;34m(\u001b[0m\u001b[0me\u001b[0m\u001b[0;34m.\u001b[0m\u001b[0m__traceback__\u001b[0m\u001b[0;34m)\u001b[0m\u001b[0;34m\u001b[0m\u001b[0;34m\u001b[0m\u001b[0m\n\u001b[0;32m---> 67\u001b[0;31m       \u001b[0;32mraise\u001b[0m \u001b[0me\u001b[0m\u001b[0;34m.\u001b[0m\u001b[0mwith_traceback\u001b[0m\u001b[0;34m(\u001b[0m\u001b[0mfiltered_tb\u001b[0m\u001b[0;34m)\u001b[0m \u001b[0;32mfrom\u001b[0m \u001b[0;32mNone\u001b[0m\u001b[0;34m\u001b[0m\u001b[0;34m\u001b[0m\u001b[0m\n\u001b[0m\u001b[1;32m     68\u001b[0m     \u001b[0;32mfinally\u001b[0m\u001b[0;34m:\u001b[0m\u001b[0;34m\u001b[0m\u001b[0;34m\u001b[0m\u001b[0m\n\u001b[1;32m     69\u001b[0m       \u001b[0;32mdel\u001b[0m \u001b[0mfiltered_tb\u001b[0m\u001b[0;34m\u001b[0m\u001b[0;34m\u001b[0m\u001b[0m\n",
            "\u001b[0;32m/usr/local/lib/python3.7/dist-packages/keras/engine/data_adapter.py\u001b[0m in \u001b[0;36mselect_data_adapter\u001b[0;34m(x, y)\u001b[0m\n\u001b[1;32m    985\u001b[0m         \u001b[0;34m\"Failed to find data adapter that can handle \"\u001b[0m\u001b[0;34m\u001b[0m\u001b[0;34m\u001b[0m\u001b[0m\n\u001b[1;32m    986\u001b[0m         \"input: {}, {}\".format(\n\u001b[0;32m--> 987\u001b[0;31m             _type_name(x), _type_name(y)))\n\u001b[0m\u001b[1;32m    988\u001b[0m   \u001b[0;32melif\u001b[0m \u001b[0mlen\u001b[0m\u001b[0;34m(\u001b[0m\u001b[0madapter_cls\u001b[0m\u001b[0;34m)\u001b[0m \u001b[0;34m>\u001b[0m \u001b[0;36m1\u001b[0m\u001b[0;34m:\u001b[0m\u001b[0;34m\u001b[0m\u001b[0;34m\u001b[0m\u001b[0m\n\u001b[1;32m    989\u001b[0m     raise RuntimeError(\n",
            "\u001b[0;31mValueError\u001b[0m: Failed to find data adapter that can handle input: <class 'numpy.ndarray'>, (<class 'list'> containing values of types {\"<class 'str'>\"})"
          ]
        }
      ]
    },
    {
      "cell_type": "markdown",
      "source": [
        "## 3. Project Retrospective\n",
        "\n",
        "+ 프로젝트 진행 전반에 있어 각종 오류 때문에 피말리는(?) 수정을 했지만 해결을 하지 못했다. 분명 오류없이 넘어갔던 부분에 다시 에러가 생기면서 모델 구현까지만 하고 이후 동작은 실패했다.\n",
        "+ 한국어를 전처리하는 것이 이전에도 어려웠는데, 지금도 여전히 어렵다. 친해지기 위해 더 많이 노력해야 할 듯 하다.\n",
        "+ 파일을 다운로드 받아서 로드하는 것이 아니라, 깃헙에서 바로 가져다가 쓰도록 설계한 것은 한 단계 발전했다.\n",
        "+ 이번에는 Colab Pro에서 모두 해결하려고 갖은 노력을 다 했는데 LMS 상에서는 동일 코드를 시도하지 않았다. 만약 LMS에서 정상 작동이 되고, 코드에 문제가 없다면 환경셋팅 이슈일 수 있어서 면밀하게 살펴볼 예정이다."
      ],
      "metadata": {
        "id": "_UkVQjN7vlFL"
      }
    }
  ]
}