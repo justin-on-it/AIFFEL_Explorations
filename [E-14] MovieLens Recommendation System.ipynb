{
 "cells": [
  {
   "cell_type": "markdown",
   "id": "7e908649",
   "metadata": {},
   "source": [
    "# [E-14] Recommendation System\n",
    "\"Exploration Node 14. MovieLens Recommendation System\" / 2022. 03. 01 (Tue) 이형주\n",
    "\n",
    "## Contents\n",
    "---\n",
    "- **1. Environment Setup & Data Pre-Processing**\n",
    "- **2. Model Training**\n",
    "- **3. Project Retrospective**\n",
    "\n",
    "## Rubric 평가기준\n",
    "---\n",
    "\n",
    "|  평가문항  |  상세기준  |\n",
    "|:---------|:---------|\n",
    "|1. CSR matrix가 정상적으로 만들어졌다.|사용자와 아이템 개수를 바탕으로 정확한 사이즈로 만들었다.\n",
    "|2. MF 모델이 정상적으로 훈련되어 그럴듯한 추천이 이루어졌다.|사용자와 아이템 벡터 내적수치가 의미있게 형성되었다.\n",
    "|3. 비슷한 영화 찾기와 유저에게 추천하기의 과정이 정상적으로 진행되었다.|MF모델이 예측한 유저 선호도 및 아이템간 유사도, 기여도가 의미있게 측정되었다."
   ]
  },
  {
   "cell_type": "markdown",
   "id": "158c7250",
   "metadata": {},
   "source": [
    "## 1. Environment Setup & Data Pre-Processing"
   ]
  },
  {
   "cell_type": "code",
   "execution_count": 1,
   "id": "86963f04",
   "metadata": {},
   "outputs": [
    {
     "data": {
      "text/html": [
       "<div>\n",
       "<style scoped>\n",
       "    .dataframe tbody tr th:only-of-type {\n",
       "        vertical-align: middle;\n",
       "    }\n",
       "\n",
       "    .dataframe tbody tr th {\n",
       "        vertical-align: top;\n",
       "    }\n",
       "\n",
       "    .dataframe thead th {\n",
       "        text-align: right;\n",
       "    }\n",
       "</style>\n",
       "<table border=\"1\" class=\"dataframe\">\n",
       "  <thead>\n",
       "    <tr style=\"text-align: right;\">\n",
       "      <th></th>\n",
       "      <th>user_id</th>\n",
       "      <th>movie_id</th>\n",
       "      <th>rating</th>\n",
       "      <th>timestamp</th>\n",
       "    </tr>\n",
       "  </thead>\n",
       "  <tbody>\n",
       "    <tr>\n",
       "      <th>0</th>\n",
       "      <td>1</td>\n",
       "      <td>1193</td>\n",
       "      <td>5</td>\n",
       "      <td>978300760</td>\n",
       "    </tr>\n",
       "    <tr>\n",
       "      <th>1</th>\n",
       "      <td>1</td>\n",
       "      <td>661</td>\n",
       "      <td>3</td>\n",
       "      <td>978302109</td>\n",
       "    </tr>\n",
       "    <tr>\n",
       "      <th>2</th>\n",
       "      <td>1</td>\n",
       "      <td>914</td>\n",
       "      <td>3</td>\n",
       "      <td>978301968</td>\n",
       "    </tr>\n",
       "    <tr>\n",
       "      <th>3</th>\n",
       "      <td>1</td>\n",
       "      <td>3408</td>\n",
       "      <td>4</td>\n",
       "      <td>978300275</td>\n",
       "    </tr>\n",
       "    <tr>\n",
       "      <th>4</th>\n",
       "      <td>1</td>\n",
       "      <td>2355</td>\n",
       "      <td>5</td>\n",
       "      <td>978824291</td>\n",
       "    </tr>\n",
       "  </tbody>\n",
       "</table>\n",
       "</div>"
      ],
      "text/plain": [
       "   user_id  movie_id  rating  timestamp\n",
       "0        1      1193       5  978300760\n",
       "1        1       661       3  978302109\n",
       "2        1       914       3  978301968\n",
       "3        1      3408       4  978300275\n",
       "4        1      2355       5  978824291"
      ]
     },
     "execution_count": 1,
     "metadata": {},
     "output_type": "execute_result"
    }
   ],
   "source": [
    "import os\n",
    "import pandas as pd\n",
    "import numpy as np\n",
    "\n",
    "from scipy.sparse import csr_matrix\n",
    "from implicit.als import AlternatingLeastSquares\n",
    "\n",
    "rating_file_path=os.getenv('HOME') + '/aiffel/recommendata_iu/data/ml-1m/ratings.dat'\n",
    "ratings_cols = ['user_id', 'movie_id', 'rating', 'timestamp']\n",
    "ratings = pd.read_csv(rating_file_path, sep='::', names=ratings_cols, engine='python', encoding = \"ISO-8859-1\")\n",
    "orginal_data_size = len(ratings)\n",
    "ratings.head()"
   ]
  },
  {
   "cell_type": "code",
   "execution_count": 2,
   "id": "8cf00c35",
   "metadata": {},
   "outputs": [
    {
     "name": "stdout",
     "output_type": "stream",
     "text": [
      "orginal_data_size: 1000209, filtered_data_size: 836478\n",
      "Ratio of Remaining Data is 83.63%\n"
     ]
    }
   ],
   "source": [
    "# 3점 이상만 남깁니다.\n",
    "ratings = ratings[ratings['rating']>=3]\n",
    "filtered_data_size = len(ratings)\n",
    "\n",
    "print(f'orginal_data_size: {orginal_data_size}, filtered_data_size: {filtered_data_size}')\n",
    "print(f'Ratio of Remaining Data is {filtered_data_size / orginal_data_size:.2%}')"
   ]
  },
  {
   "cell_type": "code",
   "execution_count": 3,
   "id": "1dd83a82",
   "metadata": {},
   "outputs": [],
   "source": [
    "del ratings['timestamp']"
   ]
  },
  {
   "cell_type": "code",
   "execution_count": 4,
   "id": "220b5405",
   "metadata": {},
   "outputs": [
    {
     "data": {
      "text/plain": [
       "0          5\n",
       "1          3\n",
       "2          3\n",
       "3          4\n",
       "4          5\n",
       "          ..\n",
       "1000203    3\n",
       "1000205    5\n",
       "1000206    5\n",
       "1000207    4\n",
       "1000208    4\n",
       "Name: count, Length: 836478, dtype: int64"
      ]
     },
     "execution_count": 4,
     "metadata": {},
     "output_type": "execute_result"
    }
   ],
   "source": [
    "# rating 컬럼의 이름을 count로 바꿉니다.\n",
    "ratings.rename(columns={'rating':'count'}, inplace=True)\n",
    "ratings['count']"
   ]
  },
  {
   "cell_type": "code",
   "execution_count": 5,
   "id": "d34af583",
   "metadata": {},
   "outputs": [
    {
     "data": {
      "text/html": [
       "<div>\n",
       "<style scoped>\n",
       "    .dataframe tbody tr th:only-of-type {\n",
       "        vertical-align: middle;\n",
       "    }\n",
       "\n",
       "    .dataframe tbody tr th {\n",
       "        vertical-align: top;\n",
       "    }\n",
       "\n",
       "    .dataframe thead th {\n",
       "        text-align: right;\n",
       "    }\n",
       "</style>\n",
       "<table border=\"1\" class=\"dataframe\">\n",
       "  <thead>\n",
       "    <tr style=\"text-align: right;\">\n",
       "      <th></th>\n",
       "      <th>movie_id</th>\n",
       "      <th>title</th>\n",
       "      <th>genre</th>\n",
       "    </tr>\n",
       "  </thead>\n",
       "  <tbody>\n",
       "    <tr>\n",
       "      <th>0</th>\n",
       "      <td>1</td>\n",
       "      <td>Toy Story (1995)</td>\n",
       "      <td>Animation|Children's|Comedy</td>\n",
       "    </tr>\n",
       "    <tr>\n",
       "      <th>1</th>\n",
       "      <td>2</td>\n",
       "      <td>Jumanji (1995)</td>\n",
       "      <td>Adventure|Children's|Fantasy</td>\n",
       "    </tr>\n",
       "    <tr>\n",
       "      <th>2</th>\n",
       "      <td>3</td>\n",
       "      <td>Grumpier Old Men (1995)</td>\n",
       "      <td>Comedy|Romance</td>\n",
       "    </tr>\n",
       "    <tr>\n",
       "      <th>3</th>\n",
       "      <td>4</td>\n",
       "      <td>Waiting to Exhale (1995)</td>\n",
       "      <td>Comedy|Drama</td>\n",
       "    </tr>\n",
       "    <tr>\n",
       "      <th>4</th>\n",
       "      <td>5</td>\n",
       "      <td>Father of the Bride Part II (1995)</td>\n",
       "      <td>Comedy</td>\n",
       "    </tr>\n",
       "  </tbody>\n",
       "</table>\n",
       "</div>"
      ],
      "text/plain": [
       "   movie_id                               title                         genre\n",
       "0         1                    Toy Story (1995)   Animation|Children's|Comedy\n",
       "1         2                      Jumanji (1995)  Adventure|Children's|Fantasy\n",
       "2         3             Grumpier Old Men (1995)                Comedy|Romance\n",
       "3         4            Waiting to Exhale (1995)                  Comedy|Drama\n",
       "4         5  Father of the Bride Part II (1995)                        Comedy"
      ]
     },
     "execution_count": 5,
     "metadata": {},
     "output_type": "execute_result"
    }
   ],
   "source": [
    "# 영화 제목을 보기 위해 메타 데이터를 읽어옵니다.\n",
    "movie_file_path=os.getenv('HOME') + '/aiffel/recommendata_iu/data/ml-1m/movies.dat'\n",
    "cols = ['movie_id', 'title', 'genre'] \n",
    "movies = pd.read_csv(movie_file_path, sep='::', names=cols, engine='python', encoding='ISO-8859-1')\n",
    "movies.head()"
   ]
  },
  {
   "cell_type": "code",
   "execution_count": 6,
   "id": "8180ca09",
   "metadata": {},
   "outputs": [],
   "source": [
    "movies['title'] = movies['title'].str.lower()"
   ]
  },
  {
   "cell_type": "code",
   "execution_count": 7,
   "id": "c987c263",
   "metadata": {},
   "outputs": [
    {
     "data": {
      "text/html": [
       "<div>\n",
       "<style scoped>\n",
       "    .dataframe tbody tr th:only-of-type {\n",
       "        vertical-align: middle;\n",
       "    }\n",
       "\n",
       "    .dataframe tbody tr th {\n",
       "        vertical-align: top;\n",
       "    }\n",
       "\n",
       "    .dataframe thead th {\n",
       "        text-align: right;\n",
       "    }\n",
       "</style>\n",
       "<table border=\"1\" class=\"dataframe\">\n",
       "  <thead>\n",
       "    <tr style=\"text-align: right;\">\n",
       "      <th></th>\n",
       "      <th>movie_id</th>\n",
       "      <th>title</th>\n",
       "    </tr>\n",
       "  </thead>\n",
       "  <tbody>\n",
       "    <tr>\n",
       "      <th>0</th>\n",
       "      <td>1</td>\n",
       "      <td>toy story (1995)</td>\n",
       "    </tr>\n",
       "    <tr>\n",
       "      <th>1</th>\n",
       "      <td>2</td>\n",
       "      <td>jumanji (1995)</td>\n",
       "    </tr>\n",
       "    <tr>\n",
       "      <th>2</th>\n",
       "      <td>3</td>\n",
       "      <td>grumpier old men (1995)</td>\n",
       "    </tr>\n",
       "    <tr>\n",
       "      <th>3</th>\n",
       "      <td>4</td>\n",
       "      <td>waiting to exhale (1995)</td>\n",
       "    </tr>\n",
       "    <tr>\n",
       "      <th>4</th>\n",
       "      <td>5</td>\n",
       "      <td>father of the bride part ii (1995)</td>\n",
       "    </tr>\n",
       "  </tbody>\n",
       "</table>\n",
       "</div>"
      ],
      "text/plain": [
       "   movie_id                               title\n",
       "0         1                    toy story (1995)\n",
       "1         2                      jumanji (1995)\n",
       "2         3             grumpier old men (1995)\n",
       "3         4            waiting to exhale (1995)\n",
       "4         5  father of the bride part ii (1995)"
      ]
     },
     "execution_count": 7,
     "metadata": {},
     "output_type": "execute_result"
    }
   ],
   "source": [
    "del movies['genre']\n",
    "movies.head()"
   ]
  },
  {
   "cell_type": "code",
   "execution_count": 8,
   "id": "084124ce",
   "metadata": {},
   "outputs": [
    {
     "data": {
      "text/html": [
       "<div>\n",
       "<style scoped>\n",
       "    .dataframe tbody tr th:only-of-type {\n",
       "        vertical-align: middle;\n",
       "    }\n",
       "\n",
       "    .dataframe tbody tr th {\n",
       "        vertical-align: top;\n",
       "    }\n",
       "\n",
       "    .dataframe thead th {\n",
       "        text-align: right;\n",
       "    }\n",
       "</style>\n",
       "<table border=\"1\" class=\"dataframe\">\n",
       "  <thead>\n",
       "    <tr style=\"text-align: right;\">\n",
       "      <th></th>\n",
       "      <th>user_id</th>\n",
       "      <th>movie_id</th>\n",
       "      <th>count</th>\n",
       "      <th>title</th>\n",
       "    </tr>\n",
       "  </thead>\n",
       "  <tbody>\n",
       "    <tr>\n",
       "      <th>0</th>\n",
       "      <td>1</td>\n",
       "      <td>1193</td>\n",
       "      <td>5</td>\n",
       "      <td>one flew over the cuckoo's nest (1975)</td>\n",
       "    </tr>\n",
       "    <tr>\n",
       "      <th>1</th>\n",
       "      <td>1</td>\n",
       "      <td>661</td>\n",
       "      <td>3</td>\n",
       "      <td>james and the giant peach (1996)</td>\n",
       "    </tr>\n",
       "    <tr>\n",
       "      <th>2</th>\n",
       "      <td>1</td>\n",
       "      <td>914</td>\n",
       "      <td>3</td>\n",
       "      <td>my fair lady (1964)</td>\n",
       "    </tr>\n",
       "    <tr>\n",
       "      <th>3</th>\n",
       "      <td>1</td>\n",
       "      <td>3408</td>\n",
       "      <td>4</td>\n",
       "      <td>erin brockovich (2000)</td>\n",
       "    </tr>\n",
       "    <tr>\n",
       "      <th>4</th>\n",
       "      <td>1</td>\n",
       "      <td>2355</td>\n",
       "      <td>5</td>\n",
       "      <td>bug's life, a (1998)</td>\n",
       "    </tr>\n",
       "  </tbody>\n",
       "</table>\n",
       "</div>"
      ],
      "text/plain": [
       "   user_id  movie_id  count                                   title\n",
       "0        1      1193      5  one flew over the cuckoo's nest (1975)\n",
       "1        1       661      3        james and the giant peach (1996)\n",
       "2        1       914      3                     my fair lady (1964)\n",
       "3        1      3408      4                  erin brockovich (2000)\n",
       "4        1      2355      5                    bug's life, a (1998)"
      ]
     },
     "execution_count": 8,
     "metadata": {},
     "output_type": "execute_result"
    }
   ],
   "source": [
    "# ratings 와 movies 데이터 프레임 결합\n",
    "data = ratings.join(movies.set_index('movie_id'), on='movie_id')\n",
    "data.head()"
   ]
  },
  {
   "cell_type": "code",
   "execution_count": 9,
   "id": "9b683cf1",
   "metadata": {},
   "outputs": [
    {
     "data": {
      "text/html": [
       "<div>\n",
       "<style scoped>\n",
       "    .dataframe tbody tr th:only-of-type {\n",
       "        vertical-align: middle;\n",
       "    }\n",
       "\n",
       "    .dataframe tbody tr th {\n",
       "        vertical-align: top;\n",
       "    }\n",
       "\n",
       "    .dataframe thead th {\n",
       "        text-align: right;\n",
       "    }\n",
       "</style>\n",
       "<table border=\"1\" class=\"dataframe\">\n",
       "  <thead>\n",
       "    <tr style=\"text-align: right;\">\n",
       "      <th></th>\n",
       "      <th>user_id</th>\n",
       "      <th>movie_id</th>\n",
       "      <th>title</th>\n",
       "      <th>count</th>\n",
       "    </tr>\n",
       "  </thead>\n",
       "  <tbody>\n",
       "    <tr>\n",
       "      <th>0</th>\n",
       "      <td>7777</td>\n",
       "      <td>1</td>\n",
       "      <td>toy story (1995)</td>\n",
       "      <td>5</td>\n",
       "    </tr>\n",
       "    <tr>\n",
       "      <th>1</th>\n",
       "      <td>7777</td>\n",
       "      <td>2294</td>\n",
       "      <td>antz (1998)</td>\n",
       "      <td>5</td>\n",
       "    </tr>\n",
       "    <tr>\n",
       "      <th>2</th>\n",
       "      <td>7777</td>\n",
       "      <td>1566</td>\n",
       "      <td>hercules (1997)</td>\n",
       "      <td>5</td>\n",
       "    </tr>\n",
       "    <tr>\n",
       "      <th>3</th>\n",
       "      <td>7777</td>\n",
       "      <td>588</td>\n",
       "      <td>aladdin (1992)</td>\n",
       "      <td>5</td>\n",
       "    </tr>\n",
       "    <tr>\n",
       "      <th>4</th>\n",
       "      <td>7777</td>\n",
       "      <td>1907</td>\n",
       "      <td>mulan (1998)</td>\n",
       "      <td>5</td>\n",
       "    </tr>\n",
       "  </tbody>\n",
       "</table>\n",
       "</div>"
      ],
      "text/plain": [
       "   user_id  movie_id             title  count\n",
       "0     7777         1  toy story (1995)      5\n",
       "1     7777      2294       antz (1998)      5\n",
       "2     7777      1566   hercules (1997)      5\n",
       "3     7777       588    aladdin (1992)      5\n",
       "4     7777      1907      mulan (1998)      5"
      ]
     },
     "execution_count": 9,
     "metadata": {},
     "output_type": "execute_result"
    }
   ],
   "source": [
    "# 좋아하는 영화의 id 리스트\n",
    "my_favoite_id = [1, 2294, 1566, 588, 1907]\n",
    "\n",
    "# id 리스트를 title 리스트로 변환해준다\n",
    "my_favorite_movie = []\n",
    "for mid in my_favoite_id:\n",
    "    my_favorite_movie.append(list(movies[movies['movie_id']==mid]['title'])[0])\n",
    "    \n",
    "# '7777'이라는 user_id가 위 영화를 5회씩 시청했다고 가정하겠습니다.\n",
    "my_watchlist = pd.DataFrame({'user_id': [7777]*5, 'movie_id': my_favoite_id, 'title': my_favorite_movie, 'count':[5]*5})\n",
    "\n",
    "if not data.isin({'user_id':[7777]})['user_id'].any():\n",
    "    data = data.append(my_watchlist)                         \n",
    "\n",
    "data = data[['user_id', 'movie_id', 'title', 'count']]\n",
    "data.tail()"
   ]
  },
  {
   "cell_type": "code",
   "execution_count": 10,
   "id": "fe012ea8",
   "metadata": {},
   "outputs": [],
   "source": [
    "##CSR Matrix\n",
    "\n",
    "# 고유한 유저, 영화를 찾기\n",
    "user_unique = data['user_id'].unique()\n",
    "movie_unique = data['title'].unique()\n",
    "\n",
    "# 유저, 영화 indexing\n",
    "user_to_idx = {v:k for k,v in enumerate(user_unique)}\n",
    "movie_to_idx = {v:k for k,v in enumerate(movie_unique)}"
   ]
  },
  {
   "cell_type": "code",
   "execution_count": 11,
   "id": "811d407d",
   "metadata": {},
   "outputs": [
    {
     "name": "stdout",
     "output_type": "stream",
     "text": [
      "user_id column indexing OK!!\n",
      "title column indexing OK!!\n"
     ]
    },
    {
     "data": {
      "text/html": [
       "<div>\n",
       "<style scoped>\n",
       "    .dataframe tbody tr th:only-of-type {\n",
       "        vertical-align: middle;\n",
       "    }\n",
       "\n",
       "    .dataframe tbody tr th {\n",
       "        vertical-align: top;\n",
       "    }\n",
       "\n",
       "    .dataframe thead th {\n",
       "        text-align: right;\n",
       "    }\n",
       "</style>\n",
       "<table border=\"1\" class=\"dataframe\">\n",
       "  <thead>\n",
       "    <tr style=\"text-align: right;\">\n",
       "      <th></th>\n",
       "      <th>user_id</th>\n",
       "      <th>movie_id</th>\n",
       "      <th>title</th>\n",
       "      <th>count</th>\n",
       "      <th>new_user_id</th>\n",
       "      <th>new_movie_id</th>\n",
       "    </tr>\n",
       "  </thead>\n",
       "  <tbody>\n",
       "    <tr>\n",
       "      <th>0</th>\n",
       "      <td>1</td>\n",
       "      <td>1193</td>\n",
       "      <td>one flew over the cuckoo's nest (1975)</td>\n",
       "      <td>5</td>\n",
       "      <td>0</td>\n",
       "      <td>0</td>\n",
       "    </tr>\n",
       "    <tr>\n",
       "      <th>1</th>\n",
       "      <td>1</td>\n",
       "      <td>661</td>\n",
       "      <td>james and the giant peach (1996)</td>\n",
       "      <td>3</td>\n",
       "      <td>0</td>\n",
       "      <td>1</td>\n",
       "    </tr>\n",
       "    <tr>\n",
       "      <th>2</th>\n",
       "      <td>1</td>\n",
       "      <td>914</td>\n",
       "      <td>my fair lady (1964)</td>\n",
       "      <td>3</td>\n",
       "      <td>0</td>\n",
       "      <td>2</td>\n",
       "    </tr>\n",
       "    <tr>\n",
       "      <th>3</th>\n",
       "      <td>1</td>\n",
       "      <td>3408</td>\n",
       "      <td>erin brockovich (2000)</td>\n",
       "      <td>4</td>\n",
       "      <td>0</td>\n",
       "      <td>3</td>\n",
       "    </tr>\n",
       "    <tr>\n",
       "      <th>4</th>\n",
       "      <td>1</td>\n",
       "      <td>2355</td>\n",
       "      <td>bug's life, a (1998)</td>\n",
       "      <td>5</td>\n",
       "      <td>0</td>\n",
       "      <td>4</td>\n",
       "    </tr>\n",
       "    <tr>\n",
       "      <th>...</th>\n",
       "      <td>...</td>\n",
       "      <td>...</td>\n",
       "      <td>...</td>\n",
       "      <td>...</td>\n",
       "      <td>...</td>\n",
       "      <td>...</td>\n",
       "    </tr>\n",
       "    <tr>\n",
       "      <th>0</th>\n",
       "      <td>7777</td>\n",
       "      <td>1</td>\n",
       "      <td>toy story (1995)</td>\n",
       "      <td>5</td>\n",
       "      <td>6039</td>\n",
       "      <td>40</td>\n",
       "    </tr>\n",
       "    <tr>\n",
       "      <th>1</th>\n",
       "      <td>7777</td>\n",
       "      <td>2294</td>\n",
       "      <td>antz (1998)</td>\n",
       "      <td>5</td>\n",
       "      <td>6039</td>\n",
       "      <td>30</td>\n",
       "    </tr>\n",
       "    <tr>\n",
       "      <th>2</th>\n",
       "      <td>7777</td>\n",
       "      <td>1566</td>\n",
       "      <td>hercules (1997)</td>\n",
       "      <td>5</td>\n",
       "      <td>6039</td>\n",
       "      <td>32</td>\n",
       "    </tr>\n",
       "    <tr>\n",
       "      <th>3</th>\n",
       "      <td>7777</td>\n",
       "      <td>588</td>\n",
       "      <td>aladdin (1992)</td>\n",
       "      <td>5</td>\n",
       "      <td>6039</td>\n",
       "      <td>33</td>\n",
       "    </tr>\n",
       "    <tr>\n",
       "      <th>4</th>\n",
       "      <td>7777</td>\n",
       "      <td>1907</td>\n",
       "      <td>mulan (1998)</td>\n",
       "      <td>5</td>\n",
       "      <td>6039</td>\n",
       "      <td>34</td>\n",
       "    </tr>\n",
       "  </tbody>\n",
       "</table>\n",
       "<p>836483 rows × 6 columns</p>\n",
       "</div>"
      ],
      "text/plain": [
       "    user_id  movie_id                                   title  count  \\\n",
       "0         1      1193  one flew over the cuckoo's nest (1975)      5   \n",
       "1         1       661        james and the giant peach (1996)      3   \n",
       "2         1       914                     my fair lady (1964)      3   \n",
       "3         1      3408                  erin brockovich (2000)      4   \n",
       "4         1      2355                    bug's life, a (1998)      5   \n",
       "..      ...       ...                                     ...    ...   \n",
       "0      7777         1                        toy story (1995)      5   \n",
       "1      7777      2294                             antz (1998)      5   \n",
       "2      7777      1566                         hercules (1997)      5   \n",
       "3      7777       588                          aladdin (1992)      5   \n",
       "4      7777      1907                            mulan (1998)      5   \n",
       "\n",
       "    new_user_id  new_movie_id  \n",
       "0             0             0  \n",
       "1             0             1  \n",
       "2             0             2  \n",
       "3             0             3  \n",
       "4             0             4  \n",
       "..          ...           ...  \n",
       "0          6039            40  \n",
       "1          6039            30  \n",
       "2          6039            32  \n",
       "3          6039            33  \n",
       "4          6039            34  \n",
       "\n",
       "[836483 rows x 6 columns]"
      ]
     },
     "execution_count": 11,
     "metadata": {},
     "output_type": "execute_result"
    }
   ],
   "source": [
    "# 데이터 컬럼 내 값을 indexing된 값으로 교체\n",
    "\n",
    "# user_to_idx.get을 통해 user_id 컬럼의 모든 값을 인덱싱한 Series를 구해 봅시다. \n",
    "# 혹시 정상적으로 인덱싱되지 않은 row가 있다면 인덱스가 NaN이 될 테니 dropna()로 제거합니다. \n",
    "temp_user_data = data['user_id'].map(user_to_idx.get).dropna()\n",
    "if len(temp_user_data) == len(data):   # 모든 row가 정상적으로 인덱싱되었다면\n",
    "    print('user_id column indexing OK!!')\n",
    "    data['new_user_id'] = temp_user_data   # data['user_id']을 인덱싱된 Series로 교체해 줍니다. \n",
    "else:\n",
    "    print('user_id column indexing Fail!!')\n",
    "    \n",
    "# movie_to_idx을 통해 title 컬럼도 동일한 방식으로 인덱싱해 줍니다. \n",
    "temp_movie_data = data['title'].map(movie_to_idx.get).dropna()\n",
    "if len(temp_movie_data) == len(data):\n",
    "    print('title column indexing OK!!')\n",
    "    data['new_movie_id'] = temp_movie_data\n",
    "else:\n",
    "    print('movie_id column indexing Fail!!')\n",
    "\n",
    "data"
   ]
  },
  {
   "cell_type": "code",
   "execution_count": 12,
   "id": "a2440b29",
   "metadata": {},
   "outputs": [
    {
     "name": "stdout",
     "output_type": "stream",
     "text": [
      "6039\n"
     ]
    }
   ],
   "source": [
    "print(user_to_idx[7777])"
   ]
  },
  {
   "cell_type": "code",
   "execution_count": 13,
   "id": "123d32f1",
   "metadata": {},
   "outputs": [
    {
     "data": {
      "text/plain": [
       "<method-wrapper '__init__' of function object at 0x7f1b01ee1b80>"
      ]
     },
     "execution_count": 13,
     "metadata": {},
     "output_type": "execute_result"
    }
   ],
   "source": [
    "# CSR Matrix 생성\n",
    "from scipy.sparse import csr_matrix\n",
    "\n",
    "num_user = data['new_user_id'].nunique()\n",
    "num_movie = data['new_movie_id'].nunique()\n",
    "\n",
    "# csr_matrix((data, (row_ind, col_ind)), [shape=(M, N)])\n",
    "csr_data = csr_matrix((data['count'], (data.new_user_id, data.new_movie_id)), shape= (num_user, num_movie))\n",
    "csr_data\n",
    "\n",
    "# implicit 라이브러리에서 권장하고 있는 세팅\n",
    "os.environ['OPENBLAS_NUM_THREADS']='1'\n",
    "os.environ['KMP_DUPLICATE_LIB_OK']='True'\n",
    "os.environ['MKL_NUM_THREADS']='1'\n",
    "\n",
    "##AlternatingLeastSquares 클래스의 __init__ 파라미터를 살펴보면, \n",
    "## 1,4를 늘릴수록 학습을 잘 하게 되지만 과적합의 우려가 있습니다.\n",
    "\n",
    "#1. factors : 유저와 아이템의 벡터를 몇 차원으로 할 것인지\n",
    "#2. regularization : 과적합을 방지하기 위해 정규화 값을 얼마나 사용할 것인지\n",
    "#3. use_gpu : GPU를 사용할 것인지\n",
    "#4. iterations : epochs와 같은 의미입니다. 데이터를 몇 번 반복해서 학습할 것인지\n",
    "\n",
    "AlternatingLeastSquares.__init__"
   ]
  },
  {
   "cell_type": "markdown",
   "id": "488abdb1",
   "metadata": {},
   "source": [
    "## 2. Model Setup & Training"
   ]
  },
  {
   "cell_type": "code",
   "execution_count": 14,
   "id": "8d8de35d",
   "metadata": {},
   "outputs": [
    {
     "data": {
      "text/plain": [
       "<3628x6040 sparse matrix of type '<class 'numpy.int64'>'\n",
       "\twith 836483 stored elements in Compressed Sparse Column format>"
      ]
     },
     "execution_count": 14,
     "metadata": {},
     "output_type": "execute_result"
    }
   ],
   "source": [
    "# Implicit AlternatingLeastSquares 모델의 선언\n",
    "als_model = AlternatingLeastSquares(factors=200, regularization=0.01, use_gpu=False, iterations=20, dtype=np.float32)\n",
    "\n",
    "# als 모델은 input으로 (item X user 꼴의 matrix를 받기 때문에 Transpose해줍니다.)\n",
    "csr_data_transpose = csr_data.T\n",
    "csr_data_transpose"
   ]
  },
  {
   "cell_type": "code",
   "execution_count": 15,
   "id": "d042505a",
   "metadata": {},
   "outputs": [
    {
     "data": {
      "application/vnd.jupyter.widget-view+json": {
       "model_id": "10ae129daff24d71861889874262bf28",
       "version_major": 2,
       "version_minor": 0
      },
      "text/plain": [
       "  0%|          | 0/20 [00:00<?, ?it/s]"
      ]
     },
     "metadata": {},
     "output_type": "display_data"
    }
   ],
   "source": [
    "# 모델 훈련\n",
    "als_model.fit(csr_data_transpose)"
   ]
  },
  {
   "cell_type": "code",
   "execution_count": 16,
   "id": "fb337742",
   "metadata": {},
   "outputs": [],
   "source": [
    "# 결과 확인\n",
    "\n",
    "me, aladin = user_to_idx[7777], movie_to_idx['aladdin (1992)']\n",
    "me_vector, aladin_vector = als_model.user_factors[me], als_model.item_factors[aladin]"
   ]
  },
  {
   "cell_type": "code",
   "execution_count": 17,
   "id": "00fc8efc",
   "metadata": {},
   "outputs": [
    {
     "data": {
      "text/plain": [
       "array([-0.1075675 ,  0.11115906,  0.06306721, -0.10668637, -0.24830517,\n",
       "       -0.5343781 , -0.07046518, -0.5124264 , -0.18689057, -0.05626683,\n",
       "       -0.3537821 ,  0.10888826,  0.60310125, -0.1390932 , -0.28461477,\n",
       "        0.52054965, -0.06749066, -0.78787756,  0.54709506,  0.28197992,\n",
       "       -0.38522023,  0.2696682 ,  0.09714293, -0.03601011,  0.02215356,\n",
       "        0.15539686, -0.1621903 , -0.49300584,  0.65817994, -0.25478473,\n",
       "        0.7692607 , -0.34792274, -0.08603022, -0.19902715, -0.23261477,\n",
       "        0.3713764 , -0.08003888, -0.1989131 , -0.19648573, -0.07749288,\n",
       "        0.25893632, -0.08846211,  0.03860112,  0.2301064 , -0.05300338,\n",
       "        0.5118286 , -0.4955762 ,  0.59107935, -0.02437045, -0.09145676,\n",
       "        0.05273393,  0.8795394 ,  0.37371615,  0.11014906, -0.6081359 ,\n",
       "        0.01510751,  0.3012005 ,  0.22493258, -0.45775974,  0.14314456,\n",
       "       -0.14439076,  0.81509393, -0.3160448 ,  0.00980403, -0.3200448 ,\n",
       "       -0.15655442, -0.15591422, -0.51401955, -0.31161654,  0.71204406,\n",
       "       -0.75316525, -0.54804635, -0.47461304,  0.43860567,  0.2862977 ,\n",
       "        0.04617857, -0.46271676, -0.029098  , -0.05784647,  0.2676674 ,\n",
       "        0.08528183,  0.4558187 ,  0.47647408,  0.20980701, -0.11796373,\n",
       "        0.02744547, -0.3344401 ,  0.01342565,  0.45759985,  0.12515803,\n",
       "        0.5685288 , -0.07651487,  0.09561113, -0.18587458,  0.15124181,\n",
       "        0.4187696 ,  0.40175873, -0.15035978, -0.34210995,  0.5727281 ,\n",
       "       -0.1446792 ,  0.21575262, -0.26963827, -1.0183024 , -0.15391518,\n",
       "       -0.04959677, -0.04393361,  0.35465786,  0.08811733, -0.15407275,\n",
       "       -0.4509067 ,  0.01073064,  0.30012026,  0.2208565 ,  0.2585641 ,\n",
       "        0.36034983, -0.0892653 , -0.41790578,  0.378972  , -0.17670186,\n",
       "       -0.40759   ,  0.06950618, -0.10458412, -0.6397885 , -0.41220114,\n",
       "       -0.5964262 ,  0.13362215,  0.19011293,  0.10055722, -0.4000156 ,\n",
       "        0.56117135, -0.01441157, -0.34826168,  1.2381601 , -0.17997347,\n",
       "        0.11903641,  0.04157834, -0.12045313,  0.401977  , -0.17780687,\n",
       "        0.7433883 ,  0.2971849 ,  0.2874056 ,  0.07727561, -0.49626872,\n",
       "        0.5550044 ,  0.42703015,  0.48944828,  0.40429366, -0.24619119,\n",
       "        0.12759084, -0.23134913,  0.3115028 ,  0.1042948 , -0.39981472,\n",
       "        0.26366308, -0.6830783 , -0.6286962 , -0.55027753, -0.43481007,\n",
       "       -0.6350414 ,  0.9864016 , -0.5163143 , -0.0022885 , -0.46000826,\n",
       "       -0.04574434,  0.01293743, -0.22927876,  0.57988167,  0.1780941 ,\n",
       "        0.31440526,  0.06144857,  0.21621202,  0.16664231, -1.0799783 ,\n",
       "        0.7466635 , -0.1522043 , -0.29005882,  0.26188704,  0.8561816 ,\n",
       "        0.1101896 ,  0.62991023,  0.5719399 ,  0.5503187 ,  0.10688532,\n",
       "        0.37481305, -0.6278675 ,  0.4147393 , -0.41611648, -0.03293983,\n",
       "       -0.7194109 , -0.18441977,  0.16556104, -0.6805317 ,  0.26401696,\n",
       "       -0.37785494, -0.20063326, -0.09933261,  0.47762167, -0.34470034],\n",
       "      dtype=float32)"
      ]
     },
     "execution_count": 17,
     "metadata": {},
     "output_type": "execute_result"
    }
   ],
   "source": [
    "me_vector"
   ]
  },
  {
   "cell_type": "code",
   "execution_count": 18,
   "id": "b14b5e78",
   "metadata": {},
   "outputs": [
    {
     "data": {
      "text/plain": [
       "array([ 1.00171976e-02,  1.30376508e-02, -6.32406794e-04,  2.17908863e-02,\n",
       "        3.97223746e-03, -1.51540227e-02, -5.51991584e-03, -6.20333897e-03,\n",
       "        1.71045179e-03,  1.73464138e-02, -9.83464532e-04, -1.07662920e-02,\n",
       "        9.99644026e-03,  2.55750176e-02, -1.16232652e-02,  1.45774649e-03,\n",
       "        1.11785773e-02, -1.62405968e-02,  4.66853473e-03,  4.06905403e-03,\n",
       "        2.66692624e-03, -4.71600768e-04,  2.59442199e-02,  1.81171894e-02,\n",
       "        3.32198688e-03,  7.54258921e-03,  8.48122686e-03, -7.37191504e-03,\n",
       "        1.42354127e-02, -7.44585739e-03,  1.90215986e-02, -1.04571814e-02,\n",
       "        3.64216301e-03,  2.60716379e-02,  1.07468041e-02,  1.17098279e-02,\n",
       "        3.90135753e-03, -5.93794370e-03, -2.39140631e-04,  3.36708175e-03,\n",
       "        3.71378437e-02,  4.02524183e-03, -2.32960610e-03,  1.67230424e-02,\n",
       "        2.60548200e-02,  2.14161146e-02, -1.13983992e-02,  2.63461508e-02,\n",
       "        1.99454091e-02,  8.41216836e-03,  5.70987863e-03,  3.35965417e-02,\n",
       "        1.72263645e-02,  2.42343843e-02, -1.65706743e-02,  1.91377047e-02,\n",
       "        1.93403941e-02,  2.06175223e-02, -1.47688612e-02, -1.44730061e-02,\n",
       "       -3.30615696e-03,  1.99395027e-02,  2.96274666e-05,  1.38663538e-02,\n",
       "        1.25731865e-03,  1.31805157e-02,  1.12408036e-02, -5.35864616e-03,\n",
       "       -1.93062350e-02,  2.70022508e-02, -2.81555057e-02, -3.17468904e-02,\n",
       "        1.81823532e-04,  1.41972285e-02,  2.26871110e-02,  2.86394521e-03,\n",
       "       -2.12475490e-02, -3.66615993e-03,  1.25733428e-02, -1.86115596e-03,\n",
       "        1.76993832e-02,  1.50623182e-02,  3.89963873e-02,  7.17723370e-03,\n",
       "        5.69389143e-04,  5.62825613e-03,  1.65851153e-02,  2.66553909e-02,\n",
       "        1.49850510e-02,  3.03261913e-02,  2.20565349e-02, -1.04816966e-02,\n",
       "        7.90630002e-03, -2.13406924e-02,  1.06965052e-02,  5.59081184e-03,\n",
       "        1.62461456e-02, -2.47329148e-03, -1.59405116e-02,  1.94571633e-02,\n",
       "       -1.05893239e-02,  9.04735178e-03,  2.81326426e-03, -7.06022233e-03,\n",
       "       -5.21796243e-03,  1.22643905e-02, -2.90301163e-04,  5.45717776e-03,\n",
       "        1.52118746e-02,  1.33392233e-02,  1.78319588e-02,  3.22824519e-04,\n",
       "        2.67334990e-02,  1.54369185e-02,  3.09020542e-02,  1.27353920e-02,\n",
       "        1.10677667e-02, -6.97431213e-04,  1.45944674e-02, -1.69706736e-02,\n",
       "        6.65119709e-03,  1.28757115e-02,  1.22615993e-02, -1.70400497e-02,\n",
       "        4.96051414e-03, -2.55982541e-02, -5.71231777e-03,  4.23416309e-02,\n",
       "       -1.98709872e-03,  3.79790296e-03,  2.75245328e-02,  1.47513403e-02,\n",
       "       -1.03735952e-02,  4.34616804e-02, -5.63529320e-03, -8.08810629e-03,\n",
       "        5.77650080e-03, -8.21804069e-03,  3.11727170e-02, -1.42539600e-02,\n",
       "        2.65654754e-02, -1.05306366e-02,  1.37152476e-02, -6.47377269e-03,\n",
       "       -7.36769475e-03,  2.99434438e-02,  3.05065755e-02,  1.18173249e-02,\n",
       "        1.77931488e-02,  4.23628930e-03, -1.75480614e-03,  8.04224424e-03,\n",
       "        1.20791253e-02,  1.94413979e-02, -3.67836058e-02,  9.52977315e-03,\n",
       "       -3.01741157e-02,  9.24574025e-03,  2.21887440e-03, -1.22414334e-02,\n",
       "        2.03097705e-02,  3.84197896e-03, -9.16402042e-03,  1.57443341e-02,\n",
       "        4.62218001e-03, -6.17200974e-03,  1.15068080e-02,  2.37997267e-02,\n",
       "        2.84937825e-02,  1.29330009e-02,  7.87714403e-03,  1.02205025e-02,\n",
       "       -1.22173950e-02,  6.89322455e-03, -2.40848307e-02,  2.25958806e-02,\n",
       "       -9.96713154e-03, -5.52728213e-03, -4.25475370e-03,  2.79394183e-02,\n",
       "       -5.24849631e-03,  4.89010010e-03,  1.96081772e-02,  1.98655669e-02,\n",
       "       -4.93893679e-03,  1.10010114e-02, -1.66227724e-02,  3.54575831e-03,\n",
       "       -1.99660454e-02, -1.21415649e-02, -2.08176579e-02, -6.32316573e-03,\n",
       "        5.18819271e-03,  1.44061791e-02,  3.64955422e-03, -1.46126915e-02,\n",
       "        3.56882252e-03,  3.67838144e-03,  3.97155993e-03, -8.55132658e-03],\n",
       "      dtype=float32)"
      ]
     },
     "execution_count": 18,
     "metadata": {},
     "output_type": "execute_result"
    }
   ],
   "source": [
    "aladin_vector"
   ]
  },
  {
   "cell_type": "code",
   "execution_count": 19,
   "id": "9a4106b8",
   "metadata": {},
   "outputs": [
    {
     "data": {
      "text/plain": [
       "0.74676114"
      ]
     },
     "execution_count": 19,
     "metadata": {},
     "output_type": "execute_result"
    }
   ],
   "source": [
    "# 내적\n",
    "np.dot(me_vector, aladin_vector)"
   ]
  },
  {
   "cell_type": "code",
   "execution_count": 20,
   "id": "83bd4e85",
   "metadata": {},
   "outputs": [
    {
     "data": {
      "text/plain": [
       "0.7443979"
      ]
     },
     "execution_count": 20,
     "metadata": {},
     "output_type": "execute_result"
    }
   ],
   "source": [
    "# 모델의 선호도 예측 (Toy Story)\n",
    "toy = movie_to_idx['toy story (1995)']\n",
    "toy_vector = als_model.item_factors[toy]\n",
    "np.dot(me_vector, toy_vector)"
   ]
  },
  {
   "cell_type": "code",
   "execution_count": 21,
   "id": "36fb6a3d",
   "metadata": {},
   "outputs": [
    {
     "data": {
      "text/plain": [
       "0.616909"
      ]
     },
     "execution_count": 21,
     "metadata": {},
     "output_type": "execute_result"
    }
   ],
   "source": [
    "# 모델의 선호도 예측 (Antz)\n",
    "antz = movie_to_idx['antz (1998)']\n",
    "antz_vector = als_model.item_factors[antz]\n",
    "np.dot(me_vector, antz_vector)"
   ]
  },
  {
   "cell_type": "code",
   "execution_count": 22,
   "id": "9ef1e101",
   "metadata": {},
   "outputs": [
    {
     "data": {
      "text/plain": [
       "-0.049136516"
      ]
     },
     "execution_count": 22,
     "metadata": {},
     "output_type": "execute_result"
    }
   ],
   "source": [
    "# 모델의 선호도 예측 (Grumpier Old Men)\n",
    "gom = movie_to_idx['grumpier old men (1995)']\n",
    "gom_vector = als_model.item_factors[gom]\n",
    "np.dot(me_vector, gom_vector)\n",
    "\n",
    "## 전혀 다른 주제의 영화는 매우 낮은 선호도를 보여주는 점이 흥미롭다.\n",
    "## Comedy|Romance -> Grumpier Old Men"
   ]
  },
  {
   "cell_type": "code",
   "execution_count": 23,
   "id": "232b9f52",
   "metadata": {},
   "outputs": [],
   "source": [
    "# 비슷한 영화 추천\n",
    "\n",
    "def get_similar_artist(movie_title: str):\n",
    "    movie_id = movie_to_idx[movie_title]\n",
    "    similar_movie = als_model.similar_items(movie_id)\n",
    "    idx_to_movie = {v:k for k,v in movie_to_idx.items()}\n",
    "    similar_movie = [idx_to_movie[i[0]] for i in similar_movie]\n",
    "    return similar_movie"
   ]
  },
  {
   "cell_type": "code",
   "execution_count": 24,
   "id": "5fa8b747",
   "metadata": {},
   "outputs": [
    {
     "data": {
      "text/plain": [
       "['toy story (1995)',\n",
       " 'toy story 2 (1999)',\n",
       " 'aladdin (1992)',\n",
       " \"bug's life, a (1998)\",\n",
       " 'babe (1995)',\n",
       " 'beauty and the beast (1991)',\n",
       " 'lion king, the (1994)',\n",
       " 'groundhog day (1993)',\n",
       " 'story of xinghua, the (1993)',\n",
       " 'walking dead, the (1995)']"
      ]
     },
     "execution_count": 24,
     "metadata": {},
     "output_type": "execute_result"
    }
   ],
   "source": [
    "get_similar_artist('toy story (1995)')"
   ]
  },
  {
   "cell_type": "code",
   "execution_count": 25,
   "id": "33f401ff",
   "metadata": {},
   "outputs": [
    {
     "data": {
      "text/plain": [
       "['grumpier old men (1995)',\n",
       " 'grumpy old men (1993)',\n",
       " 'naked gun 33 1/3: the final insult (1994)',\n",
       " 'milk money (1994)',\n",
       " 'nine months (1995)',\n",
       " 'two if by sea (1996)',\n",
       " 'odd couple ii, the (1998)',\n",
       " 'vegas vacation (1997)',\n",
       " 'out to sea (1997)',\n",
       " \"fathers' day (1997)\"]"
      ]
     },
     "execution_count": 25,
     "metadata": {},
     "output_type": "execute_result"
    }
   ],
   "source": [
    "get_similar_artist('grumpier old men (1995)')"
   ]
  },
  {
   "cell_type": "code",
   "execution_count": 26,
   "id": "9d8ce23b",
   "metadata": {},
   "outputs": [
    {
     "data": {
      "text/plain": [
       "['terminator 2: judgment day (1991)',\n",
       " 'matrix, the (1999)',\n",
       " 'terminator, the (1984)',\n",
       " 'total recall (1990)',\n",
       " 'jurassic park (1993)',\n",
       " 'men in black (1997)',\n",
       " 'fugitive, the (1993)',\n",
       " \"she's the one (1996)\",\n",
       " 'aliens (1986)',\n",
       " 'braveheart (1995)']"
      ]
     },
     "execution_count": 26,
     "metadata": {},
     "output_type": "execute_result"
    }
   ],
   "source": [
    "get_similar_artist('terminator 2: judgment day (1991)')"
   ]
  },
  {
   "cell_type": "code",
   "execution_count": 27,
   "id": "4961373e",
   "metadata": {},
   "outputs": [
    {
     "data": {
      "text/plain": [
       "['lion king, the (1994)',\n",
       " 'beauty and the beast (1991)',\n",
       " \"bug's life, a (1998)\",\n",
       " 'tarzan (1999)',\n",
       " 'toy story 2 (1999)',\n",
       " 'hunchback of notre dame, the (1996)',\n",
       " 'anastasia (1997)',\n",
       " 'iron giant, the (1999)',\n",
       " 'little mermaid, the (1989)',\n",
       " 'pocahontas (1995)',\n",
       " 'prince of egypt, the (1998)',\n",
       " 'james and the giant peach (1996)',\n",
       " 'babe (1995)',\n",
       " '101 dalmatians (1961)',\n",
       " 'cinderella (1950)',\n",
       " 'nightmare before christmas, the (1993)',\n",
       " 'aladdin and the king of thieves (1996)',\n",
       " 'rescuers down under, the (1990)',\n",
       " 'bambi (1942)',\n",
       " 'secret of nimh, the (1982)']"
      ]
     },
     "execution_count": 27,
     "metadata": {},
     "output_type": "execute_result"
    }
   ],
   "source": [
    "# 본인이 선호할 만한 영화 추천\n",
    "## 대부분 에니메이션 영화류로 알맞게 추천되었다.\n",
    "\n",
    "user = user_to_idx[7777]\n",
    "\n",
    "# recommend에서는 user*item CSR Matrix를 받습니다.\n",
    "movie_recommended = als_model.recommend(user, csr_data, N=20, filter_already_liked_items=True)\n",
    "\n",
    "# 인덱스를 영화 제목으로 변환\n",
    "idx_to_movie = {v:k for k,v in movie_to_idx.items()}\n",
    "recommend_movies = [idx_to_movie[i[0]] for i in movie_recommended]\n",
    "recommend_movies"
   ]
  },
  {
   "cell_type": "code",
   "execution_count": 28,
   "id": "b0378561",
   "metadata": {},
   "outputs": [
    {
     "data": {
      "text/plain": [
       "[('toy story (1995)', 0.38877319032366),\n",
       " ('hercules (1997)', 0.06812616042324558),\n",
       " ('antz (1998)', 0.00045594498286977527),\n",
       " ('mulan (1998)', -0.006928438334313695),\n",
       " ('aladdin (1992)', -0.02705756442632363)]"
      ]
     },
     "execution_count": 28,
     "metadata": {},
     "output_type": "execute_result"
    }
   ],
   "source": [
    "## 기여도 (toy story 2 (1999))\n",
    "toy2 = movie_to_idx['toy story 2 (1999)']\n",
    "explain_toy2 = als_model.explain(user, csr_data, itemid=toy2)\n",
    "\n",
    "# 추천한 콘텐츠의 점수에 기여한 다른 콘텐츠와 기여도(합이 콘텐츠의 점수)\n",
    "[(idx_to_movie[i[0]], i[1]) for i in explain_toy2[1]]"
   ]
  },
  {
   "cell_type": "code",
   "execution_count": 29,
   "id": "e44a7a18",
   "metadata": {},
   "outputs": [
    {
     "data": {
      "text/plain": [
       "[('mulan (1998)', 0.037300047100222444),\n",
       " ('antz (1998)', 0.035524219416544774),\n",
       " ('aladdin (1992)', 0.035298055418080204),\n",
       " ('hercules (1997)', 0.03364782775425251),\n",
       " ('toy story (1995)', 0.0237703004806976)]"
      ]
     },
     "execution_count": 29,
     "metadata": {},
     "output_type": "execute_result"
    }
   ],
   "source": [
    "## 기여도 (cinderella (1950))\n",
    "cinderella = movie_to_idx['cinderella (1950)']\n",
    "explain_cinderella = als_model.explain(user, csr_data, itemid=cinderella)\n",
    "\n",
    "# 추천한 콘텐츠의 점수에 기여한 다른 콘텐츠와 기여도(합이 콘텐츠의 점수)\n",
    "[(idx_to_movie[i[0]], i[1]) for i in explain_cinderella[1]]"
   ]
  },
  {
   "cell_type": "markdown",
   "id": "c8e725f2",
   "metadata": {},
   "source": [
    "## 3. Project Retrospective"
   ]
  },
  {
   "cell_type": "markdown",
   "id": "f9446648",
   "metadata": {},
   "source": [
    "+ 거의 85만건에 달하는 데이터였으나, 적은 샘플 사이즈 및 단시간 학습으로도 높은 적중률을 보이는 점이 인상깊다.\n",
    "+ 더 높은 추천시스템의 적용을 위해서는 타 사용자들의 움직임, 패턴, 화면 머뭄시간, 이탈률 등을 대입할 수 있을 것 같다.\n",
    "+ 고객의 소리(VOC)를 자동으로 분류하여 정리할 수 있는 프로젝트를 꼭 해보고 싶고, 그 프로젝트를 마치면 고도화 과정 중에 실행 우선순위를 정하는 추천 시스템을 만들어보고 싶다."
   ]
  }
 ],
 "metadata": {
  "kernelspec": {
   "display_name": "Python 3 (ipykernel)",
   "language": "python",
   "name": "python3"
  },
  "language_info": {
   "codemirror_mode": {
    "name": "ipython",
    "version": 3
   },
   "file_extension": ".py",
   "mimetype": "text/x-python",
   "name": "python",
   "nbconvert_exporter": "python",
   "pygments_lexer": "ipython3",
   "version": "3.9.7"
  }
 },
 "nbformat": 4,
 "nbformat_minor": 5
}
